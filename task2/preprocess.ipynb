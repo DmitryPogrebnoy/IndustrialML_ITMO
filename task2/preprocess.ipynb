{
 "cells": [
  {
   "cell_type": "code",
   "execution_count": 21,
   "metadata": {
    "collapsed": true
   },
   "outputs": [],
   "source": [
    "import pandas as pd\n",
    "import re"
   ]
  },
  {
   "cell_type": "code",
   "execution_count": 22,
   "outputs": [],
   "source": [
    "CATEGORIES = [\"action\", \"adventure\", \"animation\", \"biography\", \"comedy\", \"crime\", \"documentary\", \"drama\", \"family\",\n",
    "              \"fantasy\", \"film_noir\", \"history\", \"horror\", \"music\", \"musical\", \"mystery\", \"romance\", \"sci_fi\",\n",
    "              \"short\", \"sport\", \"superhero\", \"thriller\", \"war\", \"western\"]"
   ],
   "metadata": {
    "collapsed": false
   }
  },
  {
   "cell_type": "code",
   "execution_count": 23,
   "outputs": [
    {
     "data": {
      "text/plain": "    genre                                      title  \\\n0  action                        House of the Dragon   \n1  action  The Lord of the Rings: The Rings of Power   \n2  action                                 Black Adam   \n3  action                                      Andor   \n4  action               The School for Good and Evil   \n\n                                         poster_link  \\\n0  https://m.media-amazon.com/images/M/MV5BZjBiOG...   \n1  https://m.media-amazon.com/images/M/MV5BNTg3Nj...   \n2  https://m.media-amazon.com/images/M/MV5BYzZkOG...   \n3  https://m.media-amazon.com/images/M/MV5BNDgxNT...   \n4  https://m.media-amazon.com/images/M/MV5BNzM1OD...   \n\n                                         description                    labels  \n0  An internal succession war within House Targar...    Action Adventure Drama  \n1  Epic drama set thousands of years before the e...    Action Adventure Drama  \n2  Nearly 5,000 years after he was bestowed with ...  Action Adventure Fantasy  \n3  Prequel series to Star Wars' 'Rogue One'. In a...    Action Adventure Drama  \n4  Best friends Sophie and Agatha find themselves...       Action Comedy Drama  ",
      "text/html": "<div>\n<style scoped>\n    .dataframe tbody tr th:only-of-type {\n        vertical-align: middle;\n    }\n\n    .dataframe tbody tr th {\n        vertical-align: top;\n    }\n\n    .dataframe thead th {\n        text-align: right;\n    }\n</style>\n<table border=\"1\" class=\"dataframe\">\n  <thead>\n    <tr style=\"text-align: right;\">\n      <th></th>\n      <th>genre</th>\n      <th>title</th>\n      <th>poster_link</th>\n      <th>description</th>\n      <th>labels</th>\n    </tr>\n  </thead>\n  <tbody>\n    <tr>\n      <th>0</th>\n      <td>action</td>\n      <td>House of the Dragon</td>\n      <td>https://m.media-amazon.com/images/M/MV5BZjBiOG...</td>\n      <td>An internal succession war within House Targar...</td>\n      <td>Action Adventure Drama</td>\n    </tr>\n    <tr>\n      <th>1</th>\n      <td>action</td>\n      <td>The Lord of the Rings: The Rings of Power</td>\n      <td>https://m.media-amazon.com/images/M/MV5BNTg3Nj...</td>\n      <td>Epic drama set thousands of years before the e...</td>\n      <td>Action Adventure Drama</td>\n    </tr>\n    <tr>\n      <th>2</th>\n      <td>action</td>\n      <td>Black Adam</td>\n      <td>https://m.media-amazon.com/images/M/MV5BYzZkOG...</td>\n      <td>Nearly 5,000 years after he was bestowed with ...</td>\n      <td>Action Adventure Fantasy</td>\n    </tr>\n    <tr>\n      <th>3</th>\n      <td>action</td>\n      <td>Andor</td>\n      <td>https://m.media-amazon.com/images/M/MV5BNDgxNT...</td>\n      <td>Prequel series to Star Wars' 'Rogue One'. In a...</td>\n      <td>Action Adventure Drama</td>\n    </tr>\n    <tr>\n      <th>4</th>\n      <td>action</td>\n      <td>The School for Good and Evil</td>\n      <td>https://m.media-amazon.com/images/M/MV5BNzM1OD...</td>\n      <td>Best friends Sophie and Agatha find themselves...</td>\n      <td>Action Comedy Drama</td>\n    </tr>\n  </tbody>\n</table>\n</div>"
     },
     "execution_count": 23,
     "metadata": {},
     "output_type": "execute_result"
    }
   ],
   "source": [
    "dataframes = []\n",
    "\n",
    "for genre in CATEGORIES:\n",
    "    df = pd.read_csv(f\"./data/{genre}_crawled_data.csv\")\n",
    "    dataframes.append(df)\n",
    "\n",
    "df = pd.concat(dataframes)\n",
    "df.head()"
   ],
   "metadata": {
    "collapsed": false
   }
  },
  {
   "cell_type": "code",
   "execution_count": 24,
   "outputs": [
    {
     "data": {
      "text/plain": "7200"
     },
     "execution_count": 24,
     "metadata": {},
     "output_type": "execute_result"
    }
   ],
   "source": [
    "len(df)"
   ],
   "metadata": {
    "collapsed": false
   }
  },
  {
   "cell_type": "markdown",
   "source": [
    "### Convert labels string to one hot encoding"
   ],
   "metadata": {
    "collapsed": false
   }
  },
  {
   "cell_type": "markdown",
   "source": [
    "Add superhero label to labels (because IMDB guys to crazy)"
   ],
   "metadata": {
    "collapsed": false
   }
  },
  {
   "cell_type": "code",
   "execution_count": 25,
   "outputs": [],
   "source": [
    "labels = df.labels.values\n",
    "genres = df.genre.values\n",
    "\n",
    "df.labels = labels + \" \" + genres"
   ],
   "metadata": {
    "collapsed": false
   }
  },
  {
   "cell_type": "markdown",
   "source": [
    "Convert labels to one got encoding"
   ],
   "metadata": {
    "collapsed": false
   }
  },
  {
   "cell_type": "code",
   "execution_count": 27,
   "outputs": [
    {
     "name": "stdout",
     "output_type": "stream",
     "text": [
      "51\n"
     ]
    },
    {
     "data": {
      "text/plain": "{'Action',\n 'Adventure',\n 'Animation',\n 'Biography',\n 'Comedy',\n 'Crime',\n 'Documentary',\n 'Drama',\n 'Family',\n 'Fantasy',\n 'Film-Noir',\n 'Game-Show',\n 'History',\n 'Horror',\n 'Music',\n 'Musical',\n 'Mystery',\n 'News',\n 'Reality-TV',\n 'Romance',\n 'Sci-Fi',\n 'Short',\n 'Sport',\n 'Talk-Show',\n 'Thriller',\n 'War',\n 'Western',\n 'action',\n 'adventure',\n 'animation',\n 'biography',\n 'comedy',\n 'crime',\n 'documentary',\n 'drama',\n 'family',\n 'fantasy',\n 'film_noir',\n 'history',\n 'horror',\n 'music',\n 'musical',\n 'mystery',\n 'romance',\n 'sci_fi',\n 'short',\n 'sport',\n 'superhero',\n 'thriller',\n 'war',\n 'western'}"
     },
     "execution_count": 27,
     "metadata": {},
     "output_type": "execute_result"
    }
   ],
   "source": [
    "set_of_all_labels = set()\n",
    "\n",
    "for item in df.labels.apply(lambda x: list(x.split())):\n",
    "    set_of_all_labels.update(item)\n",
    "\n",
    "print(len(set_of_all_labels))\n",
    "set_of_all_labels"
   ],
   "metadata": {
    "collapsed": false
   }
  },
  {
   "cell_type": "code",
   "execution_count": 28,
   "outputs": [],
   "source": [
    "def convert_string_to_genre(string):\n",
    "    return string.lower().replace(\"-\", \"_\")"
   ],
   "metadata": {
    "collapsed": false
   }
  },
  {
   "cell_type": "code",
   "execution_count": 29,
   "outputs": [
    {
     "data": {
      "text/plain": "['news',\n 'drama',\n 'comedy',\n 'music',\n 'romance',\n 'comedy',\n 'thriller',\n 'music',\n 'fantasy',\n 'western',\n 'film_noir',\n 'thriller',\n 'mystery',\n 'documentary',\n 'horror',\n 'history',\n 'family',\n 'horror',\n 'game_show',\n 'family',\n 'animation',\n 'sci_fi',\n 'adventure',\n 'biography',\n 'short',\n 'short',\n 'crime',\n 'sci_fi',\n 'sport',\n 'reality_tv',\n 'war',\n 'action',\n 'musical',\n 'documentary',\n 'western',\n 'drama',\n 'mystery',\n 'musical',\n 'war',\n 'animation',\n 'adventure',\n 'fantasy',\n 'romance',\n 'crime',\n 'biography',\n 'history',\n 'sport',\n 'action',\n 'superhero',\n 'film_noir',\n 'talk_show',\n 'action',\n 'adventure',\n 'animation',\n 'biography',\n 'comedy',\n 'crime',\n 'documentary',\n 'drama',\n 'family',\n 'fantasy',\n 'film_noir',\n 'history',\n 'horror',\n 'music',\n 'musical',\n 'mystery',\n 'romance',\n 'sci_fi',\n 'short',\n 'sport',\n 'superhero',\n 'thriller',\n 'war',\n 'western']"
     },
     "execution_count": 29,
     "metadata": {},
     "output_type": "execute_result"
    }
   ],
   "source": [
    "all_labels = [convert_string_to_genre(item) for item in set_of_all_labels]\n",
    "all_labels.extend(df.genre.unique())\n",
    "all_labels"
   ],
   "metadata": {
    "collapsed": false
   }
  },
  {
   "cell_type": "code",
   "execution_count": 30,
   "outputs": [
    {
     "name": "stdout",
     "output_type": "stream",
     "text": [
      "24\n"
     ]
    },
    {
     "data": {
      "text/plain": "['action',\n 'adventure',\n 'animation',\n 'biography',\n 'comedy',\n 'crime',\n 'documentary',\n 'drama',\n 'family',\n 'fantasy',\n 'film_noir',\n 'history',\n 'horror',\n 'music',\n 'musical',\n 'mystery',\n 'romance',\n 'sci_fi',\n 'short',\n 'sport',\n 'superhero',\n 'thriller',\n 'war',\n 'western']"
     },
     "execution_count": 30,
     "metadata": {},
     "output_type": "execute_result"
    }
   ],
   "source": [
    "existed_labels = list(set(CATEGORIES).intersection(all_labels))\n",
    "existed_labels.sort()\n",
    "print(len(existed_labels))\n",
    "existed_labels"
   ],
   "metadata": {
    "collapsed": false
   }
  },
  {
   "cell_type": "code",
   "execution_count": 31,
   "outputs": [],
   "source": [
    "one_hots = []\n",
    "\n",
    "for item in df.labels:\n",
    "    one_hot = [1 if genre in convert_string_to_genre(item) else 0 for genre in existed_labels]\n",
    "    one_hots.append(one_hot)"
   ],
   "metadata": {
    "collapsed": false
   }
  },
  {
   "cell_type": "code",
   "execution_count": 32,
   "outputs": [],
   "source": [
    "df[existed_labels] = one_hots"
   ],
   "metadata": {
    "collapsed": false
   }
  },
  {
   "cell_type": "code",
   "execution_count": 33,
   "outputs": [
    {
     "data": {
      "text/plain": "    genre                                      title  \\\n0  action                        House of the Dragon   \n1  action  The Lord of the Rings: The Rings of Power   \n2  action                                 Black Adam   \n3  action                                      Andor   \n4  action               The School for Good and Evil   \n\n                                         poster_link  \\\n0  https://m.media-amazon.com/images/M/MV5BZjBiOG...   \n1  https://m.media-amazon.com/images/M/MV5BNTg3Nj...   \n2  https://m.media-amazon.com/images/M/MV5BYzZkOG...   \n3  https://m.media-amazon.com/images/M/MV5BNDgxNT...   \n4  https://m.media-amazon.com/images/M/MV5BNzM1OD...   \n\n                                         description  \\\n0  An internal succession war within House Targar...   \n1  Epic drama set thousands of years before the e...   \n2  Nearly 5,000 years after he was bestowed with ...   \n3  Prequel series to Star Wars' 'Rogue One'. In a...   \n4  Best friends Sophie and Agatha find themselves...   \n\n                            labels  action  adventure  animation  biography  \\\n0    Action Adventure Drama action       1          1          0          0   \n1    Action Adventure Drama action       1          1          0          0   \n2  Action Adventure Fantasy action       1          1          0          0   \n3    Action Adventure Drama action       1          1          0          0   \n4       Action Comedy Drama action       1          0          0          0   \n\n   comedy  ...  musical  mystery  romance  sci_fi  short  sport  superhero  \\\n0       0  ...        0        0        0       0      0      0          0   \n1       0  ...        0        0        0       0      0      0          0   \n2       0  ...        0        0        0       0      0      0          0   \n3       0  ...        0        0        0       0      0      0          0   \n4       1  ...        0        0        0       0      0      0          0   \n\n   thriller  war  western  \n0         0    0        0  \n1         0    0        0  \n2         0    0        0  \n3         0    0        0  \n4         0    0        0  \n\n[5 rows x 29 columns]",
      "text/html": "<div>\n<style scoped>\n    .dataframe tbody tr th:only-of-type {\n        vertical-align: middle;\n    }\n\n    .dataframe tbody tr th {\n        vertical-align: top;\n    }\n\n    .dataframe thead th {\n        text-align: right;\n    }\n</style>\n<table border=\"1\" class=\"dataframe\">\n  <thead>\n    <tr style=\"text-align: right;\">\n      <th></th>\n      <th>genre</th>\n      <th>title</th>\n      <th>poster_link</th>\n      <th>description</th>\n      <th>labels</th>\n      <th>action</th>\n      <th>adventure</th>\n      <th>animation</th>\n      <th>biography</th>\n      <th>comedy</th>\n      <th>...</th>\n      <th>musical</th>\n      <th>mystery</th>\n      <th>romance</th>\n      <th>sci_fi</th>\n      <th>short</th>\n      <th>sport</th>\n      <th>superhero</th>\n      <th>thriller</th>\n      <th>war</th>\n      <th>western</th>\n    </tr>\n  </thead>\n  <tbody>\n    <tr>\n      <th>0</th>\n      <td>action</td>\n      <td>House of the Dragon</td>\n      <td>https://m.media-amazon.com/images/M/MV5BZjBiOG...</td>\n      <td>An internal succession war within House Targar...</td>\n      <td>Action Adventure Drama action</td>\n      <td>1</td>\n      <td>1</td>\n      <td>0</td>\n      <td>0</td>\n      <td>0</td>\n      <td>...</td>\n      <td>0</td>\n      <td>0</td>\n      <td>0</td>\n      <td>0</td>\n      <td>0</td>\n      <td>0</td>\n      <td>0</td>\n      <td>0</td>\n      <td>0</td>\n      <td>0</td>\n    </tr>\n    <tr>\n      <th>1</th>\n      <td>action</td>\n      <td>The Lord of the Rings: The Rings of Power</td>\n      <td>https://m.media-amazon.com/images/M/MV5BNTg3Nj...</td>\n      <td>Epic drama set thousands of years before the e...</td>\n      <td>Action Adventure Drama action</td>\n      <td>1</td>\n      <td>1</td>\n      <td>0</td>\n      <td>0</td>\n      <td>0</td>\n      <td>...</td>\n      <td>0</td>\n      <td>0</td>\n      <td>0</td>\n      <td>0</td>\n      <td>0</td>\n      <td>0</td>\n      <td>0</td>\n      <td>0</td>\n      <td>0</td>\n      <td>0</td>\n    </tr>\n    <tr>\n      <th>2</th>\n      <td>action</td>\n      <td>Black Adam</td>\n      <td>https://m.media-amazon.com/images/M/MV5BYzZkOG...</td>\n      <td>Nearly 5,000 years after he was bestowed with ...</td>\n      <td>Action Adventure Fantasy action</td>\n      <td>1</td>\n      <td>1</td>\n      <td>0</td>\n      <td>0</td>\n      <td>0</td>\n      <td>...</td>\n      <td>0</td>\n      <td>0</td>\n      <td>0</td>\n      <td>0</td>\n      <td>0</td>\n      <td>0</td>\n      <td>0</td>\n      <td>0</td>\n      <td>0</td>\n      <td>0</td>\n    </tr>\n    <tr>\n      <th>3</th>\n      <td>action</td>\n      <td>Andor</td>\n      <td>https://m.media-amazon.com/images/M/MV5BNDgxNT...</td>\n      <td>Prequel series to Star Wars' 'Rogue One'. In a...</td>\n      <td>Action Adventure Drama action</td>\n      <td>1</td>\n      <td>1</td>\n      <td>0</td>\n      <td>0</td>\n      <td>0</td>\n      <td>...</td>\n      <td>0</td>\n      <td>0</td>\n      <td>0</td>\n      <td>0</td>\n      <td>0</td>\n      <td>0</td>\n      <td>0</td>\n      <td>0</td>\n      <td>0</td>\n      <td>0</td>\n    </tr>\n    <tr>\n      <th>4</th>\n      <td>action</td>\n      <td>The School for Good and Evil</td>\n      <td>https://m.media-amazon.com/images/M/MV5BNzM1OD...</td>\n      <td>Best friends Sophie and Agatha find themselves...</td>\n      <td>Action Comedy Drama action</td>\n      <td>1</td>\n      <td>0</td>\n      <td>0</td>\n      <td>0</td>\n      <td>1</td>\n      <td>...</td>\n      <td>0</td>\n      <td>0</td>\n      <td>0</td>\n      <td>0</td>\n      <td>0</td>\n      <td>0</td>\n      <td>0</td>\n      <td>0</td>\n      <td>0</td>\n      <td>0</td>\n    </tr>\n  </tbody>\n</table>\n<p>5 rows × 29 columns</p>\n</div>"
     },
     "execution_count": 33,
     "metadata": {},
     "output_type": "execute_result"
    }
   ],
   "source": [
    "df.head()"
   ],
   "metadata": {
    "collapsed": false
   }
  },
  {
   "cell_type": "code",
   "execution_count": 34,
   "outputs": [],
   "source": [
    "df.drop(columns=[\"labels\"], inplace=True)"
   ],
   "metadata": {
    "collapsed": false
   }
  },
  {
   "cell_type": "code",
   "execution_count": 35,
   "outputs": [
    {
     "data": {
      "text/plain": "    genre                                      title  \\\n0  action                        House of the Dragon   \n1  action  The Lord of the Rings: The Rings of Power   \n2  action                                 Black Adam   \n3  action                                      Andor   \n4  action               The School for Good and Evil   \n\n                                         poster_link  \\\n0  https://m.media-amazon.com/images/M/MV5BZjBiOG...   \n1  https://m.media-amazon.com/images/M/MV5BNTg3Nj...   \n2  https://m.media-amazon.com/images/M/MV5BYzZkOG...   \n3  https://m.media-amazon.com/images/M/MV5BNDgxNT...   \n4  https://m.media-amazon.com/images/M/MV5BNzM1OD...   \n\n                                         description  action  adventure  \\\n0  An internal succession war within House Targar...       1          1   \n1  Epic drama set thousands of years before the e...       1          1   \n2  Nearly 5,000 years after he was bestowed with ...       1          1   \n3  Prequel series to Star Wars' 'Rogue One'. In a...       1          1   \n4  Best friends Sophie and Agatha find themselves...       1          0   \n\n   animation  biography  comedy  crime  ...  musical  mystery  romance  \\\n0          0          0       0      0  ...        0        0        0   \n1          0          0       0      0  ...        0        0        0   \n2          0          0       0      0  ...        0        0        0   \n3          0          0       0      0  ...        0        0        0   \n4          0          0       1      0  ...        0        0        0   \n\n   sci_fi  short  sport  superhero  thriller  war  western  \n0       0      0      0          0         0    0        0  \n1       0      0      0          0         0    0        0  \n2       0      0      0          0         0    0        0  \n3       0      0      0          0         0    0        0  \n4       0      0      0          0         0    0        0  \n\n[5 rows x 28 columns]",
      "text/html": "<div>\n<style scoped>\n    .dataframe tbody tr th:only-of-type {\n        vertical-align: middle;\n    }\n\n    .dataframe tbody tr th {\n        vertical-align: top;\n    }\n\n    .dataframe thead th {\n        text-align: right;\n    }\n</style>\n<table border=\"1\" class=\"dataframe\">\n  <thead>\n    <tr style=\"text-align: right;\">\n      <th></th>\n      <th>genre</th>\n      <th>title</th>\n      <th>poster_link</th>\n      <th>description</th>\n      <th>action</th>\n      <th>adventure</th>\n      <th>animation</th>\n      <th>biography</th>\n      <th>comedy</th>\n      <th>crime</th>\n      <th>...</th>\n      <th>musical</th>\n      <th>mystery</th>\n      <th>romance</th>\n      <th>sci_fi</th>\n      <th>short</th>\n      <th>sport</th>\n      <th>superhero</th>\n      <th>thriller</th>\n      <th>war</th>\n      <th>western</th>\n    </tr>\n  </thead>\n  <tbody>\n    <tr>\n      <th>0</th>\n      <td>action</td>\n      <td>House of the Dragon</td>\n      <td>https://m.media-amazon.com/images/M/MV5BZjBiOG...</td>\n      <td>An internal succession war within House Targar...</td>\n      <td>1</td>\n      <td>1</td>\n      <td>0</td>\n      <td>0</td>\n      <td>0</td>\n      <td>0</td>\n      <td>...</td>\n      <td>0</td>\n      <td>0</td>\n      <td>0</td>\n      <td>0</td>\n      <td>0</td>\n      <td>0</td>\n      <td>0</td>\n      <td>0</td>\n      <td>0</td>\n      <td>0</td>\n    </tr>\n    <tr>\n      <th>1</th>\n      <td>action</td>\n      <td>The Lord of the Rings: The Rings of Power</td>\n      <td>https://m.media-amazon.com/images/M/MV5BNTg3Nj...</td>\n      <td>Epic drama set thousands of years before the e...</td>\n      <td>1</td>\n      <td>1</td>\n      <td>0</td>\n      <td>0</td>\n      <td>0</td>\n      <td>0</td>\n      <td>...</td>\n      <td>0</td>\n      <td>0</td>\n      <td>0</td>\n      <td>0</td>\n      <td>0</td>\n      <td>0</td>\n      <td>0</td>\n      <td>0</td>\n      <td>0</td>\n      <td>0</td>\n    </tr>\n    <tr>\n      <th>2</th>\n      <td>action</td>\n      <td>Black Adam</td>\n      <td>https://m.media-amazon.com/images/M/MV5BYzZkOG...</td>\n      <td>Nearly 5,000 years after he was bestowed with ...</td>\n      <td>1</td>\n      <td>1</td>\n      <td>0</td>\n      <td>0</td>\n      <td>0</td>\n      <td>0</td>\n      <td>...</td>\n      <td>0</td>\n      <td>0</td>\n      <td>0</td>\n      <td>0</td>\n      <td>0</td>\n      <td>0</td>\n      <td>0</td>\n      <td>0</td>\n      <td>0</td>\n      <td>0</td>\n    </tr>\n    <tr>\n      <th>3</th>\n      <td>action</td>\n      <td>Andor</td>\n      <td>https://m.media-amazon.com/images/M/MV5BNDgxNT...</td>\n      <td>Prequel series to Star Wars' 'Rogue One'. In a...</td>\n      <td>1</td>\n      <td>1</td>\n      <td>0</td>\n      <td>0</td>\n      <td>0</td>\n      <td>0</td>\n      <td>...</td>\n      <td>0</td>\n      <td>0</td>\n      <td>0</td>\n      <td>0</td>\n      <td>0</td>\n      <td>0</td>\n      <td>0</td>\n      <td>0</td>\n      <td>0</td>\n      <td>0</td>\n    </tr>\n    <tr>\n      <th>4</th>\n      <td>action</td>\n      <td>The School for Good and Evil</td>\n      <td>https://m.media-amazon.com/images/M/MV5BNzM1OD...</td>\n      <td>Best friends Sophie and Agatha find themselves...</td>\n      <td>1</td>\n      <td>0</td>\n      <td>0</td>\n      <td>0</td>\n      <td>1</td>\n      <td>0</td>\n      <td>...</td>\n      <td>0</td>\n      <td>0</td>\n      <td>0</td>\n      <td>0</td>\n      <td>0</td>\n      <td>0</td>\n      <td>0</td>\n      <td>0</td>\n      <td>0</td>\n      <td>0</td>\n    </tr>\n  </tbody>\n</table>\n<p>5 rows × 28 columns</p>\n</div>"
     },
     "execution_count": 35,
     "metadata": {},
     "output_type": "execute_result"
    }
   ],
   "source": [
    "df.head()"
   ],
   "metadata": {
    "collapsed": false
   }
  },
  {
   "cell_type": "markdown",
   "source": [
    "### Let's compute column with path to poster"
   ],
   "metadata": {
    "collapsed": false
   }
  },
  {
   "cell_type": "code",
   "execution_count": 36,
   "outputs": [],
   "source": [
    "def from_title_to_poster_path(genre, title):\n",
    "    transformed_title = re.sub(\"\\\\W\", \"_\", title.casefold()) + \".jpg\"\n",
    "    return \"./data/\" + genre + \"/\" + transformed_title"
   ],
   "metadata": {
    "collapsed": false
   }
  },
  {
   "cell_type": "code",
   "execution_count": 37,
   "outputs": [],
   "source": [
    "poster_pathes = []\n",
    "\n",
    "for genre, title in list(zip(df[\"genre\"], df[\"title\"])):\n",
    "    poster_pathes.append(from_title_to_poster_path(genre, title))"
   ],
   "metadata": {
    "collapsed": false
   }
  },
  {
   "cell_type": "code",
   "execution_count": 38,
   "outputs": [],
   "source": [
    "df[\"poster_path\"] = poster_pathes"
   ],
   "metadata": {
    "collapsed": false
   }
  },
  {
   "cell_type": "code",
   "execution_count": 39,
   "outputs": [
    {
     "data": {
      "text/plain": "    genre                                      title  \\\n0  action                        House of the Dragon   \n1  action  The Lord of the Rings: The Rings of Power   \n2  action                                 Black Adam   \n3  action                                      Andor   \n4  action               The School for Good and Evil   \n\n                                         poster_link  \\\n0  https://m.media-amazon.com/images/M/MV5BZjBiOG...   \n1  https://m.media-amazon.com/images/M/MV5BNTg3Nj...   \n2  https://m.media-amazon.com/images/M/MV5BYzZkOG...   \n3  https://m.media-amazon.com/images/M/MV5BNDgxNT...   \n4  https://m.media-amazon.com/images/M/MV5BNzM1OD...   \n\n                                         description  action  adventure  \\\n0  An internal succession war within House Targar...       1          1   \n1  Epic drama set thousands of years before the e...       1          1   \n2  Nearly 5,000 years after he was bestowed with ...       1          1   \n3  Prequel series to Star Wars' 'Rogue One'. In a...       1          1   \n4  Best friends Sophie and Agatha find themselves...       1          0   \n\n   animation  biography  comedy  crime  ...  mystery  romance  sci_fi  short  \\\n0          0          0       0      0  ...        0        0       0      0   \n1          0          0       0      0  ...        0        0       0      0   \n2          0          0       0      0  ...        0        0       0      0   \n3          0          0       0      0  ...        0        0       0      0   \n4          0          0       1      0  ...        0        0       0      0   \n\n   sport  superhero  thriller  war  western  \\\n0      0          0         0    0        0   \n1      0          0         0    0        0   \n2      0          0         0    0        0   \n3      0          0         0    0        0   \n4      0          0         0    0        0   \n\n                                         poster_path  \n0              ./data/action/house_of_the_dragon.jpg  \n1  ./data/action/the_lord_of_the_rings__the_rings...  \n2                       ./data/action/black_adam.jpg  \n3                            ./data/action/andor.jpg  \n4     ./data/action/the_school_for_good_and_evil.jpg  \n\n[5 rows x 29 columns]",
      "text/html": "<div>\n<style scoped>\n    .dataframe tbody tr th:only-of-type {\n        vertical-align: middle;\n    }\n\n    .dataframe tbody tr th {\n        vertical-align: top;\n    }\n\n    .dataframe thead th {\n        text-align: right;\n    }\n</style>\n<table border=\"1\" class=\"dataframe\">\n  <thead>\n    <tr style=\"text-align: right;\">\n      <th></th>\n      <th>genre</th>\n      <th>title</th>\n      <th>poster_link</th>\n      <th>description</th>\n      <th>action</th>\n      <th>adventure</th>\n      <th>animation</th>\n      <th>biography</th>\n      <th>comedy</th>\n      <th>crime</th>\n      <th>...</th>\n      <th>mystery</th>\n      <th>romance</th>\n      <th>sci_fi</th>\n      <th>short</th>\n      <th>sport</th>\n      <th>superhero</th>\n      <th>thriller</th>\n      <th>war</th>\n      <th>western</th>\n      <th>poster_path</th>\n    </tr>\n  </thead>\n  <tbody>\n    <tr>\n      <th>0</th>\n      <td>action</td>\n      <td>House of the Dragon</td>\n      <td>https://m.media-amazon.com/images/M/MV5BZjBiOG...</td>\n      <td>An internal succession war within House Targar...</td>\n      <td>1</td>\n      <td>1</td>\n      <td>0</td>\n      <td>0</td>\n      <td>0</td>\n      <td>0</td>\n      <td>...</td>\n      <td>0</td>\n      <td>0</td>\n      <td>0</td>\n      <td>0</td>\n      <td>0</td>\n      <td>0</td>\n      <td>0</td>\n      <td>0</td>\n      <td>0</td>\n      <td>./data/action/house_of_the_dragon.jpg</td>\n    </tr>\n    <tr>\n      <th>1</th>\n      <td>action</td>\n      <td>The Lord of the Rings: The Rings of Power</td>\n      <td>https://m.media-amazon.com/images/M/MV5BNTg3Nj...</td>\n      <td>Epic drama set thousands of years before the e...</td>\n      <td>1</td>\n      <td>1</td>\n      <td>0</td>\n      <td>0</td>\n      <td>0</td>\n      <td>0</td>\n      <td>...</td>\n      <td>0</td>\n      <td>0</td>\n      <td>0</td>\n      <td>0</td>\n      <td>0</td>\n      <td>0</td>\n      <td>0</td>\n      <td>0</td>\n      <td>0</td>\n      <td>./data/action/the_lord_of_the_rings__the_rings...</td>\n    </tr>\n    <tr>\n      <th>2</th>\n      <td>action</td>\n      <td>Black Adam</td>\n      <td>https://m.media-amazon.com/images/M/MV5BYzZkOG...</td>\n      <td>Nearly 5,000 years after he was bestowed with ...</td>\n      <td>1</td>\n      <td>1</td>\n      <td>0</td>\n      <td>0</td>\n      <td>0</td>\n      <td>0</td>\n      <td>...</td>\n      <td>0</td>\n      <td>0</td>\n      <td>0</td>\n      <td>0</td>\n      <td>0</td>\n      <td>0</td>\n      <td>0</td>\n      <td>0</td>\n      <td>0</td>\n      <td>./data/action/black_adam.jpg</td>\n    </tr>\n    <tr>\n      <th>3</th>\n      <td>action</td>\n      <td>Andor</td>\n      <td>https://m.media-amazon.com/images/M/MV5BNDgxNT...</td>\n      <td>Prequel series to Star Wars' 'Rogue One'. In a...</td>\n      <td>1</td>\n      <td>1</td>\n      <td>0</td>\n      <td>0</td>\n      <td>0</td>\n      <td>0</td>\n      <td>...</td>\n      <td>0</td>\n      <td>0</td>\n      <td>0</td>\n      <td>0</td>\n      <td>0</td>\n      <td>0</td>\n      <td>0</td>\n      <td>0</td>\n      <td>0</td>\n      <td>./data/action/andor.jpg</td>\n    </tr>\n    <tr>\n      <th>4</th>\n      <td>action</td>\n      <td>The School for Good and Evil</td>\n      <td>https://m.media-amazon.com/images/M/MV5BNzM1OD...</td>\n      <td>Best friends Sophie and Agatha find themselves...</td>\n      <td>1</td>\n      <td>0</td>\n      <td>0</td>\n      <td>0</td>\n      <td>1</td>\n      <td>0</td>\n      <td>...</td>\n      <td>0</td>\n      <td>0</td>\n      <td>0</td>\n      <td>0</td>\n      <td>0</td>\n      <td>0</td>\n      <td>0</td>\n      <td>0</td>\n      <td>0</td>\n      <td>./data/action/the_school_for_good_and_evil.jpg</td>\n    </tr>\n  </tbody>\n</table>\n<p>5 rows × 29 columns</p>\n</div>"
     },
     "execution_count": 39,
     "metadata": {},
     "output_type": "execute_result"
    }
   ],
   "source": [
    "df.head()"
   ],
   "metadata": {
    "collapsed": false
   }
  },
  {
   "cell_type": "code",
   "execution_count": 41,
   "outputs": [],
   "source": [
    "df.drop(columns=[\"genre\", \"poster_link\"], inplace=True)"
   ],
   "metadata": {
    "collapsed": false
   }
  },
  {
   "cell_type": "code",
   "execution_count": 42,
   "outputs": [],
   "source": [
    "df.to_csv(\"./data/preprocessed.csv\", index=False)"
   ],
   "metadata": {
    "collapsed": false
   }
  }
 ],
 "metadata": {
  "kernelspec": {
   "display_name": "Python 3",
   "language": "python",
   "name": "python3"
  },
  "language_info": {
   "codemirror_mode": {
    "name": "ipython",
    "version": 2
   },
   "file_extension": ".py",
   "mimetype": "text/x-python",
   "name": "python",
   "nbconvert_exporter": "python",
   "pygments_lexer": "ipython2",
   "version": "2.7.6"
  }
 },
 "nbformat": 4,
 "nbformat_minor": 0
}

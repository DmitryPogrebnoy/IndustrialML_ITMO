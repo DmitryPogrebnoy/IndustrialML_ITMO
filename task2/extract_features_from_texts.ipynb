{
 "cells": [
  {
   "cell_type": "code",
   "execution_count": 42,
   "metadata": {
    "collapsed": true
   },
   "outputs": [],
   "source": [
    "import pandas as pd\n",
    "from transformers import pipeline\n",
    "from tqdm import tqdm"
   ]
  },
  {
   "cell_type": "code",
   "execution_count": 43,
   "outputs": [],
   "source": [
    "CATEGORIES = [\"action\", \"adventure\", \"animation\", \"biography\", \"comedy\", \"crime\", \"documentary\", \"drama\", \"family\",\n",
    "              \"fantasy\", \"film_noir\", \"history\", \"horror\", \"music\", \"musical\", \"mystery\", \"romance\", \"sci_fi\",\n",
    "              \"short\", \"sport\", \"superhero\", \"thriller\", \"war\", \"western\"]"
   ],
   "metadata": {
    "collapsed": false
   }
  },
  {
   "cell_type": "code",
   "execution_count": 44,
   "outputs": [
    {
     "data": {
      "text/plain": "                        title  \\\n0                         '71   \n1                         '83   \n2                'Allo 'Allo!   \n3         10 Cloverfield Lane   \n4  10 Things I Hate About You   \n\n                                         description  action  adventure  \\\n0  In 1971, a young and disoriented British soldi...       1          0   \n1  On June 25, 1983, the Lord's Cricket Ground wi...       0          0   \n2  In France during World War II, René Artois run...       0          0   \n3  A young woman is held in an underground bunker...       0          0   \n4  A pretty, popular teenager can't go out on a d...       0          0   \n\n   animation  biography  comedy  crime  documentary  drama  ...  mystery  \\\n0          0          0       0      1            0      1  ...        0   \n1          0          1       0      0            0      1  ...        0   \n2          0          0       1      0            0      0  ...        0   \n3          0          0       0      0            0      1  ...        1   \n4          0          0       1      0            0      1  ...        0   \n\n   romance  sci_fi  short  sport  superhero  thriller  war  western  \\\n0        0       0      0      0          0         0    1        0   \n1        0       0      0      1          0         0    0        0   \n2        0       0      0      0          0         0    1        0   \n3        0       1      0      0          0         0    0        0   \n4        1       0      0      0          0         0    0        0   \n\n                                    poster_path  \n0                            ./data/war/_71.jpg  \n1                          ./data/sport/_83.jpg  \n2               ./data/history/_allo__allo_.jpg  \n3         ./data/sci_fi/10_cloverfield_lane.jpg  \n4  ./data/comedy/10_things_i_hate_about_you.jpg  \n\n[5 rows x 27 columns]",
      "text/html": "<div>\n<style scoped>\n    .dataframe tbody tr th:only-of-type {\n        vertical-align: middle;\n    }\n\n    .dataframe tbody tr th {\n        vertical-align: top;\n    }\n\n    .dataframe thead th {\n        text-align: right;\n    }\n</style>\n<table border=\"1\" class=\"dataframe\">\n  <thead>\n    <tr style=\"text-align: right;\">\n      <th></th>\n      <th>title</th>\n      <th>description</th>\n      <th>action</th>\n      <th>adventure</th>\n      <th>animation</th>\n      <th>biography</th>\n      <th>comedy</th>\n      <th>crime</th>\n      <th>documentary</th>\n      <th>drama</th>\n      <th>...</th>\n      <th>mystery</th>\n      <th>romance</th>\n      <th>sci_fi</th>\n      <th>short</th>\n      <th>sport</th>\n      <th>superhero</th>\n      <th>thriller</th>\n      <th>war</th>\n      <th>western</th>\n      <th>poster_path</th>\n    </tr>\n  </thead>\n  <tbody>\n    <tr>\n      <th>0</th>\n      <td>'71</td>\n      <td>In 1971, a young and disoriented British soldi...</td>\n      <td>1</td>\n      <td>0</td>\n      <td>0</td>\n      <td>0</td>\n      <td>0</td>\n      <td>1</td>\n      <td>0</td>\n      <td>1</td>\n      <td>...</td>\n      <td>0</td>\n      <td>0</td>\n      <td>0</td>\n      <td>0</td>\n      <td>0</td>\n      <td>0</td>\n      <td>0</td>\n      <td>1</td>\n      <td>0</td>\n      <td>./data/war/_71.jpg</td>\n    </tr>\n    <tr>\n      <th>1</th>\n      <td>'83</td>\n      <td>On June 25, 1983, the Lord's Cricket Ground wi...</td>\n      <td>0</td>\n      <td>0</td>\n      <td>0</td>\n      <td>1</td>\n      <td>0</td>\n      <td>0</td>\n      <td>0</td>\n      <td>1</td>\n      <td>...</td>\n      <td>0</td>\n      <td>0</td>\n      <td>0</td>\n      <td>0</td>\n      <td>1</td>\n      <td>0</td>\n      <td>0</td>\n      <td>0</td>\n      <td>0</td>\n      <td>./data/sport/_83.jpg</td>\n    </tr>\n    <tr>\n      <th>2</th>\n      <td>'Allo 'Allo!</td>\n      <td>In France during World War II, René Artois run...</td>\n      <td>0</td>\n      <td>0</td>\n      <td>0</td>\n      <td>0</td>\n      <td>1</td>\n      <td>0</td>\n      <td>0</td>\n      <td>0</td>\n      <td>...</td>\n      <td>0</td>\n      <td>0</td>\n      <td>0</td>\n      <td>0</td>\n      <td>0</td>\n      <td>0</td>\n      <td>0</td>\n      <td>1</td>\n      <td>0</td>\n      <td>./data/history/_allo__allo_.jpg</td>\n    </tr>\n    <tr>\n      <th>3</th>\n      <td>10 Cloverfield Lane</td>\n      <td>A young woman is held in an underground bunker...</td>\n      <td>0</td>\n      <td>0</td>\n      <td>0</td>\n      <td>0</td>\n      <td>0</td>\n      <td>0</td>\n      <td>0</td>\n      <td>1</td>\n      <td>...</td>\n      <td>1</td>\n      <td>0</td>\n      <td>1</td>\n      <td>0</td>\n      <td>0</td>\n      <td>0</td>\n      <td>0</td>\n      <td>0</td>\n      <td>0</td>\n      <td>./data/sci_fi/10_cloverfield_lane.jpg</td>\n    </tr>\n    <tr>\n      <th>4</th>\n      <td>10 Things I Hate About You</td>\n      <td>A pretty, popular teenager can't go out on a d...</td>\n      <td>0</td>\n      <td>0</td>\n      <td>0</td>\n      <td>0</td>\n      <td>1</td>\n      <td>0</td>\n      <td>0</td>\n      <td>1</td>\n      <td>...</td>\n      <td>0</td>\n      <td>1</td>\n      <td>0</td>\n      <td>0</td>\n      <td>0</td>\n      <td>0</td>\n      <td>0</td>\n      <td>0</td>\n      <td>0</td>\n      <td>./data/comedy/10_things_i_hate_about_you.jpg</td>\n    </tr>\n  </tbody>\n</table>\n<p>5 rows × 27 columns</p>\n</div>"
     },
     "execution_count": 44,
     "metadata": {},
     "output_type": "execute_result"
    }
   ],
   "source": [
    "df = pd.read_csv(\"./data/preprocessed.csv\")\n",
    "df.head()"
   ],
   "metadata": {
    "collapsed": false
   }
  },
  {
   "cell_type": "code",
   "execution_count": 45,
   "outputs": [],
   "source": [
    "classifier = pipeline(\"zero-shot-classification\", model=\"facebook/bart-large-mnli\")"
   ],
   "metadata": {
    "collapsed": false
   }
  },
  {
   "cell_type": "code",
   "execution_count": null,
   "outputs": [
    {
     "name": "stderr",
     "output_type": "stream",
     "text": [
      "  0%|          | 14/4188 [00:55<4:37:32,  3.99s/it]"
     ]
    }
   ],
   "source": [
    "title_score = { genre : [] for genre in CATEGORIES}\n",
    "\n",
    "for title in tqdm(df.title.values):\n",
    "    result = classifier(title, CATEGORIES, multi_label=True)\n",
    "    result_genres = result[\"labels\"]\n",
    "    result_score = result[\"scores\"]\n",
    "    for idx, label in enumerate(result_genres):\n",
    "        title_score[label].append(result_score[idx])\n",
    "\n",
    "title_score"
   ],
   "metadata": {
    "collapsed": false,
    "pycharm": {
     "is_executing": true
    }
   }
  },
  {
   "cell_type": "code",
   "execution_count": null,
   "outputs": [],
   "source": [
    "description_score = { genre : [] for genre in CATEGORIES}\n",
    "\n",
    "for description in tqdm(df.description.values):\n",
    "    result = classifier(description, CATEGORIES, multi_label=True)\n",
    "    result_genres = result[\"labels\"]\n",
    "    result_score = result[\"scores\"]\n",
    "    for idx, label in enumerate(result_genres):\n",
    "        description_score[label].append(result_score[idx])\n",
    "\n",
    "description_score"
   ],
   "metadata": {
    "collapsed": false,
    "pycharm": {
     "is_executing": true
    }
   }
  },
  {
   "cell_type": "code",
   "execution_count": null,
   "outputs": [],
   "source": [
    "for label, value_list in title_score.items():\n",
    "    df[f\"label_{label}\"] = value_list"
   ],
   "metadata": {
    "collapsed": false,
    "pycharm": {
     "is_executing": true
    }
   }
  },
  {
   "cell_type": "code",
   "execution_count": null,
   "outputs": [],
   "source": [
    "for label, value_list in description_score.items():\n",
    "    df[f\"description_{label}\"] = value_list"
   ],
   "metadata": {
    "collapsed": false,
    "pycharm": {
     "is_executing": true
    }
   }
  },
  {
   "cell_type": "code",
   "execution_count": null,
   "outputs": [],
   "source": [
    "df.head()"
   ],
   "metadata": {
    "collapsed": false,
    "pycharm": {
     "is_executing": true
    }
   }
  },
  {
   "cell_type": "code",
   "execution_count": null,
   "outputs": [],
   "source": [
    "df.shape"
   ],
   "metadata": {
    "collapsed": false,
    "pycharm": {
     "is_executing": true
    }
   }
  },
  {
   "cell_type": "code",
   "execution_count": null,
   "outputs": [],
   "source": [
    "df.drop(columns=[\"title\", \"description\"], inplace=True)"
   ],
   "metadata": {
    "collapsed": false,
    "pycharm": {
     "is_executing": true
    }
   }
  },
  {
   "cell_type": "code",
   "execution_count": null,
   "outputs": [],
   "source": [
    "df.to_csv(\"./data/preprocessed_text_extracted.csv\", index=False)"
   ],
   "metadata": {
    "collapsed": false,
    "pycharm": {
     "is_executing": true
    }
   }
  },
  {
   "cell_type": "code",
   "execution_count": null,
   "outputs": [],
   "source": [],
   "metadata": {
    "collapsed": false,
    "pycharm": {
     "is_executing": true
    }
   }
  }
 ],
 "metadata": {
  "kernelspec": {
   "display_name": "Python 3",
   "language": "python",
   "name": "python3"
  },
  "language_info": {
   "codemirror_mode": {
    "name": "ipython",
    "version": 2
   },
   "file_extension": ".py",
   "mimetype": "text/x-python",
   "name": "python",
   "nbconvert_exporter": "python",
   "pygments_lexer": "ipython2",
   "version": "2.7.6"
  }
 },
 "nbformat": 4,
 "nbformat_minor": 0
}

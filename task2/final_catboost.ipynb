{
 "cells": [
  {
   "cell_type": "code",
   "execution_count": 1,
   "outputs": [],
   "source": [
    "import pandas as pd\n",
    "import numpy as np\n",
    "import matplotlib.pyplot as plt\n",
    "\n",
    "import optuna\n",
    "import catboost as cb\n",
    "from sklearn.metrics import f1_score, multilabel_confusion_matrix, classification_report\n",
    "from sklearn.utils import class_weight\n",
    "\n",
    "from sklearn.preprocessing import MultiLabelBinarizer"
   ],
   "metadata": {
    "collapsed": false
   }
  },
  {
   "cell_type": "code",
   "execution_count": 2,
   "outputs": [
    {
     "data": {
      "text/plain": "                                         title  \\\n0                                  The Expanse   \n1  Night Stalker: The Hunt for a Serial Killer   \n2                    Hannah Montana: The Movie   \n3                                 London Kills   \n4                               Women's Prison   \n\n                                         description  action  adventure  \\\n0  In the 24th century, a group of humans untangl...       0          0   \n1  This limited docu-series tells the true story ...       0          0   \n2  As Hannah Montana's popularity begins to take ...       0          0   \n3  Drama series following the detectives of an el...       0          0   \n4  A sadistic prison warden takes out her sexual ...       0          0   \n\n   animation  biography  comedy  crime  documentary  drama  ...  mystery  \\\n0          0          0       0      0            0      1  ...        1   \n1          0          0       0      1            1      0  ...        1   \n2          0          0       1      0            0      1  ...        0   \n3          0          0       0      1            0      1  ...        1   \n4          0          0       0      1            0      1  ...        0   \n\n   romance  sci_fi  short  sport  superhero  thriller  war  western  \\\n0        0       1      0      0          0         0    0        0   \n1        0       0      0      0          0         0    0        0   \n2        0       0      0      0          0         0    0        0   \n3        0       0      0      0          0         0    0        0   \n4        0       0      0      0          0         0    0        0   \n\n                                         poster_path  \n0               ./data/posters/drama/the_expanse.jpg  \n1  ./data/posters/documentary/night_stalker__the_...  \n2  ./data/posters/music/hannah_montana__the_movie...  \n3              ./data/posters/crime/london_kills.jpg  \n4        ./data/posters/film_noir/women_s_prison.jpg  \n\n[5 rows x 27 columns]",
      "text/html": "<div>\n<style scoped>\n    .dataframe tbody tr th:only-of-type {\n        vertical-align: middle;\n    }\n\n    .dataframe tbody tr th {\n        vertical-align: top;\n    }\n\n    .dataframe thead th {\n        text-align: right;\n    }\n</style>\n<table border=\"1\" class=\"dataframe\">\n  <thead>\n    <tr style=\"text-align: right;\">\n      <th></th>\n      <th>title</th>\n      <th>description</th>\n      <th>action</th>\n      <th>adventure</th>\n      <th>animation</th>\n      <th>biography</th>\n      <th>comedy</th>\n      <th>crime</th>\n      <th>documentary</th>\n      <th>drama</th>\n      <th>...</th>\n      <th>mystery</th>\n      <th>romance</th>\n      <th>sci_fi</th>\n      <th>short</th>\n      <th>sport</th>\n      <th>superhero</th>\n      <th>thriller</th>\n      <th>war</th>\n      <th>western</th>\n      <th>poster_path</th>\n    </tr>\n  </thead>\n  <tbody>\n    <tr>\n      <th>0</th>\n      <td>The Expanse</td>\n      <td>In the 24th century, a group of humans untangl...</td>\n      <td>0</td>\n      <td>0</td>\n      <td>0</td>\n      <td>0</td>\n      <td>0</td>\n      <td>0</td>\n      <td>0</td>\n      <td>1</td>\n      <td>...</td>\n      <td>1</td>\n      <td>0</td>\n      <td>1</td>\n      <td>0</td>\n      <td>0</td>\n      <td>0</td>\n      <td>0</td>\n      <td>0</td>\n      <td>0</td>\n      <td>./data/posters/drama/the_expanse.jpg</td>\n    </tr>\n    <tr>\n      <th>1</th>\n      <td>Night Stalker: The Hunt for a Serial Killer</td>\n      <td>This limited docu-series tells the true story ...</td>\n      <td>0</td>\n      <td>0</td>\n      <td>0</td>\n      <td>0</td>\n      <td>0</td>\n      <td>1</td>\n      <td>1</td>\n      <td>0</td>\n      <td>...</td>\n      <td>1</td>\n      <td>0</td>\n      <td>0</td>\n      <td>0</td>\n      <td>0</td>\n      <td>0</td>\n      <td>0</td>\n      <td>0</td>\n      <td>0</td>\n      <td>./data/posters/documentary/night_stalker__the_...</td>\n    </tr>\n    <tr>\n      <th>2</th>\n      <td>Hannah Montana: The Movie</td>\n      <td>As Hannah Montana's popularity begins to take ...</td>\n      <td>0</td>\n      <td>0</td>\n      <td>0</td>\n      <td>0</td>\n      <td>1</td>\n      <td>0</td>\n      <td>0</td>\n      <td>1</td>\n      <td>...</td>\n      <td>0</td>\n      <td>0</td>\n      <td>0</td>\n      <td>0</td>\n      <td>0</td>\n      <td>0</td>\n      <td>0</td>\n      <td>0</td>\n      <td>0</td>\n      <td>./data/posters/music/hannah_montana__the_movie...</td>\n    </tr>\n    <tr>\n      <th>3</th>\n      <td>London Kills</td>\n      <td>Drama series following the detectives of an el...</td>\n      <td>0</td>\n      <td>0</td>\n      <td>0</td>\n      <td>0</td>\n      <td>0</td>\n      <td>1</td>\n      <td>0</td>\n      <td>1</td>\n      <td>...</td>\n      <td>1</td>\n      <td>0</td>\n      <td>0</td>\n      <td>0</td>\n      <td>0</td>\n      <td>0</td>\n      <td>0</td>\n      <td>0</td>\n      <td>0</td>\n      <td>./data/posters/crime/london_kills.jpg</td>\n    </tr>\n    <tr>\n      <th>4</th>\n      <td>Women's Prison</td>\n      <td>A sadistic prison warden takes out her sexual ...</td>\n      <td>0</td>\n      <td>0</td>\n      <td>0</td>\n      <td>0</td>\n      <td>0</td>\n      <td>1</td>\n      <td>0</td>\n      <td>1</td>\n      <td>...</td>\n      <td>0</td>\n      <td>0</td>\n      <td>0</td>\n      <td>0</td>\n      <td>0</td>\n      <td>0</td>\n      <td>0</td>\n      <td>0</td>\n      <td>0</td>\n      <td>./data/posters/film_noir/women_s_prison.jpg</td>\n    </tr>\n  </tbody>\n</table>\n<p>5 rows × 27 columns</p>\n</div>"
     },
     "execution_count": 2,
     "metadata": {},
     "output_type": "execute_result"
    }
   ],
   "source": [
    "train_df = pd.read_csv(\"./data/preprocessed_train.csv\")\n",
    "train_df.head()"
   ],
   "metadata": {
    "collapsed": false
   }
  },
  {
   "cell_type": "code",
   "execution_count": 3,
   "outputs": [
    {
     "data": {
      "text/plain": "                          title  \\\n0              Marie Antoinette   \n1             An American Crime   \n2                    Crime Wave   \n3                Bad News Bears   \n4  The Texas Chain Saw Massacre   \n\n                                         description  action  adventure  \\\n0  The retelling of France's iconic but ill-fated...       0          0   \n1  The true story of suburban housewife Gertrude ...       0          0   \n2  Reformed parolee Steve Lacey is caught in the ...       0          0   \n3  A grizzled little league coach tries to turn h...       0          0   \n4  Five friends head out to rural Texas to visit ...       0          0   \n\n   animation  biography  comedy  crime  documentary  drama  ...  mystery  \\\n0          0          1       0      0            0      1  ...        0   \n1          0          1       0      1            0      1  ...        0   \n2          0          0       0      1            0      1  ...        0   \n3          0          0       1      0            0      0  ...        0   \n4          0          0       0      0            0      0  ...        0   \n\n   romance  sci_fi  short  sport  superhero  thriller  war  western  \\\n0        0       0      0      0          0         0    0        0   \n1        0       0      0      0          0         0    0        0   \n2        0       0      0      0          0         0    0        0   \n3        0       0      0      1          0         0    0        0   \n4        0       0      0      0          0         0    0        0   \n\n                                         poster_path  \n0      ./data/posters/biography/marie_antoinette.jpg  \n1     ./data/posters/biography/an_american_crime.jpg  \n2            ./data/posters/film_noir/crime_wave.jpg  \n3            ./data/posters/sport/bad_news_bears.jpg  \n4  ./data/posters/horror/the_texas_chain_saw_mass...  \n\n[5 rows x 27 columns]",
      "text/html": "<div>\n<style scoped>\n    .dataframe tbody tr th:only-of-type {\n        vertical-align: middle;\n    }\n\n    .dataframe tbody tr th {\n        vertical-align: top;\n    }\n\n    .dataframe thead th {\n        text-align: right;\n    }\n</style>\n<table border=\"1\" class=\"dataframe\">\n  <thead>\n    <tr style=\"text-align: right;\">\n      <th></th>\n      <th>title</th>\n      <th>description</th>\n      <th>action</th>\n      <th>adventure</th>\n      <th>animation</th>\n      <th>biography</th>\n      <th>comedy</th>\n      <th>crime</th>\n      <th>documentary</th>\n      <th>drama</th>\n      <th>...</th>\n      <th>mystery</th>\n      <th>romance</th>\n      <th>sci_fi</th>\n      <th>short</th>\n      <th>sport</th>\n      <th>superhero</th>\n      <th>thriller</th>\n      <th>war</th>\n      <th>western</th>\n      <th>poster_path</th>\n    </tr>\n  </thead>\n  <tbody>\n    <tr>\n      <th>0</th>\n      <td>Marie Antoinette</td>\n      <td>The retelling of France's iconic but ill-fated...</td>\n      <td>0</td>\n      <td>0</td>\n      <td>0</td>\n      <td>1</td>\n      <td>0</td>\n      <td>0</td>\n      <td>0</td>\n      <td>1</td>\n      <td>...</td>\n      <td>0</td>\n      <td>0</td>\n      <td>0</td>\n      <td>0</td>\n      <td>0</td>\n      <td>0</td>\n      <td>0</td>\n      <td>0</td>\n      <td>0</td>\n      <td>./data/posters/biography/marie_antoinette.jpg</td>\n    </tr>\n    <tr>\n      <th>1</th>\n      <td>An American Crime</td>\n      <td>The true story of suburban housewife Gertrude ...</td>\n      <td>0</td>\n      <td>0</td>\n      <td>0</td>\n      <td>1</td>\n      <td>0</td>\n      <td>1</td>\n      <td>0</td>\n      <td>1</td>\n      <td>...</td>\n      <td>0</td>\n      <td>0</td>\n      <td>0</td>\n      <td>0</td>\n      <td>0</td>\n      <td>0</td>\n      <td>0</td>\n      <td>0</td>\n      <td>0</td>\n      <td>./data/posters/biography/an_american_crime.jpg</td>\n    </tr>\n    <tr>\n      <th>2</th>\n      <td>Crime Wave</td>\n      <td>Reformed parolee Steve Lacey is caught in the ...</td>\n      <td>0</td>\n      <td>0</td>\n      <td>0</td>\n      <td>0</td>\n      <td>0</td>\n      <td>1</td>\n      <td>0</td>\n      <td>1</td>\n      <td>...</td>\n      <td>0</td>\n      <td>0</td>\n      <td>0</td>\n      <td>0</td>\n      <td>0</td>\n      <td>0</td>\n      <td>0</td>\n      <td>0</td>\n      <td>0</td>\n      <td>./data/posters/film_noir/crime_wave.jpg</td>\n    </tr>\n    <tr>\n      <th>3</th>\n      <td>Bad News Bears</td>\n      <td>A grizzled little league coach tries to turn h...</td>\n      <td>0</td>\n      <td>0</td>\n      <td>0</td>\n      <td>0</td>\n      <td>1</td>\n      <td>0</td>\n      <td>0</td>\n      <td>0</td>\n      <td>...</td>\n      <td>0</td>\n      <td>0</td>\n      <td>0</td>\n      <td>0</td>\n      <td>1</td>\n      <td>0</td>\n      <td>0</td>\n      <td>0</td>\n      <td>0</td>\n      <td>./data/posters/sport/bad_news_bears.jpg</td>\n    </tr>\n    <tr>\n      <th>4</th>\n      <td>The Texas Chain Saw Massacre</td>\n      <td>Five friends head out to rural Texas to visit ...</td>\n      <td>0</td>\n      <td>0</td>\n      <td>0</td>\n      <td>0</td>\n      <td>0</td>\n      <td>0</td>\n      <td>0</td>\n      <td>0</td>\n      <td>...</td>\n      <td>0</td>\n      <td>0</td>\n      <td>0</td>\n      <td>0</td>\n      <td>0</td>\n      <td>0</td>\n      <td>0</td>\n      <td>0</td>\n      <td>0</td>\n      <td>./data/posters/horror/the_texas_chain_saw_mass...</td>\n    </tr>\n  </tbody>\n</table>\n<p>5 rows × 27 columns</p>\n</div>"
     },
     "execution_count": 3,
     "metadata": {},
     "output_type": "execute_result"
    }
   ],
   "source": [
    "test_df = pd.read_csv(\"./data/preprocessed_test.csv\")\n",
    "test_df.head()"
   ],
   "metadata": {
    "collapsed": false
   }
  },
  {
   "cell_type": "markdown",
   "source": [
    "# Combine features df"
   ],
   "metadata": {
    "collapsed": false
   }
  },
  {
   "cell_type": "markdown",
   "source": [
    "Records in both datasets must be in the same order"
   ],
   "metadata": {
    "collapsed": false
   }
  },
  {
   "cell_type": "code",
   "execution_count": 4,
   "outputs": [
    {
     "data": {
      "text/plain": "   action  adventure  animation  biography  comedy  crime  documentary  drama  \\\n0       1          0          0          0       0      1            0      1   \n1       0          0          0          1       0      0            0      1   \n2       0          0          0          0       1      0            0      0   \n3       0          0          0          0       0      0            0      1   \n4       0          0          0          0       1      0            0      1   \n\n   family  fantasy  ...  description_musical  description_mystery  \\\n0       0        0  ...             0.000729             0.016814   \n1       0        0  ...             0.006129             0.000587   \n2       0        0  ...             0.001905             0.925831   \n3       0        0  ...             0.000644             0.020221   \n4       0        0  ...             0.001886             0.002582   \n\n   description_romance  description_sci_fi  description_short  \\\n0             0.000210            0.004747           0.346715   \n1             0.001922            0.003678           0.368192   \n2             0.000304            0.000407           0.350758   \n3             0.001567            0.834033           0.278637   \n4             0.577846            0.011673           0.225869   \n\n   description_sport  description_superhero  description_thriller  \\\n0           0.000524               0.000896              0.510935   \n1           0.995480               0.151028              0.803039   \n2           0.000607               0.002153              0.588855   \n3           0.000504               0.002298              0.895916   \n4           0.001270               0.001472              0.337887   \n\n   description_war  description_western  \n0         0.619829             0.060402  \n1         0.000593             0.058039  \n2         0.988317             0.001535  \n3         0.083377             0.591715  \n4         0.000121             0.520456  \n\n[5 rows x 73 columns]",
      "text/html": "<div>\n<style scoped>\n    .dataframe tbody tr th:only-of-type {\n        vertical-align: middle;\n    }\n\n    .dataframe tbody tr th {\n        vertical-align: top;\n    }\n\n    .dataframe thead th {\n        text-align: right;\n    }\n</style>\n<table border=\"1\" class=\"dataframe\">\n  <thead>\n    <tr style=\"text-align: right;\">\n      <th></th>\n      <th>action</th>\n      <th>adventure</th>\n      <th>animation</th>\n      <th>biography</th>\n      <th>comedy</th>\n      <th>crime</th>\n      <th>documentary</th>\n      <th>drama</th>\n      <th>family</th>\n      <th>fantasy</th>\n      <th>...</th>\n      <th>description_musical</th>\n      <th>description_mystery</th>\n      <th>description_romance</th>\n      <th>description_sci_fi</th>\n      <th>description_short</th>\n      <th>description_sport</th>\n      <th>description_superhero</th>\n      <th>description_thriller</th>\n      <th>description_war</th>\n      <th>description_western</th>\n    </tr>\n  </thead>\n  <tbody>\n    <tr>\n      <th>0</th>\n      <td>1</td>\n      <td>0</td>\n      <td>0</td>\n      <td>0</td>\n      <td>0</td>\n      <td>1</td>\n      <td>0</td>\n      <td>1</td>\n      <td>0</td>\n      <td>0</td>\n      <td>...</td>\n      <td>0.000729</td>\n      <td>0.016814</td>\n      <td>0.000210</td>\n      <td>0.004747</td>\n      <td>0.346715</td>\n      <td>0.000524</td>\n      <td>0.000896</td>\n      <td>0.510935</td>\n      <td>0.619829</td>\n      <td>0.060402</td>\n    </tr>\n    <tr>\n      <th>1</th>\n      <td>0</td>\n      <td>0</td>\n      <td>0</td>\n      <td>1</td>\n      <td>0</td>\n      <td>0</td>\n      <td>0</td>\n      <td>1</td>\n      <td>0</td>\n      <td>0</td>\n      <td>...</td>\n      <td>0.006129</td>\n      <td>0.000587</td>\n      <td>0.001922</td>\n      <td>0.003678</td>\n      <td>0.368192</td>\n      <td>0.995480</td>\n      <td>0.151028</td>\n      <td>0.803039</td>\n      <td>0.000593</td>\n      <td>0.058039</td>\n    </tr>\n    <tr>\n      <th>2</th>\n      <td>0</td>\n      <td>0</td>\n      <td>0</td>\n      <td>0</td>\n      <td>1</td>\n      <td>0</td>\n      <td>0</td>\n      <td>0</td>\n      <td>0</td>\n      <td>0</td>\n      <td>...</td>\n      <td>0.001905</td>\n      <td>0.925831</td>\n      <td>0.000304</td>\n      <td>0.000407</td>\n      <td>0.350758</td>\n      <td>0.000607</td>\n      <td>0.002153</td>\n      <td>0.588855</td>\n      <td>0.988317</td>\n      <td>0.001535</td>\n    </tr>\n    <tr>\n      <th>3</th>\n      <td>0</td>\n      <td>0</td>\n      <td>0</td>\n      <td>0</td>\n      <td>0</td>\n      <td>0</td>\n      <td>0</td>\n      <td>1</td>\n      <td>0</td>\n      <td>0</td>\n      <td>...</td>\n      <td>0.000644</td>\n      <td>0.020221</td>\n      <td>0.001567</td>\n      <td>0.834033</td>\n      <td>0.278637</td>\n      <td>0.000504</td>\n      <td>0.002298</td>\n      <td>0.895916</td>\n      <td>0.083377</td>\n      <td>0.591715</td>\n    </tr>\n    <tr>\n      <th>4</th>\n      <td>0</td>\n      <td>0</td>\n      <td>0</td>\n      <td>0</td>\n      <td>1</td>\n      <td>0</td>\n      <td>0</td>\n      <td>1</td>\n      <td>0</td>\n      <td>0</td>\n      <td>...</td>\n      <td>0.001886</td>\n      <td>0.002582</td>\n      <td>0.577846</td>\n      <td>0.011673</td>\n      <td>0.225869</td>\n      <td>0.001270</td>\n      <td>0.001472</td>\n      <td>0.337887</td>\n      <td>0.000121</td>\n      <td>0.520456</td>\n    </tr>\n  </tbody>\n</table>\n<p>5 rows × 73 columns</p>\n</div>"
     },
     "execution_count": 4,
     "metadata": {},
     "output_type": "execute_result"
    }
   ],
   "source": [
    "feature_df = pd.read_csv(\"./data/preprocessed_text_extracted.csv\")\n",
    "feature_df.head()"
   ],
   "metadata": {
    "collapsed": false
   }
  },
  {
   "cell_type": "code",
   "execution_count": 5,
   "outputs": [
    {
     "data": {
      "text/plain": "                        title  \\\n0                         '71   \n1                         '83   \n2                'Allo 'Allo!   \n3         10 Cloverfield Lane   \n4  10 Things I Hate About You   \n\n                                         description  action  adventure  \\\n0  In 1971, a young and disoriented British soldi...       1          0   \n1  On June 25, 1983, the Lord's Cricket Ground wi...       0          0   \n2  In France during World War II, René Artois run...       0          0   \n3  A young woman is held in an underground bunker...       0          0   \n4  A pretty, popular teenager can't go out on a d...       0          0   \n\n   animation  biography  comedy  crime  documentary  drama  ...  mystery  \\\n0          0          0       0      1            0      1  ...        0   \n1          0          1       0      0            0      1  ...        0   \n2          0          0       1      0            0      0  ...        0   \n3          0          0       0      0            0      1  ...        1   \n4          0          0       1      0            0      1  ...        0   \n\n   romance  sci_fi  short  sport  superhero  thriller  war  western  \\\n0        0       0      0      0          0         0    1        0   \n1        0       0      0      1          0         0    0        0   \n2        0       0      0      0          0         0    1        0   \n3        0       1      0      0          0         0    0        0   \n4        1       0      0      0          0         0    0        0   \n\n                                         poster_path  \n0                         ./data/posters/war/_71.jpg  \n1                       ./data/posters/sport/_83.jpg  \n2            ./data/posters/history/_allo__allo_.jpg  \n3      ./data/posters/sci_fi/10_cloverfield_lane.jpg  \n4  ./data/posters/comedy/10_things_i_hate_about_y...  \n\n[5 rows x 27 columns]",
      "text/html": "<div>\n<style scoped>\n    .dataframe tbody tr th:only-of-type {\n        vertical-align: middle;\n    }\n\n    .dataframe tbody tr th {\n        vertical-align: top;\n    }\n\n    .dataframe thead th {\n        text-align: right;\n    }\n</style>\n<table border=\"1\" class=\"dataframe\">\n  <thead>\n    <tr style=\"text-align: right;\">\n      <th></th>\n      <th>title</th>\n      <th>description</th>\n      <th>action</th>\n      <th>adventure</th>\n      <th>animation</th>\n      <th>biography</th>\n      <th>comedy</th>\n      <th>crime</th>\n      <th>documentary</th>\n      <th>drama</th>\n      <th>...</th>\n      <th>mystery</th>\n      <th>romance</th>\n      <th>sci_fi</th>\n      <th>short</th>\n      <th>sport</th>\n      <th>superhero</th>\n      <th>thriller</th>\n      <th>war</th>\n      <th>western</th>\n      <th>poster_path</th>\n    </tr>\n  </thead>\n  <tbody>\n    <tr>\n      <th>0</th>\n      <td>'71</td>\n      <td>In 1971, a young and disoriented British soldi...</td>\n      <td>1</td>\n      <td>0</td>\n      <td>0</td>\n      <td>0</td>\n      <td>0</td>\n      <td>1</td>\n      <td>0</td>\n      <td>1</td>\n      <td>...</td>\n      <td>0</td>\n      <td>0</td>\n      <td>0</td>\n      <td>0</td>\n      <td>0</td>\n      <td>0</td>\n      <td>0</td>\n      <td>1</td>\n      <td>0</td>\n      <td>./data/posters/war/_71.jpg</td>\n    </tr>\n    <tr>\n      <th>1</th>\n      <td>'83</td>\n      <td>On June 25, 1983, the Lord's Cricket Ground wi...</td>\n      <td>0</td>\n      <td>0</td>\n      <td>0</td>\n      <td>1</td>\n      <td>0</td>\n      <td>0</td>\n      <td>0</td>\n      <td>1</td>\n      <td>...</td>\n      <td>0</td>\n      <td>0</td>\n      <td>0</td>\n      <td>0</td>\n      <td>1</td>\n      <td>0</td>\n      <td>0</td>\n      <td>0</td>\n      <td>0</td>\n      <td>./data/posters/sport/_83.jpg</td>\n    </tr>\n    <tr>\n      <th>2</th>\n      <td>'Allo 'Allo!</td>\n      <td>In France during World War II, René Artois run...</td>\n      <td>0</td>\n      <td>0</td>\n      <td>0</td>\n      <td>0</td>\n      <td>1</td>\n      <td>0</td>\n      <td>0</td>\n      <td>0</td>\n      <td>...</td>\n      <td>0</td>\n      <td>0</td>\n      <td>0</td>\n      <td>0</td>\n      <td>0</td>\n      <td>0</td>\n      <td>0</td>\n      <td>1</td>\n      <td>0</td>\n      <td>./data/posters/history/_allo__allo_.jpg</td>\n    </tr>\n    <tr>\n      <th>3</th>\n      <td>10 Cloverfield Lane</td>\n      <td>A young woman is held in an underground bunker...</td>\n      <td>0</td>\n      <td>0</td>\n      <td>0</td>\n      <td>0</td>\n      <td>0</td>\n      <td>0</td>\n      <td>0</td>\n      <td>1</td>\n      <td>...</td>\n      <td>1</td>\n      <td>0</td>\n      <td>1</td>\n      <td>0</td>\n      <td>0</td>\n      <td>0</td>\n      <td>0</td>\n      <td>0</td>\n      <td>0</td>\n      <td>./data/posters/sci_fi/10_cloverfield_lane.jpg</td>\n    </tr>\n    <tr>\n      <th>4</th>\n      <td>10 Things I Hate About You</td>\n      <td>A pretty, popular teenager can't go out on a d...</td>\n      <td>0</td>\n      <td>0</td>\n      <td>0</td>\n      <td>0</td>\n      <td>1</td>\n      <td>0</td>\n      <td>0</td>\n      <td>1</td>\n      <td>...</td>\n      <td>0</td>\n      <td>1</td>\n      <td>0</td>\n      <td>0</td>\n      <td>0</td>\n      <td>0</td>\n      <td>0</td>\n      <td>0</td>\n      <td>0</td>\n      <td>./data/posters/comedy/10_things_i_hate_about_y...</td>\n    </tr>\n  </tbody>\n</table>\n<p>5 rows × 27 columns</p>\n</div>"
     },
     "execution_count": 5,
     "metadata": {},
     "output_type": "execute_result"
    }
   ],
   "source": [
    "preprocessed_df = pd.read_csv(\"./data/preprocessed.csv\")\n",
    "preprocessed_df.head()"
   ],
   "metadata": {
    "collapsed": false
   }
  },
  {
   "cell_type": "code",
   "execution_count": 6,
   "outputs": [],
   "source": [
    "feature_df[\"title\"] = preprocessed_df[\"title\"]\n",
    "feature_df[\"description\"] = preprocessed_df[\"description\"]"
   ],
   "metadata": {
    "collapsed": false
   }
  },
  {
   "cell_type": "code",
   "execution_count": 7,
   "outputs": [
    {
     "data": {
      "text/plain": "action                  False\nadventure               False\nanimation               False\nbiography               False\ncomedy                  False\n                        ...  \ndescription_thriller    False\ndescription_war         False\ndescription_western     False\ntitle                   False\ndescription             False\nLength: 75, dtype: bool"
     },
     "execution_count": 7,
     "metadata": {},
     "output_type": "execute_result"
    }
   ],
   "source": [
    "feature_df.isnull().any()"
   ],
   "metadata": {
    "collapsed": false
   }
  },
  {
   "cell_type": "markdown",
   "source": [
    "# Combine test_df and train_df"
   ],
   "metadata": {
    "collapsed": false
   }
  },
  {
   "cell_type": "code",
   "execution_count": 8,
   "outputs": [],
   "source": [
    "CATEGORIES = [\"action\", \"adventure\", \"animation\", \"biography\", \"comedy\", \"crime\", \"documentary\", \"drama\", \"family\",\n",
    "              \"fantasy\", \"film_noir\", \"history\", \"horror\", \"music\", \"musical\", \"mystery\", \"romance\", \"sci_fi\",\n",
    "              \"short\", \"sport\", \"superhero\", \"thriller\", \"war\", \"western\"]\n",
    "\n",
    "def join_df_with_features(main_df, features_df):\n",
    "    cols_to_use = features_df.columns.difference(CATEGORIES)\n",
    "\n",
    "    return main_df.merge(features_df[cols_to_use], on=[\"title\",\"description\"], how=\"left\")"
   ],
   "metadata": {
    "collapsed": false
   }
  },
  {
   "cell_type": "code",
   "execution_count": 9,
   "outputs": [
    {
     "data": {
      "text/plain": "title          3332\ndescription    3332\naction         3332\nadventure      3332\nanimation      3332\nbiography      3332\ncomedy         3332\ncrime          3332\ndocumentary    3332\ndrama          3332\nfamily         3332\nfantasy        3332\nfilm_noir      3332\nhistory        3332\nhorror         3332\nmusic          3332\nmusical        3332\nmystery        3332\nromance        3332\nsci_fi         3332\nshort          3332\nsport          3332\nsuperhero      3332\nthriller       3332\nwar            3332\nwestern        3332\nposter_path    3332\ndtype: int64"
     },
     "execution_count": 9,
     "metadata": {},
     "output_type": "execute_result"
    }
   ],
   "source": [
    "train_df.count()"
   ],
   "metadata": {
    "collapsed": false
   }
  },
  {
   "cell_type": "code",
   "execution_count": 10,
   "outputs": [
    {
     "data": {
      "text/plain": "title          object\ndescription    object\naction          int64\nadventure       int64\nanimation       int64\nbiography       int64\ncomedy          int64\ncrime           int64\ndocumentary     int64\ndrama           int64\nfamily          int64\nfantasy         int64\nfilm_noir       int64\nhistory         int64\nhorror          int64\nmusic           int64\nmusical         int64\nmystery         int64\nromance         int64\nsci_fi          int64\nshort           int64\nsport           int64\nsuperhero       int64\nthriller        int64\nwar             int64\nwestern         int64\nposter_path    object\ndtype: object"
     },
     "execution_count": 10,
     "metadata": {},
     "output_type": "execute_result"
    }
   ],
   "source": [
    "train_df.dtypes"
   ],
   "metadata": {
    "collapsed": false
   }
  },
  {
   "cell_type": "code",
   "execution_count": 11,
   "outputs": [
    {
     "data": {
      "text/plain": "action                    int64\nadventure                 int64\nanimation                 int64\nbiography                 int64\ncomedy                    int64\n                         ...   \ndescription_thriller    float64\ndescription_war         float64\ndescription_western     float64\ntitle                    object\ndescription              object\nLength: 75, dtype: object"
     },
     "execution_count": 11,
     "metadata": {},
     "output_type": "execute_result"
    }
   ],
   "source": [
    "feature_df.dtypes"
   ],
   "metadata": {
    "collapsed": false
   }
  },
  {
   "cell_type": "code",
   "execution_count": 12,
   "outputs": [
    {
     "name": "stdout",
     "output_type": "stream",
     "text": [
      "3332\n",
      "False\n"
     ]
    },
    {
     "data": {
      "text/plain": "                                         title  \\\n0                                  The Expanse   \n1  Night Stalker: The Hunt for a Serial Killer   \n2                    Hannah Montana: The Movie   \n3                                 London Kills   \n4                               Women's Prison   \n\n                                         description  action  adventure  \\\n0  In the 24th century, a group of humans untangl...       0          0   \n1  This limited docu-series tells the true story ...       0          0   \n2  As Hannah Montana's popularity begins to take ...       0          0   \n3  Drama series following the detectives of an el...       0          0   \n4  A sadistic prison warden takes out her sexual ...       0          0   \n\n   animation  biography  comedy  crime  documentary  drama  ...  \\\n0          0          0       0      0            0      1  ...   \n1          0          0       0      1            1      0  ...   \n2          0          0       1      0            0      1  ...   \n3          0          0       0      1            0      1  ...   \n4          0          0       0      1            0      1  ...   \n\n   label_mystery  label_romance  label_sci_fi  label_short  label_sport  \\\n0       0.454636       0.001686      0.992280     0.070866     0.005837   \n1       0.718541       0.000067      0.245553     0.173912     0.001890   \n2       0.000163       0.000503      0.000164     0.362667     0.000313   \n3       0.000426       0.000189      0.044832     0.395628     0.032333   \n4       0.003278       0.000061      0.003817     0.466918     0.000220   \n\n   label_superhero  label_thriller  label_war  label_western  \\\n0         0.024310        0.359774   0.008164       0.014369   \n1         0.000446        0.994745   0.000229       0.028700   \n2         0.000197        0.000299   0.000080       0.000274   \n3         0.002007        0.957332   0.835014       0.240445   \n4         0.000107        0.135566   0.000145       0.537468   \n\n                                       poster_path_y  \n0               ./data/posters/drama/the_expanse.jpg  \n1  ./data/posters/documentary/night_stalker__the_...  \n2  ./data/posters/music/hannah_montana__the_movie...  \n3              ./data/posters/crime/london_kills.jpg  \n4        ./data/posters/film_noir/women_s_prison.jpg  \n\n[5 rows x 76 columns]",
      "text/html": "<div>\n<style scoped>\n    .dataframe tbody tr th:only-of-type {\n        vertical-align: middle;\n    }\n\n    .dataframe tbody tr th {\n        vertical-align: top;\n    }\n\n    .dataframe thead th {\n        text-align: right;\n    }\n</style>\n<table border=\"1\" class=\"dataframe\">\n  <thead>\n    <tr style=\"text-align: right;\">\n      <th></th>\n      <th>title</th>\n      <th>description</th>\n      <th>action</th>\n      <th>adventure</th>\n      <th>animation</th>\n      <th>biography</th>\n      <th>comedy</th>\n      <th>crime</th>\n      <th>documentary</th>\n      <th>drama</th>\n      <th>...</th>\n      <th>label_mystery</th>\n      <th>label_romance</th>\n      <th>label_sci_fi</th>\n      <th>label_short</th>\n      <th>label_sport</th>\n      <th>label_superhero</th>\n      <th>label_thriller</th>\n      <th>label_war</th>\n      <th>label_western</th>\n      <th>poster_path_y</th>\n    </tr>\n  </thead>\n  <tbody>\n    <tr>\n      <th>0</th>\n      <td>The Expanse</td>\n      <td>In the 24th century, a group of humans untangl...</td>\n      <td>0</td>\n      <td>0</td>\n      <td>0</td>\n      <td>0</td>\n      <td>0</td>\n      <td>0</td>\n      <td>0</td>\n      <td>1</td>\n      <td>...</td>\n      <td>0.454636</td>\n      <td>0.001686</td>\n      <td>0.992280</td>\n      <td>0.070866</td>\n      <td>0.005837</td>\n      <td>0.024310</td>\n      <td>0.359774</td>\n      <td>0.008164</td>\n      <td>0.014369</td>\n      <td>./data/posters/drama/the_expanse.jpg</td>\n    </tr>\n    <tr>\n      <th>1</th>\n      <td>Night Stalker: The Hunt for a Serial Killer</td>\n      <td>This limited docu-series tells the true story ...</td>\n      <td>0</td>\n      <td>0</td>\n      <td>0</td>\n      <td>0</td>\n      <td>0</td>\n      <td>1</td>\n      <td>1</td>\n      <td>0</td>\n      <td>...</td>\n      <td>0.718541</td>\n      <td>0.000067</td>\n      <td>0.245553</td>\n      <td>0.173912</td>\n      <td>0.001890</td>\n      <td>0.000446</td>\n      <td>0.994745</td>\n      <td>0.000229</td>\n      <td>0.028700</td>\n      <td>./data/posters/documentary/night_stalker__the_...</td>\n    </tr>\n    <tr>\n      <th>2</th>\n      <td>Hannah Montana: The Movie</td>\n      <td>As Hannah Montana's popularity begins to take ...</td>\n      <td>0</td>\n      <td>0</td>\n      <td>0</td>\n      <td>0</td>\n      <td>1</td>\n      <td>0</td>\n      <td>0</td>\n      <td>1</td>\n      <td>...</td>\n      <td>0.000163</td>\n      <td>0.000503</td>\n      <td>0.000164</td>\n      <td>0.362667</td>\n      <td>0.000313</td>\n      <td>0.000197</td>\n      <td>0.000299</td>\n      <td>0.000080</td>\n      <td>0.000274</td>\n      <td>./data/posters/music/hannah_montana__the_movie...</td>\n    </tr>\n    <tr>\n      <th>3</th>\n      <td>London Kills</td>\n      <td>Drama series following the detectives of an el...</td>\n      <td>0</td>\n      <td>0</td>\n      <td>0</td>\n      <td>0</td>\n      <td>0</td>\n      <td>1</td>\n      <td>0</td>\n      <td>1</td>\n      <td>...</td>\n      <td>0.000426</td>\n      <td>0.000189</td>\n      <td>0.044832</td>\n      <td>0.395628</td>\n      <td>0.032333</td>\n      <td>0.002007</td>\n      <td>0.957332</td>\n      <td>0.835014</td>\n      <td>0.240445</td>\n      <td>./data/posters/crime/london_kills.jpg</td>\n    </tr>\n    <tr>\n      <th>4</th>\n      <td>Women's Prison</td>\n      <td>A sadistic prison warden takes out her sexual ...</td>\n      <td>0</td>\n      <td>0</td>\n      <td>0</td>\n      <td>0</td>\n      <td>0</td>\n      <td>1</td>\n      <td>0</td>\n      <td>1</td>\n      <td>...</td>\n      <td>0.003278</td>\n      <td>0.000061</td>\n      <td>0.003817</td>\n      <td>0.466918</td>\n      <td>0.000220</td>\n      <td>0.000107</td>\n      <td>0.135566</td>\n      <td>0.000145</td>\n      <td>0.537468</td>\n      <td>./data/posters/film_noir/women_s_prison.jpg</td>\n    </tr>\n  </tbody>\n</table>\n<p>5 rows × 76 columns</p>\n</div>"
     },
     "execution_count": 12,
     "metadata": {},
     "output_type": "execute_result"
    }
   ],
   "source": [
    "train_df = join_df_with_features(train_df, feature_df)\n",
    "print(len(train_df))\n",
    "print(train_df.isnull().any().any())\n",
    "train_df.head()"
   ],
   "metadata": {
    "collapsed": false
   }
  },
  {
   "cell_type": "code",
   "execution_count": 13,
   "outputs": [
    {
     "name": "stdout",
     "output_type": "stream",
     "text": [
      "834\n",
      "True\n"
     ]
    },
    {
     "data": {
      "text/plain": "                          title  \\\n0              Marie Antoinette   \n1             An American Crime   \n2                    Crime Wave   \n3                Bad News Bears   \n4  The Texas Chain Saw Massacre   \n\n                                         description  action  adventure  \\\n0  The retelling of France's iconic but ill-fated...       0          0   \n1  The true story of suburban housewife Gertrude ...       0          0   \n2  Reformed parolee Steve Lacey is caught in the ...       0          0   \n3  A grizzled little league coach tries to turn h...       0          0   \n4  Five friends head out to rural Texas to visit ...       0          0   \n\n   animation  biography  comedy  crime  documentary  drama  ...  \\\n0          0          1       0      0            0      1  ...   \n1          0          1       0      1            0      1  ...   \n2          0          0       0      1            0      1  ...   \n3          0          0       1      0            0      0  ...   \n4          0          0       0      0            0      0  ...   \n\n   label_mystery  label_romance  label_sci_fi  label_short  label_sport  \\\n0       0.001912       0.004439      0.000149     0.380833     0.000451   \n1       0.005091       0.000070      0.000220     0.234580     0.000143   \n2       0.000369       0.000058      0.001862     0.185317     0.000108   \n3       0.000260       0.000059      0.004160     0.368054     0.031000   \n4       0.000133       0.000066      0.001017     0.128972     0.070404   \n\n   label_superhero  label_thriller  label_war  label_western  \\\n0         0.000081        0.063823   0.000923       0.000560   \n1         0.000081        0.040764   0.009551       0.066513   \n2         0.000437        0.063112   0.001195       0.320638   \n3         0.000102        0.004676   0.035084       0.394523   \n4         0.000085        0.735335   0.201196       0.987588   \n\n                                       poster_path_y  \n0      ./data/posters/biography/marie_antoinette.jpg  \n1     ./data/posters/biography/an_american_crime.jpg  \n2            ./data/posters/film_noir/crime_wave.jpg  \n3            ./data/posters/sport/bad_news_bears.jpg  \n4  ./data/posters/horror/the_texas_chain_saw_mass...  \n\n[5 rows x 76 columns]",
      "text/html": "<div>\n<style scoped>\n    .dataframe tbody tr th:only-of-type {\n        vertical-align: middle;\n    }\n\n    .dataframe tbody tr th {\n        vertical-align: top;\n    }\n\n    .dataframe thead th {\n        text-align: right;\n    }\n</style>\n<table border=\"1\" class=\"dataframe\">\n  <thead>\n    <tr style=\"text-align: right;\">\n      <th></th>\n      <th>title</th>\n      <th>description</th>\n      <th>action</th>\n      <th>adventure</th>\n      <th>animation</th>\n      <th>biography</th>\n      <th>comedy</th>\n      <th>crime</th>\n      <th>documentary</th>\n      <th>drama</th>\n      <th>...</th>\n      <th>label_mystery</th>\n      <th>label_romance</th>\n      <th>label_sci_fi</th>\n      <th>label_short</th>\n      <th>label_sport</th>\n      <th>label_superhero</th>\n      <th>label_thriller</th>\n      <th>label_war</th>\n      <th>label_western</th>\n      <th>poster_path_y</th>\n    </tr>\n  </thead>\n  <tbody>\n    <tr>\n      <th>0</th>\n      <td>Marie Antoinette</td>\n      <td>The retelling of France's iconic but ill-fated...</td>\n      <td>0</td>\n      <td>0</td>\n      <td>0</td>\n      <td>1</td>\n      <td>0</td>\n      <td>0</td>\n      <td>0</td>\n      <td>1</td>\n      <td>...</td>\n      <td>0.001912</td>\n      <td>0.004439</td>\n      <td>0.000149</td>\n      <td>0.380833</td>\n      <td>0.000451</td>\n      <td>0.000081</td>\n      <td>0.063823</td>\n      <td>0.000923</td>\n      <td>0.000560</td>\n      <td>./data/posters/biography/marie_antoinette.jpg</td>\n    </tr>\n    <tr>\n      <th>1</th>\n      <td>An American Crime</td>\n      <td>The true story of suburban housewife Gertrude ...</td>\n      <td>0</td>\n      <td>0</td>\n      <td>0</td>\n      <td>1</td>\n      <td>0</td>\n      <td>1</td>\n      <td>0</td>\n      <td>1</td>\n      <td>...</td>\n      <td>0.005091</td>\n      <td>0.000070</td>\n      <td>0.000220</td>\n      <td>0.234580</td>\n      <td>0.000143</td>\n      <td>0.000081</td>\n      <td>0.040764</td>\n      <td>0.009551</td>\n      <td>0.066513</td>\n      <td>./data/posters/biography/an_american_crime.jpg</td>\n    </tr>\n    <tr>\n      <th>2</th>\n      <td>Crime Wave</td>\n      <td>Reformed parolee Steve Lacey is caught in the ...</td>\n      <td>0</td>\n      <td>0</td>\n      <td>0</td>\n      <td>0</td>\n      <td>0</td>\n      <td>1</td>\n      <td>0</td>\n      <td>1</td>\n      <td>...</td>\n      <td>0.000369</td>\n      <td>0.000058</td>\n      <td>0.001862</td>\n      <td>0.185317</td>\n      <td>0.000108</td>\n      <td>0.000437</td>\n      <td>0.063112</td>\n      <td>0.001195</td>\n      <td>0.320638</td>\n      <td>./data/posters/film_noir/crime_wave.jpg</td>\n    </tr>\n    <tr>\n      <th>3</th>\n      <td>Bad News Bears</td>\n      <td>A grizzled little league coach tries to turn h...</td>\n      <td>0</td>\n      <td>0</td>\n      <td>0</td>\n      <td>0</td>\n      <td>1</td>\n      <td>0</td>\n      <td>0</td>\n      <td>0</td>\n      <td>...</td>\n      <td>0.000260</td>\n      <td>0.000059</td>\n      <td>0.004160</td>\n      <td>0.368054</td>\n      <td>0.031000</td>\n      <td>0.000102</td>\n      <td>0.004676</td>\n      <td>0.035084</td>\n      <td>0.394523</td>\n      <td>./data/posters/sport/bad_news_bears.jpg</td>\n    </tr>\n    <tr>\n      <th>4</th>\n      <td>The Texas Chain Saw Massacre</td>\n      <td>Five friends head out to rural Texas to visit ...</td>\n      <td>0</td>\n      <td>0</td>\n      <td>0</td>\n      <td>0</td>\n      <td>0</td>\n      <td>0</td>\n      <td>0</td>\n      <td>0</td>\n      <td>...</td>\n      <td>0.000133</td>\n      <td>0.000066</td>\n      <td>0.001017</td>\n      <td>0.128972</td>\n      <td>0.070404</td>\n      <td>0.000085</td>\n      <td>0.735335</td>\n      <td>0.201196</td>\n      <td>0.987588</td>\n      <td>./data/posters/horror/the_texas_chain_saw_mass...</td>\n    </tr>\n  </tbody>\n</table>\n<p>5 rows × 76 columns</p>\n</div>"
     },
     "execution_count": 13,
     "metadata": {},
     "output_type": "execute_result"
    }
   ],
   "source": [
    "test_df = join_df_with_features(test_df, feature_df)\n",
    "print(len(test_df))\n",
    "print(test_df.isnull().any().any())\n",
    "test_df.head()"
   ],
   "metadata": {
    "collapsed": false
   }
  },
  {
   "cell_type": "code",
   "execution_count": 14,
   "outputs": [
    {
     "data": {
      "text/plain": "title              0\ndescription        0\naction             0\nadventure          0\nanimation          0\n                  ..\nlabel_superhero    1\nlabel_thriller     1\nlabel_war          1\nlabel_western      1\nposter_path_y      1\nLength: 76, dtype: int64"
     },
     "execution_count": 14,
     "metadata": {},
     "output_type": "execute_result"
    }
   ],
   "source": [
    "test_df.isnull().sum()"
   ],
   "metadata": {
    "collapsed": false
   }
  },
  {
   "cell_type": "code",
   "execution_count": 15,
   "outputs": [],
   "source": [
    "test_df = test_df.dropna()"
   ],
   "metadata": {
    "collapsed": false
   }
  },
  {
   "cell_type": "markdown",
   "source": [
    "# Show barchart categories"
   ],
   "metadata": {
    "collapsed": false
   }
  },
  {
   "cell_type": "code",
   "execution_count": 16,
   "outputs": [],
   "source": [
    "cunt_classes = feature_df[CATEGORIES].sum()"
   ],
   "metadata": {
    "collapsed": false
   }
  },
  {
   "cell_type": "code",
   "execution_count": 17,
   "outputs": [
    {
     "data": {
      "text/plain": "<AxesSubplot: >"
     },
     "execution_count": 17,
     "metadata": {},
     "output_type": "execute_result"
    },
    {
     "data": {
      "text/plain": "<Figure size 1000x1000 with 1 Axes>",
      "image/png": "[encoded data removed]"
     },
     "metadata": {},
     "output_type": "display_data"
    }
   ],
   "source": [
    "cunt_classes.plot.bar(figsize=(10,10))"
   ],
   "metadata": {
    "collapsed": false
   }
  },
  {
   "cell_type": "markdown",
   "source": [
    "# Now we have clean test_df and train_df"
   ],
   "metadata": {
    "collapsed": false
   }
  },
  {
   "cell_type": "code",
   "execution_count": 18,
   "outputs": [],
   "source": [
    "LABEL_FEATURES = [f\"label_{elem}\" for elem in CATEGORIES]\n",
    "DESCRIPTION_FEATURES = [f\"description_{elem}\" for elem in CATEGORIES]\n",
    "\n",
    "train_x = train_df[LABEL_FEATURES + DESCRIPTION_FEATURES]\n",
    "train_y = train_df[CATEGORIES]\n",
    "\n",
    "test_x = test_df[LABEL_FEATURES + DESCRIPTION_FEATURES]\n",
    "test_y = test_df[CATEGORIES]"
   ],
   "metadata": {
    "collapsed": false
   }
  },
  {
   "cell_type": "code",
   "execution_count": 19,
   "outputs": [
    {
     "data": {
      "text/plain": "   label_action  label_adventure  label_animation  label_biography  \\\n0      0.511891         0.981408         0.032416         0.000969   \n1      0.697175         0.009638         0.005448         0.001408   \n2      0.702380         0.749389         0.994899         0.000796   \n3      0.953714         0.006597         0.026449         0.030994   \n4      0.733417         0.005805         0.022389         0.003179   \n\n   label_comedy  label_crime  label_documentary  label_drama  label_family  \\\n0      0.011346     0.008455           0.060555     0.346816      0.002794   \n1      0.000176     0.988274           0.985005     0.937122      0.001242   \n2      0.877986     0.000157           0.768765     0.083131      0.023967   \n3      0.022163     0.981164           0.195441     0.916526      0.121850   \n4      0.020399     0.879740           0.074105     0.548306      0.000191   \n\n   label_fantasy  ...  description_musical  description_mystery  \\\n0       0.132605  ...             0.000740             0.317154   \n1       0.003418  ...             0.000268             0.003073   \n2       0.056424  ...             0.851159             0.003346   \n3       0.002362  ...             0.000193             0.040487   \n4       0.001778  ...             0.000167             0.000405   \n\n   description_romance  description_sci_fi  description_short  \\\n0             0.000449            0.856629           0.196089   \n1             0.000352            0.001970           0.998835   \n2             0.002251            0.001172           0.295312   \n3             0.000206            0.000485           0.133705   \n4             0.000088            0.003043           0.029012   \n\n   description_sport  description_superhero  description_thriller  \\\n0           0.000729               0.011351              0.741262   \n1           0.003108               0.001835              0.022596   \n2           0.000739               0.010129              0.028097   \n3           0.000194               0.000660              0.898588   \n4           0.001647               0.001562              0.160694   \n\n   description_war  description_western  \n0         0.017145             0.276600  \n1         0.000994             0.143081  \n2         0.000872             0.138391  \n3         0.000246             0.041857  \n4         0.002392             0.013110  \n\n[5 rows x 48 columns]",
      "text/html": "<div>\n<style scoped>\n    .dataframe tbody tr th:only-of-type {\n        vertical-align: middle;\n    }\n\n    .dataframe tbody tr th {\n        vertical-align: top;\n    }\n\n    .dataframe thead th {\n        text-align: right;\n    }\n</style>\n<table border=\"1\" class=\"dataframe\">\n  <thead>\n    <tr style=\"text-align: right;\">\n      <th></th>\n      <th>label_action</th>\n      <th>label_adventure</th>\n      <th>label_animation</th>\n      <th>label_biography</th>\n      <th>label_comedy</th>\n      <th>label_crime</th>\n      <th>label_documentary</th>\n      <th>label_drama</th>\n      <th>label_family</th>\n      <th>label_fantasy</th>\n      <th>...</th>\n      <th>description_musical</th>\n      <th>description_mystery</th>\n      <th>description_romance</th>\n      <th>description_sci_fi</th>\n      <th>description_short</th>\n      <th>description_sport</th>\n      <th>description_superhero</th>\n      <th>description_thriller</th>\n      <th>description_war</th>\n      <th>description_western</th>\n    </tr>\n  </thead>\n  <tbody>\n    <tr>\n      <th>0</th>\n      <td>0.511891</td>\n      <td>0.981408</td>\n      <td>0.032416</td>\n      <td>0.000969</td>\n      <td>0.011346</td>\n      <td>0.008455</td>\n      <td>0.060555</td>\n      <td>0.346816</td>\n      <td>0.002794</td>\n      <td>0.132605</td>\n      <td>...</td>\n      <td>0.000740</td>\n      <td>0.317154</td>\n      <td>0.000449</td>\n      <td>0.856629</td>\n      <td>0.196089</td>\n      <td>0.000729</td>\n      <td>0.011351</td>\n      <td>0.741262</td>\n      <td>0.017145</td>\n      <td>0.276600</td>\n    </tr>\n    <tr>\n      <th>1</th>\n      <td>0.697175</td>\n      <td>0.009638</td>\n      <td>0.005448</td>\n      <td>0.001408</td>\n      <td>0.000176</td>\n      <td>0.988274</td>\n      <td>0.985005</td>\n      <td>0.937122</td>\n      <td>0.001242</td>\n      <td>0.003418</td>\n      <td>...</td>\n      <td>0.000268</td>\n      <td>0.003073</td>\n      <td>0.000352</td>\n      <td>0.001970</td>\n      <td>0.998835</td>\n      <td>0.003108</td>\n      <td>0.001835</td>\n      <td>0.022596</td>\n      <td>0.000994</td>\n      <td>0.143081</td>\n    </tr>\n    <tr>\n      <th>2</th>\n      <td>0.702380</td>\n      <td>0.749389</td>\n      <td>0.994899</td>\n      <td>0.000796</td>\n      <td>0.877986</td>\n      <td>0.000157</td>\n      <td>0.768765</td>\n      <td>0.083131</td>\n      <td>0.023967</td>\n      <td>0.056424</td>\n      <td>...</td>\n      <td>0.851159</td>\n      <td>0.003346</td>\n      <td>0.002251</td>\n      <td>0.001172</td>\n      <td>0.295312</td>\n      <td>0.000739</td>\n      <td>0.010129</td>\n      <td>0.028097</td>\n      <td>0.000872</td>\n      <td>0.138391</td>\n    </tr>\n    <tr>\n      <th>3</th>\n      <td>0.953714</td>\n      <td>0.006597</td>\n      <td>0.026449</td>\n      <td>0.030994</td>\n      <td>0.022163</td>\n      <td>0.981164</td>\n      <td>0.195441</td>\n      <td>0.916526</td>\n      <td>0.121850</td>\n      <td>0.002362</td>\n      <td>...</td>\n      <td>0.000193</td>\n      <td>0.040487</td>\n      <td>0.000206</td>\n      <td>0.000485</td>\n      <td>0.133705</td>\n      <td>0.000194</td>\n      <td>0.000660</td>\n      <td>0.898588</td>\n      <td>0.000246</td>\n      <td>0.041857</td>\n    </tr>\n    <tr>\n      <th>4</th>\n      <td>0.733417</td>\n      <td>0.005805</td>\n      <td>0.022389</td>\n      <td>0.003179</td>\n      <td>0.020399</td>\n      <td>0.879740</td>\n      <td>0.074105</td>\n      <td>0.548306</td>\n      <td>0.000191</td>\n      <td>0.001778</td>\n      <td>...</td>\n      <td>0.000167</td>\n      <td>0.000405</td>\n      <td>0.000088</td>\n      <td>0.003043</td>\n      <td>0.029012</td>\n      <td>0.001647</td>\n      <td>0.001562</td>\n      <td>0.160694</td>\n      <td>0.002392</td>\n      <td>0.013110</td>\n    </tr>\n  </tbody>\n</table>\n<p>5 rows × 48 columns</p>\n</div>"
     },
     "execution_count": 19,
     "metadata": {},
     "output_type": "execute_result"
    }
   ],
   "source": [
    "train_x.head()"
   ],
   "metadata": {
    "collapsed": false
   }
  },
  {
   "cell_type": "code",
   "execution_count": 20,
   "outputs": [
    {
     "data": {
      "text/plain": "   action  adventure  animation  biography  comedy  crime  documentary  drama  \\\n0       0          0          0          0       0      0            0      1   \n1       0          0          0          0       0      1            1      0   \n2       0          0          0          0       1      0            0      1   \n3       0          0          0          0       0      1            0      1   \n4       0          0          0          0       0      1            0      1   \n\n   family  fantasy  ...  musical  mystery  romance  sci_fi  short  sport  \\\n0       0        0  ...        0        1        0       1      0      0   \n1       0        0  ...        0        1        0       0      0      0   \n2       1        0  ...        0        0        0       0      0      0   \n3       0        0  ...        0        1        0       0      0      0   \n4       0        0  ...        0        0        0       0      0      0   \n\n   superhero  thriller  war  western  \n0          0         0    0        0  \n1          0         0    0        0  \n2          0         0    0        0  \n3          0         0    0        0  \n4          0         0    0        0  \n\n[5 rows x 24 columns]",
      "text/html": "<div>\n<style scoped>\n    .dataframe tbody tr th:only-of-type {\n        vertical-align: middle;\n    }\n\n    .dataframe tbody tr th {\n        vertical-align: top;\n    }\n\n    .dataframe thead th {\n        text-align: right;\n    }\n</style>\n<table border=\"1\" class=\"dataframe\">\n  <thead>\n    <tr style=\"text-align: right;\">\n      <th></th>\n      <th>action</th>\n      <th>adventure</th>\n      <th>animation</th>\n      <th>biography</th>\n      <th>comedy</th>\n      <th>crime</th>\n      <th>documentary</th>\n      <th>drama</th>\n      <th>family</th>\n      <th>fantasy</th>\n      <th>...</th>\n      <th>musical</th>\n      <th>mystery</th>\n      <th>romance</th>\n      <th>sci_fi</th>\n      <th>short</th>\n      <th>sport</th>\n      <th>superhero</th>\n      <th>thriller</th>\n      <th>war</th>\n      <th>western</th>\n    </tr>\n  </thead>\n  <tbody>\n    <tr>\n      <th>0</th>\n      <td>0</td>\n      <td>0</td>\n      <td>0</td>\n      <td>0</td>\n      <td>0</td>\n      <td>0</td>\n      <td>0</td>\n      <td>1</td>\n      <td>0</td>\n      <td>0</td>\n      <td>...</td>\n      <td>0</td>\n      <td>1</td>\n      <td>0</td>\n      <td>1</td>\n      <td>0</td>\n      <td>0</td>\n      <td>0</td>\n      <td>0</td>\n      <td>0</td>\n      <td>0</td>\n    </tr>\n    <tr>\n      <th>1</th>\n      <td>0</td>\n      <td>0</td>\n      <td>0</td>\n      <td>0</td>\n      <td>0</td>\n      <td>1</td>\n      <td>1</td>\n      <td>0</td>\n      <td>0</td>\n      <td>0</td>\n      <td>...</td>\n      <td>0</td>\n      <td>1</td>\n      <td>0</td>\n      <td>0</td>\n      <td>0</td>\n      <td>0</td>\n      <td>0</td>\n      <td>0</td>\n      <td>0</td>\n      <td>0</td>\n    </tr>\n    <tr>\n      <th>2</th>\n      <td>0</td>\n      <td>0</td>\n      <td>0</td>\n      <td>0</td>\n      <td>1</td>\n      <td>0</td>\n      <td>0</td>\n      <td>1</td>\n      <td>1</td>\n      <td>0</td>\n      <td>...</td>\n      <td>0</td>\n      <td>0</td>\n      <td>0</td>\n      <td>0</td>\n      <td>0</td>\n      <td>0</td>\n      <td>0</td>\n      <td>0</td>\n      <td>0</td>\n      <td>0</td>\n    </tr>\n    <tr>\n      <th>3</th>\n      <td>0</td>\n      <td>0</td>\n      <td>0</td>\n      <td>0</td>\n      <td>0</td>\n      <td>1</td>\n      <td>0</td>\n      <td>1</td>\n      <td>0</td>\n      <td>0</td>\n      <td>...</td>\n      <td>0</td>\n      <td>1</td>\n      <td>0</td>\n      <td>0</td>\n      <td>0</td>\n      <td>0</td>\n      <td>0</td>\n      <td>0</td>\n      <td>0</td>\n      <td>0</td>\n    </tr>\n    <tr>\n      <th>4</th>\n      <td>0</td>\n      <td>0</td>\n      <td>0</td>\n      <td>0</td>\n      <td>0</td>\n      <td>1</td>\n      <td>0</td>\n      <td>1</td>\n      <td>0</td>\n      <td>0</td>\n      <td>...</td>\n      <td>0</td>\n      <td>0</td>\n      <td>0</td>\n      <td>0</td>\n      <td>0</td>\n      <td>0</td>\n      <td>0</td>\n      <td>0</td>\n      <td>0</td>\n      <td>0</td>\n    </tr>\n  </tbody>\n</table>\n<p>5 rows × 24 columns</p>\n</div>"
     },
     "execution_count": 20,
     "metadata": {},
     "output_type": "execute_result"
    }
   ],
   "source": [
    "train_y.head()"
   ],
   "metadata": {
    "collapsed": false
   }
  },
  {
   "cell_type": "code",
   "execution_count": 21,
   "outputs": [
    {
     "data": {
      "text/plain": "   label_action  label_adventure  label_animation  label_biography  \\\n0      0.687798         0.026415         0.027435         0.943681   \n1      0.087994         0.000294         0.000209         0.000275   \n2      0.411938         0.000382         0.009991         0.000621   \n3      0.297028         0.000298         0.039989         0.035719   \n4      0.924996         0.001259         0.001565         0.001075   \n\n   label_comedy  label_crime  label_documentary  label_drama  label_family  \\\n0      0.010625     0.400680           0.115591     0.857297      0.067509   \n1      0.000095     0.997961           0.026638     0.486672      0.000539   \n2      0.000067     0.990122           0.007970     0.127605      0.001307   \n3      0.001668     0.429163           0.083298     0.674033      0.468613   \n4      0.000108     0.995538           0.100940     0.403728      0.000986   \n\n   label_fantasy  ...  description_musical  description_mystery  \\\n0       0.004349  ...             0.012018             0.005152   \n1       0.000104  ...             0.000229             0.004134   \n2       0.000428  ...             0.003172             0.005679   \n3       0.000166  ...             0.000885             0.000376   \n4       0.000196  ...             0.002261             0.796814   \n\n   description_romance  description_sci_fi  description_short  \\\n0             0.005256            0.000818           0.238532   \n1             0.000143            0.000225           0.294827   \n2             0.002416            0.009350           0.263471   \n3             0.000133            0.001561           0.208180   \n4             0.001037            0.365445           0.361597   \n\n   description_sport  description_superhero  description_thriller  \\\n0           0.000308               0.011111              0.866153   \n1           0.000308               0.000200              0.740809   \n2           0.027278               0.109883              0.885601   \n3           0.991006               0.047525              0.766784   \n4           0.036113               0.006582              0.940203   \n\n   description_war  description_western  \n0         0.001273             0.278460  \n1         0.000121             0.006650  \n2         0.165048             0.285093  \n3         0.000065             0.258282  \n4         0.008029             0.721087  \n\n[5 rows x 48 columns]",
      "text/html": "<div>\n<style scoped>\n    .dataframe tbody tr th:only-of-type {\n        vertical-align: middle;\n    }\n\n    .dataframe tbody tr th {\n        vertical-align: top;\n    }\n\n    .dataframe thead th {\n        text-align: right;\n    }\n</style>\n<table border=\"1\" class=\"dataframe\">\n  <thead>\n    <tr style=\"text-align: right;\">\n      <th></th>\n      <th>label_action</th>\n      <th>label_adventure</th>\n      <th>label_animation</th>\n      <th>label_biography</th>\n      <th>label_comedy</th>\n      <th>label_crime</th>\n      <th>label_documentary</th>\n      <th>label_drama</th>\n      <th>label_family</th>\n      <th>label_fantasy</th>\n      <th>...</th>\n      <th>description_musical</th>\n      <th>description_mystery</th>\n      <th>description_romance</th>\n      <th>description_sci_fi</th>\n      <th>description_short</th>\n      <th>description_sport</th>\n      <th>description_superhero</th>\n      <th>description_thriller</th>\n      <th>description_war</th>\n      <th>description_western</th>\n    </tr>\n  </thead>\n  <tbody>\n    <tr>\n      <th>0</th>\n      <td>0.687798</td>\n      <td>0.026415</td>\n      <td>0.027435</td>\n      <td>0.943681</td>\n      <td>0.010625</td>\n      <td>0.400680</td>\n      <td>0.115591</td>\n      <td>0.857297</td>\n      <td>0.067509</td>\n      <td>0.004349</td>\n      <td>...</td>\n      <td>0.012018</td>\n      <td>0.005152</td>\n      <td>0.005256</td>\n      <td>0.000818</td>\n      <td>0.238532</td>\n      <td>0.000308</td>\n      <td>0.011111</td>\n      <td>0.866153</td>\n      <td>0.001273</td>\n      <td>0.278460</td>\n    </tr>\n    <tr>\n      <th>1</th>\n      <td>0.087994</td>\n      <td>0.000294</td>\n      <td>0.000209</td>\n      <td>0.000275</td>\n      <td>0.000095</td>\n      <td>0.997961</td>\n      <td>0.026638</td>\n      <td>0.486672</td>\n      <td>0.000539</td>\n      <td>0.000104</td>\n      <td>...</td>\n      <td>0.000229</td>\n      <td>0.004134</td>\n      <td>0.000143</td>\n      <td>0.000225</td>\n      <td>0.294827</td>\n      <td>0.000308</td>\n      <td>0.000200</td>\n      <td>0.740809</td>\n      <td>0.000121</td>\n      <td>0.006650</td>\n    </tr>\n    <tr>\n      <th>2</th>\n      <td>0.411938</td>\n      <td>0.000382</td>\n      <td>0.009991</td>\n      <td>0.000621</td>\n      <td>0.000067</td>\n      <td>0.990122</td>\n      <td>0.007970</td>\n      <td>0.127605</td>\n      <td>0.001307</td>\n      <td>0.000428</td>\n      <td>...</td>\n      <td>0.003172</td>\n      <td>0.005679</td>\n      <td>0.002416</td>\n      <td>0.009350</td>\n      <td>0.263471</td>\n      <td>0.027278</td>\n      <td>0.109883</td>\n      <td>0.885601</td>\n      <td>0.165048</td>\n      <td>0.285093</td>\n    </tr>\n    <tr>\n      <th>3</th>\n      <td>0.297028</td>\n      <td>0.000298</td>\n      <td>0.039989</td>\n      <td>0.035719</td>\n      <td>0.001668</td>\n      <td>0.429163</td>\n      <td>0.083298</td>\n      <td>0.674033</td>\n      <td>0.468613</td>\n      <td>0.000166</td>\n      <td>...</td>\n      <td>0.000885</td>\n      <td>0.000376</td>\n      <td>0.000133</td>\n      <td>0.001561</td>\n      <td>0.208180</td>\n      <td>0.991006</td>\n      <td>0.047525</td>\n      <td>0.766784</td>\n      <td>0.000065</td>\n      <td>0.258282</td>\n    </tr>\n    <tr>\n      <th>4</th>\n      <td>0.924996</td>\n      <td>0.001259</td>\n      <td>0.001565</td>\n      <td>0.001075</td>\n      <td>0.000108</td>\n      <td>0.995538</td>\n      <td>0.100940</td>\n      <td>0.403728</td>\n      <td>0.000986</td>\n      <td>0.000196</td>\n      <td>...</td>\n      <td>0.002261</td>\n      <td>0.796814</td>\n      <td>0.001037</td>\n      <td>0.365445</td>\n      <td>0.361597</td>\n      <td>0.036113</td>\n      <td>0.006582</td>\n      <td>0.940203</td>\n      <td>0.008029</td>\n      <td>0.721087</td>\n    </tr>\n  </tbody>\n</table>\n<p>5 rows × 48 columns</p>\n</div>"
     },
     "execution_count": 21,
     "metadata": {},
     "output_type": "execute_result"
    }
   ],
   "source": [
    "test_x.head()"
   ],
   "metadata": {
    "collapsed": false
   }
  },
  {
   "cell_type": "code",
   "execution_count": 22,
   "outputs": [
    {
     "data": {
      "text/plain": "   action  adventure  animation  biography  comedy  crime  documentary  drama  \\\n0       0          0          0          1       0      0            0      1   \n1       0          0          0          1       0      1            0      1   \n2       0          0          0          0       0      1            0      1   \n3       0          0          0          0       1      0            0      0   \n4       0          0          0          0       0      0            0      0   \n\n   family  fantasy  ...  musical  mystery  romance  sci_fi  short  sport  \\\n0       0        0  ...        0        0        0       0      0      0   \n1       0        0  ...        0        0        0       0      0      0   \n2       0        0  ...        0        0        0       0      0      0   \n3       0        0  ...        0        0        0       0      0      1   \n4       0        0  ...        0        0        0       0      0      0   \n\n   superhero  thriller  war  western  \n0          0         0    0        0  \n1          0         0    0        0  \n2          0         0    0        0  \n3          0         0    0        0  \n4          0         0    0        0  \n\n[5 rows x 24 columns]",
      "text/html": "<div>\n<style scoped>\n    .dataframe tbody tr th:only-of-type {\n        vertical-align: middle;\n    }\n\n    .dataframe tbody tr th {\n        vertical-align: top;\n    }\n\n    .dataframe thead th {\n        text-align: right;\n    }\n</style>\n<table border=\"1\" class=\"dataframe\">\n  <thead>\n    <tr style=\"text-align: right;\">\n      <th></th>\n      <th>action</th>\n      <th>adventure</th>\n      <th>animation</th>\n      <th>biography</th>\n      <th>comedy</th>\n      <th>crime</th>\n      <th>documentary</th>\n      <th>drama</th>\n      <th>family</th>\n      <th>fantasy</th>\n      <th>...</th>\n      <th>musical</th>\n      <th>mystery</th>\n      <th>romance</th>\n      <th>sci_fi</th>\n      <th>short</th>\n      <th>sport</th>\n      <th>superhero</th>\n      <th>thriller</th>\n      <th>war</th>\n      <th>western</th>\n    </tr>\n  </thead>\n  <tbody>\n    <tr>\n      <th>0</th>\n      <td>0</td>\n      <td>0</td>\n      <td>0</td>\n      <td>1</td>\n      <td>0</td>\n      <td>0</td>\n      <td>0</td>\n      <td>1</td>\n      <td>0</td>\n      <td>0</td>\n      <td>...</td>\n      <td>0</td>\n      <td>0</td>\n      <td>0</td>\n      <td>0</td>\n      <td>0</td>\n      <td>0</td>\n      <td>0</td>\n      <td>0</td>\n      <td>0</td>\n      <td>0</td>\n    </tr>\n    <tr>\n      <th>1</th>\n      <td>0</td>\n      <td>0</td>\n      <td>0</td>\n      <td>1</td>\n      <td>0</td>\n      <td>1</td>\n      <td>0</td>\n      <td>1</td>\n      <td>0</td>\n      <td>0</td>\n      <td>...</td>\n      <td>0</td>\n      <td>0</td>\n      <td>0</td>\n      <td>0</td>\n      <td>0</td>\n      <td>0</td>\n      <td>0</td>\n      <td>0</td>\n      <td>0</td>\n      <td>0</td>\n    </tr>\n    <tr>\n      <th>2</th>\n      <td>0</td>\n      <td>0</td>\n      <td>0</td>\n      <td>0</td>\n      <td>0</td>\n      <td>1</td>\n      <td>0</td>\n      <td>1</td>\n      <td>0</td>\n      <td>0</td>\n      <td>...</td>\n      <td>0</td>\n      <td>0</td>\n      <td>0</td>\n      <td>0</td>\n      <td>0</td>\n      <td>0</td>\n      <td>0</td>\n      <td>0</td>\n      <td>0</td>\n      <td>0</td>\n    </tr>\n    <tr>\n      <th>3</th>\n      <td>0</td>\n      <td>0</td>\n      <td>0</td>\n      <td>0</td>\n      <td>1</td>\n      <td>0</td>\n      <td>0</td>\n      <td>0</td>\n      <td>0</td>\n      <td>0</td>\n      <td>...</td>\n      <td>0</td>\n      <td>0</td>\n      <td>0</td>\n      <td>0</td>\n      <td>0</td>\n      <td>1</td>\n      <td>0</td>\n      <td>0</td>\n      <td>0</td>\n      <td>0</td>\n    </tr>\n    <tr>\n      <th>4</th>\n      <td>0</td>\n      <td>0</td>\n      <td>0</td>\n      <td>0</td>\n      <td>0</td>\n      <td>0</td>\n      <td>0</td>\n      <td>0</td>\n      <td>0</td>\n      <td>0</td>\n      <td>...</td>\n      <td>0</td>\n      <td>0</td>\n      <td>0</td>\n      <td>0</td>\n      <td>0</td>\n      <td>0</td>\n      <td>0</td>\n      <td>0</td>\n      <td>0</td>\n      <td>0</td>\n    </tr>\n  </tbody>\n</table>\n<p>5 rows × 24 columns</p>\n</div>"
     },
     "execution_count": 22,
     "metadata": {},
     "output_type": "execute_result"
    }
   ],
   "source": [
    "test_y.head()"
   ],
   "metadata": {
    "collapsed": false
   }
  },
  {
   "cell_type": "markdown",
   "source": [
    "# Let's create catboost classifier with optuna"
   ],
   "metadata": {
    "collapsed": false
   }
  },
  {
   "cell_type": "code",
   "execution_count": 29,
   "outputs": [],
   "source": [
    "def objective(trial):\n",
    "    param = {\n",
    "        \"objective\": trial.suggest_categorical(\"objective\", [\"MultiLogloss\", \"MultiCrossEntropy\"]),\n",
    "        \"n_estimators\": trial.suggest_int(\"n_estimators\", 5, 1000),\n",
    "        \"depth\": trial.suggest_int(\"depth\", 1, 12),\n",
    "        \"learning_rate\": trial.suggest_float(\"learning_rate\", 0.0001, 0.1),\n",
    "        \"l2_leaf_reg\": trial.suggest_float(\"l2_leaf_reg\", 0.0001, 0.1),\n",
    "        \"bootstrap_type\": trial.suggest_categorical(\n",
    "            \"bootstrap_type\", [\"Bayesian\", \"Bernoulli\", \"MVS\"]\n",
    "        ),\n",
    "        \"random_seed\": 2022,\n",
    "        \"used_ram_limit\": \"10gb\",\n",
    "    }\n",
    "\n",
    "    if param[\"bootstrap_type\"] == \"Bayesian\":\n",
    "        param[\"bagging_temperature\"] = trial.suggest_float(\"bagging_temperature\", 0, 10)\n",
    "    elif param[\"bootstrap_type\"] == \"Bernoulli\":\n",
    "        param[\"subsample\"] = trial.suggest_float(\"subsample\", 0.1, 1)\n",
    "\n",
    "    gbm = cb.CatBoostClassifier(**param)\n",
    "\n",
    "    gbm.fit(train_x, train_y, eval_set=[(test_x, test_y)], verbose=0, early_stopping_rounds=100)\n",
    "\n",
    "    preds = gbm.predict(test_x)\n",
    "    F1_score = f1_score(test_y, preds, average='weighted')\n",
    "    return F1_score\n"
   ],
   "metadata": {
    "collapsed": false
   }
  },
  {
   "cell_type": "code",
   "execution_count": 30,
   "outputs": [
    {
     "name": "stderr",
     "output_type": "stream",
     "text": [
      "\u001B[32m[I 2022-11-24 00:13:59,408]\u001B[0m A new study created in memory with name: no-name-5493b2a3-c46d-45e5-97a1-0042656be44f\u001B[0m\n",
      "\u001B[32m[I 2022-11-24 00:14:09,590]\u001B[0m Trial 0 finished with value: 0.13626587161259263 and parameters: {'objective': 'MultiCrossEntropy', 'n_estimators': 117, 'depth': 1, 'learning_rate': 0.06857221866488487, 'l2_leaf_reg': 0.04875010801475147, 'bootstrap_type': 'Bayesian', 'bagging_temperature': 7.2113492916468545}. Best is trial 0 with value: 0.13626587161259263.\u001B[0m\n",
      "/home/dmitrypogrebnoy/Desktop/IndustrialML_ITMO/venv/lib/python3.9/site-packages/catboost/core.py:1419: FutureWarning: iteritems is deprecated and will be removed in a future version. Use .items instead.\n",
      "  self._init_pool(data, label, cat_features, text_features, embedding_features, embedding_features_data, pairs, weight,\n",
      "\u001B[33m[W 2022-11-24 00:27:53,109]\u001B[0m Trial 1 failed because of the following error: KeyboardInterrupt('')\u001B[0m\n",
      "Traceback (most recent call last):\n",
      "  File \"/home/dmitrypogrebnoy/Desktop/IndustrialML_ITMO/venv/lib/python3.9/site-packages/optuna/study/_optimize.py\", line 196, in _run_trial\n",
      "    value_or_values = func(trial)\n",
      "  File \"/tmp/ipykernel_34284/3063182670.py\", line 22, in objective\n",
      "    gbm.fit(train_x, train_y, eval_set=[(test_x, test_y)], verbose=0, early_stopping_rounds=100)\n",
      "  File \"/home/dmitrypogrebnoy/Desktop/IndustrialML_ITMO/venv/lib/python3.9/site-packages/catboost/core.py\", line 5128, in fit\n",
      "    self._fit(X, y, cat_features, text_features, embedding_features, None, sample_weight, None, None, None, None, baseline, use_best_model,\n",
      "  File \"/home/dmitrypogrebnoy/Desktop/IndustrialML_ITMO/venv/lib/python3.9/site-packages/catboost/core.py\", line 2355, in _fit\n",
      "    self._train(\n",
      "  File \"/home/dmitrypogrebnoy/Desktop/IndustrialML_ITMO/venv/lib/python3.9/site-packages/catboost/core.py\", line 1759, in _train\n",
      "    self._object._train(train_pool, test_pool, params, allow_clear_pool, init_model._object if init_model else None)\n",
      "  File \"_catboost.pyx\", line 4622, in _catboost._CatBoost._train\n",
      "  File \"_catboost.pyx\", line 4671, in _catboost._CatBoost._train\n",
      "KeyboardInterrupt\n"
     ]
    },
    {
     "ename": "KeyboardInterrupt",
     "evalue": "",
     "output_type": "error",
     "traceback": [
      "\u001B[0;31m---------------------------------------------------------------------------\u001B[0m",
      "\u001B[0;31mKeyboardInterrupt\u001B[0m                         Traceback (most recent call last)",
      "Cell \u001B[0;32mIn [30], line 2\u001B[0m\n\u001B[1;32m      1\u001B[0m study \u001B[38;5;241m=\u001B[39m optuna\u001B[38;5;241m.\u001B[39mcreate_study(direction\u001B[38;5;241m=\u001B[39m\u001B[38;5;124m\"\u001B[39m\u001B[38;5;124mmaximize\u001B[39m\u001B[38;5;124m\"\u001B[39m, sampler\u001B[38;5;241m=\u001B[39moptuna\u001B[38;5;241m.\u001B[39msamplers\u001B[38;5;241m.\u001B[39mTPESampler(seed\u001B[38;5;241m=\u001B[39m\u001B[38;5;241m2022\u001B[39m))\n\u001B[0;32m----> 2\u001B[0m \u001B[43mstudy\u001B[49m\u001B[38;5;241;43m.\u001B[39;49m\u001B[43moptimize\u001B[49m\u001B[43m(\u001B[49m\u001B[43mobjective\u001B[49m\u001B[43m,\u001B[49m\u001B[43m \u001B[49m\u001B[43mtimeout\u001B[49m\u001B[38;5;241;43m=\u001B[39;49m\u001B[38;5;241;43m1200\u001B[39;49m\u001B[43m)\u001B[49m\n",
      "File \u001B[0;32m~/Desktop/IndustrialML_ITMO/venv/lib/python3.9/site-packages/optuna/study/study.py:419\u001B[0m, in \u001B[0;36mStudy.optimize\u001B[0;34m(self, func, n_trials, timeout, n_jobs, catch, callbacks, gc_after_trial, show_progress_bar)\u001B[0m\n\u001B[1;32m    315\u001B[0m \u001B[38;5;28;01mdef\u001B[39;00m \u001B[38;5;21moptimize\u001B[39m(\n\u001B[1;32m    316\u001B[0m     \u001B[38;5;28mself\u001B[39m,\n\u001B[1;32m    317\u001B[0m     func: ObjectiveFuncType,\n\u001B[0;32m   (...)\u001B[0m\n\u001B[1;32m    324\u001B[0m     show_progress_bar: \u001B[38;5;28mbool\u001B[39m \u001B[38;5;241m=\u001B[39m \u001B[38;5;28;01mFalse\u001B[39;00m,\n\u001B[1;32m    325\u001B[0m ) \u001B[38;5;241m-\u001B[39m\u001B[38;5;241m>\u001B[39m \u001B[38;5;28;01mNone\u001B[39;00m:\n\u001B[1;32m    326\u001B[0m     \u001B[38;5;124;03m\"\"\"Optimize an objective function.\u001B[39;00m\n\u001B[1;32m    327\u001B[0m \n\u001B[1;32m    328\u001B[0m \u001B[38;5;124;03m    Optimization is done by choosing a suitable set of hyperparameter values from a given\u001B[39;00m\n\u001B[0;32m   (...)\u001B[0m\n\u001B[1;32m    416\u001B[0m \u001B[38;5;124;03m            If nested invocation of this method occurs.\u001B[39;00m\n\u001B[1;32m    417\u001B[0m \u001B[38;5;124;03m    \"\"\"\u001B[39;00m\n\u001B[0;32m--> 419\u001B[0m     \u001B[43m_optimize\u001B[49m\u001B[43m(\u001B[49m\n\u001B[1;32m    420\u001B[0m \u001B[43m        \u001B[49m\u001B[43mstudy\u001B[49m\u001B[38;5;241;43m=\u001B[39;49m\u001B[38;5;28;43mself\u001B[39;49m\u001B[43m,\u001B[49m\n\u001B[1;32m    421\u001B[0m \u001B[43m        \u001B[49m\u001B[43mfunc\u001B[49m\u001B[38;5;241;43m=\u001B[39;49m\u001B[43mfunc\u001B[49m\u001B[43m,\u001B[49m\n\u001B[1;32m    422\u001B[0m \u001B[43m        \u001B[49m\u001B[43mn_trials\u001B[49m\u001B[38;5;241;43m=\u001B[39;49m\u001B[43mn_trials\u001B[49m\u001B[43m,\u001B[49m\n\u001B[1;32m    423\u001B[0m \u001B[43m        \u001B[49m\u001B[43mtimeout\u001B[49m\u001B[38;5;241;43m=\u001B[39;49m\u001B[43mtimeout\u001B[49m\u001B[43m,\u001B[49m\n\u001B[1;32m    424\u001B[0m \u001B[43m        \u001B[49m\u001B[43mn_jobs\u001B[49m\u001B[38;5;241;43m=\u001B[39;49m\u001B[43mn_jobs\u001B[49m\u001B[43m,\u001B[49m\n\u001B[1;32m    425\u001B[0m \u001B[43m        \u001B[49m\u001B[43mcatch\u001B[49m\u001B[38;5;241;43m=\u001B[39;49m\u001B[43mcatch\u001B[49m\u001B[43m,\u001B[49m\n\u001B[1;32m    426\u001B[0m \u001B[43m        \u001B[49m\u001B[43mcallbacks\u001B[49m\u001B[38;5;241;43m=\u001B[39;49m\u001B[43mcallbacks\u001B[49m\u001B[43m,\u001B[49m\n\u001B[1;32m    427\u001B[0m \u001B[43m        \u001B[49m\u001B[43mgc_after_trial\u001B[49m\u001B[38;5;241;43m=\u001B[39;49m\u001B[43mgc_after_trial\u001B[49m\u001B[43m,\u001B[49m\n\u001B[1;32m    428\u001B[0m \u001B[43m        \u001B[49m\u001B[43mshow_progress_bar\u001B[49m\u001B[38;5;241;43m=\u001B[39;49m\u001B[43mshow_progress_bar\u001B[49m\u001B[43m,\u001B[49m\n\u001B[1;32m    429\u001B[0m \u001B[43m    \u001B[49m\u001B[43m)\u001B[49m\n",
      "File \u001B[0;32m~/Desktop/IndustrialML_ITMO/venv/lib/python3.9/site-packages/optuna/study/_optimize.py:66\u001B[0m, in \u001B[0;36m_optimize\u001B[0;34m(study, func, n_trials, timeout, n_jobs, catch, callbacks, gc_after_trial, show_progress_bar)\u001B[0m\n\u001B[1;32m     64\u001B[0m \u001B[38;5;28;01mtry\u001B[39;00m:\n\u001B[1;32m     65\u001B[0m     \u001B[38;5;28;01mif\u001B[39;00m n_jobs \u001B[38;5;241m==\u001B[39m \u001B[38;5;241m1\u001B[39m:\n\u001B[0;32m---> 66\u001B[0m         \u001B[43m_optimize_sequential\u001B[49m\u001B[43m(\u001B[49m\n\u001B[1;32m     67\u001B[0m \u001B[43m            \u001B[49m\u001B[43mstudy\u001B[49m\u001B[43m,\u001B[49m\n\u001B[1;32m     68\u001B[0m \u001B[43m            \u001B[49m\u001B[43mfunc\u001B[49m\u001B[43m,\u001B[49m\n\u001B[1;32m     69\u001B[0m \u001B[43m            \u001B[49m\u001B[43mn_trials\u001B[49m\u001B[43m,\u001B[49m\n\u001B[1;32m     70\u001B[0m \u001B[43m            \u001B[49m\u001B[43mtimeout\u001B[49m\u001B[43m,\u001B[49m\n\u001B[1;32m     71\u001B[0m \u001B[43m            \u001B[49m\u001B[43mcatch\u001B[49m\u001B[43m,\u001B[49m\n\u001B[1;32m     72\u001B[0m \u001B[43m            \u001B[49m\u001B[43mcallbacks\u001B[49m\u001B[43m,\u001B[49m\n\u001B[1;32m     73\u001B[0m \u001B[43m            \u001B[49m\u001B[43mgc_after_trial\u001B[49m\u001B[43m,\u001B[49m\n\u001B[1;32m     74\u001B[0m \u001B[43m            \u001B[49m\u001B[43mreseed_sampler_rng\u001B[49m\u001B[38;5;241;43m=\u001B[39;49m\u001B[38;5;28;43;01mFalse\u001B[39;49;00m\u001B[43m,\u001B[49m\n\u001B[1;32m     75\u001B[0m \u001B[43m            \u001B[49m\u001B[43mtime_start\u001B[49m\u001B[38;5;241;43m=\u001B[39;49m\u001B[38;5;28;43;01mNone\u001B[39;49;00m\u001B[43m,\u001B[49m\n\u001B[1;32m     76\u001B[0m \u001B[43m            \u001B[49m\u001B[43mprogress_bar\u001B[49m\u001B[38;5;241;43m=\u001B[39;49m\u001B[43mprogress_bar\u001B[49m\u001B[43m,\u001B[49m\n\u001B[1;32m     77\u001B[0m \u001B[43m        \u001B[49m\u001B[43m)\u001B[49m\n\u001B[1;32m     78\u001B[0m     \u001B[38;5;28;01melse\u001B[39;00m:\n\u001B[1;32m     79\u001B[0m         \u001B[38;5;28;01mif\u001B[39;00m n_jobs \u001B[38;5;241m==\u001B[39m \u001B[38;5;241m-\u001B[39m\u001B[38;5;241m1\u001B[39m:\n",
      "File \u001B[0;32m~/Desktop/IndustrialML_ITMO/venv/lib/python3.9/site-packages/optuna/study/_optimize.py:160\u001B[0m, in \u001B[0;36m_optimize_sequential\u001B[0;34m(study, func, n_trials, timeout, catch, callbacks, gc_after_trial, reseed_sampler_rng, time_start, progress_bar)\u001B[0m\n\u001B[1;32m    157\u001B[0m         \u001B[38;5;28;01mbreak\u001B[39;00m\n\u001B[1;32m    159\u001B[0m \u001B[38;5;28;01mtry\u001B[39;00m:\n\u001B[0;32m--> 160\u001B[0m     frozen_trial \u001B[38;5;241m=\u001B[39m \u001B[43m_run_trial\u001B[49m\u001B[43m(\u001B[49m\u001B[43mstudy\u001B[49m\u001B[43m,\u001B[49m\u001B[43m \u001B[49m\u001B[43mfunc\u001B[49m\u001B[43m,\u001B[49m\u001B[43m \u001B[49m\u001B[43mcatch\u001B[49m\u001B[43m)\u001B[49m\n\u001B[1;32m    161\u001B[0m \u001B[38;5;28;01mfinally\u001B[39;00m:\n\u001B[1;32m    162\u001B[0m     \u001B[38;5;66;03m# The following line mitigates memory problems that can be occurred in some\u001B[39;00m\n\u001B[1;32m    163\u001B[0m     \u001B[38;5;66;03m# environments (e.g., services that use computing containers such as CircleCI).\u001B[39;00m\n\u001B[1;32m    164\u001B[0m     \u001B[38;5;66;03m# Please refer to the following PR for further details:\u001B[39;00m\n\u001B[1;32m    165\u001B[0m     \u001B[38;5;66;03m# https://github.com/optuna/optuna/pull/325.\u001B[39;00m\n\u001B[1;32m    166\u001B[0m     \u001B[38;5;28;01mif\u001B[39;00m gc_after_trial:\n",
      "File \u001B[0;32m~/Desktop/IndustrialML_ITMO/venv/lib/python3.9/site-packages/optuna/study/_optimize.py:234\u001B[0m, in \u001B[0;36m_run_trial\u001B[0;34m(study, func, catch)\u001B[0m\n\u001B[1;32m    227\u001B[0m         \u001B[38;5;28;01massert\u001B[39;00m \u001B[38;5;28;01mFalse\u001B[39;00m, \u001B[38;5;124m\"\u001B[39m\u001B[38;5;124mShould not reach.\u001B[39m\u001B[38;5;124m\"\u001B[39m\n\u001B[1;32m    229\u001B[0m \u001B[38;5;28;01mif\u001B[39;00m (\n\u001B[1;32m    230\u001B[0m     frozen_trial\u001B[38;5;241m.\u001B[39mstate \u001B[38;5;241m==\u001B[39m TrialState\u001B[38;5;241m.\u001B[39mFAIL\n\u001B[1;32m    231\u001B[0m     \u001B[38;5;129;01mand\u001B[39;00m func_err \u001B[38;5;129;01mis\u001B[39;00m \u001B[38;5;129;01mnot\u001B[39;00m \u001B[38;5;28;01mNone\u001B[39;00m\n\u001B[1;32m    232\u001B[0m     \u001B[38;5;129;01mand\u001B[39;00m \u001B[38;5;129;01mnot\u001B[39;00m \u001B[38;5;28misinstance\u001B[39m(func_err, catch)\n\u001B[1;32m    233\u001B[0m ):\n\u001B[0;32m--> 234\u001B[0m     \u001B[38;5;28;01mraise\u001B[39;00m func_err\n\u001B[1;32m    235\u001B[0m \u001B[38;5;28;01mreturn\u001B[39;00m frozen_trial\n",
      "File \u001B[0;32m~/Desktop/IndustrialML_ITMO/venv/lib/python3.9/site-packages/optuna/study/_optimize.py:196\u001B[0m, in \u001B[0;36m_run_trial\u001B[0;34m(study, func, catch)\u001B[0m\n\u001B[1;32m    194\u001B[0m \u001B[38;5;28;01mwith\u001B[39;00m get_heartbeat_thread(trial\u001B[38;5;241m.\u001B[39m_trial_id, study\u001B[38;5;241m.\u001B[39m_storage):\n\u001B[1;32m    195\u001B[0m     \u001B[38;5;28;01mtry\u001B[39;00m:\n\u001B[0;32m--> 196\u001B[0m         value_or_values \u001B[38;5;241m=\u001B[39m \u001B[43mfunc\u001B[49m\u001B[43m(\u001B[49m\u001B[43mtrial\u001B[49m\u001B[43m)\u001B[49m\n\u001B[1;32m    197\u001B[0m     \u001B[38;5;28;01mexcept\u001B[39;00m exceptions\u001B[38;5;241m.\u001B[39mTrialPruned \u001B[38;5;28;01mas\u001B[39;00m e:\n\u001B[1;32m    198\u001B[0m         \u001B[38;5;66;03m# TODO(mamu): Handle multi-objective cases.\u001B[39;00m\n\u001B[1;32m    199\u001B[0m         state \u001B[38;5;241m=\u001B[39m TrialState\u001B[38;5;241m.\u001B[39mPRUNED\n",
      "Cell \u001B[0;32mIn [29], line 22\u001B[0m, in \u001B[0;36mobjective\u001B[0;34m(trial)\u001B[0m\n\u001B[1;32m     18\u001B[0m     param[\u001B[38;5;124m\"\u001B[39m\u001B[38;5;124msubsample\u001B[39m\u001B[38;5;124m\"\u001B[39m] \u001B[38;5;241m=\u001B[39m trial\u001B[38;5;241m.\u001B[39msuggest_float(\u001B[38;5;124m\"\u001B[39m\u001B[38;5;124msubsample\u001B[39m\u001B[38;5;124m\"\u001B[39m, \u001B[38;5;241m0.1\u001B[39m, \u001B[38;5;241m1\u001B[39m)\n\u001B[1;32m     20\u001B[0m gbm \u001B[38;5;241m=\u001B[39m cb\u001B[38;5;241m.\u001B[39mCatBoostClassifier(\u001B[38;5;241m*\u001B[39m\u001B[38;5;241m*\u001B[39mparam)\n\u001B[0;32m---> 22\u001B[0m \u001B[43mgbm\u001B[49m\u001B[38;5;241;43m.\u001B[39;49m\u001B[43mfit\u001B[49m\u001B[43m(\u001B[49m\u001B[43mtrain_x\u001B[49m\u001B[43m,\u001B[49m\u001B[43m \u001B[49m\u001B[43mtrain_y\u001B[49m\u001B[43m,\u001B[49m\u001B[43m \u001B[49m\u001B[43meval_set\u001B[49m\u001B[38;5;241;43m=\u001B[39;49m\u001B[43m[\u001B[49m\u001B[43m(\u001B[49m\u001B[43mtest_x\u001B[49m\u001B[43m,\u001B[49m\u001B[43m \u001B[49m\u001B[43mtest_y\u001B[49m\u001B[43m)\u001B[49m\u001B[43m]\u001B[49m\u001B[43m,\u001B[49m\u001B[43m \u001B[49m\u001B[43mverbose\u001B[49m\u001B[38;5;241;43m=\u001B[39;49m\u001B[38;5;241;43m0\u001B[39;49m\u001B[43m,\u001B[49m\u001B[43m \u001B[49m\u001B[43mearly_stopping_rounds\u001B[49m\u001B[38;5;241;43m=\u001B[39;49m\u001B[38;5;241;43m100\u001B[39;49m\u001B[43m)\u001B[49m\n\u001B[1;32m     24\u001B[0m preds \u001B[38;5;241m=\u001B[39m gbm\u001B[38;5;241m.\u001B[39mpredict(test_x)\n\u001B[1;32m     25\u001B[0m F1_score \u001B[38;5;241m=\u001B[39m f1_score(test_y, preds, average\u001B[38;5;241m=\u001B[39m\u001B[38;5;124m'\u001B[39m\u001B[38;5;124mweighted\u001B[39m\u001B[38;5;124m'\u001B[39m)\n",
      "File \u001B[0;32m~/Desktop/IndustrialML_ITMO/venv/lib/python3.9/site-packages/catboost/core.py:5128\u001B[0m, in \u001B[0;36mCatBoostClassifier.fit\u001B[0;34m(self, X, y, cat_features, text_features, embedding_features, sample_weight, baseline, use_best_model, eval_set, verbose, logging_level, plot, plot_file, column_description, verbose_eval, metric_period, silent, early_stopping_rounds, save_snapshot, snapshot_file, snapshot_interval, init_model, callbacks, log_cout, log_cerr)\u001B[0m\n\u001B[1;32m   5125\u001B[0m \u001B[38;5;28;01mif\u001B[39;00m \u001B[38;5;124m'\u001B[39m\u001B[38;5;124mloss_function\u001B[39m\u001B[38;5;124m'\u001B[39m \u001B[38;5;129;01min\u001B[39;00m params:\n\u001B[1;32m   5126\u001B[0m     CatBoostClassifier\u001B[38;5;241m.\u001B[39m_check_is_compatible_loss(params[\u001B[38;5;124m'\u001B[39m\u001B[38;5;124mloss_function\u001B[39m\u001B[38;5;124m'\u001B[39m])\n\u001B[0;32m-> 5128\u001B[0m \u001B[38;5;28;43mself\u001B[39;49m\u001B[38;5;241;43m.\u001B[39;49m\u001B[43m_fit\u001B[49m\u001B[43m(\u001B[49m\u001B[43mX\u001B[49m\u001B[43m,\u001B[49m\u001B[43m \u001B[49m\u001B[43my\u001B[49m\u001B[43m,\u001B[49m\u001B[43m \u001B[49m\u001B[43mcat_features\u001B[49m\u001B[43m,\u001B[49m\u001B[43m \u001B[49m\u001B[43mtext_features\u001B[49m\u001B[43m,\u001B[49m\u001B[43m \u001B[49m\u001B[43membedding_features\u001B[49m\u001B[43m,\u001B[49m\u001B[43m \u001B[49m\u001B[38;5;28;43;01mNone\u001B[39;49;00m\u001B[43m,\u001B[49m\u001B[43m \u001B[49m\u001B[43msample_weight\u001B[49m\u001B[43m,\u001B[49m\u001B[43m \u001B[49m\u001B[38;5;28;43;01mNone\u001B[39;49;00m\u001B[43m,\u001B[49m\u001B[43m \u001B[49m\u001B[38;5;28;43;01mNone\u001B[39;49;00m\u001B[43m,\u001B[49m\u001B[43m \u001B[49m\u001B[38;5;28;43;01mNone\u001B[39;49;00m\u001B[43m,\u001B[49m\u001B[43m \u001B[49m\u001B[38;5;28;43;01mNone\u001B[39;49;00m\u001B[43m,\u001B[49m\u001B[43m \u001B[49m\u001B[43mbaseline\u001B[49m\u001B[43m,\u001B[49m\u001B[43m \u001B[49m\u001B[43muse_best_model\u001B[49m\u001B[43m,\u001B[49m\n\u001B[1;32m   5129\u001B[0m \u001B[43m          \u001B[49m\u001B[43meval_set\u001B[49m\u001B[43m,\u001B[49m\u001B[43m \u001B[49m\u001B[43mverbose\u001B[49m\u001B[43m,\u001B[49m\u001B[43m \u001B[49m\u001B[43mlogging_level\u001B[49m\u001B[43m,\u001B[49m\u001B[43m \u001B[49m\u001B[43mplot\u001B[49m\u001B[43m,\u001B[49m\u001B[43m \u001B[49m\u001B[43mplot_file\u001B[49m\u001B[43m,\u001B[49m\u001B[43m \u001B[49m\u001B[43mcolumn_description\u001B[49m\u001B[43m,\u001B[49m\u001B[43m \u001B[49m\u001B[43mverbose_eval\u001B[49m\u001B[43m,\u001B[49m\u001B[43m \u001B[49m\u001B[43mmetric_period\u001B[49m\u001B[43m,\u001B[49m\n\u001B[1;32m   5130\u001B[0m \u001B[43m          \u001B[49m\u001B[43msilent\u001B[49m\u001B[43m,\u001B[49m\u001B[43m \u001B[49m\u001B[43mearly_stopping_rounds\u001B[49m\u001B[43m,\u001B[49m\u001B[43m \u001B[49m\u001B[43msave_snapshot\u001B[49m\u001B[43m,\u001B[49m\u001B[43m \u001B[49m\u001B[43msnapshot_file\u001B[49m\u001B[43m,\u001B[49m\u001B[43m \u001B[49m\u001B[43msnapshot_interval\u001B[49m\u001B[43m,\u001B[49m\u001B[43m \u001B[49m\u001B[43minit_model\u001B[49m\u001B[43m,\u001B[49m\u001B[43m \u001B[49m\u001B[43mcallbacks\u001B[49m\u001B[43m,\u001B[49m\u001B[43m \u001B[49m\u001B[43mlog_cout\u001B[49m\u001B[43m,\u001B[49m\u001B[43m \u001B[49m\u001B[43mlog_cerr\u001B[49m\u001B[43m)\u001B[49m\n\u001B[1;32m   5131\u001B[0m \u001B[38;5;28;01mreturn\u001B[39;00m \u001B[38;5;28mself\u001B[39m\n",
      "File \u001B[0;32m~/Desktop/IndustrialML_ITMO/venv/lib/python3.9/site-packages/catboost/core.py:2355\u001B[0m, in \u001B[0;36mCatBoost._fit\u001B[0;34m(self, X, y, cat_features, text_features, embedding_features, pairs, sample_weight, group_id, group_weight, subgroup_id, pairs_weight, baseline, use_best_model, eval_set, verbose, logging_level, plot, plot_file, column_description, verbose_eval, metric_period, silent, early_stopping_rounds, save_snapshot, snapshot_file, snapshot_interval, init_model, callbacks, log_cout, log_cerr)\u001B[0m\n\u001B[1;32m   2351\u001B[0m allow_clear_pool \u001B[38;5;241m=\u001B[39m train_params[\u001B[38;5;124m\"\u001B[39m\u001B[38;5;124mallow_clear_pool\u001B[39m\u001B[38;5;124m\"\u001B[39m]\n\u001B[1;32m   2353\u001B[0m \u001B[38;5;28;01mwith\u001B[39;00m log_fixup(log_cout, log_cerr), \\\n\u001B[1;32m   2354\u001B[0m     plot_wrapper(plot, plot_file, \u001B[38;5;124m'\u001B[39m\u001B[38;5;124mTraining plots\u001B[39m\u001B[38;5;124m'\u001B[39m, [_get_train_dir(\u001B[38;5;28mself\u001B[39m\u001B[38;5;241m.\u001B[39mget_params())]):\n\u001B[0;32m-> 2355\u001B[0m     \u001B[38;5;28;43mself\u001B[39;49m\u001B[38;5;241;43m.\u001B[39;49m\u001B[43m_train\u001B[49m\u001B[43m(\u001B[49m\n\u001B[1;32m   2356\u001B[0m \u001B[43m        \u001B[49m\u001B[43mtrain_pool\u001B[49m\u001B[43m,\u001B[49m\n\u001B[1;32m   2357\u001B[0m \u001B[43m        \u001B[49m\u001B[43mtrain_params\u001B[49m\u001B[43m[\u001B[49m\u001B[38;5;124;43m\"\u001B[39;49m\u001B[38;5;124;43meval_sets\u001B[39;49m\u001B[38;5;124;43m\"\u001B[39;49m\u001B[43m]\u001B[49m\u001B[43m,\u001B[49m\n\u001B[1;32m   2358\u001B[0m \u001B[43m        \u001B[49m\u001B[43mparams\u001B[49m\u001B[43m,\u001B[49m\n\u001B[1;32m   2359\u001B[0m \u001B[43m        \u001B[49m\u001B[43mallow_clear_pool\u001B[49m\u001B[43m,\u001B[49m\n\u001B[1;32m   2360\u001B[0m \u001B[43m        \u001B[49m\u001B[43mtrain_params\u001B[49m\u001B[43m[\u001B[49m\u001B[38;5;124;43m\"\u001B[39;49m\u001B[38;5;124;43minit_model\u001B[39;49m\u001B[38;5;124;43m\"\u001B[39;49m\u001B[43m]\u001B[49m\n\u001B[1;32m   2361\u001B[0m \u001B[43m    \u001B[49m\u001B[43m)\u001B[49m\n\u001B[1;32m   2363\u001B[0m \u001B[38;5;66;03m# Have property feature_importance possibly set\u001B[39;00m\n\u001B[1;32m   2364\u001B[0m loss \u001B[38;5;241m=\u001B[39m \u001B[38;5;28mself\u001B[39m\u001B[38;5;241m.\u001B[39m_object\u001B[38;5;241m.\u001B[39m_get_loss_function_name()\n",
      "File \u001B[0;32m~/Desktop/IndustrialML_ITMO/venv/lib/python3.9/site-packages/catboost/core.py:1759\u001B[0m, in \u001B[0;36m_CatBoostBase._train\u001B[0;34m(self, train_pool, test_pool, params, allow_clear_pool, init_model)\u001B[0m\n\u001B[1;32m   1758\u001B[0m \u001B[38;5;28;01mdef\u001B[39;00m \u001B[38;5;21m_train\u001B[39m(\u001B[38;5;28mself\u001B[39m, train_pool, test_pool, params, allow_clear_pool, init_model):\n\u001B[0;32m-> 1759\u001B[0m     \u001B[38;5;28;43mself\u001B[39;49m\u001B[38;5;241;43m.\u001B[39;49m\u001B[43m_object\u001B[49m\u001B[38;5;241;43m.\u001B[39;49m\u001B[43m_train\u001B[49m\u001B[43m(\u001B[49m\u001B[43mtrain_pool\u001B[49m\u001B[43m,\u001B[49m\u001B[43m \u001B[49m\u001B[43mtest_pool\u001B[49m\u001B[43m,\u001B[49m\u001B[43m \u001B[49m\u001B[43mparams\u001B[49m\u001B[43m,\u001B[49m\u001B[43m \u001B[49m\u001B[43mallow_clear_pool\u001B[49m\u001B[43m,\u001B[49m\u001B[43m \u001B[49m\u001B[43minit_model\u001B[49m\u001B[38;5;241;43m.\u001B[39;49m\u001B[43m_object\u001B[49m\u001B[43m \u001B[49m\u001B[38;5;28;43;01mif\u001B[39;49;00m\u001B[43m \u001B[49m\u001B[43minit_model\u001B[49m\u001B[43m \u001B[49m\u001B[38;5;28;43;01melse\u001B[39;49;00m\u001B[43m \u001B[49m\u001B[38;5;28;43;01mNone\u001B[39;49;00m\u001B[43m)\u001B[49m\n\u001B[1;32m   1760\u001B[0m     \u001B[38;5;28mself\u001B[39m\u001B[38;5;241m.\u001B[39m_set_trained_model_attributes()\n",
      "File \u001B[0;32m_catboost.pyx:4622\u001B[0m, in \u001B[0;36m_catboost._CatBoost._train\u001B[0;34m()\u001B[0m\n",
      "File \u001B[0;32m_catboost.pyx:4671\u001B[0m, in \u001B[0;36m_catboost._CatBoost._train\u001B[0;34m()\u001B[0m\n",
      "\u001B[0;31mKeyboardInterrupt\u001B[0m: "
     ]
    }
   ],
   "source": [
    "study = optuna.create_study(direction=\"maximize\", sampler=optuna.samplers.TPESampler(seed=2022))\n",
    "study.optimize(objective, timeout=1200, n_jobs=4) # two hours"
   ],
   "metadata": {
    "collapsed": false
   }
  },
  {
   "cell_type": "code",
   "execution_count": null,
   "outputs": [],
   "source": [
    "study.best_value"
   ],
   "metadata": {
    "collapsed": false,
    "pycharm": {
     "is_executing": true
    }
   }
  },
  {
   "cell_type": "code",
   "execution_count": null,
   "outputs": [],
   "source": [
    "study.best_params"
   ],
   "metadata": {
    "collapsed": false,
    "pycharm": {
     "is_executing": true
    }
   }
  },
  {
   "cell_type": "code",
   "execution_count": 29,
   "outputs": [],
   "source": [
    "final_model = cb.CatBoostClassifier(**study.best_params)"
   ],
   "metadata": {
    "collapsed": false
   }
  },
  {
   "cell_type": "code",
   "execution_count": 30,
   "outputs": [
    {
     "name": "stderr",
     "output_type": "stream",
     "text": [
      "/home/dmitrypogrebnoy/Desktop/IndustrialML_ITMO/venv/lib/python3.9/site-packages/catboost/core.py:1419: FutureWarning: iteritems is deprecated and will be removed in a future version. Use .items instead.\n",
      "  self._init_pool(data, label, cat_features, text_features, embedding_features, embedding_features_data, pairs, weight,\n"
     ]
    },
    {
     "data": {
      "text/plain": "<catboost.core.CatBoostClassifier at 0x7f21e75fd3d0>"
     },
     "execution_count": 30,
     "metadata": {},
     "output_type": "execute_result"
    }
   ],
   "source": [
    "final_model.fit(train_x, train_y, eval_set=[(test_x, test_y)], verbose=0, early_stopping_rounds=100)"
   ],
   "metadata": {
    "collapsed": false
   }
  },
  {
   "cell_type": "code",
   "execution_count": 33,
   "outputs": [
    {
     "name": "stderr",
     "output_type": "stream",
     "text": [
      "/home/dmitrypogrebnoy/Desktop/IndustrialML_ITMO/venv/lib/python3.9/site-packages/catboost/core.py:1419: FutureWarning: iteritems is deprecated and will be removed in a future version. Use .items instead.\n",
      "  self._init_pool(data, label, cat_features, text_features, embedding_features, embedding_features_data, pairs, weight,\n"
     ]
    }
   ],
   "source": [
    "preds = final_model.predict(test_x)"
   ],
   "metadata": {
    "collapsed": false
   }
  },
  {
   "cell_type": "code",
   "execution_count": 55,
   "outputs": [
    {
     "data": {
      "text/plain": "array([[0, 0, 0, ..., 0, 0, 0],\n       [0, 0, 0, ..., 0, 0, 0],\n       [0, 0, 0, ..., 0, 0, 0],\n       ...,\n       [0, 0, 0, ..., 0, 0, 0],\n       [0, 0, 0, ..., 0, 0, 0],\n       [0, 0, 0, ..., 0, 0, 1]])"
     },
     "execution_count": 55,
     "metadata": {},
     "output_type": "execute_result"
    }
   ],
   "source": [
    "preds"
   ],
   "metadata": {
    "collapsed": false
   }
  },
  {
   "cell_type": "code",
   "execution_count": 53,
   "outputs": [
    {
     "name": "stdout",
     "output_type": "stream",
     "text": [
      "              precision    recall  f1-score   support\n",
      "\n",
      "           0       0.80      0.46      0.58       191\n",
      "           1       0.76      0.48      0.59       186\n",
      "           2       0.73      0.34      0.46        95\n",
      "           3       0.59      0.24      0.34        82\n",
      "           4       0.72      0.43      0.54       238\n",
      "           5       0.70      0.62      0.66       142\n",
      "           6       0.93      0.36      0.52        72\n",
      "           7       0.71      0.81      0.76       430\n",
      "           8       0.79      0.13      0.22        86\n",
      "           9       0.71      0.15      0.25        80\n",
      "          10       0.79      0.31      0.44        62\n",
      "          11       0.65      0.20      0.31        64\n",
      "          12       0.75      0.46      0.57        72\n",
      "          13       0.83      0.57      0.68       110\n",
      "          14       0.61      0.21      0.31        53\n",
      "          15       0.78      0.09      0.17        74\n",
      "          16       0.67      0.21      0.32        94\n",
      "          17       0.74      0.43      0.55        67\n",
      "          18       1.00      0.05      0.10        55\n",
      "          19       0.96      0.71      0.82        72\n",
      "          20       0.84      0.55      0.67        47\n",
      "          21       0.20      0.02      0.04       102\n",
      "          22       0.80      0.44      0.57        64\n",
      "          23       0.90      0.44      0.59        62\n",
      "\n",
      "   micro avg       0.74      0.44      0.56      2600\n",
      "   macro avg       0.75      0.36      0.46      2600\n",
      "weighted avg       0.73      0.44      0.52      2600\n",
      " samples avg       0.70      0.46      0.52      2600\n",
      "\n"
     ]
    },
    {
     "name": "stderr",
     "output_type": "stream",
     "text": [
      "/home/dmitrypogrebnoy/Desktop/IndustrialML_ITMO/venv/lib/python3.9/site-packages/sklearn/metrics/_classification.py:1334: UndefinedMetricWarning: Precision and F-score are ill-defined and being set to 0.0 in samples with no predicted labels. Use `zero_division` parameter to control this behavior.\n",
      "  _warn_prf(average, modifier, msg_start, len(result))\n"
     ]
    }
   ],
   "source": [
    "print(classification_report(test_y, preds))"
   ],
   "metadata": {
    "collapsed": false
   }
  },
  {
   "cell_type": "code",
   "execution_count": 54,
   "outputs": [
    {
     "data": {
      "text/plain": "array([[[620,  22],\n        [104,  87]],\n\n       [[619,  28],\n        [ 96,  90]],\n\n       [[726,  12],\n        [ 63,  32]],\n\n       [[737,  14],\n        [ 62,  20]],\n\n       [[554,  41],\n        [135, 103]],\n\n       [[654,  37],\n        [ 54,  88]],\n\n       [[759,   2],\n        [ 46,  26]],\n\n       [[261, 142],\n        [ 80, 350]],\n\n       [[744,   3],\n        [ 75,  11]],\n\n       [[748,   5],\n        [ 68,  12]],\n\n       [[766,   5],\n        [ 43,  19]],\n\n       [[762,   7],\n        [ 51,  13]],\n\n       [[750,  11],\n        [ 39,  33]],\n\n       [[710,  13],\n        [ 47,  63]],\n\n       [[773,   7],\n        [ 42,  11]],\n\n       [[757,   2],\n        [ 67,   7]],\n\n       [[729,  10],\n        [ 74,  20]],\n\n       [[756,  10],\n        [ 38,  29]],\n\n       [[778,   0],\n        [ 52,   3]],\n\n       [[759,   2],\n        [ 21,  51]],\n\n       [[781,   5],\n        [ 21,  26]],\n\n       [[723,   8],\n        [100,   2]],\n\n       [[762,   7],\n        [ 36,  28]],\n\n       [[768,   3],\n        [ 35,  27]]])"
     },
     "execution_count": 54,
     "metadata": {},
     "output_type": "execute_result"
    }
   ],
   "source": [
    "cm = multilabel_confusion_matrix(test_y, preds)\n",
    "cm"
   ],
   "metadata": {
    "collapsed": false
   }
  },
  {
   "cell_type": "code",
   "execution_count": 48,
   "outputs": [
    {
     "ename": "TypeError",
     "evalue": "Invalid shape (24, 2, 2) for image data",
     "output_type": "error",
     "traceback": [
      "\u001B[0;31m---------------------------------------------------------------------------\u001B[0m",
      "\u001B[0;31mTypeError\u001B[0m                                 Traceback (most recent call last)",
      "Cell \u001B[0;32mIn [48], line 3\u001B[0m\n\u001B[1;32m      1\u001B[0m fig \u001B[38;5;241m=\u001B[39m plt\u001B[38;5;241m.\u001B[39mfigure(figsize\u001B[38;5;241m=\u001B[39m(\u001B[38;5;241m15\u001B[39m,\u001B[38;5;241m15\u001B[39m))\n\u001B[1;32m      2\u001B[0m ax \u001B[38;5;241m=\u001B[39m fig\u001B[38;5;241m.\u001B[39madd_subplot(\u001B[38;5;241m111\u001B[39m)\n\u001B[0;32m----> 3\u001B[0m cax \u001B[38;5;241m=\u001B[39m \u001B[43max\u001B[49m\u001B[38;5;241;43m.\u001B[39;49m\u001B[43mmatshow\u001B[49m\u001B[43m(\u001B[49m\u001B[43mcm\u001B[49m\u001B[43m)\u001B[49m\n\u001B[1;32m      4\u001B[0m plt\u001B[38;5;241m.\u001B[39mtitle(\u001B[38;5;124m'\u001B[39m\u001B[38;5;124mConfusion matrix\u001B[39m\u001B[38;5;124m'\u001B[39m)\n\u001B[1;32m      5\u001B[0m fig\u001B[38;5;241m.\u001B[39mcolorbar(cax)\n",
      "File \u001B[0;32m~/Desktop/IndustrialML_ITMO/venv/lib/python3.9/site-packages/matplotlib/axes/_axes.py:7898\u001B[0m, in \u001B[0;36mAxes.matshow\u001B[0;34m(self, Z, **kwargs)\u001B[0m\n\u001B[1;32m   7893\u001B[0m Z \u001B[38;5;241m=\u001B[39m np\u001B[38;5;241m.\u001B[39masanyarray(Z)\n\u001B[1;32m   7894\u001B[0m kw \u001B[38;5;241m=\u001B[39m {\u001B[38;5;124m'\u001B[39m\u001B[38;5;124morigin\u001B[39m\u001B[38;5;124m'\u001B[39m: \u001B[38;5;124m'\u001B[39m\u001B[38;5;124mupper\u001B[39m\u001B[38;5;124m'\u001B[39m,\n\u001B[1;32m   7895\u001B[0m       \u001B[38;5;124m'\u001B[39m\u001B[38;5;124minterpolation\u001B[39m\u001B[38;5;124m'\u001B[39m: \u001B[38;5;124m'\u001B[39m\u001B[38;5;124mnearest\u001B[39m\u001B[38;5;124m'\u001B[39m,\n\u001B[1;32m   7896\u001B[0m       \u001B[38;5;124m'\u001B[39m\u001B[38;5;124maspect\u001B[39m\u001B[38;5;124m'\u001B[39m: \u001B[38;5;124m'\u001B[39m\u001B[38;5;124mequal\u001B[39m\u001B[38;5;124m'\u001B[39m,          \u001B[38;5;66;03m# (already the imshow default)\u001B[39;00m\n\u001B[1;32m   7897\u001B[0m       \u001B[38;5;241m*\u001B[39m\u001B[38;5;241m*\u001B[39mkwargs}\n\u001B[0;32m-> 7898\u001B[0m im \u001B[38;5;241m=\u001B[39m \u001B[38;5;28;43mself\u001B[39;49m\u001B[38;5;241;43m.\u001B[39;49m\u001B[43mimshow\u001B[49m\u001B[43m(\u001B[49m\u001B[43mZ\u001B[49m\u001B[43m,\u001B[49m\u001B[43m \u001B[49m\u001B[38;5;241;43m*\u001B[39;49m\u001B[38;5;241;43m*\u001B[39;49m\u001B[43mkw\u001B[49m\u001B[43m)\u001B[49m\n\u001B[1;32m   7899\u001B[0m \u001B[38;5;28mself\u001B[39m\u001B[38;5;241m.\u001B[39mtitle\u001B[38;5;241m.\u001B[39mset_y(\u001B[38;5;241m1.05\u001B[39m)\n\u001B[1;32m   7900\u001B[0m \u001B[38;5;28mself\u001B[39m\u001B[38;5;241m.\u001B[39mxaxis\u001B[38;5;241m.\u001B[39mtick_top()\n",
      "File \u001B[0;32m~/Desktop/IndustrialML_ITMO/venv/lib/python3.9/site-packages/matplotlib/_api/deprecation.py:454\u001B[0m, in \u001B[0;36mmake_keyword_only.<locals>.wrapper\u001B[0;34m(*args, **kwargs)\u001B[0m\n\u001B[1;32m    448\u001B[0m \u001B[38;5;28;01mif\u001B[39;00m \u001B[38;5;28mlen\u001B[39m(args) \u001B[38;5;241m>\u001B[39m name_idx:\n\u001B[1;32m    449\u001B[0m     warn_deprecated(\n\u001B[1;32m    450\u001B[0m         since, message\u001B[38;5;241m=\u001B[39m\u001B[38;5;124m\"\u001B[39m\u001B[38;5;124mPassing the \u001B[39m\u001B[38;5;132;01m%(name)s\u001B[39;00m\u001B[38;5;124m \u001B[39m\u001B[38;5;132;01m%(obj_type)s\u001B[39;00m\u001B[38;5;124m \u001B[39m\u001B[38;5;124m\"\u001B[39m\n\u001B[1;32m    451\u001B[0m         \u001B[38;5;124m\"\u001B[39m\u001B[38;5;124mpositionally is deprecated since Matplotlib \u001B[39m\u001B[38;5;132;01m%(since)s\u001B[39;00m\u001B[38;5;124m; the \u001B[39m\u001B[38;5;124m\"\u001B[39m\n\u001B[1;32m    452\u001B[0m         \u001B[38;5;124m\"\u001B[39m\u001B[38;5;124mparameter will become keyword-only \u001B[39m\u001B[38;5;132;01m%(removal)s\u001B[39;00m\u001B[38;5;124m.\u001B[39m\u001B[38;5;124m\"\u001B[39m,\n\u001B[1;32m    453\u001B[0m         name\u001B[38;5;241m=\u001B[39mname, obj_type\u001B[38;5;241m=\u001B[39m\u001B[38;5;124mf\u001B[39m\u001B[38;5;124m\"\u001B[39m\u001B[38;5;124mparameter of \u001B[39m\u001B[38;5;132;01m{\u001B[39;00mfunc\u001B[38;5;241m.\u001B[39m\u001B[38;5;18m__name__\u001B[39m\u001B[38;5;132;01m}\u001B[39;00m\u001B[38;5;124m()\u001B[39m\u001B[38;5;124m\"\u001B[39m)\n\u001B[0;32m--> 454\u001B[0m \u001B[38;5;28;01mreturn\u001B[39;00m \u001B[43mfunc\u001B[49m\u001B[43m(\u001B[49m\u001B[38;5;241;43m*\u001B[39;49m\u001B[43margs\u001B[49m\u001B[43m,\u001B[49m\u001B[43m \u001B[49m\u001B[38;5;241;43m*\u001B[39;49m\u001B[38;5;241;43m*\u001B[39;49m\u001B[43mkwargs\u001B[49m\u001B[43m)\u001B[49m\n",
      "File \u001B[0;32m~/Desktop/IndustrialML_ITMO/venv/lib/python3.9/site-packages/matplotlib/__init__.py:1423\u001B[0m, in \u001B[0;36m_preprocess_data.<locals>.inner\u001B[0;34m(ax, data, *args, **kwargs)\u001B[0m\n\u001B[1;32m   1420\u001B[0m \u001B[38;5;129m@functools\u001B[39m\u001B[38;5;241m.\u001B[39mwraps(func)\n\u001B[1;32m   1421\u001B[0m \u001B[38;5;28;01mdef\u001B[39;00m \u001B[38;5;21minner\u001B[39m(ax, \u001B[38;5;241m*\u001B[39margs, data\u001B[38;5;241m=\u001B[39m\u001B[38;5;28;01mNone\u001B[39;00m, \u001B[38;5;241m*\u001B[39m\u001B[38;5;241m*\u001B[39mkwargs):\n\u001B[1;32m   1422\u001B[0m     \u001B[38;5;28;01mif\u001B[39;00m data \u001B[38;5;129;01mis\u001B[39;00m \u001B[38;5;28;01mNone\u001B[39;00m:\n\u001B[0;32m-> 1423\u001B[0m         \u001B[38;5;28;01mreturn\u001B[39;00m \u001B[43mfunc\u001B[49m\u001B[43m(\u001B[49m\u001B[43max\u001B[49m\u001B[43m,\u001B[49m\u001B[43m \u001B[49m\u001B[38;5;241;43m*\u001B[39;49m\u001B[38;5;28;43mmap\u001B[39;49m\u001B[43m(\u001B[49m\u001B[43msanitize_sequence\u001B[49m\u001B[43m,\u001B[49m\u001B[43m \u001B[49m\u001B[43margs\u001B[49m\u001B[43m)\u001B[49m\u001B[43m,\u001B[49m\u001B[43m \u001B[49m\u001B[38;5;241;43m*\u001B[39;49m\u001B[38;5;241;43m*\u001B[39;49m\u001B[43mkwargs\u001B[49m\u001B[43m)\u001B[49m\n\u001B[1;32m   1425\u001B[0m     bound \u001B[38;5;241m=\u001B[39m new_sig\u001B[38;5;241m.\u001B[39mbind(ax, \u001B[38;5;241m*\u001B[39margs, \u001B[38;5;241m*\u001B[39m\u001B[38;5;241m*\u001B[39mkwargs)\n\u001B[1;32m   1426\u001B[0m     auto_label \u001B[38;5;241m=\u001B[39m (bound\u001B[38;5;241m.\u001B[39marguments\u001B[38;5;241m.\u001B[39mget(label_namer)\n\u001B[1;32m   1427\u001B[0m                   \u001B[38;5;129;01mor\u001B[39;00m bound\u001B[38;5;241m.\u001B[39mkwargs\u001B[38;5;241m.\u001B[39mget(label_namer))\n",
      "File \u001B[0;32m~/Desktop/IndustrialML_ITMO/venv/lib/python3.9/site-packages/matplotlib/axes/_axes.py:5574\u001B[0m, in \u001B[0;36mAxes.imshow\u001B[0;34m(self, X, cmap, norm, aspect, interpolation, alpha, vmin, vmax, origin, extent, interpolation_stage, filternorm, filterrad, resample, url, **kwargs)\u001B[0m\n\u001B[1;32m   5566\u001B[0m \u001B[38;5;28mself\u001B[39m\u001B[38;5;241m.\u001B[39mset_aspect(aspect)\n\u001B[1;32m   5567\u001B[0m im \u001B[38;5;241m=\u001B[39m mimage\u001B[38;5;241m.\u001B[39mAxesImage(\u001B[38;5;28mself\u001B[39m, cmap\u001B[38;5;241m=\u001B[39mcmap, norm\u001B[38;5;241m=\u001B[39mnorm,\n\u001B[1;32m   5568\u001B[0m                       interpolation\u001B[38;5;241m=\u001B[39minterpolation, origin\u001B[38;5;241m=\u001B[39morigin,\n\u001B[1;32m   5569\u001B[0m                       extent\u001B[38;5;241m=\u001B[39mextent, filternorm\u001B[38;5;241m=\u001B[39mfilternorm,\n\u001B[1;32m   5570\u001B[0m                       filterrad\u001B[38;5;241m=\u001B[39mfilterrad, resample\u001B[38;5;241m=\u001B[39mresample,\n\u001B[1;32m   5571\u001B[0m                       interpolation_stage\u001B[38;5;241m=\u001B[39minterpolation_stage,\n\u001B[1;32m   5572\u001B[0m                       \u001B[38;5;241m*\u001B[39m\u001B[38;5;241m*\u001B[39mkwargs)\n\u001B[0;32m-> 5574\u001B[0m \u001B[43mim\u001B[49m\u001B[38;5;241;43m.\u001B[39;49m\u001B[43mset_data\u001B[49m\u001B[43m(\u001B[49m\u001B[43mX\u001B[49m\u001B[43m)\u001B[49m\n\u001B[1;32m   5575\u001B[0m im\u001B[38;5;241m.\u001B[39mset_alpha(alpha)\n\u001B[1;32m   5576\u001B[0m \u001B[38;5;28;01mif\u001B[39;00m im\u001B[38;5;241m.\u001B[39mget_clip_path() \u001B[38;5;129;01mis\u001B[39;00m \u001B[38;5;28;01mNone\u001B[39;00m:\n\u001B[1;32m   5577\u001B[0m     \u001B[38;5;66;03m# image does not already have clipping set, clip to axes patch\u001B[39;00m\n",
      "File \u001B[0;32m~/Desktop/IndustrialML_ITMO/venv/lib/python3.9/site-packages/matplotlib/image.py:710\u001B[0m, in \u001B[0;36m_ImageBase.set_data\u001B[0;34m(self, A)\u001B[0m\n\u001B[1;32m    706\u001B[0m     \u001B[38;5;28mself\u001B[39m\u001B[38;5;241m.\u001B[39m_A \u001B[38;5;241m=\u001B[39m \u001B[38;5;28mself\u001B[39m\u001B[38;5;241m.\u001B[39m_A[:, :, \u001B[38;5;241m0\u001B[39m]\n\u001B[1;32m    708\u001B[0m \u001B[38;5;28;01mif\u001B[39;00m \u001B[38;5;129;01mnot\u001B[39;00m (\u001B[38;5;28mself\u001B[39m\u001B[38;5;241m.\u001B[39m_A\u001B[38;5;241m.\u001B[39mndim \u001B[38;5;241m==\u001B[39m \u001B[38;5;241m2\u001B[39m\n\u001B[1;32m    709\u001B[0m         \u001B[38;5;129;01mor\u001B[39;00m \u001B[38;5;28mself\u001B[39m\u001B[38;5;241m.\u001B[39m_A\u001B[38;5;241m.\u001B[39mndim \u001B[38;5;241m==\u001B[39m \u001B[38;5;241m3\u001B[39m \u001B[38;5;129;01mand\u001B[39;00m \u001B[38;5;28mself\u001B[39m\u001B[38;5;241m.\u001B[39m_A\u001B[38;5;241m.\u001B[39mshape[\u001B[38;5;241m-\u001B[39m\u001B[38;5;241m1\u001B[39m] \u001B[38;5;129;01min\u001B[39;00m [\u001B[38;5;241m3\u001B[39m, \u001B[38;5;241m4\u001B[39m]):\n\u001B[0;32m--> 710\u001B[0m     \u001B[38;5;28;01mraise\u001B[39;00m \u001B[38;5;167;01mTypeError\u001B[39;00m(\u001B[38;5;124m\"\u001B[39m\u001B[38;5;124mInvalid shape \u001B[39m\u001B[38;5;132;01m{}\u001B[39;00m\u001B[38;5;124m for image data\u001B[39m\u001B[38;5;124m\"\u001B[39m\n\u001B[1;32m    711\u001B[0m                     \u001B[38;5;241m.\u001B[39mformat(\u001B[38;5;28mself\u001B[39m\u001B[38;5;241m.\u001B[39m_A\u001B[38;5;241m.\u001B[39mshape))\n\u001B[1;32m    713\u001B[0m \u001B[38;5;28;01mif\u001B[39;00m \u001B[38;5;28mself\u001B[39m\u001B[38;5;241m.\u001B[39m_A\u001B[38;5;241m.\u001B[39mndim \u001B[38;5;241m==\u001B[39m \u001B[38;5;241m3\u001B[39m:\n\u001B[1;32m    714\u001B[0m     \u001B[38;5;66;03m# If the input data has values outside the valid range (after\u001B[39;00m\n\u001B[1;32m    715\u001B[0m     \u001B[38;5;66;03m# normalisation), we issue a warning and then clip X to the bounds\u001B[39;00m\n\u001B[1;32m    716\u001B[0m     \u001B[38;5;66;03m# - otherwise casting wraps extreme values, hiding outliers and\u001B[39;00m\n\u001B[1;32m    717\u001B[0m     \u001B[38;5;66;03m# making reliable interpretation impossible.\u001B[39;00m\n\u001B[1;32m    718\u001B[0m     high \u001B[38;5;241m=\u001B[39m \u001B[38;5;241m255\u001B[39m \u001B[38;5;28;01mif\u001B[39;00m np\u001B[38;5;241m.\u001B[39missubdtype(\u001B[38;5;28mself\u001B[39m\u001B[38;5;241m.\u001B[39m_A\u001B[38;5;241m.\u001B[39mdtype, np\u001B[38;5;241m.\u001B[39minteger) \u001B[38;5;28;01melse\u001B[39;00m \u001B[38;5;241m1\u001B[39m\n",
      "\u001B[0;31mTypeError\u001B[0m: Invalid shape (24, 2, 2) for image data"
     ]
    },
    {
     "data": {
      "text/plain": "<Figure size 1500x1500 with 1 Axes>",
      "image/png": "[encoded data removed]"
     },
     "metadata": {},
     "output_type": "display_data"
    }
   ],
   "source": [
    "fig = plt.figure(figsize=(15,15))\n",
    "ax = fig.add_subplot(111)\n",
    "cax = ax.matshow(cm)\n",
    "plt.title('Confusion matrix')\n",
    "fig.colorbar(cax)\n",
    "ax.set_xticklabels([''] + CATEGORIES)\n",
    "ax.set_yticklabels([''] + CATEGORIES)\n",
    "plt.xlabel('Predicted')\n",
    "plt.ylabel('True')\n",
    "plt.show()"
   ],
   "metadata": {
    "collapsed": false
   }
  },
  {
   "cell_type": "code",
   "execution_count": null,
   "outputs": [],
   "source": [],
   "metadata": {
    "collapsed": false
   }
  }
 ],
 "metadata": {
  "kernelspec": {
   "display_name": "Python 3",
   "language": "python",
   "name": "python3"
  },
  "language_info": {
   "codemirror_mode": {
    "name": "ipython",
    "version": 2
   },
   "file_extension": ".py",
   "mimetype": "text/x-python",
   "name": "python",
   "nbconvert_exporter": "python",
   "pygments_lexer": "ipython2",
   "version": "2.7.6"
  }
 },
 "nbformat": 4,
 "nbformat_minor": 0
}

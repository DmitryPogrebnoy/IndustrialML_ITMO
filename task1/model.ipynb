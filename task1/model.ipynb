{
 "cells": [
  {
   "cell_type": "code",
   "execution_count": 14,
   "metadata": {
    "collapsed": true
   },
   "outputs": [],
   "source": [
    "import pandas as pd\n",
    "import numpy as np"
   ]
  },
  {
   "cell_type": "code",
   "execution_count": 15,
   "outputs": [
    {
     "data": {
      "text/plain": "              point     timestamp         count\ncount  3.550113e+06  3.550113e+06  3.550113e+06\nmean   3.498905e+03  5.001823e+03  2.334860e+00\nstd    1.953676e+03  2.688499e+03  4.190819e+00\nmin    1.000000e+00  0.000000e+00  1.000000e+00\n25%    1.869000e+03  2.708000e+03  1.000000e+00\n50%    3.575000e+03  5.265000e+03  1.000000e+00\n75%    5.159000e+03  7.275000e+03  2.000000e+00\nmax    7.036000e+03  9.503000e+03  6.000000e+02",
      "text/html": "<div>\n<style scoped>\n    .dataframe tbody tr th:only-of-type {\n        vertical-align: middle;\n    }\n\n    .dataframe tbody tr th {\n        vertical-align: top;\n    }\n\n    .dataframe thead th {\n        text-align: right;\n    }\n</style>\n<table border=\"1\" class=\"dataframe\">\n  <thead>\n    <tr style=\"text-align: right;\">\n      <th></th>\n      <th>point</th>\n      <th>timestamp</th>\n      <th>count</th>\n    </tr>\n  </thead>\n  <tbody>\n    <tr>\n      <th>count</th>\n      <td>3.550113e+06</td>\n      <td>3.550113e+06</td>\n      <td>3.550113e+06</td>\n    </tr>\n    <tr>\n      <th>mean</th>\n      <td>3.498905e+03</td>\n      <td>5.001823e+03</td>\n      <td>2.334860e+00</td>\n    </tr>\n    <tr>\n      <th>std</th>\n      <td>1.953676e+03</td>\n      <td>2.688499e+03</td>\n      <td>4.190819e+00</td>\n    </tr>\n    <tr>\n      <th>min</th>\n      <td>1.000000e+00</td>\n      <td>0.000000e+00</td>\n      <td>1.000000e+00</td>\n    </tr>\n    <tr>\n      <th>25%</th>\n      <td>1.869000e+03</td>\n      <td>2.708000e+03</td>\n      <td>1.000000e+00</td>\n    </tr>\n    <tr>\n      <th>50%</th>\n      <td>3.575000e+03</td>\n      <td>5.265000e+03</td>\n      <td>1.000000e+00</td>\n    </tr>\n    <tr>\n      <th>75%</th>\n      <td>5.159000e+03</td>\n      <td>7.275000e+03</td>\n      <td>2.000000e+00</td>\n    </tr>\n    <tr>\n      <th>max</th>\n      <td>7.036000e+03</td>\n      <td>9.503000e+03</td>\n      <td>6.000000e+02</td>\n    </tr>\n  </tbody>\n</table>\n</div>"
     },
     "execution_count": 15,
     "metadata": {},
     "output_type": "execute_result"
    }
   ],
   "source": [
    "df = pd.read_csv(\"./data/simple_preprocessed.csv\")\n",
    "df.describe()"
   ],
   "metadata": {
    "collapsed": false
   }
  },
  {
   "cell_type": "code",
   "execution_count": 16,
   "outputs": [],
   "source": [
    "count_type = np.int16\n",
    "df[\"count\"] = df[\"count\"].astype(count_type)"
   ],
   "metadata": {
    "collapsed": false
   }
  },
  {
   "cell_type": "code",
   "execution_count": 17,
   "outputs": [
    {
     "name": "stdout",
     "output_type": "stream",
     "text": [
      "149\n"
     ]
    },
    {
     "data": {
      "text/plain": "     timestamp  count\n400       9876      5\n401      10072     14\n402       9731      8\n403      10116      5\n404       9635      5\n405       9609      7\n406       9681      5\n407      10045      8\n408       9549      5\n409       9734      5\n410       9900      5\n411       9904      9\n412      10191      5\n413      10096     12\n414      10051      8",
      "text/html": "<div>\n<style scoped>\n    .dataframe tbody tr th:only-of-type {\n        vertical-align: middle;\n    }\n\n    .dataframe tbody tr th {\n        vertical-align: top;\n    }\n\n    .dataframe thead th {\n        text-align: right;\n    }\n</style>\n<table border=\"1\" class=\"dataframe\">\n  <thead>\n    <tr style=\"text-align: right;\">\n      <th></th>\n      <th>timestamp</th>\n      <th>count</th>\n    </tr>\n  </thead>\n  <tbody>\n    <tr>\n      <th>400</th>\n      <td>9876</td>\n      <td>5</td>\n    </tr>\n    <tr>\n      <th>401</th>\n      <td>10072</td>\n      <td>14</td>\n    </tr>\n    <tr>\n      <th>402</th>\n      <td>9731</td>\n      <td>8</td>\n    </tr>\n    <tr>\n      <th>403</th>\n      <td>10116</td>\n      <td>5</td>\n    </tr>\n    <tr>\n      <th>404</th>\n      <td>9635</td>\n      <td>5</td>\n    </tr>\n    <tr>\n      <th>405</th>\n      <td>9609</td>\n      <td>7</td>\n    </tr>\n    <tr>\n      <th>406</th>\n      <td>9681</td>\n      <td>5</td>\n    </tr>\n    <tr>\n      <th>407</th>\n      <td>10045</td>\n      <td>8</td>\n    </tr>\n    <tr>\n      <th>408</th>\n      <td>9549</td>\n      <td>5</td>\n    </tr>\n    <tr>\n      <th>409</th>\n      <td>9734</td>\n      <td>5</td>\n    </tr>\n    <tr>\n      <th>410</th>\n      <td>9900</td>\n      <td>5</td>\n    </tr>\n    <tr>\n      <th>411</th>\n      <td>9904</td>\n      <td>9</td>\n    </tr>\n    <tr>\n      <th>412</th>\n      <td>10191</td>\n      <td>5</td>\n    </tr>\n    <tr>\n      <th>413</th>\n      <td>10096</td>\n      <td>12</td>\n    </tr>\n    <tr>\n      <th>414</th>\n      <td>10051</td>\n      <td>8</td>\n    </tr>\n  </tbody>\n</table>\n</div>"
     },
     "execution_count": 17,
     "metadata": {},
     "output_type": "execute_result"
    }
   ],
   "source": [
    "start_hour = pd.read_csv(\"./data/preprocessed.csv\")[\"timestamp\"].min()\n",
    "test_df = pd.read_csv(\"./data/source/test.csv\")\n",
    "points_df = pd.read_csv(\"./data/points_df.csv\")\n",
    "test_df.drop(columns=[\"lat\", \"lon\", \"error\"], inplace=True)\n",
    "test_df[\"hour\"] -= start_hour\n",
    "test_df[\"hour\"] /= 60 * 60\n",
    "test_df[\"hour\"] = test_df[\"hour\"].astype(int)\n",
    "test_df = test_df.merge(points_df, left_on=\"point\", right_on=\"initial_point\")\n",
    "test_df.drop(columns=[\"point\", \"initial_point\"], inplace=True)\n",
    "test_df.rename(columns={\"hour\": \"timestamp\", \"new_point\": \"point\", \"sum\": \"count\"},inplace=True)\n",
    "test_df[\"count\"] = test_df[\"count\"].astype(count_type)\n",
    "test_data_per_point = {point: data.drop(columns=[\"point\"]) for point, data in  test_df.groupby(\"point\")}\n",
    "print(len(test_data_per_point))\n",
    "test_data_per_point[917]"
   ],
   "metadata": {
    "collapsed": false
   }
  },
  {
   "cell_type": "code",
   "execution_count": 18,
   "outputs": [
    {
     "data": {
      "text/plain": "          timestamp       count        point\ncount    700.000000  700.000000   700.000000\nmean    9846.421429    9.682857  3663.240000\nstd      199.468710    6.430390  1897.835651\nmin     9510.000000    5.000000   214.000000\n25%     9682.000000    5.000000  2122.000000\n50%     9844.500000    7.000000  4191.000000\n75%    10025.000000   11.000000  5238.000000\nmax    10197.000000   40.000000  6843.000000",
      "text/html": "<div>\n<style scoped>\n    .dataframe tbody tr th:only-of-type {\n        vertical-align: middle;\n    }\n\n    .dataframe tbody tr th {\n        vertical-align: top;\n    }\n\n    .dataframe thead th {\n        text-align: right;\n    }\n</style>\n<table border=\"1\" class=\"dataframe\">\n  <thead>\n    <tr style=\"text-align: right;\">\n      <th></th>\n      <th>timestamp</th>\n      <th>count</th>\n      <th>point</th>\n    </tr>\n  </thead>\n  <tbody>\n    <tr>\n      <th>count</th>\n      <td>700.000000</td>\n      <td>700.000000</td>\n      <td>700.000000</td>\n    </tr>\n    <tr>\n      <th>mean</th>\n      <td>9846.421429</td>\n      <td>9.682857</td>\n      <td>3663.240000</td>\n    </tr>\n    <tr>\n      <th>std</th>\n      <td>199.468710</td>\n      <td>6.430390</td>\n      <td>1897.835651</td>\n    </tr>\n    <tr>\n      <th>min</th>\n      <td>9510.000000</td>\n      <td>5.000000</td>\n      <td>214.000000</td>\n    </tr>\n    <tr>\n      <th>25%</th>\n      <td>9682.000000</td>\n      <td>5.000000</td>\n      <td>2122.000000</td>\n    </tr>\n    <tr>\n      <th>50%</th>\n      <td>9844.500000</td>\n      <td>7.000000</td>\n      <td>4191.000000</td>\n    </tr>\n    <tr>\n      <th>75%</th>\n      <td>10025.000000</td>\n      <td>11.000000</td>\n      <td>5238.000000</td>\n    </tr>\n    <tr>\n      <th>max</th>\n      <td>10197.000000</td>\n      <td>40.000000</td>\n      <td>6843.000000</td>\n    </tr>\n  </tbody>\n</table>\n</div>"
     },
     "execution_count": 18,
     "metadata": {},
     "output_type": "execute_result"
    }
   ],
   "source": [
    "test_df.describe()"
   ],
   "metadata": {
    "collapsed": false
   }
  },
  {
   "cell_type": "code",
   "execution_count": 19,
   "outputs": [
    {
     "data": {
      "text/plain": "147"
     },
     "execution_count": 19,
     "metadata": {},
     "output_type": "execute_result"
    }
   ],
   "source": [
    "data_per_point = {point: data.drop(columns=[\"point\"]) for point, data in df.groupby(\"point\") if point in test_data_per_point}\n",
    "len(data_per_point)"
   ],
   "metadata": {
    "collapsed": false
   }
  },
  {
   "cell_type": "code",
   "execution_count": 20,
   "outputs": [
    {
     "data": {
      "text/plain": "        timestamp  count\n412096          1      1\n412097          2      1\n412098          5      1\n412099          8      1\n412100         10      2\n...           ...    ...\n418614       9499     11\n418615       9500      4\n418616       9501      5\n418617       9502      1\n418618       9503      1\n\n[6523 rows x 2 columns]",
      "text/html": "<div>\n<style scoped>\n    .dataframe tbody tr th:only-of-type {\n        vertical-align: middle;\n    }\n\n    .dataframe tbody tr th {\n        vertical-align: top;\n    }\n\n    .dataframe thead th {\n        text-align: right;\n    }\n</style>\n<table border=\"1\" class=\"dataframe\">\n  <thead>\n    <tr style=\"text-align: right;\">\n      <th></th>\n      <th>timestamp</th>\n      <th>count</th>\n    </tr>\n  </thead>\n  <tbody>\n    <tr>\n      <th>412096</th>\n      <td>1</td>\n      <td>1</td>\n    </tr>\n    <tr>\n      <th>412097</th>\n      <td>2</td>\n      <td>1</td>\n    </tr>\n    <tr>\n      <th>412098</th>\n      <td>5</td>\n      <td>1</td>\n    </tr>\n    <tr>\n      <th>412099</th>\n      <td>8</td>\n      <td>1</td>\n    </tr>\n    <tr>\n      <th>412100</th>\n      <td>10</td>\n      <td>2</td>\n    </tr>\n    <tr>\n      <th>...</th>\n      <td>...</td>\n      <td>...</td>\n    </tr>\n    <tr>\n      <th>418614</th>\n      <td>9499</td>\n      <td>11</td>\n    </tr>\n    <tr>\n      <th>418615</th>\n      <td>9500</td>\n      <td>4</td>\n    </tr>\n    <tr>\n      <th>418616</th>\n      <td>9501</td>\n      <td>5</td>\n    </tr>\n    <tr>\n      <th>418617</th>\n      <td>9502</td>\n      <td>1</td>\n    </tr>\n    <tr>\n      <th>418618</th>\n      <td>9503</td>\n      <td>1</td>\n    </tr>\n  </tbody>\n</table>\n<p>6523 rows × 2 columns</p>\n</div>"
     },
     "execution_count": 20,
     "metadata": {},
     "output_type": "execute_result"
    }
   ],
   "source": [
    "data_per_point[917]"
   ],
   "metadata": {
    "collapsed": false
   }
  },
  {
   "cell_type": "code",
   "execution_count": 21,
   "outputs": [
    {
     "name": "stdout",
     "output_type": "stream",
     "text": [
      "9504\n"
     ]
    }
   ],
   "source": [
    "total_hours = df[\"timestamp\"].values.ptp() + 1\n",
    "print(total_hours)\n",
    "def transform_to_full_time(point_df):\n",
    "    \"\"\"\n",
    "    Transform sparce dataframe with number of posts at exact hour into\n",
    "    a list with hours as indices.\n",
    "    \"\"\"\n",
    "    data = np.zeros(total_hours, dtype=count_type)\n",
    "    for time, count in point_df.values:\n",
    "        data[time] = count\n",
    "    return data"
   ],
   "metadata": {
    "collapsed": false
   }
  },
  {
   "cell_type": "code",
   "execution_count": 22,
   "outputs": [],
   "source": [
    "data_per_point = {point: transform_to_full_time(data) for point, data in data_per_point.items()}"
   ],
   "metadata": {
    "collapsed": false
   }
  },
  {
   "cell_type": "code",
   "execution_count": 23,
   "outputs": [
    {
     "data": {
      "text/plain": "18816"
     },
     "execution_count": 23,
     "metadata": {},
     "output_type": "execute_result"
    }
   ],
   "source": [
    "data_per_point[917].sum()"
   ],
   "metadata": {
    "collapsed": false
   }
  },
  {
   "cell_type": "code",
   "execution_count": 24,
   "outputs": [],
   "source": [
    "lag = 30 * 24\n",
    "roll = 30 * 24\n",
    "hidden = 100\n",
    "batch = 10\n",
    "epochs = 25"
   ],
   "metadata": {
    "collapsed": false
   }
  },
  {
   "cell_type": "code",
   "execution_count": 25,
   "outputs": [],
   "source": [
    "from tensorflow.keras.models import Sequential\n",
    "from tensorflow.keras.layers import Dense, LSTM\n",
    "\n",
    "def timeline_to_windows(data):\n",
    "    n = data.shape[0]\n",
    "    return np.array([data[i: i + lag + roll] for i in range(n - (lag + roll))])\n",
    "\n",
    "def target_loss(prediction, ground_truth, prediction_start):\n",
    "    s = 0\n",
    "    for hour, true_count in ground_truth.values:\n",
    "        predicted_count = prediction[hour - prediction_start]\n",
    "        if predicted_count == 0:\n",
    "            s += 0 if true_count == 0 else 1\n",
    "        else:\n",
    "            s += abs(predicted_count - true_count) / predicted_count\n",
    "    return s\n",
    "\n",
    "def train_validate(train, test, data):\n",
    "    X, y = train[:, :lag], train[:, lag:]\n",
    "    X = X.reshape(X.shape[0], 1, X.shape[1])\n",
    "    model = Sequential()\n",
    "\n",
    "    model.add(LSTM(hidden, input_shape=(X.shape[1], X.shape[2]), dropout=0.5))\n",
    "    model.add(Dense(y.shape[1], activation='relu'))\n",
    "    model.compile(loss='mean_squared_error')\n",
    "    model.fit(X, y, validation_split=0.2, epochs=epochs, batch_size=batch, verbose=0, shuffle=True)\n",
    "\n",
    "    X = data[-lag:]\n",
    "    X = X.reshape(1, 1, len(X))\n",
    "    forecast = model.predict(X, batch_size=batch, verbose=0).reshape(-1)\n",
    "    forecast = list(map(round, forecast))\n",
    "    return target_loss(forecast, test, len(data))"
   ],
   "metadata": {
    "collapsed": false
   }
  },
  {
   "cell_type": "code",
   "execution_count": 26,
   "outputs": [
    {
     "name": "stdout",
     "output_type": "stream",
     "text": [
      "Predict point: 214 Loss: 4.0 Average posts per hour: 0.8745791245791246 Test points: 1\n",
      "Predict point: 296 Loss: 0.9791666666666667 Average posts per hour: 2.768097643097643 Test points: 4\n",
      "Predict point: 329 Loss: 5.0 Average posts per hour: 0.9394991582491582 Test points: 4\n",
      "WARNING:tensorflow:5 out of the last 5 calls to <function Model.make_predict_function.<locals>.predict_function at 0x14110bdc0> triggered tf.function retracing. Tracing is expensive and the excessive number of tracings could be due to (1) creating @tf.function repeatedly in a loop, (2) passing tensors with different shapes, (3) passing Python objects instead of tensors. For (1), please define your @tf.function outside of the loop. For (2), @tf.function has reduce_retracing=True option that can avoid unnecessary retracing. For (3), please refer to https://www.tensorflow.org/guide/function#controlling_retracing and https://www.tensorflow.org/api_docs/python/tf/function for  more details.\n",
      "Predict point: 431 Loss: 0.25 Average posts per hour: 2.310395622895623 Test points: 1\n",
      "WARNING:tensorflow:6 out of the last 6 calls to <function Model.make_predict_function.<locals>.predict_function at 0x13fd3dca0> triggered tf.function retracing. Tracing is expensive and the excessive number of tracings could be due to (1) creating @tf.function repeatedly in a loop, (2) passing tensors with different shapes, (3) passing Python objects instead of tensors. For (1), please define your @tf.function outside of the loop. For (2), @tf.function has reduce_retracing=True option that can avoid unnecessary retracing. For (3), please refer to https://www.tensorflow.org/guide/function#controlling_retracing and https://www.tensorflow.org/api_docs/python/tf/function for  more details.\n",
      "Predict point: 449 Loss: 6.416666666666667 Average posts per hour: 2.0467171717171717 Test points: 18\n",
      "Predict point: 566 Loss: 0.6666666666666666 Average posts per hour: 1.4433922558922558 Test points: 1\n",
      "Predict point: 700 Loss: 1.3333333333333333 Average posts per hour: 0.9214015151515151 Test points: 1\n",
      "Predict point: 702 Loss: 7.5 Average posts per hour: 1.364057239057239 Test points: 1\n",
      "Predict point: 715 Loss: 0.34767531685215175 Average posts per hour: 7.4602272727272725 Test points: 17\n",
      "Predict point: 722 Loss: 2.75 Average posts per hour: 1.0710227272727273 Test points: 2\n",
      "Predict point: 817 Loss: 3.5 Average posts per hour: 1.1194234006734007 Test points: 1\n",
      "Predict point: 828 Loss: 2.75 Average posts per hour: 1.6931818181818181 Test points: 2\n",
      "Predict point: 869 Loss: 1.0 Average posts per hour: 1.539983164983165 Test points: 6\n",
      "Predict point: 874 Loss: 1.5 Average posts per hour: 1.2447390572390573 Test points: 1\n",
      "Predict point: 887 Loss: 0.8333333333333333 Average posts per hour: 1.3903619528619529 Test points: 2\n",
      "Predict point: 917 Loss: 1.9444444444444444 Average posts per hour: 1.97979797979798 Test points: 15\n",
      "Predict point: 920 Loss: 1.3888888888888886 Average posts per hour: 1.1908670033670035 Test points: 3\n",
      "Predict point: 924 Loss: 5.0 Average posts per hour: 0.4762205387205387 Test points: 1\n",
      "Predict point: 938 Loss: 0.7785714285714286 Average posts per hour: 2.346696127946128 Test points: 14\n",
      "Predict point: 950 Loss: 4.0 Average posts per hour: 0.8579545454545454 Test points: 2\n",
      "Predict point: 1033 Loss: 0.6666666666666666 Average posts per hour: 1.8882575757575757 Test points: 3\n",
      "Predict point: 1039 Loss: 2.0 Average posts per hour: 1.0993265993265993 Test points: 2\n",
      "Predict point: 1048 Loss: 0.6666666666666666 Average posts per hour: 1.6474116161616161 Test points: 1\n",
      "Predict point: 1114 Loss: 0.3444444444444444 Average posts per hour: 1.9351851851851851 Test points: 9\n",
      "Predict point: 1135 Loss: 0.16576055523423944 Average posts per hour: 12.464751683501683 Test points: 7\n",
      "Predict point: 1151 Loss: 1.472222222222222 Average posts per hour: 2.383522727272727 Test points: 3\n",
      "Predict point: 1227 Loss: 5.0 Average posts per hour: 1.1362584175084176 Test points: 1\n",
      "Predict point: 1231 Loss: 1.5 Average posts per hour: 1.0753367003367003 Test points: 1\n",
      "Predict point: 1235 Loss: 4.895833333333333 Average posts per hour: 2.691287878787879 Test points: 4\n",
      "Predict point: 1276 Loss: 1.5 Average posts per hour: 0.8683712121212122 Test points: 1\n",
      "Predict point: 1293 Loss: 0.6666666666666666 Average posts per hour: 1.6877104377104377 Test points: 1\n",
      "Predict point: 1341 Loss: 1.0 Average posts per hour: 0.9218223905723906 Test points: 3\n",
      "Predict point: 1484 Loss: 1.5 Average posts per hour: 0.9477062289562289 Test points: 1\n",
      "Predict point: 1685 Loss: 0.20833333333333331 Average posts per hour: 5.832596801346801 Test points: 5\n",
      "Predict point: 1821 Loss: 4.0 Average posts per hour: 0.5935395622895623 Test points: 1\n",
      "Predict point: 1880 Loss: 1.5 Average posts per hour: 1.1168981481481481 Test points: 1\n",
      "Predict point: 1885 Loss: 0.6666666666666666 Average posts per hour: 2.1689814814814814 Test points: 3\n",
      "Point 1907 is not found in train data!!!\n",
      "Predict point: 1984 Loss: 1.0 Average posts per hour: 0.22948232323232323 Test points: 1\n",
      "Predict point: 2093 Loss: 1.8333333333333333 Average posts per hour: 0.8694234006734006 Test points: 2\n",
      "Predict point: 2096 Loss: 0.6666666666666666 Average posts per hour: 1.3119739057239057 Test points: 2\n",
      "Predict point: 2119 Loss: 0.5470588235294118 Average posts per hour: 5.178556397306397 Test points: 17\n",
      "Predict point: 2122 Loss: 3.961538461538462 Average posts per hour: 5.263152356902357 Test points: 13\n",
      "Predict point: 2244 Loss: 3.3479166666666664 Average posts per hour: 4.151304713804714 Test points: 8\n",
      "Predict point: 2288 Loss: 2.0 Average posts per hour: 1.2800925925925926 Test points: 3\n",
      "Predict point: 2299 Loss: 0.16534391534391532 Average posts per hour: 3.6479377104377106 Test points: 9\n",
      "Predict point: 2338 Loss: 1.5 Average posts per hour: 1.4106691919191918 Test points: 1\n",
      "Predict point: 2347 Loss: 4.0 Average posts per hour: 0.5752314814814815 Test points: 1\n",
      "Predict point: 2370 Loss: 1.1875 Average posts per hour: 3.1244739057239057 Test points: 4\n",
      "Predict point: 2386 Loss: 4.0 Average posts per hour: 1.0956439393939394 Test points: 1\n",
      "Predict point: 2425 Loss: 4.0 Average posts per hour: 0.8637415824915825 Test points: 1\n",
      "Predict point: 2486 Loss: 2.8333333333333335 Average posts per hour: 1.2949284511784511 Test points: 3\n",
      "Predict point: 2498 Loss: 1.0 Average posts per hour: 0.15919612794612795 Test points: 1\n",
      "Predict point: 2517 Loss: 1.1666666666666667 Average posts per hour: 1.9340277777777777 Test points: 4\n",
      "Predict point: 2577 Loss: 1.755952380952381 Average posts per hour: 3.6878156565656566 Test points: 14\n",
      "Predict point: 2603 Loss: 0.4166666666666667 Average posts per hour: 2.432975589225589 Test points: 4\n",
      "Predict point: 2664 Loss: 4.0 Average posts per hour: 1.0642887205387206 Test points: 1\n",
      "Predict point: 2672 Loss: 1.625 Average posts per hour: 3.1040614478114477 Test points: 2\n",
      "Predict point: 2675 Loss: 0.5354388036206218 Average posts per hour: 12.101325757575758 Test points: 11\n",
      "Predict point: 2705 Loss: 0.42857142857142855 Average posts per hour: 4.594381313131313 Test points: 3\n",
      "Predict point: 2710 Loss: 0.3844104308390022 Average posts per hour: 2.8526936026936025 Test points: 7\n",
      "Predict point: 2715 Loss: 5.0 Average posts per hour: 0.9181397306397306 Test points: 2\n",
      "Predict point: 2804 Loss: 1.7777777777777777 Average posts per hour: 2.1415193602693603 Test points: 3\n",
      "Predict point: 2809 Loss: 0.5840740740740741 Average posts per hour: 20.62857744107744 Test points: 9\n",
      "Predict point: 2909 Loss: 1.5 Average posts per hour: 0.970223063973064 Test points: 1\n",
      "Predict point: 2998 Loss: 0.6367647058823529 Average posts per hour: 9.927609427609427 Test points: 17\n",
      "Predict point: 3322 Loss: 1.5 Average posts per hour: 0.8864688552188552 Test points: 1\n",
      "Predict point: 3449 Loss: 0.8888888888888888 Average posts per hour: 2.012415824915825 Test points: 9\n",
      "Predict point: 3487 Loss: 1.5 Average posts per hour: 1.047243265993266 Test points: 1\n",
      "Predict point: 3719 Loss: 1.5 Average posts per hour: 1.5083122895622896 Test points: 1\n",
      "Predict point: 3743 Loss: 1.5208333333333333 Average posts per hour: 1.7764099326599327 Test points: 8\n",
      "Predict point: 3791 Loss: 1.4583333333333333 Average posts per hour: 1.3613215488215489 Test points: 4\n",
      "Predict point: 3804 Loss: 1.5 Average posts per hour: 2.1326809764309766 Test points: 2\n",
      "Predict point: 3823 Loss: 0.1 Average posts per hour: 2.491372053872054 Test points: 2\n",
      "Predict point: 3834 Loss: 1.5 Average posts per hour: 1.1313131313131313 Test points: 1\n",
      "Predict point: 3848 Loss: 0.2222222222222222 Average posts per hour: 2.4174031986531985 Test points: 9\n",
      "Predict point: 3874 Loss: 1.5 Average posts per hour: 0.7649410774410774 Test points: 1\n",
      "Predict point: 3918 Loss: 10.5 Average posts per hour: 2.0918560606060606 Test points: 1\n",
      "Predict point: 3938 Loss: 1.1796296296296296 Average posts per hour: 3.0315656565656566 Test points: 9\n",
      "Predict point: 4069 Loss: 0.6 Average posts per hour: 2.244107744107744 Test points: 2\n",
      "Predict point: 4077 Loss: 2.0 Average posts per hour: 1.3159722222222223 Test points: 1\n",
      "Predict point: 4191 Loss: 0.7021130104463438 Average posts per hour: 10.989267676767676 Test points: 18\n",
      "Predict point: 4203 Loss: 3.0 Average posts per hour: 1.3325968013468013 Test points: 1\n",
      "Predict point: 4219 Loss: 0.6666666666666666 Average posts per hour: 1.5772306397306397 Test points: 1\n",
      "Predict point: 4222 Loss: 2.0 Average posts per hour: 1.1188973063973064 Test points: 1\n",
      "Predict point: 4225 Loss: 2.5 Average posts per hour: 1.1990740740740742 Test points: 4\n",
      "Predict point: 4238 Loss: 0.9479166666666666 Average posts per hour: 3.655408249158249 Test points: 12\n",
      "Predict point: 4242 Loss: 0.6916666666666665 Average posts per hour: 3.4750631313131315 Test points: 6\n",
      "Predict point: 4243 Loss: 1.75 Average posts per hour: 1.6490951178451179 Test points: 2\n",
      "Predict point: 4279 Loss: 2.0 Average posts per hour: 1.4300294612794613 Test points: 1\n",
      "Predict point: 4331 Loss: 0.23214285714285715 Average posts per hour: 2.984848484848485 Test points: 4\n",
      "Predict point: 4338 Loss: 0.35779220779220783 Average posts per hour: 5.277777777777778 Test points: 11\n",
      "Predict point: 4342 Loss: 0.19999999999999998 Average posts per hour: 3.1392045454545454 Test points: 8\n",
      "Predict point: 4343 Loss: 0.7579365079365079 Average posts per hour: 2.563236531986532 Test points: 6\n",
      "Predict point: 4354 Loss: 1.05 Average posts per hour: 3.6479377104377106 Test points: 10\n",
      "Predict point: 4361 Loss: 4.0 Average posts per hour: 1.2599957912457913 Test points: 1\n",
      "Predict point: 4425 Loss: 1.5 Average posts per hour: 0.7489478114478114 Test points: 1\n",
      "Predict point: 4426 Loss: 15.0 Average posts per hour: 3.009995791245791 Test points: 10\n",
      "Predict point: 4452 Loss: 0.25 Average posts per hour: 2.8130260942760943 Test points: 1\n",
      "Predict point: 4463 Loss: 1.0 Average posts per hour: 0.19749579124579125 Test points: 1\n",
      "Predict point: 4480 Loss: 0.4 Average posts per hour: 2.1312079124579126 Test points: 1\n",
      "Predict point: 4493 Loss: 3.0 Average posts per hour: 0.9764309764309764 Test points: 1\n",
      "Predict point: 4537 Loss: 0.375 Average posts per hour: 2.539772727272727 Test points: 2\n",
      "Predict point: 4637 Loss: 1.124404761904762 Average posts per hour: 3.419191919191919 Test points: 12\n",
      "Predict point: 4652 Loss: 1.8333333333333333 Average posts per hour: 1.8113425925925926 Test points: 2\n",
      "Predict point: 4771 Loss: 0.7 Average posts per hour: 1.3273358585858586 Test points: 5\n",
      "Predict point: 4787 Loss: 1.4666666666666666 Average posts per hour: 1.7398989898989898 Test points: 10\n",
      "Predict point: 4832 Loss: 0.6833333333333333 Average posts per hour: 1.8999368686868687 Test points: 5\n",
      "Predict point: 4891 Loss: 0.9791666666666666 Average posts per hour: 1.957807239057239 Test points: 4\n",
      "Predict point: 5063 Loss: 0.7538461538461539 Average posts per hour: 3.1755050505050506 Test points: 13\n",
      "Predict point: 5137 Loss: 1.5 Average posts per hour: 0.9648569023569024 Test points: 1\n",
      "Predict point: 5156 Loss: 1.5 Average posts per hour: 0.8513257575757576 Test points: 1\n",
      "Predict point: 5181 Loss: 0.09523809523809523 Average posts per hour: 2.796506734006734 Test points: 3\n",
      "Predict point: 5238 Loss: 0.9133578409894199 Average posts per hour: 7.055765993265993 Test points: 19\n",
      "Predict point: 5241 Loss: 1.5 Average posts per hour: 0.9260311447811448 Test points: 1\n",
      "Point 5332 is not found in train data!!!\n",
      "Predict point: 5386 Loss: 0.14190476190476192 Average posts per hour: 3.9707491582491583 Test points: 5\n",
      "Predict point: 5414 Loss: 1.3732215007215007 Average posts per hour: 15.276830808080808 Test points: 10\n",
      "Predict point: 5445 Loss: 2.5 Average posts per hour: 0.5442971380471381 Test points: 1\n",
      "Predict point: 5510 Loss: 5.0 Average posts per hour: 0.8349116161616161 Test points: 1\n",
      "Predict point: 5536 Loss: 2.8333333333333335 Average posts per hour: 1.2270622895622896 Test points: 2\n",
      "Predict point: 5635 Loss: 0.6148192450824029 Average posts per hour: 7.261679292929293 Test points: 19\n",
      "Predict point: 5668 Loss: 1.5 Average posts per hour: 1.9699074074074074 Test points: 1\n",
      "Predict point: 5757 Loss: 1.75 Average posts per hour: 1.3660563973063973 Test points: 2\n",
      "Predict point: 5758 Loss: 6.0 Average posts per hour: 0.9151936026936027 Test points: 1\n",
      "Predict point: 5902 Loss: 4.0 Average posts per hour: 1.0506102693602695 Test points: 1\n",
      "Predict point: 5922 Loss: 0.6 Average posts per hour: 1.8523779461279462 Test points: 1\n",
      "Predict point: 5932 Loss: 0.6666666666666666 Average posts per hour: 3.310290404040404 Test points: 3\n",
      "Predict point: 5952 Loss: 0.3666666666666667 Average posts per hour: 2.4276094276094278 Test points: 3\n",
      "Predict point: 5957 Loss: 1.711904761904762 Average posts per hour: 2.8860479797979797 Test points: 7\n",
      "Predict point: 6037 Loss: 0.3246320346320346 Average posts per hour: 4.868476430976431 Test points: 10\n",
      "Predict point: 6069 Loss: 0.6666666666666666 Average posts per hour: 1.6887626262626263 Test points: 2\n",
      "Predict point: 6073 Loss: 1.4444444444444444 Average posts per hour: 1.5108375420875422 Test points: 3\n",
      "Predict point: 6076 Loss: 1.3250000000000002 Average posts per hour: 5.365319865319865 Test points: 8\n",
      "Predict point: 6153 Loss: 0.4375 Average posts per hour: 1.5107323232323233 Test points: 4\n",
      "Predict point: 6155 Loss: 1.5 Average posts per hour: 1.1208964646464648 Test points: 1\n",
      "Predict point: 6243 Loss: 0.8333333333333334 Average posts per hour: 2.9066708754208754 Test points: 7\n",
      "Predict point: 6245 Loss: 4.0 Average posts per hour: 0.7160143097643098 Test points: 1\n",
      "Predict point: 6269 Loss: 0.625 Average posts per hour: 1.4214015151515151 Test points: 2\n",
      "Predict point: 6277 Loss: 1.1666666666666667 Average posts per hour: 1.6423611111111112 Test points: 3\n",
      "Predict point: 6284 Loss: 2.5 Average posts per hour: 1.2948232323232323 Test points: 1\n",
      "Predict point: 6305 Loss: 0.6208333333333335 Average posts per hour: 2.44760101010101 Test points: 8\n",
      "Predict point: 6395 Loss: 1.277777777777778 Average posts per hour: 1.1790824915824916 Test points: 3\n",
      "Predict point: 6469 Loss: 5.0 Average posts per hour: 0.6503577441077442 Test points: 1\n",
      "Predict point: 6470 Loss: 0.40925925925925927 Average posts per hour: 3.380155723905724 Test points: 9\n",
      "Predict point: 6515 Loss: 1.2154320987654321 Average posts per hour: 4.62962962962963 Test points: 27\n",
      "Predict point: 6674 Loss: 1.5 Average posts per hour: 1.17371632996633 Test points: 1\n",
      "Predict point: 6697 Loss: 1.5 Average posts per hour: 1.8187079124579124 Test points: 3\n",
      "Predict point: 6843 Loss: 1.9333333333333336 Average posts per hour: 1.6967592592592593 Test points: 5\n",
      "Total loss:  1.5555112147380228\n"
     ]
    }
   ],
   "source": [
    "loss = 0\n",
    "points = 0\n",
    "for point, test in test_data_per_point.items():\n",
    "    if point not in data_per_point:\n",
    "        print(f\"Point {point} is not found in train data!!!\")\n",
    "        continue\n",
    "    points += test.shape[0]\n",
    "    data = data_per_point[point]\n",
    "    windows = timeline_to_windows(data)\n",
    "    cur_loss = train_validate(windows, test, data)\n",
    "    loss += cur_loss\n",
    "    print(\"Predict point:\", point, \"Loss:\", cur_loss / test.shape[0], \"Average posts per hour:\", np.mean(data), \"Test points:\", test.shape[0])\n",
    "print(\"Total loss: \", loss / points)"
   ],
   "metadata": {
    "collapsed": false
   }
  },
  {
   "cell_type": "code",
   "execution_count": 26,
   "outputs": [],
   "source": [],
   "metadata": {
    "collapsed": false
   }
  }
 ],
 "metadata": {
  "kernelspec": {
   "display_name": "Python 3",
   "language": "python",
   "name": "python3"
  },
  "language_info": {
   "codemirror_mode": {
    "name": "ipython",
    "version": 2
   },
   "file_extension": ".py",
   "mimetype": "text/x-python",
   "name": "python",
   "nbconvert_exporter": "python",
   "pygments_lexer": "ipython2",
   "version": "2.7.6"
  }
 },
 "nbformat": 4,
 "nbformat_minor": 0
}

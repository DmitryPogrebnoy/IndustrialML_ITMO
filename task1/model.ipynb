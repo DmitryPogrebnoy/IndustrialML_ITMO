{
 "cells": [
  {
   "cell_type": "code",
   "execution_count": 1,
   "metadata": {
    "collapsed": true
   },
   "outputs": [],
   "source": [
    "import pandas as pd\n",
    "import numpy as np"
   ]
  },
  {
   "cell_type": "code",
   "execution_count": 2,
   "outputs": [
    {
     "data": {
      "text/plain": "              point     timestamp         count\ncount  3.550113e+06  3.550113e+06  3.550113e+06\nmean   3.498905e+03  5.001823e+03  2.334860e+00\nstd    1.953676e+03  2.688499e+03  4.190819e+00\nmin    1.000000e+00  0.000000e+00  1.000000e+00\n25%    1.869000e+03  2.708000e+03  1.000000e+00\n50%    3.575000e+03  5.265000e+03  1.000000e+00\n75%    5.159000e+03  7.275000e+03  2.000000e+00\nmax    7.036000e+03  9.503000e+03  6.000000e+02",
      "text/html": "<div>\n<style scoped>\n    .dataframe tbody tr th:only-of-type {\n        vertical-align: middle;\n    }\n\n    .dataframe tbody tr th {\n        vertical-align: top;\n    }\n\n    .dataframe thead th {\n        text-align: right;\n    }\n</style>\n<table border=\"1\" class=\"dataframe\">\n  <thead>\n    <tr style=\"text-align: right;\">\n      <th></th>\n      <th>point</th>\n      <th>timestamp</th>\n      <th>count</th>\n    </tr>\n  </thead>\n  <tbody>\n    <tr>\n      <th>count</th>\n      <td>3.550113e+06</td>\n      <td>3.550113e+06</td>\n      <td>3.550113e+06</td>\n    </tr>\n    <tr>\n      <th>mean</th>\n      <td>3.498905e+03</td>\n      <td>5.001823e+03</td>\n      <td>2.334860e+00</td>\n    </tr>\n    <tr>\n      <th>std</th>\n      <td>1.953676e+03</td>\n      <td>2.688499e+03</td>\n      <td>4.190819e+00</td>\n    </tr>\n    <tr>\n      <th>min</th>\n      <td>1.000000e+00</td>\n      <td>0.000000e+00</td>\n      <td>1.000000e+00</td>\n    </tr>\n    <tr>\n      <th>25%</th>\n      <td>1.869000e+03</td>\n      <td>2.708000e+03</td>\n      <td>1.000000e+00</td>\n    </tr>\n    <tr>\n      <th>50%</th>\n      <td>3.575000e+03</td>\n      <td>5.265000e+03</td>\n      <td>1.000000e+00</td>\n    </tr>\n    <tr>\n      <th>75%</th>\n      <td>5.159000e+03</td>\n      <td>7.275000e+03</td>\n      <td>2.000000e+00</td>\n    </tr>\n    <tr>\n      <th>max</th>\n      <td>7.036000e+03</td>\n      <td>9.503000e+03</td>\n      <td>6.000000e+02</td>\n    </tr>\n  </tbody>\n</table>\n</div>"
     },
     "execution_count": 2,
     "metadata": {},
     "output_type": "execute_result"
    }
   ],
   "source": [
    "df = pd.read_csv(\"./data/simple_preprocessed.csv\")\n",
    "df.describe()"
   ],
   "metadata": {
    "collapsed": false
   }
  },
  {
   "cell_type": "code",
   "execution_count": 3,
   "outputs": [],
   "source": [
    "count_type = np.int16\n",
    "df[\"count\"] = df[\"count\"].astype(count_type)"
   ],
   "metadata": {
    "collapsed": false
   }
  },
  {
   "cell_type": "code",
   "execution_count": 4,
   "outputs": [
    {
     "name": "stdout",
     "output_type": "stream",
     "text": [
      "155\n"
     ]
    },
    {
     "data": {
      "text/plain": "   timestamp  count\n0      10041      5\n1       9996      5\n2       9563      6\n3       9884      8\n4       9778     11\n5       9824      7\n6       9758      6\n7       9523      7",
      "text/html": "<div>\n<style scoped>\n    .dataframe tbody tr th:only-of-type {\n        vertical-align: middle;\n    }\n\n    .dataframe tbody tr th {\n        vertical-align: top;\n    }\n\n    .dataframe thead th {\n        text-align: right;\n    }\n</style>\n<table border=\"1\" class=\"dataframe\">\n  <thead>\n    <tr style=\"text-align: right;\">\n      <th></th>\n      <th>timestamp</th>\n      <th>count</th>\n    </tr>\n  </thead>\n  <tbody>\n    <tr>\n      <th>0</th>\n      <td>10041</td>\n      <td>5</td>\n    </tr>\n    <tr>\n      <th>1</th>\n      <td>9996</td>\n      <td>5</td>\n    </tr>\n    <tr>\n      <th>2</th>\n      <td>9563</td>\n      <td>6</td>\n    </tr>\n    <tr>\n      <th>3</th>\n      <td>9884</td>\n      <td>8</td>\n    </tr>\n    <tr>\n      <th>4</th>\n      <td>9778</td>\n      <td>11</td>\n    </tr>\n    <tr>\n      <th>5</th>\n      <td>9824</td>\n      <td>7</td>\n    </tr>\n    <tr>\n      <th>6</th>\n      <td>9758</td>\n      <td>6</td>\n    </tr>\n    <tr>\n      <th>7</th>\n      <td>9523</td>\n      <td>7</td>\n    </tr>\n  </tbody>\n</table>\n</div>"
     },
     "execution_count": 4,
     "metadata": {},
     "output_type": "execute_result"
    }
   ],
   "source": [
    "start_hour = pd.read_csv(\"./data/preprocessed.csv\")[\"timestamp\"].min()\n",
    "test_df = pd.read_csv(\"./data/source/valid.csv\")\n",
    "points_df = pd.read_csv(\"./data/points_df.csv\")\n",
    "test_df.drop(columns=[\"lat\", \"lon\", \"error\"], inplace=True)\n",
    "test_df[\"hour\"] -= start_hour\n",
    "test_df[\"hour\"] /= 60 * 60\n",
    "test_df[\"hour\"] = test_df[\"hour\"].astype(int)\n",
    "test_df = test_df.merge(points_df, left_on=\"point\", right_on=\"initial_point\")\n",
    "test_df.drop(columns=[\"point\", \"initial_point\"], inplace=True)\n",
    "test_df.rename(columns={\"hour\": \"timestamp\", \"new_point\": \"point\", \"sum\": \"count\"},inplace=True)\n",
    "test_df[\"count\"] = test_df[\"count\"].astype(count_type)\n",
    "test_data_per_point = {point: data.drop(columns=[\"point\"]) for point, data in  test_df.groupby(\"point\")}\n",
    "print(len(test_data_per_point))\n",
    "test_data_per_point[917]"
   ],
   "metadata": {
    "collapsed": false
   }
  },
  {
   "cell_type": "code",
   "execution_count": 5,
   "outputs": [
    {
     "data": {
      "text/plain": "          timestamp       count        point\ncount    709.000000  709.000000   709.000000\nmean    9856.311707    9.880113  3558.348378\nstd      199.684837    6.407844  1923.325208\nmin     9513.000000    5.000000     0.000000\n25%     9687.000000    6.000000  2119.000000\n50%     9860.000000    7.000000  3918.000000\n75%    10029.000000   11.000000  5238.000000\nmax    10198.000000   40.000000  6874.000000",
      "text/html": "<div>\n<style scoped>\n    .dataframe tbody tr th:only-of-type {\n        vertical-align: middle;\n    }\n\n    .dataframe tbody tr th {\n        vertical-align: top;\n    }\n\n    .dataframe thead th {\n        text-align: right;\n    }\n</style>\n<table border=\"1\" class=\"dataframe\">\n  <thead>\n    <tr style=\"text-align: right;\">\n      <th></th>\n      <th>timestamp</th>\n      <th>count</th>\n      <th>point</th>\n    </tr>\n  </thead>\n  <tbody>\n    <tr>\n      <th>count</th>\n      <td>709.000000</td>\n      <td>709.000000</td>\n      <td>709.000000</td>\n    </tr>\n    <tr>\n      <th>mean</th>\n      <td>9856.311707</td>\n      <td>9.880113</td>\n      <td>3558.348378</td>\n    </tr>\n    <tr>\n      <th>std</th>\n      <td>199.684837</td>\n      <td>6.407844</td>\n      <td>1923.325208</td>\n    </tr>\n    <tr>\n      <th>min</th>\n      <td>9513.000000</td>\n      <td>5.000000</td>\n      <td>0.000000</td>\n    </tr>\n    <tr>\n      <th>25%</th>\n      <td>9687.000000</td>\n      <td>6.000000</td>\n      <td>2119.000000</td>\n    </tr>\n    <tr>\n      <th>50%</th>\n      <td>9860.000000</td>\n      <td>7.000000</td>\n      <td>3918.000000</td>\n    </tr>\n    <tr>\n      <th>75%</th>\n      <td>10029.000000</td>\n      <td>11.000000</td>\n      <td>5238.000000</td>\n    </tr>\n    <tr>\n      <th>max</th>\n      <td>10198.000000</td>\n      <td>40.000000</td>\n      <td>6874.000000</td>\n    </tr>\n  </tbody>\n</table>\n</div>"
     },
     "execution_count": 5,
     "metadata": {},
     "output_type": "execute_result"
    }
   ],
   "source": [
    "test_df.describe()"
   ],
   "metadata": {
    "collapsed": false
   }
  },
  {
   "cell_type": "code",
   "execution_count": 6,
   "outputs": [
    {
     "data": {
      "text/plain": "151"
     },
     "execution_count": 6,
     "metadata": {},
     "output_type": "execute_result"
    }
   ],
   "source": [
    "data_per_point = {point: data.drop(columns=[\"point\"]) for point, data in df.groupby(\"point\") if point in test_data_per_point}\n",
    "len(data_per_point)"
   ],
   "metadata": {
    "collapsed": false
   }
  },
  {
   "cell_type": "code",
   "execution_count": 7,
   "outputs": [
    {
     "data": {
      "text/plain": "        timestamp  count\n412096          1      1\n412097          2      1\n412098          5      1\n412099          8      1\n412100         10      2\n...           ...    ...\n418614       9499     11\n418615       9500      4\n418616       9501      5\n418617       9502      1\n418618       9503      1\n\n[6523 rows x 2 columns]",
      "text/html": "<div>\n<style scoped>\n    .dataframe tbody tr th:only-of-type {\n        vertical-align: middle;\n    }\n\n    .dataframe tbody tr th {\n        vertical-align: top;\n    }\n\n    .dataframe thead th {\n        text-align: right;\n    }\n</style>\n<table border=\"1\" class=\"dataframe\">\n  <thead>\n    <tr style=\"text-align: right;\">\n      <th></th>\n      <th>timestamp</th>\n      <th>count</th>\n    </tr>\n  </thead>\n  <tbody>\n    <tr>\n      <th>412096</th>\n      <td>1</td>\n      <td>1</td>\n    </tr>\n    <tr>\n      <th>412097</th>\n      <td>2</td>\n      <td>1</td>\n    </tr>\n    <tr>\n      <th>412098</th>\n      <td>5</td>\n      <td>1</td>\n    </tr>\n    <tr>\n      <th>412099</th>\n      <td>8</td>\n      <td>1</td>\n    </tr>\n    <tr>\n      <th>412100</th>\n      <td>10</td>\n      <td>2</td>\n    </tr>\n    <tr>\n      <th>...</th>\n      <td>...</td>\n      <td>...</td>\n    </tr>\n    <tr>\n      <th>418614</th>\n      <td>9499</td>\n      <td>11</td>\n    </tr>\n    <tr>\n      <th>418615</th>\n      <td>9500</td>\n      <td>4</td>\n    </tr>\n    <tr>\n      <th>418616</th>\n      <td>9501</td>\n      <td>5</td>\n    </tr>\n    <tr>\n      <th>418617</th>\n      <td>9502</td>\n      <td>1</td>\n    </tr>\n    <tr>\n      <th>418618</th>\n      <td>9503</td>\n      <td>1</td>\n    </tr>\n  </tbody>\n</table>\n<p>6523 rows × 2 columns</p>\n</div>"
     },
     "execution_count": 7,
     "metadata": {},
     "output_type": "execute_result"
    }
   ],
   "source": [
    "data_per_point[917]"
   ],
   "metadata": {
    "collapsed": false
   }
  },
  {
   "cell_type": "code",
   "execution_count": 8,
   "outputs": [
    {
     "name": "stdout",
     "output_type": "stream",
     "text": [
      "9504\n"
     ]
    }
   ],
   "source": [
    "total_hours = df[\"timestamp\"].values.ptp() + 1\n",
    "print(total_hours)\n",
    "def transform_to_full_time(point_df):\n",
    "    \"\"\"\n",
    "    Transform sparce dataframe with number of posts at exact hour into\n",
    "    a list with hours as indices.\n",
    "    \"\"\"\n",
    "    data = np.zeros(total_hours, dtype=count_type)\n",
    "    for time, count in point_df.values:\n",
    "        data[time] = count\n",
    "    return data"
   ],
   "metadata": {
    "collapsed": false
   }
  },
  {
   "cell_type": "code",
   "execution_count": 9,
   "outputs": [],
   "source": [
    "data_per_point = {point: transform_to_full_time(data) for point, data in data_per_point.items()}"
   ],
   "metadata": {
    "collapsed": false
   }
  },
  {
   "cell_type": "code",
   "execution_count": 10,
   "outputs": [
    {
     "data": {
      "text/plain": "18816"
     },
     "execution_count": 10,
     "metadata": {},
     "output_type": "execute_result"
    }
   ],
   "source": [
    "data_per_point[917].sum()"
   ],
   "metadata": {
    "collapsed": false
   }
  },
  {
   "cell_type": "code",
   "execution_count": 19,
   "outputs": [],
   "source": [
    "lag = 30 * 24\n",
    "roll = 30 * 24\n",
    "hidden = 100\n",
    "batch = 10\n",
    "epochs = 25"
   ],
   "metadata": {
    "collapsed": false
   }
  },
  {
   "cell_type": "code",
   "execution_count": 22,
   "outputs": [],
   "source": [
    "from tensorflow.keras.models import Sequential\n",
    "from tensorflow.keras.layers import Dense, LSTM\n",
    "\n",
    "def timeline_to_windows(data):\n",
    "    n = data.shape[0]\n",
    "    return np.array([data[i: i + lag + roll] for i in range(n - (lag + roll))])\n",
    "\n",
    "def target_loss(prediction, ground_truth, prediction_start):\n",
    "    s = 0\n",
    "    for hour, true_count in ground_truth.values:\n",
    "        predicted_count = prediction[hour - prediction_start]\n",
    "        if predicted_count == 0:\n",
    "            s += 0 if true_count == 0 else 1\n",
    "        else:\n",
    "            s += abs(predicted_count - true_count) / predicted_count\n",
    "    return s\n",
    "\n",
    "def train_validate(train, test, data):\n",
    "    X, y = train[:, :lag], train[:, lag:]\n",
    "    X = X.reshape(X.shape[0], 1, X.shape[1])\n",
    "    model = Sequential()\n",
    "\n",
    "    model.add(LSTM(hidden, input_shape=(X.shape[1], X.shape[2]), dropout=0.5))\n",
    "    model.add(Dense(y.shape[1], activation='relu'))\n",
    "    model.compile(loss='mean_squared_error')\n",
    "    model.fit(X, y, validation_split=0.2, epochs=epochs, batch_size=batch, verbose=0, shuffle=True)\n",
    "\n",
    "    X = data[-lag:]\n",
    "    X = X.reshape(1, 1, len(X))\n",
    "    forecast = model.predict(X, batch_size=batch, verbose=0).reshape(-1)\n",
    "    forecast = list(map(round, forecast))\n",
    "    return target_loss(forecast, test, len(data))"
   ],
   "metadata": {
    "collapsed": false
   }
  },
  {
   "cell_type": "code",
   "execution_count": 25,
   "outputs": [
    {
     "name": "stdout",
     "output_type": "stream",
     "text": [
      "Point 0 is not found in train data!!!\n",
      "Predict point: 296 Loss: 1.0833333333333335 Average posts per hour: 2.768097643097643 Test points: 2\n",
      "Predict point: 329 Loss: 6.6 Average posts per hour: 0.9394991582491582 Test points: 5\n",
      "Predict point: 431 Loss: 0.3333333333333333 Average posts per hour: 2.310395622895623 Test points: 3\n",
      "Predict point: 449 Loss: 5.895833333333333 Average posts per hour: 2.0467171717171717 Test points: 8\n",
      "Predict point: 566 Loss: 0.6666666666666666 Average posts per hour: 1.4433922558922558 Test points: 1\n",
      "Predict point: 654 Loss: 4.0 Average posts per hour: 0.48463804713804715 Test points: 1\n",
      "Predict point: 715 Loss: 0.5713046284640712 Average posts per hour: 7.4602272727272725 Test points: 19\n",
      "Predict point: 722 Loss: 4.25 Average posts per hour: 1.0710227272727273 Test points: 2\n",
      "Predict point: 817 Loss: 2.5 Average posts per hour: 1.1194234006734007 Test points: 1\n",
      "Predict point: 869 Loss: 1.3666666666666667 Average posts per hour: 1.539983164983165 Test points: 5\n",
      "Predict point: 874 Loss: 1.5 Average posts per hour: 1.2447390572390573 Test points: 1\n",
      "Predict point: 887 Loss: 0.75 Average posts per hour: 1.3903619528619529 Test points: 4\n",
      "Predict point: 900 Loss: 7.5 Average posts per hour: 0.6778198653198653 Test points: 2\n",
      "Predict point: 909 Loss: 5.0 Average posts per hour: 0.7206439393939394 Test points: 1\n",
      "Predict point: 917 Loss: 1.4375 Average posts per hour: 1.97979797979798 Test points: 8\n",
      "Predict point: 920 Loss: 2.0416666666666665 Average posts per hour: 1.1908670033670035 Test points: 4\n",
      "Predict point: 938 Loss: 1.7083333333333333 Average posts per hour: 2.346696127946128 Test points: 6\n",
      "Predict point: 950 Loss: 9.0 Average posts per hour: 0.8579545454545454 Test points: 1\n",
      "Predict point: 1027 Loss: 0.3333333333333333 Average posts per hour: 4.422032828282828 Test points: 2\n",
      "Predict point: 1033 Loss: 3.1666666666666665 Average posts per hour: 1.8882575757575757 Test points: 2\n",
      "Predict point: 1048 Loss: 0.6666666666666666 Average posts per hour: 1.6474116161616161 Test points: 1\n",
      "Predict point: 1070 Loss: 4.5 Average posts per hour: 0.7998737373737373 Test points: 2\n",
      "Predict point: 1114 Loss: 0.6428571428571429 Average posts per hour: 1.9351851851851851 Test points: 7\n",
      "Predict point: 1124 Loss: 8.0 Average posts per hour: 0.492003367003367 Test points: 1\n",
      "Predict point: 1135 Loss: 0.3478011258864315 Average posts per hour: 12.464751683501683 Test points: 17\n",
      "Predict point: 1137 Loss: 3.1666666666666665 Average posts per hour: 1.20128367003367 Test points: 3\n",
      "Predict point: 1151 Loss: 0.7083333333333333 Average posts per hour: 2.383522727272727 Test points: 4\n",
      "Predict point: 1231 Loss: 3.0 Average posts per hour: 1.0753367003367003 Test points: 3\n",
      "Predict point: 1235 Loss: 1.75 Average posts per hour: 2.691287878787879 Test points: 1\n",
      "Predict point: 1293 Loss: 1.5833333333333333 Average posts per hour: 1.6877104377104377 Test points: 4\n",
      "Predict point: 1341 Loss: 1.0 Average posts per hour: 0.9218223905723906 Test points: 2\n",
      "Predict point: 1452 Loss: 1.75 Average posts per hour: 0.9575968013468014 Test points: 2\n",
      "Predict point: 1685 Loss: 0.14814814814814814 Average posts per hour: 5.832596801346801 Test points: 3\n",
      "Predict point: 1885 Loss: 0.7619047619047619 Average posts per hour: 2.1689814814814814 Test points: 7\n",
      "Point 1907 is not found in train data!!!\n",
      "Predict point: 1976 Loss: 5.0 Average posts per hour: 1.1100589225589226 Test points: 1\n",
      "Predict point: 2093 Loss: 1.0833333333333333 Average posts per hour: 0.8694234006734006 Test points: 2\n",
      "Predict point: 2096 Loss: 7.0 Average posts per hour: 1.3119739057239057 Test points: 1\n",
      "Predict point: 2119 Loss: 0.8858974358974356 Average posts per hour: 5.178556397306397 Test points: 13\n",
      "Predict point: 2122 Loss: 4.558333333333333 Average posts per hour: 5.263152356902357 Test points: 12\n",
      "Predict point: 2244 Loss: 2.69375 Average posts per hour: 4.151304713804714 Test points: 8\n",
      "Predict point: 2286 Loss: 4.0 Average posts per hour: 0.6511994949494949 Test points: 1\n",
      "Predict point: 2288 Loss: 0.6666666666666666 Average posts per hour: 1.2800925925925926 Test points: 1\n",
      "Predict point: 2299 Loss: 0.53 Average posts per hour: 3.6479377104377106 Test points: 10\n",
      "Predict point: 2338 Loss: 2.25 Average posts per hour: 1.4106691919191918 Test points: 2\n",
      "Predict point: 2362 Loss: 0.16666666666666666 Average posts per hour: 0.678766835016835 Test points: 1\n",
      "Predict point: 2430 Loss: 0.7916666666666667 Average posts per hour: 1.1597222222222223 Test points: 2\n",
      "Predict point: 2498 Loss: 1.0 Average posts per hour: 0.15919612794612795 Test points: 1\n",
      "Predict point: 2517 Loss: 0.8888888888888888 Average posts per hour: 1.9340277777777777 Test points: 3\n",
      "Predict point: 2565 Loss: 0.2857142857142857 Average posts per hour: 2.3998316498316496 Test points: 1\n",
      "Predict point: 2577 Loss: 2.0640350877192986 Average posts per hour: 3.6878156565656566 Test points: 19\n",
      "Predict point: 2603 Loss: 0.35 Average posts per hour: 2.432975589225589 Test points: 5\n",
      "Predict point: 2672 Loss: 5.0 Average posts per hour: 3.1040614478114477 Test points: 1\n",
      "Predict point: 2675 Loss: 0.6671296296296297 Average posts per hour: 12.101325757575758 Test points: 12\n",
      "Predict point: 2694 Loss: 2.25 Average posts per hour: 1.2146464646464648 Test points: 2\n",
      "Predict point: 2705 Loss: 35.0 Average posts per hour: 4.594381313131313 Test points: 1\n",
      "Predict point: 2710 Loss: 0.32916666666666666 Average posts per hour: 2.8526936026936025 Test points: 10\n",
      "Predict point: 2715 Loss: 4.0 Average posts per hour: 0.9181397306397306 Test points: 1\n",
      "Predict point: 2804 Loss: 3.0 Average posts per hour: 2.1415193602693603 Test points: 2\n",
      "Predict point: 2809 Loss: 1.820318847818848 Average posts per hour: 20.62857744107744 Test points: 10\n",
      "Predict point: 2888 Loss: 5.5 Average posts per hour: 0.6462542087542088 Test points: 5\n",
      "Predict point: 2909 Loss: 0.5 Average posts per hour: 0.970223063973064 Test points: 2\n",
      "Predict point: 2998 Loss: 1.3390873015873015 Average posts per hour: 9.927609427609427 Test points: 16\n",
      "Predict point: 3129 Loss: 1.0 Average posts per hour: 0.3456439393939394 Test points: 1\n",
      "Predict point: 3297 Loss: 6.0 Average posts per hour: 0.42561026936026936 Test points: 1\n",
      "Predict point: 3333 Loss: 0.25 Average posts per hour: 1.949810606060606 Test points: 1\n",
      "Predict point: 3416 Loss: 0.625 Average posts per hour: 1.8696338383838385 Test points: 2\n",
      "Predict point: 3449 Loss: 0.8518518518518517 Average posts per hour: 2.012415824915825 Test points: 9\n",
      "Predict point: 3493 Loss: 3.25 Average posts per hour: 1.2960858585858586 Test points: 2\n",
      "Predict point: 3719 Loss: 1.0833333333333333 Average posts per hour: 1.5083122895622896 Test points: 2\n",
      "Predict point: 3743 Loss: 0.8888888888888888 Average posts per hour: 1.7764099326599327 Test points: 3\n",
      "Predict point: 3791 Loss: 2.0 Average posts per hour: 1.3613215488215489 Test points: 1\n",
      "Predict point: 3792 Loss: 0.7777777777777777 Average posts per hour: 1.7984006734006734 Test points: 3\n",
      "Predict point: 3804 Loss: 3.25 Average posts per hour: 2.1326809764309766 Test points: 5\n",
      "Predict point: 3823 Loss: 0.85 Average posts per hour: 2.491372053872054 Test points: 2\n",
      "Predict point: 3848 Loss: 0.7527777777777777 Average posts per hour: 2.4174031986531985 Test points: 12\n",
      "Predict point: 3874 Loss: 1.5 Average posts per hour: 0.7649410774410774 Test points: 1\n",
      "Predict point: 3918 Loss: 8.066666666666666 Average posts per hour: 2.0918560606060606 Test points: 2\n",
      "Predict point: 3932 Loss: 1.5 Average posts per hour: 0.6495159932659933 Test points: 1\n",
      "Predict point: 3938 Loss: 0.7924242424242425 Average posts per hour: 3.0315656565656566 Test points: 11\n",
      "Predict point: 4069 Loss: 0.65 Average posts per hour: 2.244107744107744 Test points: 5\n",
      "Predict point: 4191 Loss: 0.3687136556254203 Average posts per hour: 10.989267676767676 Test points: 15\n",
      "Predict point: 4203 Loss: 2.8333333333333335 Average posts per hour: 1.3325968013468013 Test points: 3\n",
      "Predict point: 4222 Loss: 1.6666666666666665 Average posts per hour: 1.1188973063973064 Test points: 2\n",
      "Predict point: 4238 Loss: 0.7885714285714285 Average posts per hour: 3.655408249158249 Test points: 10\n",
      "Predict point: 4242 Loss: 1.4375 Average posts per hour: 3.4750631313131315 Test points: 4\n",
      "Predict point: 4243 Loss: 1.25 Average posts per hour: 1.6490951178451179 Test points: 2\n",
      "Predict point: 4279 Loss: 2.3333333333333335 Average posts per hour: 1.4300294612794613 Test points: 1\n",
      "Predict point: 4293 Loss: 7.0 Average posts per hour: 0.7632575757575758 Test points: 1\n",
      "Predict point: 4331 Loss: 1.3125 Average posts per hour: 2.984848484848485 Test points: 4\n",
      "Predict point: 4338 Loss: 0.20105820105820105 Average posts per hour: 5.277777777777778 Test points: 9\n",
      "Predict point: 4342 Loss: 0.6479166666666667 Average posts per hour: 3.1392045454545454 Test points: 8\n",
      "Predict point: 4343 Loss: 0.19476911976911976 Average posts per hour: 2.563236531986532 Test points: 11\n",
      "Predict point: 4354 Loss: 0.7133333333333333 Average posts per hour: 3.6479377104377106 Test points: 15\n",
      "Predict point: 4361 Loss: 1.9 Average posts per hour: 1.2599957912457913 Test points: 5\n",
      "Predict point: 4426 Loss: 12.285714285714286 Average posts per hour: 3.009995791245791 Test points: 7\n",
      "Predict point: 4463 Loss: 11.0 Average posts per hour: 0.19749579124579125 Test points: 1\n",
      "Predict point: 4480 Loss: 0.325 Average posts per hour: 2.1312079124579126 Test points: 2\n",
      "Predict point: 4493 Loss: 1.75 Average posts per hour: 0.9764309764309764 Test points: 2\n",
      "Predict point: 4525 Loss: 5.0 Average posts per hour: 0.5147306397306397 Test points: 1\n",
      "Predict point: 4537 Loss: 0.6851851851851851 Average posts per hour: 2.539772727272727 Test points: 9\n",
      "Predict point: 4541 Loss: 3.5 Average posts per hour: 0.7015993265993266 Test points: 1\n",
      "Predict point: 4587 Loss: 2.0 Average posts per hour: 1.0346170033670035 Test points: 2\n",
      "Predict point: 4628 Loss: 4.0 Average posts per hour: 1.145307239057239 Test points: 1\n",
      "Predict point: 4637 Loss: 2.0974999999999997 Average posts per hour: 3.419191919191919 Test points: 10\n",
      "Predict point: 4640 Loss: 6.0 Average posts per hour: 1.0153619528619529 Test points: 1\n",
      "Predict point: 4643 Loss: 3.0 Average posts per hour: 1.2069654882154883 Test points: 1\n",
      "Predict point: 4652 Loss: 0.6666666666666666 Average posts per hour: 1.8113425925925926 Test points: 4\n",
      "Predict point: 4771 Loss: 0.625 Average posts per hour: 1.3273358585858586 Test points: 2\n",
      "Predict point: 4787 Loss: 1.0909090909090908 Average posts per hour: 1.7398989898989898 Test points: 11\n",
      "Predict point: 4832 Loss: 0.5833333333333333 Average posts per hour: 1.8999368686868687 Test points: 2\n",
      "Predict point: 4891 Loss: 0.5 Average posts per hour: 1.957807239057239 Test points: 1\n",
      "Predict point: 5063 Loss: 0.7270833333333334 Average posts per hour: 3.1755050505050506 Test points: 8\n",
      "Predict point: 5165 Loss: 1.5 Average posts per hour: 2.432344276094276 Test points: 1\n",
      "Predict point: 5181 Loss: 0.0 Average posts per hour: 2.796506734006734 Test points: 1\n",
      "Predict point: 5238 Loss: 0.31280889249639254 Average posts per hour: 7.055765993265993 Test points: 16\n",
      "Point 5332 is not found in train data!!!\n",
      "Predict point: 5377 Loss: 0.6666666666666666 Average posts per hour: 1.734006734006734 Test points: 1\n",
      "Predict point: 5386 Loss: 0.27910052910052907 Average posts per hour: 3.9707491582491583 Test points: 3\n",
      "Predict point: 5414 Loss: 1.4266933115617324 Average posts per hour: 15.276830808080808 Test points: 12\n",
      "Point 5455 is not found in train data!!!\n",
      "Predict point: 5536 Loss: 2.0 Average posts per hour: 1.2270622895622896 Test points: 1\n",
      "Predict point: 5635 Loss: 0.33597742127153896 Average posts per hour: 7.261679292929293 Test points: 17\n",
      "Predict point: 5668 Loss: 1.3333333333333333 Average posts per hour: 1.9699074074074074 Test points: 2\n",
      "Predict point: 5742 Loss: 1.5 Average posts per hour: 1.0543981481481481 Test points: 1\n",
      "Predict point: 5745 Loss: 4.0 Average posts per hour: 0.31933922558922556 Test points: 1\n",
      "Predict point: 5757 Loss: 1.1666666666666667 Average posts per hour: 1.3660563973063973 Test points: 3\n",
      "Predict point: 5771 Loss: 1.5 Average posts per hour: 1.027462121212121 Test points: 1\n",
      "Predict point: 5831 Loss: 1.5 Average posts per hour: 1.7112794612794613 Test points: 1\n",
      "Predict point: 5902 Loss: 1.8333333333333333 Average posts per hour: 1.0506102693602695 Test points: 3\n",
      "Predict point: 5922 Loss: 0.4 Average posts per hour: 1.8523779461279462 Test points: 1\n",
      "Predict point: 5932 Loss: 0.20000000000000004 Average posts per hour: 3.310290404040404 Test points: 3\n",
      "Predict point: 5949 Loss: 1.3333333333333333 Average posts per hour: 1.683712121212121 Test points: 1\n",
      "Predict point: 5952 Loss: 0.25 Average posts per hour: 2.4276094276094278 Test points: 1\n",
      "Predict point: 5957 Loss: 1.1722222222222223 Average posts per hour: 2.8860479797979797 Test points: 9\n",
      "Predict point: 6037 Loss: 0.18601190476190477 Average posts per hour: 4.868476430976431 Test points: 4\n",
      "Predict point: 6069 Loss: 1.6111111111111114 Average posts per hour: 1.6887626262626263 Test points: 3\n",
      "Predict point: 6073 Loss: 4.0 Average posts per hour: 1.5108375420875422 Test points: 2\n",
      "Predict point: 6076 Loss: 1.0285714285714287 Average posts per hour: 5.365319865319865 Test points: 14\n",
      "Predict point: 6153 Loss: 1.25 Average posts per hour: 1.5107323232323233 Test points: 1\n",
      "Predict point: 6243 Loss: 0.4375 Average posts per hour: 2.9066708754208754 Test points: 4\n",
      "Predict point: 6245 Loss: 4.0 Average posts per hour: 0.7160143097643098 Test points: 1\n",
      "Predict point: 6277 Loss: 2.0 Average posts per hour: 1.6423611111111112 Test points: 2\n",
      "Predict point: 6305 Loss: 0.46481481481481485 Average posts per hour: 2.44760101010101 Test points: 18\n",
      "Predict point: 6465 Loss: 0.0 Average posts per hour: 1.8968855218855218 Test points: 1\n",
      "Predict point: 6469 Loss: 4.0 Average posts per hour: 0.6503577441077442 Test points: 1\n",
      "Predict point: 6470 Loss: 0.2222222222222222 Average posts per hour: 3.380155723905724 Test points: 9\n",
      "Predict point: 6476 Loss: 11.0 Average posts per hour: 0.5348274410774411 Test points: 1\n",
      "Predict point: 6515 Loss: 1.3372549019607844 Average posts per hour: 4.62962962962963 Test points: 17\n",
      "Predict point: 6594 Loss: 5.0 Average posts per hour: 0.29850589225589225 Test points: 1\n",
      "Predict point: 6674 Loss: 5.0 Average posts per hour: 1.17371632996633 Test points: 1\n",
      "Predict point: 6697 Loss: 1.0 Average posts per hour: 1.8187079124579124 Test points: 1\n",
      "Predict point: 6843 Loss: 1.8055555555555556 Average posts per hour: 1.6967592592592593 Test points: 9\n",
      "Predict point: 6874 Loss: 5.0 Average posts per hour: 0.4765361952861953 Test points: 1\n",
      "Total loss:  1.6162213989610659\n"
     ]
    }
   ],
   "source": [
    "loss = 0\n",
    "points = 0\n",
    "for point, test in test_data_per_point.items():\n",
    "    if point not in data_per_point:\n",
    "        print(f\"Point {point} is not found in train data!!!\")\n",
    "        continue\n",
    "    points += test.shape[0]\n",
    "    data = data_per_point[point]\n",
    "    windows = timeline_to_windows(data)\n",
    "    cur_loss = train_validate(windows, test, data)\n",
    "    loss += cur_loss\n",
    "    print(\"Predict point:\", point, \"Loss:\", cur_loss / test.shape[0], \"Average posts per hour:\", np.mean(data), \"Test points:\", test.shape[0])\n",
    "print(\"Total loss: \", loss / points)"
   ],
   "metadata": {
    "collapsed": false
   }
  },
  {
   "cell_type": "code",
   "execution_count": null,
   "outputs": [],
   "source": [],
   "metadata": {
    "collapsed": false
   }
  }
 ],
 "metadata": {
  "kernelspec": {
   "display_name": "Python 3",
   "language": "python",
   "name": "python3"
  },
  "language_info": {
   "codemirror_mode": {
    "name": "ipython",
    "version": 2
   },
   "file_extension": ".py",
   "mimetype": "text/x-python",
   "name": "python",
   "nbconvert_exporter": "python",
   "pygments_lexer": "ipython2",
   "version": "2.7.6"
  }
 },
 "nbformat": 4,
 "nbformat_minor": 0
}

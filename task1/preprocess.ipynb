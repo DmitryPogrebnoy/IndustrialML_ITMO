{
 "cells": [
  {
   "cell_type": "code",
   "execution_count": 24,
   "metadata": {
    "collapsed": true
   },
   "outputs": [],
   "source": [
    "import warnings\n",
    "import random\n",
    "\n",
    "import numpy as np\n",
    "import pandas as pd\n",
    "import itertools\n",
    "import holidays\n",
    "from shapely import wkt\n",
    "from tqdm import tqdm\n",
    "\n",
    "\n",
    "warnings.filterwarnings(\"ignore\")"
   ]
  },
  {
   "cell_type": "code",
   "execution_count": 25,
   "outputs": [],
   "source": [
    "def optimize_memory(df: pd.DataFrame) -> pd.DataFrame:\n",
    "    start_size = df.memory_usage().sum() / 1024 ** 2\n",
    "\n",
    "    for column in df.columns:\n",
    "        column_type = df[column].dtype\n",
    "\n",
    "        if column_type == object:\n",
    "            df[column] = df[column].astype(\"category\")\n",
    "            continue\n",
    "\n",
    "        min = df[column].min()\n",
    "        max = df[column].max()\n",
    "        if str(column_type)[:3] == \"int\":\n",
    "            if min > np.iinfo(np.int8).min and max < np.iinfo(np.int8).max:\n",
    "                df[column] = df[column].astype(np.int8)\n",
    "            elif min > np.iinfo(np.int16).min and max < np.iinfo(np.int16).max:\n",
    "                df[column] = df[column].astype(np.int16)\n",
    "            elif min > np.iinfo(np.int32).min and max < np.iinfo(np.int32).max:\n",
    "                df[column] = df[column].astype(np.int32)\n",
    "            else:\n",
    "                df[column] = df[column].astype(np.int64)\n",
    "            continue\n",
    "\n",
    "        # Don't touch floats!\n",
    "\n",
    "    end_size = df.memory_usage().sum() / 1024 ** 2\n",
    "    print(\"Memory usage {:.2f} MB -> {:.2f} MB (-{:.1f}%)\".format(\n",
    "        start_size,\n",
    "        end_size,\n",
    "        100 * (start_size - end_size) / start_size)\n",
    "    )\n",
    "    return df"
   ],
   "metadata": {
    "collapsed": false
   }
  },
  {
   "cell_type": "code",
   "execution_count": 26,
   "outputs": [
    {
     "name": "stdout",
     "output_type": "stream",
     "text": [
      "Memory usage 780.63 MB -> 325.57 MB (-58.3%)\n"
     ]
    }
   ],
   "source": [
    "train_df = optimize_memory(pd.read_csv(\"data/source/train_data.csv\"))"
   ],
   "metadata": {
    "collapsed": false
   }
  },
  {
   "cell_type": "code",
   "execution_count": 27,
   "outputs": [
    {
     "data": {
      "text/plain": "    timestamp        lon        lat  likescount  commentscount  symbols_cnt  \\\n0  1565607600  30.329370  59.940488          63              4           52   \n1  1565568000  30.342845  59.869542          44              0           40   \n2  1565568000  30.322632  60.039332          30              0           77   \n3  1565568000  30.322632  59.938238          13              0          634   \n4  1565568000  30.309158  59.932612           8              0            0   \n\n   words_cnt  hashtags_cnt  mentions_cnt  links_cnt  emoji_cnt  \\\n0          6             0             0          0          0   \n1          0             4             0          0          0   \n2          7             0             0          0          1   \n3         17            32             0          0          7   \n4          0             0             0          0          0   \n\n                                               point  \n0  0101000020E6100000DBC1F19351543E4006FC5DE561F8...  \n1  0101000020E6100000544263A8C4573E40C27FCF284DEF...  \n2  0101000020E61000009E01B90998523E40888919D70805...  \n3  0101000020E61000009E01B90998523E40CEB8CE2B18F8...  \n4  0101000020E6100000268147F5244F3E40494A4ED65FF7...  ",
      "text/html": "<div>\n<style scoped>\n    .dataframe tbody tr th:only-of-type {\n        vertical-align: middle;\n    }\n\n    .dataframe tbody tr th {\n        vertical-align: top;\n    }\n\n    .dataframe thead th {\n        text-align: right;\n    }\n</style>\n<table border=\"1\" class=\"dataframe\">\n  <thead>\n    <tr style=\"text-align: right;\">\n      <th></th>\n      <th>timestamp</th>\n      <th>lon</th>\n      <th>lat</th>\n      <th>likescount</th>\n      <th>commentscount</th>\n      <th>symbols_cnt</th>\n      <th>words_cnt</th>\n      <th>hashtags_cnt</th>\n      <th>mentions_cnt</th>\n      <th>links_cnt</th>\n      <th>emoji_cnt</th>\n      <th>point</th>\n    </tr>\n  </thead>\n  <tbody>\n    <tr>\n      <th>0</th>\n      <td>1565607600</td>\n      <td>30.329370</td>\n      <td>59.940488</td>\n      <td>63</td>\n      <td>4</td>\n      <td>52</td>\n      <td>6</td>\n      <td>0</td>\n      <td>0</td>\n      <td>0</td>\n      <td>0</td>\n      <td>0101000020E6100000DBC1F19351543E4006FC5DE561F8...</td>\n    </tr>\n    <tr>\n      <th>1</th>\n      <td>1565568000</td>\n      <td>30.342845</td>\n      <td>59.869542</td>\n      <td>44</td>\n      <td>0</td>\n      <td>40</td>\n      <td>0</td>\n      <td>4</td>\n      <td>0</td>\n      <td>0</td>\n      <td>0</td>\n      <td>0101000020E6100000544263A8C4573E40C27FCF284DEF...</td>\n    </tr>\n    <tr>\n      <th>2</th>\n      <td>1565568000</td>\n      <td>30.322632</td>\n      <td>60.039332</td>\n      <td>30</td>\n      <td>0</td>\n      <td>77</td>\n      <td>7</td>\n      <td>0</td>\n      <td>0</td>\n      <td>0</td>\n      <td>1</td>\n      <td>0101000020E61000009E01B90998523E40888919D70805...</td>\n    </tr>\n    <tr>\n      <th>3</th>\n      <td>1565568000</td>\n      <td>30.322632</td>\n      <td>59.938238</td>\n      <td>13</td>\n      <td>0</td>\n      <td>634</td>\n      <td>17</td>\n      <td>32</td>\n      <td>0</td>\n      <td>0</td>\n      <td>7</td>\n      <td>0101000020E61000009E01B90998523E40CEB8CE2B18F8...</td>\n    </tr>\n    <tr>\n      <th>4</th>\n      <td>1565568000</td>\n      <td>30.309158</td>\n      <td>59.932612</td>\n      <td>8</td>\n      <td>0</td>\n      <td>0</td>\n      <td>0</td>\n      <td>0</td>\n      <td>0</td>\n      <td>0</td>\n      <td>0</td>\n      <td>0101000020E6100000268147F5244F3E40494A4ED65FF7...</td>\n    </tr>\n  </tbody>\n</table>\n</div>"
     },
     "execution_count": 27,
     "metadata": {},
     "output_type": "execute_result"
    }
   ],
   "source": [
    "train_df.head()"
   ],
   "metadata": {
    "collapsed": false
   }
  },
  {
   "cell_type": "markdown",
   "source": [
    "# Preprocessing"
   ],
   "metadata": {
    "collapsed": false
   }
  },
  {
   "cell_type": "markdown",
   "source": [
    "## Initial dataset\n",
    "- timestamp – временная метка публикации с точностью до часа\n",
    "- lon, lat – координаты геопозиции с округлением до полигона 250х250 метров (географические долгота и широта, соответственно)\n",
    "- likescount – количество отметок «лайк» у публикации\n",
    "- commentscount – количество комментариев у публикации\n",
    "- symbols_cnt – общее количество символов в публикации\n",
    "- words_cnt – количество слов (осмысленных, не считая спецсимволов и прочую метаинформацию)\n",
    "- hashtags_cnt – количество хештегов\n",
    "- mentions_cnt – количество упоминаний других пользователей\n",
    "- links_cnt – количество ссылок\n",
    "- emoji_cnt – количество эмодзи"
   ],
   "metadata": {
    "collapsed": false
   }
  },
  {
   "cell_type": "code",
   "execution_count": 28,
   "outputs": [
    {
     "data": {
      "text/plain": "    timestamp        lon        lat  likescount  commentscount  symbols_cnt  \\\n0  1565607600  30.329370  59.940488          63              4           52   \n1  1565568000  30.342845  59.869542          44              0           40   \n2  1565568000  30.322632  60.039332          30              0           77   \n3  1565568000  30.322632  59.938238          13              0          634   \n4  1565568000  30.309158  59.932612           8              0            0   \n\n   words_cnt  hashtags_cnt  mentions_cnt  links_cnt  emoji_cnt  \\\n0          6             0             0          0          0   \n1          0             4             0          0          0   \n2          7             0             0          0          1   \n3         17            32             0          0          7   \n4          0             0             0          0          0   \n\n                                               point  \n0  0101000020E6100000DBC1F19351543E4006FC5DE561F8...  \n1  0101000020E6100000544263A8C4573E40C27FCF284DEF...  \n2  0101000020E61000009E01B90998523E40888919D70805...  \n3  0101000020E61000009E01B90998523E40CEB8CE2B18F8...  \n4  0101000020E6100000268147F5244F3E40494A4ED65FF7...  ",
      "text/html": "<div>\n<style scoped>\n    .dataframe tbody tr th:only-of-type {\n        vertical-align: middle;\n    }\n\n    .dataframe tbody tr th {\n        vertical-align: top;\n    }\n\n    .dataframe thead th {\n        text-align: right;\n    }\n</style>\n<table border=\"1\" class=\"dataframe\">\n  <thead>\n    <tr style=\"text-align: right;\">\n      <th></th>\n      <th>timestamp</th>\n      <th>lon</th>\n      <th>lat</th>\n      <th>likescount</th>\n      <th>commentscount</th>\n      <th>symbols_cnt</th>\n      <th>words_cnt</th>\n      <th>hashtags_cnt</th>\n      <th>mentions_cnt</th>\n      <th>links_cnt</th>\n      <th>emoji_cnt</th>\n      <th>point</th>\n    </tr>\n  </thead>\n  <tbody>\n    <tr>\n      <th>0</th>\n      <td>1565607600</td>\n      <td>30.329370</td>\n      <td>59.940488</td>\n      <td>63</td>\n      <td>4</td>\n      <td>52</td>\n      <td>6</td>\n      <td>0</td>\n      <td>0</td>\n      <td>0</td>\n      <td>0</td>\n      <td>0101000020E6100000DBC1F19351543E4006FC5DE561F8...</td>\n    </tr>\n    <tr>\n      <th>1</th>\n      <td>1565568000</td>\n      <td>30.342845</td>\n      <td>59.869542</td>\n      <td>44</td>\n      <td>0</td>\n      <td>40</td>\n      <td>0</td>\n      <td>4</td>\n      <td>0</td>\n      <td>0</td>\n      <td>0</td>\n      <td>0101000020E6100000544263A8C4573E40C27FCF284DEF...</td>\n    </tr>\n    <tr>\n      <th>2</th>\n      <td>1565568000</td>\n      <td>30.322632</td>\n      <td>60.039332</td>\n      <td>30</td>\n      <td>0</td>\n      <td>77</td>\n      <td>7</td>\n      <td>0</td>\n      <td>0</td>\n      <td>0</td>\n      <td>1</td>\n      <td>0101000020E61000009E01B90998523E40888919D70805...</td>\n    </tr>\n    <tr>\n      <th>3</th>\n      <td>1565568000</td>\n      <td>30.322632</td>\n      <td>59.938238</td>\n      <td>13</td>\n      <td>0</td>\n      <td>634</td>\n      <td>17</td>\n      <td>32</td>\n      <td>0</td>\n      <td>0</td>\n      <td>7</td>\n      <td>0101000020E61000009E01B90998523E40CEB8CE2B18F8...</td>\n    </tr>\n    <tr>\n      <th>4</th>\n      <td>1565568000</td>\n      <td>30.309158</td>\n      <td>59.932612</td>\n      <td>8</td>\n      <td>0</td>\n      <td>0</td>\n      <td>0</td>\n      <td>0</td>\n      <td>0</td>\n      <td>0</td>\n      <td>0</td>\n      <td>0101000020E6100000268147F5244F3E40494A4ED65FF7...</td>\n    </tr>\n  </tbody>\n</table>\n</div>"
     },
     "execution_count": 28,
     "metadata": {},
     "output_type": "execute_result"
    }
   ],
   "source": [
    "train_df.head()"
   ],
   "metadata": {
    "collapsed": false
   }
  },
  {
   "cell_type": "code",
   "execution_count": 29,
   "outputs": [
    {
     "data": {
      "text/plain": "(8526526, 12)"
     },
     "execution_count": 29,
     "metadata": {},
     "output_type": "execute_result"
    }
   ],
   "source": [
    "train_df.shape"
   ],
   "metadata": {
    "collapsed": false
   }
  },
  {
   "cell_type": "markdown",
   "source": [
    "# Convert Point ID to simple ID"
   ],
   "metadata": {
    "collapsed": false
   }
  },
  {
   "cell_type": "code",
   "execution_count": 30,
   "outputs": [
    {
     "data": {
      "text/plain": "   index                                              point\n0      0  0101000020E61000000000000000000000000000000000...\n1      1  0101000020E610000002A5EC7AB31D3E4097654065F8EA...\n2      2  0101000020E610000002BF48199F3F3E400A41C338F1F6...\n3      3  0101000020E610000002BF48199F3F3E400A721DB144FC...\n4      4  0101000020E610000002BF48199F3F3E400B9A5B330603...",
      "text/html": "<div>\n<style scoped>\n    .dataframe tbody tr th:only-of-type {\n        vertical-align: middle;\n    }\n\n    .dataframe tbody tr th {\n        vertical-align: top;\n    }\n\n    .dataframe thead th {\n        text-align: right;\n    }\n</style>\n<table border=\"1\" class=\"dataframe\">\n  <thead>\n    <tr style=\"text-align: right;\">\n      <th></th>\n      <th>index</th>\n      <th>point</th>\n    </tr>\n  </thead>\n  <tbody>\n    <tr>\n      <th>0</th>\n      <td>0</td>\n      <td>0101000020E61000000000000000000000000000000000...</td>\n    </tr>\n    <tr>\n      <th>1</th>\n      <td>1</td>\n      <td>0101000020E610000002A5EC7AB31D3E4097654065F8EA...</td>\n    </tr>\n    <tr>\n      <th>2</th>\n      <td>2</td>\n      <td>0101000020E610000002BF48199F3F3E400A41C338F1F6...</td>\n    </tr>\n    <tr>\n      <th>3</th>\n      <td>3</td>\n      <td>0101000020E610000002BF48199F3F3E400A721DB144FC...</td>\n    </tr>\n    <tr>\n      <th>4</th>\n      <td>4</td>\n      <td>0101000020E610000002BF48199F3F3E400B9A5B330603...</td>\n    </tr>\n  </tbody>\n</table>\n</div>"
     },
     "execution_count": 30,
     "metadata": {},
     "output_type": "execute_result"
    }
   ],
   "source": [
    "points_df = train_df[[\"point\"]].groupby([\"point\"], as_index=False).first().reset_index()\n",
    "points_df.head()"
   ],
   "metadata": {
    "collapsed": false
   }
  },
  {
   "cell_type": "code",
   "execution_count": 31,
   "outputs": [
    {
     "data": {
      "text/plain": "(7041, 2)"
     },
     "execution_count": 31,
     "metadata": {},
     "output_type": "execute_result"
    }
   ],
   "source": [
    "points_df.shape"
   ],
   "metadata": {
    "collapsed": false
   }
  },
  {
   "cell_type": "code",
   "execution_count": 32,
   "outputs": [],
   "source": [
    "points_df.columns = [\"new_point\", \"initial_point\"]"
   ],
   "metadata": {
    "collapsed": false
   }
  },
  {
   "cell_type": "code",
   "execution_count": 33,
   "outputs": [
    {
     "data": {
      "text/plain": "      new_point                                      initial_point\n0             0  0101000020E61000000000000000000000000000000000...\n1             1  0101000020E610000002A5EC7AB31D3E4097654065F8EA...\n2             2  0101000020E610000002BF48199F3F3E400A41C338F1F6...\n3             3  0101000020E610000002BF48199F3F3E400A721DB144FC...\n4             4  0101000020E610000002BF48199F3F3E400B9A5B330603...\n...         ...                                                ...\n7036       7036  0101000020E6100000FF9D4C0EC3853E406E4CE6811AEA...\n7037       7037  0101000020E6100000FF9D4C0EC3853E408481D0E8E0EF...\n7038       7038  0101000020E6100000FF9D4C0EC3853E4094782B2D0DF3...\n7039       7039  0101000020E6100000FF9D4C0EC3853E40ABD94A1972EF...\n7040       7040  0101000020E6100000FF9D4C0EC3853E40F2755E8979F2...\n\n[7041 rows x 2 columns]",
      "text/html": "<div>\n<style scoped>\n    .dataframe tbody tr th:only-of-type {\n        vertical-align: middle;\n    }\n\n    .dataframe tbody tr th {\n        vertical-align: top;\n    }\n\n    .dataframe thead th {\n        text-align: right;\n    }\n</style>\n<table border=\"1\" class=\"dataframe\">\n  <thead>\n    <tr style=\"text-align: right;\">\n      <th></th>\n      <th>new_point</th>\n      <th>initial_point</th>\n    </tr>\n  </thead>\n  <tbody>\n    <tr>\n      <th>0</th>\n      <td>0</td>\n      <td>0101000020E61000000000000000000000000000000000...</td>\n    </tr>\n    <tr>\n      <th>1</th>\n      <td>1</td>\n      <td>0101000020E610000002A5EC7AB31D3E4097654065F8EA...</td>\n    </tr>\n    <tr>\n      <th>2</th>\n      <td>2</td>\n      <td>0101000020E610000002BF48199F3F3E400A41C338F1F6...</td>\n    </tr>\n    <tr>\n      <th>3</th>\n      <td>3</td>\n      <td>0101000020E610000002BF48199F3F3E400A721DB144FC...</td>\n    </tr>\n    <tr>\n      <th>4</th>\n      <td>4</td>\n      <td>0101000020E610000002BF48199F3F3E400B9A5B330603...</td>\n    </tr>\n    <tr>\n      <th>...</th>\n      <td>...</td>\n      <td>...</td>\n    </tr>\n    <tr>\n      <th>7036</th>\n      <td>7036</td>\n      <td>0101000020E6100000FF9D4C0EC3853E406E4CE6811AEA...</td>\n    </tr>\n    <tr>\n      <th>7037</th>\n      <td>7037</td>\n      <td>0101000020E6100000FF9D4C0EC3853E408481D0E8E0EF...</td>\n    </tr>\n    <tr>\n      <th>7038</th>\n      <td>7038</td>\n      <td>0101000020E6100000FF9D4C0EC3853E4094782B2D0DF3...</td>\n    </tr>\n    <tr>\n      <th>7039</th>\n      <td>7039</td>\n      <td>0101000020E6100000FF9D4C0EC3853E40ABD94A1972EF...</td>\n    </tr>\n    <tr>\n      <th>7040</th>\n      <td>7040</td>\n      <td>0101000020E6100000FF9D4C0EC3853E40F2755E8979F2...</td>\n    </tr>\n  </tbody>\n</table>\n<p>7041 rows × 2 columns</p>\n</div>"
     },
     "execution_count": 33,
     "metadata": {},
     "output_type": "execute_result"
    }
   ],
   "source": [
    "points_df"
   ],
   "metadata": {
    "collapsed": false
   }
  },
  {
   "cell_type": "code",
   "execution_count": 34,
   "outputs": [],
   "source": [
    "points_df.to_csv(\"./data/points_df.csv\", index=None)"
   ],
   "metadata": {
    "collapsed": false
   }
  },
  {
   "cell_type": "code",
   "execution_count": 35,
   "outputs": [],
   "source": [
    "train_df = train_df.merge(\n",
    "    points_df, how=\"left\", left_on=\"point\", right_on=\"initial_point\"\n",
    ")"
   ],
   "metadata": {
    "collapsed": false
   }
  },
  {
   "cell_type": "code",
   "execution_count": 37,
   "outputs": [],
   "source": [
    "train_df.drop(columns=[\"point\", \"initial_point\"], inplace=True)"
   ],
   "metadata": {
    "collapsed": false
   }
  },
  {
   "cell_type": "code",
   "execution_count": 40,
   "outputs": [],
   "source": [
    "train_df.rename(columns={\"new_point\": \"point\"}, inplace=True)"
   ],
   "metadata": {
    "collapsed": false
   }
  },
  {
   "cell_type": "code",
   "execution_count": 42,
   "outputs": [
    {
     "name": "stdout",
     "output_type": "stream",
     "text": [
      "Memory usage 439.10 MB -> 390.31 MB (-11.1%)\n"
     ]
    }
   ],
   "source": [
    "train_df = optimize_memory(train_df)"
   ],
   "metadata": {
    "collapsed": false
   }
  },
  {
   "cell_type": "code",
   "execution_count": 43,
   "outputs": [
    {
     "name": "stdout",
     "output_type": "stream",
     "text": [
      "(8526526, 12)\n"
     ]
    },
    {
     "data": {
      "text/plain": "    timestamp        lon        lat  likescount  commentscount  symbols_cnt  \\\n0  1565607600  30.329370  59.940488          63              4           52   \n1  1565568000  30.342845  59.869542          44              0           40   \n2  1565568000  30.322632  60.039332          30              0           77   \n3  1565568000  30.322632  59.938238          13              0          634   \n4  1565568000  30.309158  59.932612           8              0            0   \n\n   words_cnt  hashtags_cnt  mentions_cnt  links_cnt  emoji_cnt  point  \n0          6             0             0          0          0   6037  \n1          0             4             0          0          0   2362  \n2          7             0             0          0          1   4343  \n3         17            32             0          0          7   4354  \n4          0             0             0          0          0   1027  ",
      "text/html": "<div>\n<style scoped>\n    .dataframe tbody tr th:only-of-type {\n        vertical-align: middle;\n    }\n\n    .dataframe tbody tr th {\n        vertical-align: top;\n    }\n\n    .dataframe thead th {\n        text-align: right;\n    }\n</style>\n<table border=\"1\" class=\"dataframe\">\n  <thead>\n    <tr style=\"text-align: right;\">\n      <th></th>\n      <th>timestamp</th>\n      <th>lon</th>\n      <th>lat</th>\n      <th>likescount</th>\n      <th>commentscount</th>\n      <th>symbols_cnt</th>\n      <th>words_cnt</th>\n      <th>hashtags_cnt</th>\n      <th>mentions_cnt</th>\n      <th>links_cnt</th>\n      <th>emoji_cnt</th>\n      <th>point</th>\n    </tr>\n  </thead>\n  <tbody>\n    <tr>\n      <th>0</th>\n      <td>1565607600</td>\n      <td>30.329370</td>\n      <td>59.940488</td>\n      <td>63</td>\n      <td>4</td>\n      <td>52</td>\n      <td>6</td>\n      <td>0</td>\n      <td>0</td>\n      <td>0</td>\n      <td>0</td>\n      <td>6037</td>\n    </tr>\n    <tr>\n      <th>1</th>\n      <td>1565568000</td>\n      <td>30.342845</td>\n      <td>59.869542</td>\n      <td>44</td>\n      <td>0</td>\n      <td>40</td>\n      <td>0</td>\n      <td>4</td>\n      <td>0</td>\n      <td>0</td>\n      <td>0</td>\n      <td>2362</td>\n    </tr>\n    <tr>\n      <th>2</th>\n      <td>1565568000</td>\n      <td>30.322632</td>\n      <td>60.039332</td>\n      <td>30</td>\n      <td>0</td>\n      <td>77</td>\n      <td>7</td>\n      <td>0</td>\n      <td>0</td>\n      <td>0</td>\n      <td>1</td>\n      <td>4343</td>\n    </tr>\n    <tr>\n      <th>3</th>\n      <td>1565568000</td>\n      <td>30.322632</td>\n      <td>59.938238</td>\n      <td>13</td>\n      <td>0</td>\n      <td>634</td>\n      <td>17</td>\n      <td>32</td>\n      <td>0</td>\n      <td>0</td>\n      <td>7</td>\n      <td>4354</td>\n    </tr>\n    <tr>\n      <th>4</th>\n      <td>1565568000</td>\n      <td>30.309158</td>\n      <td>59.932612</td>\n      <td>8</td>\n      <td>0</td>\n      <td>0</td>\n      <td>0</td>\n      <td>0</td>\n      <td>0</td>\n      <td>0</td>\n      <td>0</td>\n      <td>1027</td>\n    </tr>\n  </tbody>\n</table>\n</div>"
     },
     "execution_count": 43,
     "metadata": {},
     "output_type": "execute_result"
    }
   ],
   "source": [
    "print(train_df.shape)\n",
    "train_df.head()"
   ],
   "metadata": {
    "collapsed": false
   }
  },
  {
   "cell_type": "markdown",
   "source": [
    "# Add time-based features"
   ],
   "metadata": {
    "collapsed": false
   }
  },
  {
   "cell_type": "markdown",
   "source": [
    "# Create calendar"
   ],
   "metadata": {
    "collapsed": false
   }
  },
  {
   "cell_type": "code",
   "execution_count": 45,
   "outputs": [],
   "source": [
    "russia_holidays = holidays.RU()"
   ],
   "metadata": {
    "collapsed": false
   }
  },
  {
   "cell_type": "code",
   "execution_count": 46,
   "outputs": [
    {
     "data": {
      "text/plain": "holidays.country_holidays('RU')"
     },
     "execution_count": 46,
     "metadata": {},
     "output_type": "execute_result"
    }
   ],
   "source": [
    "russia_holidays"
   ],
   "metadata": {
    "collapsed": false
   }
  },
  {
   "cell_type": "code",
   "execution_count": 47,
   "outputs": [],
   "source": [
    "calendar_df = pd.date_range(\n",
    "    \"2019-01-01T00:00:00\", \"2020-02-29T23:00:00\", freq=\"1H\"\n",
    ").to_frame(index=False, name=\"datetime\")"
   ],
   "metadata": {
    "collapsed": false
   }
  },
  {
   "cell_type": "code",
   "execution_count": 48,
   "outputs": [
    {
     "data": {
      "text/plain": "             datetime\n0 2019-01-01 00:00:00\n1 2019-01-01 01:00:00\n2 2019-01-01 02:00:00\n3 2019-01-01 03:00:00\n4 2019-01-01 04:00:00",
      "text/html": "<div>\n<style scoped>\n    .dataframe tbody tr th:only-of-type {\n        vertical-align: middle;\n    }\n\n    .dataframe tbody tr th {\n        vertical-align: top;\n    }\n\n    .dataframe thead th {\n        text-align: right;\n    }\n</style>\n<table border=\"1\" class=\"dataframe\">\n  <thead>\n    <tr style=\"text-align: right;\">\n      <th></th>\n      <th>datetime</th>\n    </tr>\n  </thead>\n  <tbody>\n    <tr>\n      <th>0</th>\n      <td>2019-01-01 00:00:00</td>\n    </tr>\n    <tr>\n      <th>1</th>\n      <td>2019-01-01 01:00:00</td>\n    </tr>\n    <tr>\n      <th>2</th>\n      <td>2019-01-01 02:00:00</td>\n    </tr>\n    <tr>\n      <th>3</th>\n      <td>2019-01-01 03:00:00</td>\n    </tr>\n    <tr>\n      <th>4</th>\n      <td>2019-01-01 04:00:00</td>\n    </tr>\n  </tbody>\n</table>\n</div>"
     },
     "execution_count": 48,
     "metadata": {},
     "output_type": "execute_result"
    }
   ],
   "source": [
    "calendar_df.head()"
   ],
   "metadata": {
    "collapsed": false
   }
  },
  {
   "cell_type": "code",
   "execution_count": 49,
   "outputs": [
    {
     "data": {
      "text/plain": "(10200, 1)"
     },
     "execution_count": 49,
     "metadata": {},
     "output_type": "execute_result"
    }
   ],
   "source": [
    "calendar_df.shape"
   ],
   "metadata": {
    "collapsed": false
   }
  },
  {
   "cell_type": "code",
   "execution_count": 50,
   "outputs": [],
   "source": [
    "calendar_df[\"time_id\"] = calendar_df.index\n",
    "calendar_df[\"timestamp\"] = calendar_df[\"datetime\"].astype(np.int64) // 10**9\n",
    "\n",
    "calendar_df[\"year\"] = calendar_df[\"datetime\"].dt.year\n",
    "calendar_df[\"month\"] = calendar_df[\"datetime\"].dt.month\n",
    "calendar_df[\"day\"] = calendar_df[\"datetime\"].dt.day\n",
    "calendar_df[\"weekday\"] = calendar_df[\"datetime\"].dt.weekday\n",
    "calendar_df[\"hour\"] = calendar_df[\"datetime\"].dt.hour\n",
    "\n",
    "calendar_df[\"weekend\"] = calendar_df[\"datetime\"].dt.weekday // 5 # ones for two last weekday\n",
    "calendar_df[\"holidays\"] = calendar_df[\"datetime\"].apply(\n",
    "    lambda x: int(x in russia_holidays)\n",
    ")"
   ],
   "metadata": {
    "collapsed": false
   }
  },
  {
   "cell_type": "code",
   "execution_count": 51,
   "outputs": [
    {
     "data": {
      "text/plain": "                 datetime  time_id   timestamp  year  month  day  weekday  \\\n0     2019-01-01 00:00:00        0  1546300800  2019      1    1        1   \n1     2019-01-01 01:00:00        1  1546304400  2019      1    1        1   \n2     2019-01-01 02:00:00        2  1546308000  2019      1    1        1   \n3     2019-01-01 03:00:00        3  1546311600  2019      1    1        1   \n4     2019-01-01 04:00:00        4  1546315200  2019      1    1        1   \n...                   ...      ...         ...   ...    ...  ...      ...   \n10195 2020-02-29 19:00:00    10195  1583002800  2020      2   29        5   \n10196 2020-02-29 20:00:00    10196  1583006400  2020      2   29        5   \n10197 2020-02-29 21:00:00    10197  1583010000  2020      2   29        5   \n10198 2020-02-29 22:00:00    10198  1583013600  2020      2   29        5   \n10199 2020-02-29 23:00:00    10199  1583017200  2020      2   29        5   \n\n       hour  weekend  holidays  \n0         0        0         1  \n1         1        0         1  \n2         2        0         1  \n3         3        0         1  \n4         4        0         1  \n...     ...      ...       ...  \n10195    19        1         0  \n10196    20        1         0  \n10197    21        1         0  \n10198    22        1         0  \n10199    23        1         0  \n\n[10200 rows x 10 columns]",
      "text/html": "<div>\n<style scoped>\n    .dataframe tbody tr th:only-of-type {\n        vertical-align: middle;\n    }\n\n    .dataframe tbody tr th {\n        vertical-align: top;\n    }\n\n    .dataframe thead th {\n        text-align: right;\n    }\n</style>\n<table border=\"1\" class=\"dataframe\">\n  <thead>\n    <tr style=\"text-align: right;\">\n      <th></th>\n      <th>datetime</th>\n      <th>time_id</th>\n      <th>timestamp</th>\n      <th>year</th>\n      <th>month</th>\n      <th>day</th>\n      <th>weekday</th>\n      <th>hour</th>\n      <th>weekend</th>\n      <th>holidays</th>\n    </tr>\n  </thead>\n  <tbody>\n    <tr>\n      <th>0</th>\n      <td>2019-01-01 00:00:00</td>\n      <td>0</td>\n      <td>1546300800</td>\n      <td>2019</td>\n      <td>1</td>\n      <td>1</td>\n      <td>1</td>\n      <td>0</td>\n      <td>0</td>\n      <td>1</td>\n    </tr>\n    <tr>\n      <th>1</th>\n      <td>2019-01-01 01:00:00</td>\n      <td>1</td>\n      <td>1546304400</td>\n      <td>2019</td>\n      <td>1</td>\n      <td>1</td>\n      <td>1</td>\n      <td>1</td>\n      <td>0</td>\n      <td>1</td>\n    </tr>\n    <tr>\n      <th>2</th>\n      <td>2019-01-01 02:00:00</td>\n      <td>2</td>\n      <td>1546308000</td>\n      <td>2019</td>\n      <td>1</td>\n      <td>1</td>\n      <td>1</td>\n      <td>2</td>\n      <td>0</td>\n      <td>1</td>\n    </tr>\n    <tr>\n      <th>3</th>\n      <td>2019-01-01 03:00:00</td>\n      <td>3</td>\n      <td>1546311600</td>\n      <td>2019</td>\n      <td>1</td>\n      <td>1</td>\n      <td>1</td>\n      <td>3</td>\n      <td>0</td>\n      <td>1</td>\n    </tr>\n    <tr>\n      <th>4</th>\n      <td>2019-01-01 04:00:00</td>\n      <td>4</td>\n      <td>1546315200</td>\n      <td>2019</td>\n      <td>1</td>\n      <td>1</td>\n      <td>1</td>\n      <td>4</td>\n      <td>0</td>\n      <td>1</td>\n    </tr>\n    <tr>\n      <th>...</th>\n      <td>...</td>\n      <td>...</td>\n      <td>...</td>\n      <td>...</td>\n      <td>...</td>\n      <td>...</td>\n      <td>...</td>\n      <td>...</td>\n      <td>...</td>\n      <td>...</td>\n    </tr>\n    <tr>\n      <th>10195</th>\n      <td>2020-02-29 19:00:00</td>\n      <td>10195</td>\n      <td>1583002800</td>\n      <td>2020</td>\n      <td>2</td>\n      <td>29</td>\n      <td>5</td>\n      <td>19</td>\n      <td>1</td>\n      <td>0</td>\n    </tr>\n    <tr>\n      <th>10196</th>\n      <td>2020-02-29 20:00:00</td>\n      <td>10196</td>\n      <td>1583006400</td>\n      <td>2020</td>\n      <td>2</td>\n      <td>29</td>\n      <td>5</td>\n      <td>20</td>\n      <td>1</td>\n      <td>0</td>\n    </tr>\n    <tr>\n      <th>10197</th>\n      <td>2020-02-29 21:00:00</td>\n      <td>10197</td>\n      <td>1583010000</td>\n      <td>2020</td>\n      <td>2</td>\n      <td>29</td>\n      <td>5</td>\n      <td>21</td>\n      <td>1</td>\n      <td>0</td>\n    </tr>\n    <tr>\n      <th>10198</th>\n      <td>2020-02-29 22:00:00</td>\n      <td>10198</td>\n      <td>1583013600</td>\n      <td>2020</td>\n      <td>2</td>\n      <td>29</td>\n      <td>5</td>\n      <td>22</td>\n      <td>1</td>\n      <td>0</td>\n    </tr>\n    <tr>\n      <th>10199</th>\n      <td>2020-02-29 23:00:00</td>\n      <td>10199</td>\n      <td>1583017200</td>\n      <td>2020</td>\n      <td>2</td>\n      <td>29</td>\n      <td>5</td>\n      <td>23</td>\n      <td>1</td>\n      <td>0</td>\n    </tr>\n  </tbody>\n</table>\n<p>10200 rows × 10 columns</p>\n</div>"
     },
     "execution_count": 51,
     "metadata": {},
     "output_type": "execute_result"
    }
   ],
   "source": [
    "calendar_df"
   ],
   "metadata": {
    "collapsed": false
   }
  },
  {
   "cell_type": "code",
   "execution_count": 52,
   "outputs": [
    {
     "name": "stdout",
     "output_type": "stream",
     "text": [
      "Memory usage 0.78 MB -> 0.21 MB (-72.5%)\n",
      "(10200, 10)\n"
     ]
    },
    {
     "data": {
      "text/plain": "             datetime  time_id   timestamp  year  month  day  weekday  hour  \\\n0 2019-01-01 00:00:00        0  1546300800  2019      1    1        1     0   \n1 2019-01-01 01:00:00        1  1546304400  2019      1    1        1     1   \n2 2019-01-01 02:00:00        2  1546308000  2019      1    1        1     2   \n3 2019-01-01 03:00:00        3  1546311600  2019      1    1        1     3   \n4 2019-01-01 04:00:00        4  1546315200  2019      1    1        1     4   \n\n   weekend  holidays  \n0        0         1  \n1        0         1  \n2        0         1  \n3        0         1  \n4        0         1  ",
      "text/html": "<div>\n<style scoped>\n    .dataframe tbody tr th:only-of-type {\n        vertical-align: middle;\n    }\n\n    .dataframe tbody tr th {\n        vertical-align: top;\n    }\n\n    .dataframe thead th {\n        text-align: right;\n    }\n</style>\n<table border=\"1\" class=\"dataframe\">\n  <thead>\n    <tr style=\"text-align: right;\">\n      <th></th>\n      <th>datetime</th>\n      <th>time_id</th>\n      <th>timestamp</th>\n      <th>year</th>\n      <th>month</th>\n      <th>day</th>\n      <th>weekday</th>\n      <th>hour</th>\n      <th>weekend</th>\n      <th>holidays</th>\n    </tr>\n  </thead>\n  <tbody>\n    <tr>\n      <th>0</th>\n      <td>2019-01-01 00:00:00</td>\n      <td>0</td>\n      <td>1546300800</td>\n      <td>2019</td>\n      <td>1</td>\n      <td>1</td>\n      <td>1</td>\n      <td>0</td>\n      <td>0</td>\n      <td>1</td>\n    </tr>\n    <tr>\n      <th>1</th>\n      <td>2019-01-01 01:00:00</td>\n      <td>1</td>\n      <td>1546304400</td>\n      <td>2019</td>\n      <td>1</td>\n      <td>1</td>\n      <td>1</td>\n      <td>1</td>\n      <td>0</td>\n      <td>1</td>\n    </tr>\n    <tr>\n      <th>2</th>\n      <td>2019-01-01 02:00:00</td>\n      <td>2</td>\n      <td>1546308000</td>\n      <td>2019</td>\n      <td>1</td>\n      <td>1</td>\n      <td>1</td>\n      <td>2</td>\n      <td>0</td>\n      <td>1</td>\n    </tr>\n    <tr>\n      <th>3</th>\n      <td>2019-01-01 03:00:00</td>\n      <td>3</td>\n      <td>1546311600</td>\n      <td>2019</td>\n      <td>1</td>\n      <td>1</td>\n      <td>1</td>\n      <td>3</td>\n      <td>0</td>\n      <td>1</td>\n    </tr>\n    <tr>\n      <th>4</th>\n      <td>2019-01-01 04:00:00</td>\n      <td>4</td>\n      <td>1546315200</td>\n      <td>2019</td>\n      <td>1</td>\n      <td>1</td>\n      <td>1</td>\n      <td>4</td>\n      <td>0</td>\n      <td>1</td>\n    </tr>\n  </tbody>\n</table>\n</div>"
     },
     "execution_count": 52,
     "metadata": {},
     "output_type": "execute_result"
    }
   ],
   "source": [
    "calendar_df = optimize_memory(calendar_df)\n",
    "print(calendar_df.shape)\n",
    "calendar_df.head()"
   ],
   "metadata": {
    "collapsed": false
   }
  },
  {
   "cell_type": "code",
   "execution_count": 53,
   "outputs": [],
   "source": [
    "calendar_df.to_csv(\"./data/calendar.csv\", index=None)"
   ],
   "metadata": {
    "collapsed": false
   }
  },
  {
   "cell_type": "markdown",
   "source": [
    "# Join train data with calendar"
   ],
   "metadata": {
    "collapsed": false
   }
  },
  {
   "cell_type": "code",
   "execution_count": 49,
   "outputs": [],
   "source": [
    "train_df = train_df.merge(\n",
    "    calendar_df, how=\"left\", left_on=\"timestamp\", right_on=\"timestamp\"\n",
    ")"
   ],
   "metadata": {
    "collapsed": false
   }
  },
  {
   "cell_type": "markdown",
   "source": [
    "Check that it is ok"
   ],
   "metadata": {
    "collapsed": false
   }
  },
  {
   "cell_type": "code",
   "execution_count": 50,
   "outputs": [
    {
     "data": {
      "text/plain": "timestamp        0\nlon              0\nlat              0\nlikescount       0\ncommentscount    0\nsymbols_cnt      0\nwords_cnt        0\nhashtags_cnt     0\nmentions_cnt     0\nlinks_cnt        0\nemoji_cnt        0\npoint            0\ndatetime         0\ntime_id          0\nyear             0\nmonth            0\nday              0\nweekday          0\nhour             0\nweekend          0\nholidays         0\ndtype: int64"
     },
     "execution_count": 50,
     "metadata": {},
     "output_type": "execute_result"
    }
   ],
   "source": [
    "train_df.isnull().sum()"
   ],
   "metadata": {
    "collapsed": false
   }
  },
  {
   "cell_type": "code",
   "execution_count": 51,
   "outputs": [
    {
     "data": {
      "text/plain": "(8526526, 21)"
     },
     "execution_count": 51,
     "metadata": {},
     "output_type": "execute_result"
    }
   ],
   "source": [
    "train_df.shape"
   ],
   "metadata": {
    "collapsed": false
   }
  },
  {
   "cell_type": "code",
   "execution_count": 52,
   "outputs": [
    {
     "data": {
      "text/plain": "    timestamp        lon        lat  likescount  commentscount  symbols_cnt  \\\n0  1565607600  30.329370  59.940488          63              4           52   \n1  1565568000  30.342845  59.869542          44              0           40   \n2  1565568000  30.322632  60.039332          30              0           77   \n3  1565568000  30.322632  59.938238          13              0          634   \n4  1565568000  30.309158  59.932612           8              0            0   \n\n   words_cnt  hashtags_cnt  mentions_cnt  links_cnt  ...  \\\n0          6             0             0          0  ...   \n1          0             4             0          0  ...   \n2          7             0             0          0  ...   \n3         17            32             0          0  ...   \n4          0             0             0          0  ...   \n\n                                               point            datetime  \\\n0  0101000020E6100000DBC1F19351543E4006FC5DE561F8... 2019-08-12 11:00:00   \n1  0101000020E6100000544263A8C4573E40C27FCF284DEF... 2019-08-12 00:00:00   \n2  0101000020E61000009E01B90998523E40888919D70805... 2019-08-12 00:00:00   \n3  0101000020E61000009E01B90998523E40CEB8CE2B18F8... 2019-08-12 00:00:00   \n4  0101000020E6100000268147F5244F3E40494A4ED65FF7... 2019-08-12 00:00:00   \n\n  time_id  year  month  day  weekday  hour  weekend  holidays  \n0    5363  2019      8   12        0    11        0         0  \n1    5352  2019      8   12        0     0        0         0  \n2    5352  2019      8   12        0     0        0         0  \n3    5352  2019      8   12        0     0        0         0  \n4    5352  2019      8   12        0     0        0         0  \n\n[5 rows x 21 columns]",
      "text/html": "<div>\n<style scoped>\n    .dataframe tbody tr th:only-of-type {\n        vertical-align: middle;\n    }\n\n    .dataframe tbody tr th {\n        vertical-align: top;\n    }\n\n    .dataframe thead th {\n        text-align: right;\n    }\n</style>\n<table border=\"1\" class=\"dataframe\">\n  <thead>\n    <tr style=\"text-align: right;\">\n      <th></th>\n      <th>timestamp</th>\n      <th>lon</th>\n      <th>lat</th>\n      <th>likescount</th>\n      <th>commentscount</th>\n      <th>symbols_cnt</th>\n      <th>words_cnt</th>\n      <th>hashtags_cnt</th>\n      <th>mentions_cnt</th>\n      <th>links_cnt</th>\n      <th>...</th>\n      <th>point</th>\n      <th>datetime</th>\n      <th>time_id</th>\n      <th>year</th>\n      <th>month</th>\n      <th>day</th>\n      <th>weekday</th>\n      <th>hour</th>\n      <th>weekend</th>\n      <th>holidays</th>\n    </tr>\n  </thead>\n  <tbody>\n    <tr>\n      <th>0</th>\n      <td>1565607600</td>\n      <td>30.329370</td>\n      <td>59.940488</td>\n      <td>63</td>\n      <td>4</td>\n      <td>52</td>\n      <td>6</td>\n      <td>0</td>\n      <td>0</td>\n      <td>0</td>\n      <td>...</td>\n      <td>0101000020E6100000DBC1F19351543E4006FC5DE561F8...</td>\n      <td>2019-08-12 11:00:00</td>\n      <td>5363</td>\n      <td>2019</td>\n      <td>8</td>\n      <td>12</td>\n      <td>0</td>\n      <td>11</td>\n      <td>0</td>\n      <td>0</td>\n    </tr>\n    <tr>\n      <th>1</th>\n      <td>1565568000</td>\n      <td>30.342845</td>\n      <td>59.869542</td>\n      <td>44</td>\n      <td>0</td>\n      <td>40</td>\n      <td>0</td>\n      <td>4</td>\n      <td>0</td>\n      <td>0</td>\n      <td>...</td>\n      <td>0101000020E6100000544263A8C4573E40C27FCF284DEF...</td>\n      <td>2019-08-12 00:00:00</td>\n      <td>5352</td>\n      <td>2019</td>\n      <td>8</td>\n      <td>12</td>\n      <td>0</td>\n      <td>0</td>\n      <td>0</td>\n      <td>0</td>\n    </tr>\n    <tr>\n      <th>2</th>\n      <td>1565568000</td>\n      <td>30.322632</td>\n      <td>60.039332</td>\n      <td>30</td>\n      <td>0</td>\n      <td>77</td>\n      <td>7</td>\n      <td>0</td>\n      <td>0</td>\n      <td>0</td>\n      <td>...</td>\n      <td>0101000020E61000009E01B90998523E40888919D70805...</td>\n      <td>2019-08-12 00:00:00</td>\n      <td>5352</td>\n      <td>2019</td>\n      <td>8</td>\n      <td>12</td>\n      <td>0</td>\n      <td>0</td>\n      <td>0</td>\n      <td>0</td>\n    </tr>\n    <tr>\n      <th>3</th>\n      <td>1565568000</td>\n      <td>30.322632</td>\n      <td>59.938238</td>\n      <td>13</td>\n      <td>0</td>\n      <td>634</td>\n      <td>17</td>\n      <td>32</td>\n      <td>0</td>\n      <td>0</td>\n      <td>...</td>\n      <td>0101000020E61000009E01B90998523E40CEB8CE2B18F8...</td>\n      <td>2019-08-12 00:00:00</td>\n      <td>5352</td>\n      <td>2019</td>\n      <td>8</td>\n      <td>12</td>\n      <td>0</td>\n      <td>0</td>\n      <td>0</td>\n      <td>0</td>\n    </tr>\n    <tr>\n      <th>4</th>\n      <td>1565568000</td>\n      <td>30.309158</td>\n      <td>59.932612</td>\n      <td>8</td>\n      <td>0</td>\n      <td>0</td>\n      <td>0</td>\n      <td>0</td>\n      <td>0</td>\n      <td>0</td>\n      <td>...</td>\n      <td>0101000020E6100000268147F5244F3E40494A4ED65FF7...</td>\n      <td>2019-08-12 00:00:00</td>\n      <td>5352</td>\n      <td>2019</td>\n      <td>8</td>\n      <td>12</td>\n      <td>0</td>\n      <td>0</td>\n      <td>0</td>\n      <td>0</td>\n    </tr>\n  </tbody>\n</table>\n<p>5 rows × 21 columns</p>\n</div>"
     },
     "execution_count": 52,
     "metadata": {},
     "output_type": "execute_result"
    }
   ],
   "source": [
    "train_df.head()"
   ],
   "metadata": {
    "collapsed": false
   }
  },
  {
   "cell_type": "markdown",
   "source": [
    "# Transform point coordinates to WKT (plain text)"
   ],
   "metadata": {
    "collapsed": false
   }
  },
  {
   "cell_type": "markdown",
   "source": [
    "Transform (lon,lat) to WKT point"
   ],
   "metadata": {
    "collapsed": false
   }
  },
  {
   "cell_type": "code",
   "execution_count": 54,
   "outputs": [
    {
     "data": {
      "text/plain": "    timestamp        lon        lat  likescount  commentscount  symbols_cnt  \\\n0  1565607600  30.329370  59.940488          63              4           52   \n1  1565568000  30.342845  59.869542          44              0           40   \n2  1565568000  30.322632  60.039332          30              0           77   \n3  1565568000  30.322632  59.938238          13              0          634   \n4  1565568000  30.309158  59.932612           8              0            0   \n\n   words_cnt  hashtags_cnt  mentions_cnt  links_cnt  emoji_cnt  point  \\\n0          6             0             0          0          0   6037   \n1          0             4             0          0          0   2362   \n2          7             0             0          0          1   4343   \n3         17            32             0          0          7   4354   \n4          0             0             0          0          0   1027   \n\n                           poly_center  \n0  POINT (30.3293697801 59.9404875478)  \n1  POINT (30.3428445093 59.8695422185)  \n2  POINT (30.3226324155 60.0393322825)  \n3  POINT (30.3226324155 59.9382376441)  \n4  POINT (30.3091576862 59.9326122172)  ",
      "text/html": "<div>\n<style scoped>\n    .dataframe tbody tr th:only-of-type {\n        vertical-align: middle;\n    }\n\n    .dataframe tbody tr th {\n        vertical-align: top;\n    }\n\n    .dataframe thead th {\n        text-align: right;\n    }\n</style>\n<table border=\"1\" class=\"dataframe\">\n  <thead>\n    <tr style=\"text-align: right;\">\n      <th></th>\n      <th>timestamp</th>\n      <th>lon</th>\n      <th>lat</th>\n      <th>likescount</th>\n      <th>commentscount</th>\n      <th>symbols_cnt</th>\n      <th>words_cnt</th>\n      <th>hashtags_cnt</th>\n      <th>mentions_cnt</th>\n      <th>links_cnt</th>\n      <th>emoji_cnt</th>\n      <th>point</th>\n      <th>poly_center</th>\n    </tr>\n  </thead>\n  <tbody>\n    <tr>\n      <th>0</th>\n      <td>1565607600</td>\n      <td>30.329370</td>\n      <td>59.940488</td>\n      <td>63</td>\n      <td>4</td>\n      <td>52</td>\n      <td>6</td>\n      <td>0</td>\n      <td>0</td>\n      <td>0</td>\n      <td>0</td>\n      <td>6037</td>\n      <td>POINT (30.3293697801 59.9404875478)</td>\n    </tr>\n    <tr>\n      <th>1</th>\n      <td>1565568000</td>\n      <td>30.342845</td>\n      <td>59.869542</td>\n      <td>44</td>\n      <td>0</td>\n      <td>40</td>\n      <td>0</td>\n      <td>4</td>\n      <td>0</td>\n      <td>0</td>\n      <td>0</td>\n      <td>2362</td>\n      <td>POINT (30.3428445093 59.8695422185)</td>\n    </tr>\n    <tr>\n      <th>2</th>\n      <td>1565568000</td>\n      <td>30.322632</td>\n      <td>60.039332</td>\n      <td>30</td>\n      <td>0</td>\n      <td>77</td>\n      <td>7</td>\n      <td>0</td>\n      <td>0</td>\n      <td>0</td>\n      <td>1</td>\n      <td>4343</td>\n      <td>POINT (30.3226324155 60.0393322825)</td>\n    </tr>\n    <tr>\n      <th>3</th>\n      <td>1565568000</td>\n      <td>30.322632</td>\n      <td>59.938238</td>\n      <td>13</td>\n      <td>0</td>\n      <td>634</td>\n      <td>17</td>\n      <td>32</td>\n      <td>0</td>\n      <td>0</td>\n      <td>7</td>\n      <td>4354</td>\n      <td>POINT (30.3226324155 59.9382376441)</td>\n    </tr>\n    <tr>\n      <th>4</th>\n      <td>1565568000</td>\n      <td>30.309158</td>\n      <td>59.932612</td>\n      <td>8</td>\n      <td>0</td>\n      <td>0</td>\n      <td>0</td>\n      <td>0</td>\n      <td>0</td>\n      <td>0</td>\n      <td>0</td>\n      <td>1027</td>\n      <td>POINT (30.3091576862 59.9326122172)</td>\n    </tr>\n  </tbody>\n</table>\n</div>"
     },
     "execution_count": 54,
     "metadata": {},
     "output_type": "execute_result"
    }
   ],
   "source": [
    "train_df[\"poly_center\"] = train_df[[\"lat\", \"lon\"]].apply(\n",
    "    lambda row: f\"POINT ({row['lon']:.10f} {row['lat']:.10f})\", axis=1\n",
    ")\n",
    "\n",
    "train_df.head()"
   ],
   "metadata": {
    "collapsed": false
   }
  },
  {
   "cell_type": "markdown",
   "source": [
    "# Filter non-Spb points"
   ],
   "metadata": {
    "collapsed": false
   }
  },
  {
   "cell_type": "code",
   "execution_count": 55,
   "outputs": [],
   "source": [
    "all_locations = train_df[[\"point\", \"poly_center\"]].groupby([\"point\"]).first().reset_index()\n"
   ],
   "metadata": {
    "collapsed": false
   }
  },
  {
   "cell_type": "code",
   "execution_count": 56,
   "outputs": [
    {
     "data": {
      "text/plain": "(7041, 2)"
     },
     "execution_count": 56,
     "metadata": {},
     "output_type": "execute_result"
    }
   ],
   "source": [
    "all_locations.shape"
   ],
   "metadata": {
    "collapsed": false
   }
  },
  {
   "cell_type": "code",
   "execution_count": 57,
   "outputs": [
    {
     "data": {
      "text/plain": "   point                          poly_center\n0      0    POINT (0.0000000000 0.0000000000)\n1      1  POINT (30.1160199001 59.8357054295)\n2      2  POINT (30.2485214045 59.9292365030)\n3      3  POINT (30.2485214045 59.9708463091)\n4      4  POINT (30.2485214045 60.0236267278)",
      "text/html": "<div>\n<style scoped>\n    .dataframe tbody tr th:only-of-type {\n        vertical-align: middle;\n    }\n\n    .dataframe tbody tr th {\n        vertical-align: top;\n    }\n\n    .dataframe thead th {\n        text-align: right;\n    }\n</style>\n<table border=\"1\" class=\"dataframe\">\n  <thead>\n    <tr style=\"text-align: right;\">\n      <th></th>\n      <th>point</th>\n      <th>poly_center</th>\n    </tr>\n  </thead>\n  <tbody>\n    <tr>\n      <th>0</th>\n      <td>0</td>\n      <td>POINT (0.0000000000 0.0000000000)</td>\n    </tr>\n    <tr>\n      <th>1</th>\n      <td>1</td>\n      <td>POINT (30.1160199001 59.8357054295)</td>\n    </tr>\n    <tr>\n      <th>2</th>\n      <td>2</td>\n      <td>POINT (30.2485214045 59.9292365030)</td>\n    </tr>\n    <tr>\n      <th>3</th>\n      <td>3</td>\n      <td>POINT (30.2485214045 59.9708463091)</td>\n    </tr>\n    <tr>\n      <th>4</th>\n      <td>4</td>\n      <td>POINT (30.2485214045 60.0236267278)</td>\n    </tr>\n  </tbody>\n</table>\n</div>"
     },
     "execution_count": 57,
     "metadata": {},
     "output_type": "execute_result"
    }
   ],
   "source": [
    "all_locations.head()"
   ],
   "metadata": {
    "collapsed": false
   }
  },
  {
   "cell_type": "code",
   "execution_count": 58,
   "outputs": [
    {
     "data": {
      "text/plain": "<shapely.geometry.multipolygon.MultiPolygon at 0x7fcc41228700>",
      "image/svg+xml": "<svg xmlns=\"http://www.w3.org/2000/svg\" xmlns:xlink=\"http://www.w3.org/1999/xlink\" width=\"100.0\" height=\"100.0\" viewBox=\"30.02238976 59.72319506 0.5657293800000005 0.38849468000000087\" preserveAspectRatio=\"xMinYMin meet\"><g transform=\"matrix(1,0,0,-1,0,119.8348848)\"><g><path fill-rule=\"evenodd\" fill=\"#66cc99\" stroke=\"#555555\" stroke-width=\"0.01131458760000001\" opacity=\"0.6\" d=\"M 30.0456019,59.7655379 L 30.0453501,59.7655258 L 30.0433427,59.7641834 L 30.0438245,59.7623881 L 30.0542425,59.7631552 L 30.0559636,59.763282 L 30.0563606,59.7617221 L 30.0579176,59.7618585 L 30.0603272,59.7620699 L 30.0616624,59.7585987 L 30.0620134,59.7576863 L 30.0619703,59.7570123 L 30.0698659,59.7568467 L 30.0703611,59.7559718 L 30.0718473,59.7559865 L 30.0718651,59.7559438 L 30.0719942,59.7552681 L 30.0665334,59.7552664 L 30.0682605,59.7527314 L 30.0624768,59.7521269 L 30.0628376,59.7510644 L 30.0639893,59.7498861 L 30.0708832,59.7497434 L 30.0761388,59.7479223 L 30.0763532,59.7479624 L 30.0816104,59.7502583 L 30.0898879,59.7539505 L 30.0964054,59.7568948 L 30.1026925,59.7595048 L 30.1101521,59.7626349 L 30.1121801,59.7623156 L 30.1138358,59.762368 L 30.1158747,59.7622977 L 30.1159507,59.7618176 L 30.116656,59.761837 L 30.1166311,59.7621758 L 30.1201709,59.7620891 L 30.1221557,59.7620403 L 30.1232856,59.76199 L 30.1416854,59.7611695 L 30.1430169,59.7624405 L 30.1437808,59.7631695 L 30.1527763,59.7717535 L 30.1459901,59.7743834 L 30.1462707,59.7747367 L 30.1461783,59.7747612 L 30.1485059,59.7772931 L 30.1483391,59.7773386 L 30.1486347,59.7776641 L 30.1474348,59.7779799 L 30.1499316,59.7805334 L 30.1530659,59.7832905 L 30.1550991,59.784884 L 30.1553207,59.7848912 L 30.1555723,59.7858516 L 30.1540373,59.7862174 L 30.1540775,59.7865702 L 30.1542358,59.7866406 L 30.1544653,59.7867278 L 30.1547151,59.786874 L 30.1548476,59.7869305 L 30.1552704,59.7870812 L 30.1557569,59.7871428 L 30.1566784,59.7872408 L 30.1573849,59.7873635 L 30.1577071,59.7874025 L 30.1579401,59.7874619 L 30.1581027,59.7875195 L 30.1583913,59.7876739 L 30.1585684,59.7877799 L 30.1587117,59.7878492 L 30.1588993,59.7879765 L 30.1590094,59.788036 L 30.1590135,59.7881181 L 30.1589931,59.7881858 L 30.1589931,59.7883172 L 30.1589971,59.7886273 L 30.1590083,59.7888461 L 30.1589146,59.7893397 L 30.158884,59.789527 L 30.1588432,59.7896501 L 30.1587106,59.7898425 L 30.1586851,59.7899708 L 30.1587106,59.7900914 L 30.1587718,59.7902966 L 30.1588636,59.7904351 L 30.158991,59.790566 L 30.1591542,59.7907045 L 30.1592867,59.790825 L 30.1593632,59.7909251 L 30.1593887,59.791038 L 30.1594091,59.791238 L 30.1594193,59.7914587 L 30.1593785,59.7916408 L 30.1593224,59.7917511 L 30.1593275,59.7918229 L 30.1593122,59.7920384 L 30.1593275,59.7921975 L 30.1593632,59.7923 L 30.1594058,59.7923763 L 30.158855,59.7925712 L 30.1593214,59.7929546 L 30.1597347,59.7932942 L 30.1600276,59.7935681 L 30.160086,59.7936227 L 30.1628142,59.7962688 L 30.1620601,59.7965389 L 30.1611233,59.7967427 L 30.1601859,59.7968788 L 30.1589799,59.7968803 L 30.157037,59.7968489 L 30.1554286,59.7967833 L 30.1540157,59.7968777 L 30.1513439,59.7947227 L 30.1498858,59.7935464 L 30.1465703,59.7908718 L 30.1465119,59.7908245 L 30.1439304,59.7887238 L 30.1399453,59.7853715 L 30.1378347,59.7860075 L 30.1332613,59.7820045 L 30.1297612,59.7824678 L 30.1295058,59.7825015 L 30.1499324,59.8009256 L 30.156425,59.7989284 L 30.1593205,59.8011706 L 30.1765628,59.7960498 L 30.1798214,59.7934853 L 30.1775295,59.7915209 L 30.1790736,59.7909754 L 30.1793625,59.7908735 L 30.1796163,59.7907839 L 30.1799222,59.7908864 L 30.1807548,59.7910418 L 30.1813556,59.7911282 L 30.1820594,59.7910677 L 30.1827546,59.7909555 L 30.1835014,59.7909684 L 30.1845056,59.7910289 L 30.1854068,59.7911325 L 30.1878186,59.7913269 L 30.1883937,59.7914046 L 30.1889173,59.7914823 L 30.1898357,59.7918667 L 30.1909257,59.792251 L 30.1923419,59.7927304 L 30.1927024,59.7927865 L 30.194007,59.7932399 L 30.1954318,59.7937279 L 30.1969596,59.7941856 L 30.198084,59.7945613 L 30.1988136,59.7947556 L 30.1992084,59.7948895 L 30.201234,59.795494 L 30.2036973,59.7960985 L 30.2043067,59.7961935 L 30.2051822,59.7965001 L 30.2064925,59.7967253 L 30.2079345,59.7970232 L 30.2091619,59.7973082 L 30.2097489,59.7974166 L 30.2100974,59.7974809 L 30.2104665,59.7974809 L 30.2108877,59.7973835 L 30.2113935,59.797537 L 30.2114909,59.7976912 L 30.2151958,59.7974204 L 30.2185861,59.797183 L 30.2213258,59.7970265 L 30.2238771,59.796643 L 30.2253774,59.7964229 L 30.2281218,59.7960201 L 30.2289473,59.7958989 L 30.2312351,59.7955631 L 30.2369179,59.7947517 L 30.2386025,59.7944999 L 30.2397195,59.7943329 L 30.244243,59.7936567 L 30.245359,59.7934898 L 30.2570169,59.7917785 L 30.2606267,59.7912412 L 30.2667062,59.7903355 L 30.2704956,59.7897905 L 30.2744178,59.7893094 L 30.2769016,59.7889434 L 30.2799999,59.7884908 L 30.2813084,59.7882939 L 30.2839407,59.7878712 L 30.2711561,59.7785968 L 30.2735821,59.7776896 L 30.273624,59.7776172 L 30.2687899,59.774728 L 30.2708984,59.7740398 L 30.2644055,59.7709532 L 30.2585882,59.7627206 L 30.2585586,59.7626787 L 30.3007209,59.7473866 L 30.3099978,59.744148 L 30.3102477,59.744369 L 30.3104772,59.7445884 L 30.3180072,59.751775 L 30.3269979,59.7605347 L 30.3296266,59.763185 L 30.3302371,59.7630466 L 30.3306899,59.7625676 L 30.3323276,59.7624462 L 30.3342829,59.7673259 L 30.3345448,59.7672929 L 30.335079,59.7686528 L 30.3383675,59.7683556 L 30.3387805,59.7699195 L 30.3368944,59.7702936 L 30.3370339,59.7705691 L 30.335873,59.7707945 L 30.3360209,59.771461 L 30.3355479,59.7719843 L 30.3332895,59.7715333 L 30.3331554,59.7718466 L 30.3324563,59.7721484 L 30.3318259,59.7729652 L 30.3307959,59.7736457 L 30.3300226,59.7741529 L 30.3292869,59.7745414 L 30.3273252,59.7756414 L 30.3264508,59.7763948 L 30.3261465,59.7769367 L 30.3254637,59.7896723 L 30.3254208,59.7910597 L 30.3271803,59.7924146 L 30.3277489,59.7935968 L 30.3277489,59.7944442 L 30.327234,59.7955723 L 30.326601,59.79622 L 30.325056,59.79751 L 30.3249273,59.7996742 L 30.3247303,59.8025055 L 30.3246587,59.8037428 L 30.3250488,59.8037486 L 30.3252016,59.8037557 L 30.3253363,59.803772 L 30.3257157,59.8038101 L 30.3259684,59.8038123 L 30.3259163,59.804651 L 30.3260073,59.804653 L 30.3260772,59.8046547 L 30.3291599,59.8046995 L 30.330255,59.804711 L 30.330432,59.8047136 L 30.3306808,59.8047876 L 30.3332172,59.8058337 L 30.3335012,59.805945 L 30.3338626,59.8060869 L 30.3339774,59.8061845 L 30.3341471,59.8062281 L 30.335103,59.8064743 L 30.3352194,59.806502 L 30.3353897,59.8065343 L 30.3355277,59.8065776 L 30.3356208,59.8066135 L 30.3356743,59.8066327 L 30.3359976,59.8066991 L 30.336231,59.8067602 L 30.336319,59.8068093 L 30.3364239,59.806876 L 30.3366078,59.8070012 L 30.3366627,59.80704 L 30.3367567,59.8070849 L 30.3369006,59.8071835 L 30.3371647,59.8073706 L 30.3372482,59.8074617 L 30.3372761,59.8075202 L 30.3373128,59.8076442 L 30.3373585,59.8077446 L 30.3375022,59.8079272 L 30.3376141,59.8080365 L 30.337705,59.8081031 L 30.3377374,59.8081677 L 30.3378881,59.8082619 L 30.3380647,59.8083355 L 30.338432,59.8084005 L 30.3386687,59.8084397 L 30.3398644,59.8086497 L 30.3401172,59.8086998 L 30.3402342,59.8087258 L 30.340386,59.8087536 L 30.3405008,59.8087988 L 30.3405431,59.8088065 L 30.3406239,59.8088213 L 30.3409904,59.8089102 L 30.3412329,59.8089641 L 30.3414631,59.8090073 L 30.3415151,59.8090325 L 30.3418289,59.8092223 L 30.3419291,59.8093154 L 30.3420152,59.8093482 L 30.342091,59.8093758 L 30.3422025,59.8094601 L 30.3422581,59.8095358 L 30.3422609,59.809597 L 30.342447,59.8097217 L 30.3433758,59.8104993 L 30.3437072,59.8107707 L 30.3439252,59.8109231 L 30.3441041,59.8110671 L 30.3446611,59.8114237 L 30.3452194,59.8117412 L 30.3454568,59.8118782 L 30.3456403,59.8120007 L 30.3457529,59.8120654 L 30.3461222,59.8121808 L 30.34642,59.8122755 L 30.3468715,59.8124522 L 30.3473078,59.8126075 L 30.3477077,59.8127435 L 30.3480794,59.812887 L 30.3482688,59.8129237 L 30.3486503,59.8129061 L 30.3490377,59.8128876 L 30.3498772,59.812953 L 30.3508927,59.8133243 L 30.3533165,59.8141851 L 30.3561948,59.8145404 L 30.3564872,59.8145963 L 30.3568798,59.8147112 L 30.3571464,59.8147248 L 30.3579663,59.8146747 L 30.3598325,59.8147077 L 30.3604444,59.8147171 L 30.362502,59.8146541 L 30.3626902,59.8146612 L 30.3629108,59.8147103 L 30.362981,59.8147851 L 30.3630257,59.814848 L 30.363069,59.815435 L 30.3631295,59.815506 L 30.3631472,59.8155494 L 30.3631723,59.8156391 L 30.3632769,59.8156654 L 30.363999,59.8156177 L 30.3644457,59.8157536 L 30.3649622,59.815881 L 30.3655947,59.8159827 L 30.3656725,59.8159952 L 30.3658313,59.8160593 L 30.3660324,59.8161813 L 30.366079,59.816239 L 30.3660992,59.8162978 L 30.3661816,59.8164304 L 30.3662436,59.8165117 L 30.3663657,59.8165574 L 30.3666829,59.8165917 L 30.3681253,59.8166564 L 30.3684282,59.8166695 L 30.3685152,59.816732 L 30.3684416,59.816819 L 30.3684873,59.8168994 L 30.3689799,59.8168804 L 30.3702214,59.8169275 L 30.3703964,59.8169355 L 30.3715977,59.8169559 L 30.3741404,59.8172148 L 30.376887,59.8178351 L 30.3794164,59.8183114 L 30.3816547,59.8187284 L 30.3826954,59.8165708 L 30.3898622,59.8173152 L 30.3994109,59.8182753 L 30.4015427,59.8185147 L 30.4028227,59.8186583 L 30.4062203,59.8192153 L 30.4149033,59.8211393 L 30.4257609,59.8236256 L 30.4278215,59.8241175 L 30.4320654,59.8251269 L 30.4350588,59.8262216 L 30.435402,59.8264057 L 30.4369792,59.8272516 L 30.4381916,59.8280011 L 30.4395971,59.829112 L 30.4411207,59.8293735 L 30.4433336,59.8297983 L 30.4434765,59.8298006 L 30.4557362,59.8319615 L 30.4751983,59.8339887 L 30.4999605,59.8160307 L 30.5081977,59.8101158 L 30.5115522,59.807772 L 30.5122147,59.808027 L 30.5104091,59.8093231 L 30.5102455,59.8096117 L 30.5098136,59.8099247 L 30.5086883,59.8106145 L 30.5082217,59.8112889 L 30.508286,59.812643 L 30.5104962,59.8137651 L 30.5109039,59.8136033 L 30.5122772,59.8144017 L 30.5124386,59.8146133 L 30.5124585,59.8147395 L 30.5125556,59.814874 L 30.5126026,59.814961 L 30.5126357,59.8150725 L 30.513007,59.8151502 L 30.5132142,59.8151828 L 30.5133762,59.8152238 L 30.5136208,59.8153133 L 30.5145438,59.8158093 L 30.5186426,59.818147 L 30.5189423,59.818318 L 30.519442,59.8186548 L 30.5198974,59.8190233 L 30.5201289,59.8192305 L 30.5202964,59.8194126 L 30.5205327,59.8197431 L 30.5207481,59.8200845 L 30.5209001,59.8204159 L 30.5213588,59.8214987 L 30.5214192,59.821665 L 30.5214125,59.8218201 L 30.5213779,59.8219413 L 30.5213098,59.8220837 L 30.5208098,59.8227722 L 30.5205771,59.8230198 L 30.5202086,59.8233935 L 30.5201551,59.8235822 L 30.5201024,59.8236959 L 30.5202138,59.8239303 L 30.5282149,59.8208205 L 30.5316266,59.8194073 L 30.5354783,59.8180832 L 30.5411498,59.8159695 L 30.5471341,59.8136895 L 30.5484977,59.8131285 L 30.5547205,59.8171635 L 30.5536476,59.8176274 L 30.5517378,59.8197418 L 30.5542779,59.8212344 L 30.558733,59.8194613 L 30.5599132,59.8201517 L 30.5605618,59.8202978 L 30.5614898,59.8205068 L 30.5629441,59.8208342 L 30.5631202,59.8208769 L 30.5615081,59.8215609 L 30.560088,59.8221545 L 30.5604226,59.8222219 L 30.5625317,59.8220027 L 30.5643538,59.8218108 L 30.5651746,59.8217367 L 30.5669394,59.823655 L 30.5671662,59.8239245 L 30.5657878,59.8242751 L 30.5631437,59.8254547 L 30.5620175,59.8264537 L 30.5612546,59.8276096 L 30.5612016,59.8287727 L 30.5614204,59.8298046 L 30.5622276,59.8318105 L 30.5628467,59.8336219 L 30.562551,59.8345584 L 30.5614757,59.8354498 L 30.560359,59.8360776 L 30.5583798,59.8365499 L 30.5559352,59.8367381 L 30.5520931,59.8363917 L 30.5408213,59.833624 L 30.5370291,59.8335497 L 30.5348574,59.8337536 L 30.5326968,59.8340623 L 30.5280055,59.8352663 L 30.5228848,59.83704 L 30.5193422,59.8387398 L 30.5135625,59.8416254 L 30.5096437,59.8430851 L 30.5057428,59.8441642 L 30.5001678,59.8450343 L 30.4957463,59.8459613 L 30.4934929,59.8470849 L 30.4924422,59.8485458 L 30.4921682,59.8499735 L 30.4924088,59.8517314 L 30.4932346,59.8545507 L 30.493552,59.8565262 L 30.4934923,59.8582022 L 30.4970376,59.8589367 L 30.497249,59.8589555 L 30.4976288,59.8589891 L 30.4986251,59.8590771 L 30.4988465,59.8588877 L 30.5038692,59.8594919 L 30.5053998,59.8592095 L 30.5080003,59.8596912 L 30.5086845,59.8612318 L 30.5163751,59.8625891 L 30.519999,59.8632286 L 30.5174838,59.8659337 L 30.5116709,59.8728521 L 30.5079828,59.8774898 L 30.5010581,59.8862644 L 30.5010933,59.8868226 L 30.4996914,59.8890535 L 30.4976008,59.8905428 L 30.4974091,59.8913632 L 30.4954193,59.891479 L 30.4955374,59.8920117 L 30.5000214,59.9107895 L 30.5031863,59.9252531 L 30.5055266,59.9359444 L 30.5062501,59.9390962 L 30.5072841,59.9435994 L 30.5077056,59.9454342 L 30.5077189,59.9454919 L 30.50772,59.945554 L 30.5077507,59.9456234 L 30.511347,59.9623847 L 30.5120061,59.9658286 L 30.5123107,59.9675293 L 30.5124397,59.9678518 L 30.5131012,59.9705584 L 30.5131889,59.970578 L 30.513741,59.9706978 L 30.5141401,59.9708013 L 30.5167944,59.9714899 L 30.5168956,59.9713872 L 30.5172897,59.9714873 L 30.5172041,59.9715717 L 30.5248993,59.9735978 L 30.5268455,59.9740901 L 30.5278505,59.9730956 L 30.5279691,59.9730504 L 30.5281667,59.9730193 L 30.5284547,59.9730165 L 30.5287709,59.9730504 L 30.5290419,59.9731069 L 30.5317181,59.973672 L 30.5329264,59.9739432 L 30.5399612,59.9757009 L 30.5415061,59.975688 L 30.5421319,59.9757066 L 30.5425322,59.9757625 L 30.5429151,59.9758301 L 30.5444851,59.976283 L 30.545092,59.9757303 L 30.5524931,59.9689899 L 30.5543134,59.969603 L 30.5558154,59.9699036 L 30.5592744,59.9696201 L 30.560622,59.9698693 L 30.560991,59.97017 L 30.5619352,59.9702645 L 30.562536,59.9702902 L 30.5637376,59.9705351 L 30.5642783,59.9705222 L 30.5647676,59.9706854 L 30.5653255,59.9709216 L 30.5660293,59.9709646 L 30.5594109,59.9733711 L 30.5569505,59.9727166 L 30.5561655,59.9732832 L 30.5582084,59.9738115 L 30.5575219,59.97423 L 30.5558428,59.9752798 L 30.5548895,59.9763066 L 30.5546192,59.9765945 L 30.5543582,59.9768721 L 30.5540861,59.9771795 L 30.5540084,59.9780725 L 30.5540036,59.9781165 L 30.5540003,59.9781524 L 30.5540628,59.9792188 L 30.5517299,59.9794296 L 30.5514592,59.978391 L 30.548434,59.9787081 L 30.5483989,59.9791902 L 30.5523836,59.9810098 L 30.5522906,59.9810935 L 30.5519775,59.9811586 L 30.5512827,59.9812215 L 30.550853,59.9813736 L 30.5506976,59.9813736 L 30.5504919,59.9813164 L 30.5502908,59.981273 L 30.5501354,59.981321 L 30.5500394,59.9813233 L 30.5500028,59.9812776 L 30.5500394,59.9812204 L 30.5498885,59.9811746 L 30.5497057,59.9812067 L 30.549628,59.9811541 L 30.5496646,59.9810946 L 30.5498291,59.9810374 L 30.5497377,59.9809803 L 30.5495503,59.9809688 L 30.5493674,59.9809734 L 30.5491915,59.9808476 L 30.5489378,59.9807859 L 30.5489172,59.9807264 L 30.5488601,59.9807059 L 30.5488052,59.9807745 L 30.5486955,59.9807699 L 30.5486772,59.980683 L 30.5486727,59.980619 L 30.5484167,59.9805229 L 30.5481881,59.9805115 L 30.5481699,59.9804543 L 30.547955,59.9803697 L 30.5477448,59.9803354 L 30.5475665,59.9803583 L 30.54721,59.9806075 L 30.5465776,59.9805458 L 30.5457793,59.9805161 L 30.5446275,59.9805183 L 30.5445314,59.9804795 L 30.5444538,59.9804954 L 30.5444125,59.9806224 L 30.5439966,59.9806178 L 30.5440743,59.9807367 L 30.5439829,59.9807802 L 30.54396,59.9808191 L 30.5440606,59.9809357 L 30.5439097,59.9810203 L 30.5437909,59.9809837 L 30.5429774,59.9810603 L 30.5425522,59.9811106 L 30.5424836,59.9810626 L 30.54231,59.9810649 L 30.5421362,59.9811586 L 30.5420358,59.9811243 L 30.5418758,59.9811015 L 30.5415969,59.9811529 L 30.5414095,59.981098 L 30.541222,59.9811209 L 30.5410986,59.9812124 L 30.5407192,59.9812764 L 30.5407055,59.981313 L 30.5408472,59.9814159 L 30.5407764,59.9814651 L 30.5406187,59.9815394 L 30.540573,59.9816354 L 30.5404587,59.9816743 L 30.5404633,59.9817795 L 30.5403947,59.9818115 L 30.5401936,59.9818149 L 30.5400382,59.9818538 L 30.5396313,59.9819361 L 30.5397159,59.9819979 L 30.5395696,59.9820185 L 30.5394578,59.9819703 L 30.5392909,59.9819978 L 30.5392131,59.9820482 L 30.5391904,59.9821395 L 30.5389481,59.9821624 L 30.5388224,59.9821945 L 30.5386624,59.9822699 L 30.5385024,59.982295 L 30.5383882,59.9822196 L 30.5381093,59.9822562 L 30.5381893,59.9823568 L 30.5379608,59.9824094 L 30.5379425,59.9823202 L 30.5378054,59.9823111 L 30.5376728,59.9823728 L 30.537362,59.9823545 L 30.5373208,59.9824185 L 30.5373757,59.9824231 L 30.5373665,59.9824665 L 30.5372294,59.9824894 L 30.537266,59.982574 L 30.5374077,59.9825992 L 30.5374077,59.9826335 L 30.537266,59.9826312 L 30.537138,59.9826015 L 30.5370466,59.9826403 L 30.536914,59.9826335 L 30.5365941,59.9825146 L 30.5364706,59.982526 L 30.5363701,59.9825809 L 30.5363655,59.9826518 L 30.5365209,59.9826906 L 30.5365575,59.9827592 L 30.5362604,59.9829422 L 30.5361095,59.9829765 L 30.5360181,59.9829467 L 30.5360318,59.9828747 L 30.5361461,59.9828141 L 30.5360455,59.982773 L 30.5358627,59.9827958 L 30.5357941,59.9829079 L 30.5356799,59.9829262 L 30.5355656,59.9828621 L 30.5354239,59.9827501 L 30.5354102,59.9826495 L 30.5353689,59.9826129 L 30.5351908,59.9826152 L 30.5349257,59.9825694 L 30.5345371,59.9825969 L 30.5344549,59.9826129 L 30.5344274,59.9826655 L 30.534464,59.9827387 L 30.5343726,59.9827684 L 30.5329189,59.9827708 L 30.5327088,59.982789 L 30.5324208,59.9826586 L 30.5325167,59.982581 L 30.5323522,59.9824895 L 30.5321511,59.9824437 L 30.5320688,59.9823042 L 30.531982,59.9822745 L 30.5315476,59.9819613 L 30.5315248,59.9818309 L 30.5314792,59.9817805 L 30.5313558,59.98176 L 30.5310723,59.9819201 L 30.5309534,59.9818595 L 30.5308667,59.9819212 L 30.5307387,59.9820584 L 30.5302907,59.981928 L 30.5293354,59.9820195 L 30.5287822,59.9818892 L 30.528211,59.9820424 L 30.5280561,59.9821367 L 30.5286748,59.9824019 L 30.5296759,59.9827672 L 30.5299591,59.9829561 L 30.5301332,59.9830483 L 30.5309196,59.9831296 L 30.5312466,59.9832936 L 30.5311977,59.9835319 L 30.5308346,59.983905 L 30.5306494,59.9842386 L 30.5308148,59.9846073 L 30.5311415,59.984668 L 30.5314031,59.9845255 L 30.531493,59.9843143 L 30.5321104,59.9841246 L 30.5323824,59.9841133 L 30.5329274,59.9843977 L 30.5331263,59.9845147 L 30.5331368,59.9846402 L 30.5327781,59.9848511 L 30.5325245,59.9851842 L 30.5325843,59.985325 L 30.5323718,59.9856705 L 30.5323407,59.9857606 L 30.5323581,59.9858887 L 30.5324734,59.9859955 L 30.5326926,59.986096 L 30.532972,59.9862406 L 30.5331891,59.9864331 L 30.533234,59.986638 L 30.5330626,59.9869364 L 30.5331659,59.9870126 L 30.5336571,59.9871143 L 30.5338639,59.9871177 L 30.5340736,59.9870991 L 30.5346087,59.9868156 L 30.5347312,59.9866477 L 30.5349279,59.986607 L 30.5353476,59.9866547 L 30.5359581,59.9866463 L 30.5362889,59.9866364 L 30.5364145,59.9866838 L 30.5364213,59.9867873 L 30.5362715,59.9869353 L 30.5362722,59.9870959 L 30.5365026,59.9874173 L 30.5370285,59.9878221 L 30.5375299,59.9879266 L 30.5376978,59.9880158 L 30.5377789,59.9881058 L 30.5378065,59.9883589 L 30.5379447,59.9885856 L 30.5378645,59.9886793 L 30.5375675,59.9887526 L 30.5369471,59.9888529 L 30.5366317,59.9889921 L 30.5362603,59.9890896 L 30.5356572,59.9891966 L 30.5353079,59.989194 L 30.5349658,59.9891411 L 30.5348169,59.988958 L 30.534892,59.9887644 L 30.5348823,59.9887129 L 30.5346887,59.9886598 L 30.5339571,59.9886932 L 30.533702,59.9888017 L 30.5337042,59.988902 L 30.5341844,59.9892222 L 30.5343148,59.9893369 L 30.5342777,59.9894537 L 30.5337804,59.9897744 L 30.5338304,59.9900199 L 30.5337944,59.9901281 L 30.5340268,59.9906211 L 30.5341906,59.9906563 L 30.534333,59.9906346 L 30.5343465,59.9905461 L 30.5345225,59.990487 L 30.5347235,59.9903213 L 30.5346355,59.9901257 L 30.5346668,59.9898603 L 30.5348114,59.9898121 L 30.5349709,59.9898385 L 30.5355073,59.9902623 L 30.5355924,59.990371 L 30.5358682,59.9905814 L 30.5359989,59.9906243 L 30.5361802,59.9906475 L 30.5363418,59.9906933 L 30.5364793,59.9907992 L 30.5365298,59.9909432 L 30.5365098,59.991097 L 30.5361425,59.9915115 L 30.5360126,59.9918185 L 30.5361215,59.9919483 L 30.5360607,59.9921233 L 30.5359235,59.9922055 L 30.5357378,59.9922885 L 30.5346946,59.9925919 L 30.5243392,59.9882123 L 30.5200496,59.9864128 L 30.5174593,59.9853366 L 30.5144557,59.9858069 L 30.5125688,59.9858383 L 30.5121477,59.9862792 L 30.5116723,59.986384 L 30.5103969,59.9866353 L 30.5087572,59.9872646 L 30.5080913,59.9871314 L 30.5077417,59.9874922 L 30.5082577,59.9878808 L 30.5087128,59.9884442 L 30.5088127,59.9886552 L 30.5087073,59.9888097 L 30.507476,59.9896324 L 30.5061718,59.9905036 L 30.5072588,59.9927884 L 30.5065626,59.9937093 L 30.5054149,59.9939941 L 30.5036129,59.9944409 L 30.5034411,59.9945748 L 30.5034666,59.9946899 L 30.503553,59.9950814 L 30.5037962,59.9956904 L 30.5039627,59.9958014 L 30.5038406,59.9959346 L 30.5040349,59.9963724 L 30.5020514,59.9982233 L 30.5029351,59.999672 L 30.5023535,60.0000467 L 30.5017098,60.0001799 L 30.5002335,60.0002004 L 30.499701,60.0001743 L 30.4994899,60.0004265 L 30.4999964,60.0010631 L 30.5001893,60.0012481 L 30.5002457,60.0013735 L 30.5019128,60.0027604 L 30.5029154,60.0035944 L 30.5031503,60.0041695 L 30.5033937,60.0044965 L 30.5037343,60.0055996 L 30.503991,60.0064308 L 30.5039646,60.0064843 L 30.4996982,60.0073569 L 30.4994432,60.0077428 L 30.4993156,60.0079441 L 30.4992715,60.0084018 L 30.4954623,60.0078691 L 30.494765,60.0083711 L 30.494368,60.0090882 L 30.4939,60.0096607 L 30.4928993,60.0094829 L 30.4925098,60.0090775 L 30.4905627,60.008385 L 30.4901557,60.0082655 L 30.4898838,60.0086519 L 30.4895908,60.0090733 L 30.4894564,60.0093068 L 30.4893502,60.0093351 L 30.4892725,60.0094129 L 30.489421,60.0094802 L 30.4891929,60.0098596 L 30.4888052,60.0102656 L 30.4885964,60.0102726 L 30.4883275,60.010209 L 30.4880514,60.0102196 L 30.4879586,60.0102591 L 30.4879752,60.0102953 L 30.4882708,60.010308 L 30.4884619,60.0103965 L 30.4885327,60.0104743 L 30.4883487,60.0107538 L 30.4879382,60.0111712 L 30.4878462,60.0113764 L 30.4877081,60.0119884 L 30.4875571,60.0123366 L 30.4870995,60.0129949 L 30.4869721,60.0130019 L 30.4866819,60.0129595 L 30.4866111,60.0129878 L 30.4866252,60.0130302 L 30.487057,60.0131505 L 30.4870711,60.0132531 L 30.4869154,60.0136457 L 30.4864448,60.0140561 L 30.4863174,60.0143709 L 30.4862395,60.0145336 L 30.4857936,60.0147034 L 30.4857936,60.0147494 L 30.4860909,60.0147565 L 30.4862466,60.0148343 L 30.4862411,60.0148685 L 30.4862248,60.0149715 L 30.4861616,60.0153684 L 30.4862607,60.0156832 L 30.4863657,60.015774 L 30.4867243,60.0160157 L 30.4867739,60.0161042 L 30.4868659,60.0161714 L 30.4866677,60.0162457 L 30.4866394,60.0163058 L 30.4870074,60.0163306 L 30.4872976,60.0164402 L 30.4877648,60.0168576 L 30.4879559,60.0171795 L 30.4884513,60.017641 L 30.4886601,60.0177171 L 30.4888654,60.0177383 L 30.4890494,60.0175402 L 30.4891556,60.0175261 L 30.4893467,60.0177825 L 30.4894953,60.0184828 L 30.4896368,60.0186578 L 30.4898633,60.0186933 L 30.4898074,60.0188368 L 30.489683,60.0192709 L 30.4893468,60.0205637 L 30.4894245,60.021166 L 30.4893601,60.0213204 L 30.489476,60.0214329 L 30.4896707,60.0224339 L 30.4894237,60.0228511 L 30.4891096,60.0230563 L 30.4887667,60.0232066 L 30.4886108,60.0232734 L 30.4883855,60.0232761 L 30.4880445,60.0231837 L 30.4875709,60.0228962 L 30.4871584,60.0225877 L 30.4863906,60.0217876 L 30.4843384,60.0204989 L 30.4838026,60.0203066 L 30.4830635,60.020193 L 30.4821781,60.0202834 L 30.4813504,60.0206185 L 30.4804319,60.0211707 L 30.4799796,60.0219773 L 30.4798637,60.0223921 L 30.4795226,60.022585 L 30.4791553,60.0226505 L 30.4782611,60.0226365 L 30.4769084,60.0224145 L 30.4765813,60.0224371 L 30.4758687,60.0227018 L 30.4756546,60.0229742 L 30.4755173,60.0236114 L 30.4756103,60.0239621 L 30.4758348,60.0245852 L 30.475853,60.0247848 L 30.4756417,60.0250209 L 30.4751663,60.0251492 L 30.4743223,60.0251785 L 30.4728045,60.0249515 L 30.4717994,60.0247267 L 30.4710434,60.0244479 L 30.4706212,60.0240581 L 30.4703963,60.0238504 L 30.4701371,60.0233737 L 30.4696176,60.0230722 L 30.4689191,60.0226935 L 30.4684591,60.0225979 L 30.4678799,60.0226365 L 30.4675769,60.0227406 L 30.4673209,60.0229088 L 30.4672134,60.023052 L 30.4671011,60.0232491 L 30.466884,60.0239355 L 30.4669083,60.0243068 L 30.4667565,60.0245432 L 30.4661624,60.0247836 L 30.4657192,60.0248901 L 30.4648202,60.0250618 L 30.4642845,60.0253715 L 30.4641492,60.0255416 L 30.4642023,60.0257561 L 30.4641057,60.0258365 L 30.464376,60.0259877 L 30.4644554,60.026172 L 30.4649149,60.0265809 L 30.4652486,60.0268074 L 30.4656578,60.026908 L 30.4661741,60.026908 L 30.4671028,60.0268325 L 30.4676821,60.0268451 L 30.4680882,60.0269678 L 30.4683653,60.0271439 L 30.4684282,60.0272729 L 30.4683992,60.0273652 L 30.4682393,60.0274428 L 30.4679938,60.02749 L 30.4661521,60.027718 L 30.4652895,60.027825 L 30.4646693,60.0278769 L 30.4641341,60.0279146 L 30.4634384,60.0279319 L 30.4627584,60.0280231 L 30.4623491,60.0281269 L 30.4621799,60.0283597 L 30.4621629,60.0286116 L 30.4627027,60.0292849 L 30.4629792,60.0296721 L 30.4637291,60.030137 L 30.4638831,60.030358 L 30.4639721,60.030555 L 30.4640119,60.0308101 L 30.4645144,60.0312381 L 30.4645452,60.0312659 L 30.4651507,60.0313533 L 30.4659196,60.0314642 L 30.466236,60.0315098 L 30.466796,60.0315484 L 30.4671933,60.0316501 L 30.467563,60.0319118 L 30.4679752,60.0322034 L 30.4680832,60.0322797 L 30.4682762,60.0325255 L 30.4682441,60.0327684 L 30.4682956,60.033032 L 30.4683921,60.0331703 L 30.4684121,60.033393 L 30.4682312,60.033556 L 30.4677911,60.0337316 L 30.4669762,60.0337553 L 30.4652624,60.0334535 L 30.4640517,60.0339603 L 30.4624979,60.0342166 L 30.4614875,60.03454 L 30.4612934,60.034685 L 30.4612288,60.0349946 L 30.4611966,60.0353225 L 30.4610956,60.0356282 L 30.4605389,60.0361782 L 30.4598579,60.0366179 L 30.4592916,60.037121 L 30.4583365,60.0375389 L 30.4507739,60.0390929 L 30.4505903,60.0391342 L 30.4452965,60.0403215 L 30.4419315,60.0409456 L 30.4378491,60.0392323 L 30.4376123,60.039133 L 30.4377123,60.040139 L 30.4376059,60.0406025 L 30.4372643,60.0409978 L 30.4368334,60.0413767 L 30.4362607,60.0417502 L 30.4355682,60.0420384 L 30.4348137,60.0422647 L 30.4340318,60.0424416 L 30.4306164,60.0431742 L 30.4251135,60.0443545 L 30.4249332,60.0448258 L 30.4188838,60.0460852 L 30.4156491,60.0467091 L 30.417048,60.0481373 L 30.418561,60.0496817 L 30.4129237,60.0510748 L 30.4067602,60.0525977 L 30.3965712,60.0550062 L 30.3881121,60.0570767 L 30.3889016,60.0578229 L 30.3880449,60.0580912 L 30.3887672,60.0588039 L 30.3873932,60.0591782 L 30.3854023,60.059742 L 30.3855703,60.0607187 L 30.3825363,60.0667134 L 30.3788151,60.0740902 L 30.3771936,60.0773858 L 30.3768761,60.0785842 L 30.376525,60.0786363 L 30.3751746,60.0798301 L 30.3738526,60.0802533 L 30.373529,60.0805134 L 30.370665,60.0877196 L 30.3683112,60.0902839 L 30.3669801,60.0907368 L 30.3652525,60.0895944 L 30.3643695,60.0889454 L 30.3632367,60.0879987 L 30.3625745,60.0873457 L 30.3620238,60.0867406 L 30.3520901,60.0745219 L 30.3502632,60.0722751 L 30.3468855,60.0681056 L 30.3459861,60.067019 L 30.3453251,60.0664306 L 30.3441569,60.0649664 L 30.3436105,60.0640984 L 30.3428955,60.0631968 L 30.3425166,60.0627349 L 30.3410626,60.0608208 L 30.3286385,60.0633572 L 30.3096534,60.0672326 L 30.3082352,60.0674946 L 30.3073822,60.0675966 L 30.3063901,60.0676341 L 30.3050601,60.067598 L 30.3044049,60.0675511 L 30.3034779,60.067428 L 30.3026256,60.0672416 L 30.2992912,60.0662916 L 30.298452,60.0668523 L 30.2922955,60.0650728 L 30.2907426,60.0648279 L 30.2895288,60.0647433 L 30.2878867,60.0647433 L 30.286905,60.0647878 L 30.284772,60.0649971 L 30.2824516,60.065251 L 30.2803721,60.0655627 L 30.2789888,60.0659101 L 30.2776144,60.0664668 L 30.2762871,60.0672534 L 30.274327,60.068717 L 30.2742579,60.0686947 L 30.2741816,60.0686699 L 30.2741029,60.0686445 L 30.2740025,60.0686123 L 30.272526,60.0681422 L 30.2723597,60.0680892 L 30.2704034,60.0674663 L 30.2702498,60.0674174 L 30.26189,60.0645983 L 30.260296,60.0640517 L 30.2585186,60.0634672 L 30.2521046,60.0612595 L 30.2511361,60.0609389 L 30.2505128,60.0607275 L 30.2491163,60.0602592 L 30.2411709,60.0575735 L 30.236172,60.0558822 L 30.231867,60.0544215 L 30.2297011,60.0537008 L 30.2273798,60.052942 L 30.2259421,60.0523959 L 30.2257035,60.0523141 L 30.2252848,60.0521703 L 30.2227841,60.0513211 L 30.2141128,60.0612732 L 30.2101936,60.060371 L 30.202225,60.0621249 L 30.1959015,60.0604779 L 30.1946058,60.0619967 L 30.1945204,60.0620884 L 30.1943569,60.0622638 L 30.1950774,60.0624209 L 30.1933176,60.0638995 L 30.134125,60.0487368 L 30.1341169,60.0486287 L 30.1341061,60.0484881 L 30.1340752,60.0483982 L 30.1340456,60.048271 L 30.1340205,60.0481426 L 30.1338855,60.0480581 L 30.1338685,60.0480284 L 30.1338168,60.0479392 L 30.1337285,60.0478138 L 30.133578,60.0475697 L 30.1335279,60.0474121 L 30.1336237,60.0471512 L 30.1340536,60.0468427 L 30.1346984,60.0466954 L 30.135393,60.0466119 L 30.135711,60.0466715 L 30.135969,60.0466342 L 30.1361646,60.0466168 L 30.1363967,60.0465054 L 30.1364307,60.0463562 L 30.1368177,60.0462715 L 30.1371585,60.0462636 L 30.1379918,60.0463009 L 30.1385218,60.0462647 L 30.1390988,60.0462975 L 30.139384,60.0462376 L 30.1395226,60.0461385 L 30.1400222,60.0460443 L 30.1404534,60.0458927 L 30.1408912,60.0457731 L 30.1412534,60.0456909 L 30.1418238,60.0454442 L 30.1420976,60.0451544 L 30.1421135,60.0449634 L 30.1418704,60.0446648 L 30.1414805,60.0443845 L 30.1406704,60.0439932 L 30.1398561,60.0437752 L 30.139414,60.0435676 L 30.1390679,60.0433292 L 30.1387827,60.0429621 L 30.138386,60.0424445 L 30.1382457,60.0421363 L 30.1382226,60.0420577 L 30.1382348,60.0419328 L 30.1382763,60.0418375 L 30.1383155,60.0416822 L 30.1383786,60.0415437 L 30.1384564,60.0414543 L 30.1384821,60.0413917 L 30.1386118,60.0411907 L 30.138679,60.0411302 L 30.1387381,60.0410578 L 30.1387595,60.0409856 L 30.1389097,60.0407686 L 30.1389955,60.0406506 L 30.1391538,60.0405221 L 30.1392906,60.0404537 L 30.1394837,60.0403976 L 30.1409242,60.0400224 L 30.1410984,60.0399783 L 30.141254,60.0399286 L 30.1413627,60.0398715 L 30.1414256,60.0398041 L 30.1415068,60.0396724 L 30.1415919,60.0393527 L 30.1416467,60.0392799 L 30.141785,60.0391799 L 30.142182,60.0390004 L 30.1424207,60.0388772 L 30.1428293,60.0385942 L 30.1430521,60.038369 L 30.1430591,60.0382033 L 30.1430196,60.0380048 L 30.1427753,60.0376584 L 30.1425978,60.0372631 L 30.1426493,60.0371015 L 30.1432498,60.036805 L 30.1435286,60.0367314 L 30.1438596,60.0366454 L 30.1441329,60.0365245 L 30.144248,60.0364529 L 30.1444656,60.0361823 L 30.1446875,60.0360333 L 30.1450415,60.0359833 L 30.1458755,60.0359794 L 30.1462921,60.0359023 L 30.1461871,60.0347153 L 30.1336044,60.0342219 L 30.1212934,60.0336393 L 30.1199387,60.0335806 L 30.0791041,60.0271735 L 30.0799815,60.0167859 L 30.0806142,60.0164909 L 30.0803432,60.0138804 L 30.0803238,60.0135166 L 30.0800864,60.0089798 L 30.0799993,60.0075763 L 30.0797255,60.0052773 L 30.0796278,60.0047616 L 30.079315,60.0042097 L 30.0788981,60.003792 L 30.0783293,60.0034116 L 30.0776214,60.0030874 L 30.07659,60.0027703 L 30.0754446,60.0025851 L 30.074312,60.0025267 L 30.0731526,60.0025889 L 30.0720136,60.0026919 L 30.0719318,60.002701 L 30.0716795,60.0026434 L 30.0716632,60.0025199 L 30.0700935,60.0027486 L 30.0699222,60.002591 L 30.069774,60.0023483 L 30.0696251,60.0022426 L 30.0695579,60.0021903 L 30.0695024,60.002145 L 30.069424,60.0020726 L 30.0690371,60.0016873 L 30.0689218,60.0015725 L 30.0687828,60.0014414 L 30.0678036,60.000518 L 30.0671578,59.999909 L 30.0650911,59.9978708 L 30.0639151,59.9966873 L 30.0644784,59.9967276 L 30.0650149,59.9967893 L 30.0656049,59.9968268 L 30.0661789,59.9968402 L 30.0671821,59.996808 L 30.0682711,59.9967034 L 30.0694512,59.9965639 L 30.0711249,59.9963225 L 30.0729649,59.9961052 L 30.0743865,59.995837 L 30.07532,59.995625 L 30.0760978,59.9954829 L 30.0767523,59.9953031 L 30.0774121,59.9951395 L 30.0779003,59.9950563 L 30.078324,59.9949303 L 30.0788337,59.9948364 L 30.0798582,59.9946727 L 30.0803142,59.994607 L 30.0809043,59.9945493 L 30.0814353,59.9944997 L 30.0820952,59.9944353 L 30.0827738,59.9943682 L 30.0835893,59.9943562 L 30.084241,59.9944648 L 30.0849276,59.9944501 L 30.0854131,59.9944433 L 30.0857484,59.9944045 L 30.086097,59.9943682 L 30.086368,59.9943293 L 30.0869982,59.9942958 L 30.0874408,59.9942569 L 30.0877251,59.994214 L 30.0880337,59.9941281 L 30.0883555,59.9941214 L 30.0887175,59.9941939 L 30.0894391,59.9942086 L 30.090233,59.9942126 L 30.0908365,59.9941644 L 30.0914346,59.9940933 L 30.0922902,59.9938974 L 30.0935992,59.9935446 L 30.0947874,59.9930899 L 30.0950073,59.9929638 L 30.0951227,59.9928116 L 30.0952165,59.9926365 L 30.095635,59.991998 L 30.0960376,59.9915075 L 30.0967649,59.9914307 L 30.096942,59.9916178 L 30.0968715,59.9918051 L 30.0969239,59.9919175 L 30.0970794,59.9920792 L 30.0972162,59.9922046 L 30.0973117,59.9923427 L 30.0974469,59.9923803 L 30.0975599,59.9923937 L 30.0977433,59.9923864 L 30.0979659,59.9923092 L 30.0981818,59.9922086 L 30.0983159,59.9920181 L 30.0983086,59.9919176 L 30.0982043,59.9918067 L 30.0982718,59.9916375 L 30.0981287,59.9915309 L 30.0982601,59.991401 L 30.098094,59.9913171 L 30.0977974,59.9913112 L 30.0974485,59.9913705 L 30.0974399,59.9911978 L 30.0976048,59.9911642 L 30.0979318,59.9911814 L 30.0980019,59.9911594 L 30.0979816,59.9909947 L 30.0972578,59.9907196 L 30.0970244,59.9905949 L 30.0970164,59.9905566 L 30.0970633,59.9905264 L 30.0971466,59.9904804 L 30.0971878,59.9904758 L 30.0978958,59.9907027 L 30.0985032,59.9909547 L 30.0987182,59.9909945 L 30.0989477,59.9909777 L 30.0988421,59.9907425 L 30.0989297,59.9906072 L 30.0992197,59.9905068 L 30.0993933,59.9904962 L 30.0994992,59.9905463 L 30.0994522,59.990596 L 30.0997183,59.9907993 L 30.0995951,59.9910992 L 30.0998569,59.9912227 L 30.1001142,59.9912667 L 30.1005695,59.9913386 L 30.1009227,59.9913661 L 30.1012325,59.9913286 L 30.1015965,59.9911847 L 30.1027219,59.9909372 L 30.103351,59.9906315 L 30.1039133,59.990436 L 30.1046137,59.990282 L 30.1054349,59.9899304 L 30.105701,59.9898699 L 30.1063268,59.9899231 L 30.1068102,59.9898781 L 30.1071221,59.9899466 L 30.107644,59.9899624 L 30.1080601,59.9898786 L 30.1096916,59.9897081 L 30.1101165,59.9897312 L 30.1103412,59.9896103 L 30.1111417,59.9895382 L 30.1122328,59.9895751 L 30.1130173,59.9896017 L 30.1136633,59.9896917 L 30.1142314,59.9898299 L 30.1145028,59.9898087 L 30.1148864,59.9898621 L 30.1152421,59.9897273 L 30.1154741,59.9897534 L 30.1157498,59.9897789 L 30.1158821,59.9896999 L 30.1162862,59.9896473 L 30.1166892,59.9896914 L 30.1170039,59.9896799 L 30.1172879,59.9897568 L 30.1185456,59.9898943 L 30.1198042,59.9899957 L 30.1210204,59.9899253 L 30.1224489,59.98964 L 30.1245579,59.9892303 L 30.1256459,59.9890321 L 30.1267334,59.9887857 L 30.1277599,59.9885642 L 30.1278667,59.9884436 L 30.1280544,59.9884034 L 30.1283146,59.9884038 L 30.1283505,59.9885037 L 30.1287094,59.9884336 L 30.1291655,59.9884126 L 30.1293504,59.9884887 L 30.1295043,59.9885048 L 30.129852,59.9884229 L 30.1300719,59.9884363 L 30.1302731,59.9885396 L 30.1304394,59.9886604 L 30.1310574,59.9888117 L 30.1324206,59.9886222 L 30.1325583,59.9885557 L 30.1327354,59.9885437 L 30.1328668,59.9885799 L 30.132966,59.9886885 L 30.1332718,59.9886577 L 30.1335025,59.9886644 L 30.1337305,59.9887892 L 30.1340456,59.9888098 L 30.1344869,59.988812 L 30.1347175,59.9887757 L 30.1352137,59.988655 L 30.1364092,59.9886276 L 30.1374061,59.9884348 L 30.1379442,59.988321 L 30.1382151,59.9880808 L 30.1389098,59.9880392 L 30.1395913,59.9881293 L 30.1400509,59.9881067 L 30.1401463,59.9880379 L 30.1401624,59.9879601 L 30.1404682,59.9879399 L 30.1405084,59.9879708 L 30.140503,59.9880191 L 30.1406559,59.9880258 L 30.1407284,59.9880593 L 30.1409081,59.9880379 L 30.1408973,59.9879735 L 30.1409939,59.9879386 L 30.1413479,59.9879346 L 30.1415389,59.9879735 L 30.1419045,59.9880588 L 30.1429376,59.9880007 L 30.1429063,59.9879198 L 30.1429599,59.9878997 L 30.1430672,59.9879077 L 30.1433033,59.9880057 L 30.1434159,59.9881076 L 30.143609,59.98816 L 30.1438799,59.9881868 L 30.1445111,59.9881446 L 30.1448616,59.9882552 L 30.1451823,59.9883016 L 30.1454517,59.9883102 L 30.1458323,59.9882882 L 30.1467794,59.9882364 L 30.1477826,59.9881465 L 30.1481552,59.9880338 L 30.1486436,59.9880392 L 30.1492444,59.9880889 L 30.1495258,59.9881858 L 30.1560869,59.9877568 L 30.1578653,59.9876122 L 30.1593236,59.987437 L 30.1596956,59.9873685 L 30.1602345,59.9872478 L 30.1606165,59.9871074 L 30.1610309,59.9869513 L 30.161522,59.9867939 L 30.1618824,59.9866293 L 30.1621505,59.986415 L 30.1621488,59.9863241 L 30.1621268,59.9861757 L 30.1621202,59.9861314 L 30.1620601,59.9861297 L 30.1619553,59.9859906 L 30.1607859,59.9835057 L 30.1607752,59.9833608 L 30.1608395,59.983291 L 30.1609253,59.9832105 L 30.1611292,59.9831139 L 30.1661503,59.9825235 L 30.1663542,59.9825154 L 30.1665499,59.9825571 L 30.1667136,59.9826241 L 30.1668504,59.9827637 L 30.1673465,59.9837995 L 30.1674767,59.9837841 L 30.1675129,59.9838982 L 30.1675022,59.983976 L 30.1674539,59.9840431 L 30.1673439,59.9840947 L 30.1671981,59.9841138 L 30.1670861,59.9841119 L 30.1669724,59.9840893 L 30.1668504,59.984033 L 30.1667786,59.983967 L 30.1663063,59.9829512 L 30.1621543,59.9834525 L 30.1632256,59.985752 L 30.1655777,59.9854727 L 30.1653712,59.9850289 L 30.1667559,59.9848675 L 30.1666819,59.9846942 L 30.1668169,59.9846951 L 30.1669354,59.98472 L 30.1670051,59.98477 L 30.1671947,59.9854084 L 30.1673963,59.9853924 L 30.1674246,59.9855174 L 30.1677858,59.985494 L 30.167891,59.9855162 L 30.1679644,59.9855409 L 30.1680063,59.9855765 L 30.1680519,59.9856262 L 30.1680514,59.9859487 L 30.1680761,59.9859485 L 30.1681035,59.9859485 L 30.1681203,59.9859485 L 30.1681347,59.9859484 L 30.1681526,59.9859484 L 30.168178,59.9859341 L 30.1682115,59.9859254 L 30.1690238,59.9859226 L 30.1693285,59.9855883 L 30.1695297,59.985554 L 30.1695541,59.9854572 L 30.1703304,59.9854591 L 30.1704027,59.985789 L 30.1707418,59.9858305 L 30.1715084,59.9858779 L 30.1716408,59.9858913 L 30.1744634,59.9858791 L 30.1786818,59.9858674 L 30.1792073,59.9858644 L 30.1794192,59.9858564 L 30.1795949,59.9858316 L 30.1797371,59.9858027 L 30.1801461,59.9856954 L 30.1803526,59.9856531 L 30.1806021,59.9856115 L 30.1812015,59.9855418 L 30.181299,59.9855453 L 30.1814926,59.9855813 L 30.1815395,59.9855941 L 30.1816307,59.985635 L 30.1816803,59.9856659 L 30.1817353,59.9857195 L 30.1817608,59.9857685 L 30.1817742,59.9858309 L 30.1818104,59.9862482 L 30.1818278,59.9864796 L 30.1818493,59.9866956 L 30.1818777,59.987001 L 30.1818892,59.9871406 L 30.1818147,59.9871417 L 30.1818182,59.9871999 L 30.1818926,59.9871988 L 30.1819029,59.9872893 L 30.1819264,59.9875331 L 30.1819365,59.9876451 L 30.1819539,59.9877454 L 30.1819915,59.9878809 L 30.1820813,59.9880218 L 30.1821651,59.9881204 L 30.1822583,59.9881962 L 30.182367,59.988278 L 30.1824816,59.9883488 L 30.1825021,59.9883568 L 30.1825235,59.9883726 L 30.1825304,59.9883833 L 30.182538,59.9883917 L 30.1825576,59.9884094 L 30.1825621,59.9884222 L 30.1825628,59.988447 L 30.1825567,59.9884709 L 30.1824944,59.9885484 L 30.1823576,59.9887281 L 30.1822892,59.9888261 L 30.1823596,59.9888834 L 30.1823784,59.9889065 L 30.1823824,59.9889307 L 30.1823743,59.9889495 L 30.1823415,59.9889669 L 30.1822677,59.988987 L 30.1821162,59.9890139 L 30.1819821,59.9890313 L 30.1819177,59.9890595 L 30.1819231,59.9891064 L 30.1819575,59.9891535 L 30.182135,59.989195 L 30.1823844,59.9892258 L 30.1825078,59.9892312 L 30.1826506,59.9892295 L 30.1826781,59.9892356 L 30.1826915,59.989249 L 30.1826848,59.9892621 L 30.1826714,59.9892741 L 30.1826097,59.9892795 L 30.1825024,59.9892862 L 30.1823187,59.9892969 L 30.182135,59.9893157 L 30.1820411,59.989313 L 30.1819016,59.9892882 L 30.181828,59.9892812 L 30.1814952,59.9892614 L 30.1814279,59.9892558 L 30.1813517,59.9892419 L 30.1808152,59.9889547 L 30.1805779,59.9888505 L 30.1801716,59.9886927 L 30.1798147,59.9886267 L 30.1796529,59.9885985 L 30.1795212,59.988583 L 30.179333,59.9885881 L 30.179033,59.9885906 L 30.1789364,59.988606 L 30.1788224,59.9886765 L 30.1787299,59.988767 L 30.1786816,59.9888804 L 30.1786669,59.9889528 L 30.1786749,59.9889991 L 30.1786897,59.9890481 L 30.1787178,59.989097 L 30.1787151,59.989117 L 30.1787512,59.9891208 L 30.1787762,59.9891311 L 30.1788003,59.9891453 L 30.1788191,59.989168 L 30.17883,59.989186 L 30.1789137,59.9891958 L 30.179035,59.9892099 L 30.1790424,59.9891925 L 30.1790578,59.9891796 L 30.1790773,59.9891704 L 30.1791014,59.9891621 L 30.1791299,59.9891583 L 30.1791635,59.9891565 L 30.1792775,59.9891677 L 30.1802937,59.9892873 L 30.1828422,59.9895666 L 30.1835792,59.9896512 L 30.1841892,59.9896734 L 30.1844154,59.9896084 L 30.1844548,59.9894171 L 30.1848139,59.9892147 L 30.1850626,59.9891804 L 30.185165,59.9890896 L 30.1851628,59.9890318 L 30.185045,59.9890005 L 30.1854412,59.9884516 L 30.1854523,59.9882975 L 30.1856342,59.9881564 L 30.1857224,59.9879021 L 30.1860166,59.9875586 L 30.1861831,59.9871618 L 30.1865343,59.9869123 L 30.186612,59.9867905 L 30.1873621,59.9857211 L 30.1876246,59.9854143 L 30.1876809,59.9853487 L 30.1877553,59.9852616 L 30.1885889,59.9841469 L 30.1896599,59.98288 L 30.1900002,59.9825246 L 30.1902284,59.9822862 L 30.1904898,59.9822549 L 30.1906875,59.9823273 L 30.1907382,59.9825637 L 30.1908139,59.9826214 L 30.1921784,59.9824634 L 30.1924134,59.9823981 L 30.1929418,59.9818039 L 30.1929884,59.9811483 L 30.1937031,59.9810228 L 30.1933077,59.9811542 L 30.193415,59.9812385 L 30.1932617,59.9812769 L 30.1933154,59.981434 L 30.1932829,59.9815834 L 30.1939808,59.9818794 L 30.1946567,59.9819572 L 30.1952093,59.9819304 L 30.1959657,59.9817721 L 30.1968562,59.9815144 L 30.1981248,59.9811884 L 30.1987981,59.9810032 L 30.1995008,59.9808368 L 30.2005871,59.9805791 L 30.2017539,59.9801779 L 30.2028321,59.9798317 L 30.2037333,59.9795459 L 30.2044817,59.979307 L 30.2048572,59.9792681 L 30.20523,59.9792775 L 30.206083,59.9793647 L 30.2062967,59.9793712 L 30.2066999,59.9793835 L 30.2075367,59.9793634 L 30.2080275,59.9793598 L 30.2089883,59.9794679 L 30.2093534,59.9795445 L 30.2094983,59.9795847 L 30.2098012,59.9796484 L 30.2100132,59.9797053 L 30.2103483,59.9797854 L 30.2108329,59.9798548 L 30.2113607,59.9799114 L 30.2117639,59.979986 L 30.2119056,59.979998 L 30.2122164,59.9800242 L 30.2124375,59.9800429 L 30.2126706,59.9801095 L 30.2128415,59.9802001 L 30.2130505,59.9803074 L 30.2132928,59.9804266 L 30.2136422,59.9805124 L 30.2137286,59.9805837 L 30.2139954,59.9806688 L 30.2142495,59.9807677 L 30.2145159,59.9808314 L 30.2147572,59.9808985 L 30.2149585,59.9809669 L 30.2151866,59.9810119 L 30.2155297,59.9811816 L 30.2155672,59.9812231 L 30.2155646,59.9812568 L 30.2155217,59.9812836 L 30.2154653,59.9813117 L 30.2153849,59.9813051 L 30.2153339,59.9812826 L 30.2148216,59.9811374 L 30.2147411,59.9811266 L 30.2146537,59.9811314 L 30.2145504,59.9811993 L 30.2145426,59.981238 L 30.2145679,59.981272 L 30.2146768,59.9813011 L 30.215291,59.981336 L 30.2163338,59.9813934 L 30.2164239,59.9814094 L 30.2164701,59.9814396 L 30.2165923,59.9815596 L 30.2166912,59.9816056 L 30.2167742,59.9817009 L 30.2168919,59.9817828 L 30.2169054,59.9818992 L 30.2169441,59.9819306 L 30.2170132,59.9819443 L 30.2170602,59.9819354 L 30.2170822,59.981909 L 30.2171145,59.981871 L 30.2172135,59.9818185 L 30.2172678,59.9817271 L 30.2174865,59.9816446 L 30.2177385,59.9815842 L 30.2180724,59.9814909 L 30.2183353,59.9814587 L 30.2184667,59.9814547 L 30.2186102,59.9814367 L 30.2187413,59.9813878 L 30.2188311,59.9813456 L 30.2188674,59.9813351 L 30.218984,59.9813752 L 30.2189943,59.9814302 L 30.219254,59.9816206 L 30.2191525,59.9817254 L 30.2190854,59.9818082 L 30.2190594,59.9818517 L 30.2190337,59.9818945 L 30.2191023,59.9819639 L 30.219316,59.9820376 L 30.2194911,59.9820578 L 30.2206494,59.9818462 L 30.2209553,59.9818423 L 30.2212794,59.981859 L 30.2217808,59.9820239 L 30.2219305,59.9821512 L 30.2219781,59.9823424 L 30.22192,59.9824777 L 30.2219632,59.9826531 L 30.2220793,59.9827911 L 30.2221975,59.982865 L 30.2223591,59.9829003 L 30.2224126,59.9828995 L 30.2225807,59.9828956 L 30.2227498,59.9828916 L 30.2230263,59.9828547 L 30.2232024,59.9828203 L 30.2232917,59.9825526 L 30.2232512,59.9821196 L 30.2232572,59.981966 L 30.2232023,59.9818821 L 30.2231787,59.9818084 L 30.2232331,59.9816781 L 30.2233375,59.9815639 L 30.2234597,59.9815091 L 30.2236391,59.9814741 L 30.2238998,59.981462 L 30.2247032,59.9815101 L 30.2249175,59.9815185 L 30.2251052,59.9815076 L 30.2251593,59.9814708 L 30.2254976,59.9811012 L 30.2257037,59.9808148 L 30.2259596,59.9803989 L 30.2260714,59.9802287 L 30.2262573,59.9801158 L 30.2264833,59.9800891 L 30.2265191,59.978922 L 30.226553,59.9778191 L 30.2256615,59.9776892 L 30.2253413,59.9776175 L 30.2241098,59.9770092 L 30.2205838,59.9771561 L 30.2205387,59.9771456 L 30.2205068,59.9771262 L 30.2201094,59.9771398 L 30.2199715,59.977169 L 30.2183683,59.9772148 L 30.2183202,59.9772553 L 30.218225,59.9772949 L 30.2181167,59.977318 L 30.2179387,59.9773261 L 30.2176115,59.9773316 L 30.2172404,59.9773156 L 30.2168337,59.9772804 L 30.2164958,59.977236 L 30.2148395,59.9769402 L 30.2140953,59.9767148 L 30.2138748,59.9766438 L 30.2133595,59.9764602 L 30.2130585,59.9763311 L 30.2128706,59.9762493 L 30.2125658,59.9761053 L 30.2122625,59.9759407 L 30.2120113,59.975798 L 30.2116073,59.9755534 L 30.2111489,59.9751739 L 30.2108674,59.9748899 L 30.2106265,59.9745944 L 30.2104518,59.9743215 L 30.2102946,59.9739922 L 30.210241,59.9737337 L 30.2101863,59.9733302 L 30.210156,59.9731061 L 30.2101532,59.9730776 L 30.2101342,59.972338 L 30.2102377,59.9716578 L 30.2103455,59.971228 L 30.2105278,59.9708727 L 30.2107071,59.9706302 L 30.2107266,59.970609 L 30.2109219,59.9703965 L 30.2111985,59.9701572 L 30.211304,59.970119 L 30.2114218,59.9701231 L 30.2124861,59.9703318 L 30.2126618,59.9703378 L 30.2128147,59.9703183 L 30.2129612,59.9702705 L 30.2130446,59.970219 L 30.2136848,59.9695603 L 30.2139019,59.969356 L 30.2140101,59.9693183 L 30.2141046,59.9693175 L 30.214142,59.9690557 L 30.2140162,59.9689617 L 30.213969,59.9688387 L 30.2140405,59.9687432 L 30.2142282,59.9686706 L 30.2144538,59.9686481 L 30.214653,59.9686843 L 30.2147583,59.9686876 L 30.2152552,59.9687134 L 30.2167866,59.9687859 L 30.2169396,59.9688177 L 30.2169656,59.9689024 L 30.2168628,59.9693133 L 30.2167308,59.9696646 L 30.217087,59.9697163 L 30.2174953,59.9697734 L 30.2180698,59.9698402 L 30.2181698,59.9698812 L 30.2182694,59.9699676 L 30.2191353,59.9698417 L 30.2197411,59.9697996 L 30.2198796,59.9697955 L 30.220827,59.9697258 L 30.2236565,59.9695093 L 30.2245609,59.969385 L 30.2248437,59.9691626 L 30.2248403,59.9690883 L 30.2249418,59.9689508 L 30.2248819,59.9687436 L 30.2239492,59.9688112 L 30.2239038,59.9686542 L 30.22496,59.9685777 L 30.2249909,59.967977 L 30.2367172,59.966703 L 30.2372198,59.9666381 L 30.2367923,59.9661078 L 30.2367616,59.9661003 L 30.2367317,59.9660904 L 30.2366681,59.9660957 L 30.2363955,59.9660388 L 30.2361837,59.9659884 L 30.2359873,59.9659304 L 30.2358538,59.9658776 L 30.2357213,59.9658151 L 30.2355743,59.9657388 L 30.2354514,59.965666 L 30.2353521,59.9655953 L 30.2352299,59.9654991 L 30.2351284,59.9653931 L 30.2350919,59.9653194 L 30.2350562,59.9652569 L 30.235016,59.96516 L 30.2349935,59.9650848 L 30.2349931,59.9649854 L 30.2349898,59.9648797 L 30.2350109,59.9647738 L 30.2350524,59.9646772 L 30.2351408,59.9645534 L 30.2352528,59.9644144 L 30.2354069,59.9642871 L 30.2355762,59.9641812 L 30.2357727,59.9640787 L 30.2360972,59.9639745 L 30.2338828,59.9624108 L 30.2327482,59.9615571 L 30.2323415,59.9616726 L 30.2320913,59.9617298 L 30.2316274,59.9618137 L 30.2310101,59.961905 L 30.2308006,59.9618657 L 30.2306653,59.9618595 L 30.2182565,59.9639362 L 30.216736,59.9641132 L 30.2152484,59.9642864 L 30.2144212,59.9643128 L 30.2124597,59.9643756 L 30.2101448,59.9642837 L 30.2073099,59.9639584 L 30.2033702,59.9633336 L 30.1928913,59.9616711 L 30.1907097,59.9611541 L 30.1888648,59.9603546 L 30.1877145,59.9595298 L 30.1869924,59.9586557 L 30.1847265,59.9548132 L 30.1846789,59.9547215 L 30.1844859,59.9543501 L 30.1834161,59.9537436 L 30.183178,59.9533449 L 30.1832101,59.9529369 L 30.1834197,59.9525235 L 30.1935851,59.9509964 L 30.1934055,59.9506955 L 30.1946054,59.9505152 L 30.1904461,59.9435507 L 30.1790831,59.9452577 L 30.1784688,59.9449874 L 30.1780782,59.9447134 L 30.177873,59.9443695 L 30.1778994,59.9440329 L 30.1782256,59.9437134 L 30.1808709,59.9430763 L 30.1827453,59.941069 L 30.1901626,59.9331231 L 30.1905994,59.9327563 L 30.1910844,59.9323489 L 30.1923894,59.9316415 L 30.1939338,59.9310989 L 30.201491,59.9290013 L 30.2026573,59.9287305 L 30.2039642,59.9285382 L 30.2055293,59.928443 L 30.2091219,59.9283845 L 30.2119477,59.9283383 L 30.2142769,59.9283003 L 30.2171278,59.9282925 L 30.2194366,59.9292915 L 30.2199777,59.92917 L 30.220504,59.929048 L 30.221056,59.92895 L 30.2213983,59.9289237 L 30.2220341,59.9289094 L 30.2225116,59.9289163 L 30.2229837,59.9289176 L 30.2233914,59.9288787 L 30.2247043,59.9287261 L 30.2251951,59.9286757 L 30.2258416,59.9285632 L 30.2259071,59.9285587 L 30.2259837,59.9285595 L 30.2260897,59.9285669 L 30.2263984,59.9286067 L 30.2264343,59.9286149 L 30.2265718,59.928672 L 30.2266074,59.9286836 L 30.2268995,59.9286924 L 30.2271625,59.9287033 L 30.2271867,59.9286898 L 30.2272202,59.9286855 L 30.2273624,59.9286845 L 30.2274261,59.9287013 L 30.2274455,59.928713 L 30.2274522,59.9287443 L 30.2274509,59.9288185 L 30.2274603,59.9288397 L 30.2274911,59.9288538 L 30.2278009,59.9289781 L 30.2278465,59.9289969 L 30.2278964,59.9290159 L 30.2280208,59.9290326 L 30.2279766,59.9292543 L 30.2279712,59.9292721 L 30.2280434,59.929404 L 30.2281523,59.9296259 L 30.2282592,59.9298333 L 30.2287244,59.9307074 L 30.2288681,59.930998 L 30.2290548,59.9311889 L 30.2291809,59.9312837 L 30.2292721,59.9314436 L 30.2292627,59.9314587 L 30.2292292,59.9314691 L 30.2291889,59.9314799 L 30.2291534,59.9314967 L 30.2290937,59.9315746 L 30.2290817,59.9316801 L 30.2290978,59.9317164 L 30.2291333,59.9317399 L 30.2291883,59.9317698 L 30.2293184,59.9321017 L 30.229311,59.9321172 L 30.2292909,59.9321286 L 30.2292754,59.9321474 L 30.2292721,59.9321773 L 30.2296011,59.9327982 L 30.2297375,59.9329641 L 30.2298689,59.9330703 L 30.2302448,59.933235 L 30.2305099,59.9332934 L 30.2305824,59.9332967 L 30.2306789,59.9332907 L 30.2309605,59.9332201 L 30.2310356,59.9332121 L 30.2311268,59.9332107 L 30.2314594,59.9332403 L 30.2316642,59.9332512 L 30.2318034,59.933246 L 30.2318396,59.933242 L 30.2318551,59.9332319 L 30.2318564,59.9332208 L 30.231839,59.9331956 L 30.2318329,59.9331812 L 30.2318437,59.9331708 L 30.2320683,59.9330945 L 30.2322668,59.9330139 L 30.2323727,59.9329352 L 30.232476,59.9328365 L 30.232543,59.9327377 L 30.2325699,59.9326685 L 30.2325967,59.932565 L 30.2325886,59.9324736 L 30.232535,59.932354 L 30.2324304,59.9322049 L 30.2322507,59.9320638 L 30.2320173,59.9319415 L 30.2316874,59.931838 L 30.2314675,59.931795 L 30.2312542,59.9317789 L 30.2308419,59.9317876 L 30.2307808,59.9317829 L 30.2307527,59.9317758 L 30.2307285,59.9317527 L 30.2300459,59.9300328 L 30.2300446,59.930015 L 30.2300566,59.9300026 L 30.2306545,59.929826 L 30.2306311,59.9298068 L 30.2308691,59.929734 L 30.2308928,59.9297534 L 30.2310304,59.929707 L 30.2308739,59.9295801 L 30.2309564,59.9295546 L 30.2311148,59.929683 L 30.231614,59.9295433 L 30.2315958,59.9295251 L 30.2316541,59.9295078 L 30.2315498,59.9294163 L 30.2316383,59.929391 L 30.2317426,59.9294825 L 30.2318109,59.9294632 L 30.2318375,59.9294869 L 30.2325496,59.9292832 L 30.2325301,59.9292672 L 30.2327508,59.9291994 L 30.232778,59.9292215 L 30.2342851,59.9287906 L 30.2343334,59.9287651 L 30.2343468,59.9287389 L 30.2348337,59.9276922 L 30.2348276,59.9276795 L 30.2348149,59.9276758 L 30.2344467,59.927791 L 30.2344092,59.9277907 L 30.234375,59.9277773 L 30.233231,59.9266829 L 30.2332364,59.9266684 L 30.2332525,59.926661 L 30.2336133,59.9265616 L 30.2336387,59.9265387 L 30.2336361,59.9265185 L 30.2335811,59.9264571 L 30.2335489,59.9264413 L 30.2335261,59.9264396 L 30.2332237,59.9265278 L 30.2331978,59.9265285 L 30.2331801,59.9265243 L 30.2330698,59.9264142 L 30.2330714,59.9264075 L 30.2330832,59.9264025 L 30.2333112,59.9263428 L 30.2333169,59.9263388 L 30.2333189,59.9263332 L 30.2332941,59.9263151 L 30.2332783,59.9263166 L 30.2332626,59.9263206 L 30.2310417,59.9269628 L 30.2309934,59.9269698 L 30.2309632,59.9269681 L 30.230931,59.92695 L 30.2307017,59.9267554 L 30.2306957,59.9267396 L 30.2307057,59.9267235 L 30.2367018,59.9250236 L 30.2367226,59.9250094 L 30.236734,59.9249906 L 30.2367058,59.924952 L 30.2364544,59.9247446 L 30.2364497,59.9247168 L 30.2364685,59.9246953 L 30.2375068,59.9242902 L 30.2375259,59.9242856 L 30.237545,59.9242854 L 30.2375705,59.9242898 L 30.2385955,59.9246509 L 30.2386699,59.9246526 L 30.2387577,59.9246341 L 30.2402008,59.923837 L 30.2414373,59.9233491 L 30.2422942,59.9229932 L 30.2423291,59.9229871 L 30.2424002,59.9229848 L 30.24248,59.9229881 L 30.2425678,59.9229846 L 30.2465784,59.9221463 L 30.2507184,59.9212433 L 30.2508418,59.9212104 L 30.2508753,59.9211878 L 30.2513668,59.9207022 L 30.2517208,59.9204071 L 30.2517369,59.9203782 L 30.2517182,59.9203412 L 30.2515908,59.9202344 L 30.2515941,59.9202182 L 30.2516136,59.9202061 L 30.2533784,59.9196563 L 30.2542199,59.9194257 L 30.2568023,59.9188517 L 30.2572925,59.9187146 L 30.2573508,59.9187125 L 30.257387,59.9187226 L 30.2574601,59.9187485 L 30.2575164,59.9187529 L 30.2580294,59.9186568 L 30.2580797,59.9186383 L 30.2581058,59.9186067 L 30.2581099,59.9185737 L 30.2581146,59.9185643 L 30.2581447,59.9185516 L 30.2588488,59.9184544 L 30.2604926,59.9172603 L 30.2607425,59.915916 L 30.2577145,59.9154138 L 30.2519463,59.9145281 L 30.2408699,59.9141482 L 30.2408904,59.9139118 L 30.2406964,59.9138414 L 30.2406237,59.9138226 L 30.2390679,59.913766 L 30.2386649,59.913691 L 30.234548,59.9133759 L 30.2338221,59.9136051 L 30.232634,59.9136123 L 30.2324137,59.9137327 L 30.2289059,59.9135487 L 30.2244239,59.9139933 L 30.2239465,59.9142017 L 30.2232277,59.9144518 L 30.2222698,59.9146586 L 30.2221306,59.9146494 L 30.2155592,59.9161472 L 30.2151381,59.9162279 L 30.2148297,59.9162534 L 30.2143201,59.9162696 L 30.2140357,59.9162212 L 30.2137863,59.9161136 L 30.2134617,59.9158568 L 30.2128958,59.9152047 L 30.2074321,59.909264 L 30.2072497,59.9089803 L 30.2072551,59.9085217 L 30.2073999,59.9083079 L 30.207936,59.9080964 L 30.214717,59.9060888 L 30.2154761,59.9060001 L 30.2156331,59.9058831 L 30.2157739,59.9057923 L 30.215853,59.905766 L 30.2160206,59.9057727 L 30.2163987,59.9053098 L 30.2162687,59.9052711 L 30.2162044,59.9052113 L 30.2161829,59.9051568 L 30.2162568,59.9050512 L 30.2162975,59.9049635 L 30.2162242,59.9042361 L 30.2161047,59.9039671 L 30.2160056,59.9038702 L 30.21581,59.9037137 L 30.2158251,59.9036094 L 30.2136523,59.9022316 L 30.2127576,59.9021808 L 30.2116873,59.9013804 L 30.2112886,59.9011095 L 30.2104372,59.9005032 L 30.2102217,59.9003365 L 30.2101603,59.9002889 L 30.2094575,59.8995032 L 30.209286,59.8994034 L 30.2088944,59.8993004 L 30.2086287,59.899198 L 30.2084677,59.8991032 L 30.2082451,59.8989824 L 30.20807,59.8988862 L 30.2079471,59.8988635 L 30.2078372,59.8988365 L 30.2076586,59.8987758 L 30.2075537,59.8987276 L 30.2074769,59.8986727 L 30.2074329,59.8986382 L 30.2073897,59.8986349 L 30.2073238,59.8986719 L 30.2073106,59.8986954 L 30.2072974,59.898719 L 30.2072315,59.8987278 L 30.2072022,59.8986919 L 30.2072452,59.8986406 L 30.2072226,59.8985979 L 30.2070182,59.8985035 L 30.2067613,59.8983752 L 30.2065072,59.8982183 L 30.206333,59.8981042 L 30.2059771,59.8978872 L 30.2057898,59.8977967 L 30.205493,59.8976717 L 30.205283,59.8975832 L 30.2050023,59.8974646 L 30.2049051,59.8973965 L 30.2048644,59.8973532 L 30.2048155,59.897301 L 30.2047791,59.8972574 L 30.2047399,59.8972279 L 30.2045691,59.8971563 L 30.2043355,59.897054 L 30.2040409,59.8969002 L 30.2034187,59.8965716 L 30.2031891,59.8964573 L 30.2027201,59.8962257 L 30.2025156,59.8961347 L 30.2021566,59.8960058 L 30.2017383,59.8958731 L 30.2014357,59.895771 L 30.2011518,59.8956582 L 30.2007625,59.8954862 L 30.2005252,59.8953683 L 30.2001571,59.8951851 L 30.1998082,59.8950237 L 30.1994968,59.8948848 L 30.1991534,59.894667 L 30.1988796,59.8945625 L 30.1986144,59.8944913 L 30.1983472,59.8944773 L 30.1976387,59.8943043 L 30.1972868,59.8940902 L 30.1971335,59.8938407 L 30.1968809,59.8936769 L 30.1963634,59.8935132 L 30.1958619,59.8931923 L 30.1954085,59.8927931 L 30.1952184,59.8927149 L 30.1950696,59.8924068 L 30.1947637,59.8920824 L 30.1945891,59.8916774 L 30.1945939,59.8915826 L 30.1946076,59.8913128 L 30.1945375,59.8911103 L 30.1944905,59.8909697 L 30.194622,59.890766 L 30.194805,59.8905912 L 30.1946085,59.8904228 L 30.1943623,59.890212 L 30.1942871,59.8901474 L 30.1943258,59.8899486 L 30.1942909,59.8897694 L 30.1943083,59.8895771 L 30.1945262,59.8894198 L 30.1947222,59.8892908 L 30.1948042,59.8892161 L 30.1948644,59.8891611 L 30.1948485,59.8890744 L 30.1924656,59.8888646 L 30.1907384,59.8886752 L 30.1876313,59.8883135 L 30.18489,59.8879799 L 30.1822561,59.8877158 L 30.1818,59.8876699 L 30.181254,59.8877322 L 30.1802326,59.8876547 L 30.1745593,59.8877924 L 30.1742163,59.8878505 L 30.17298,59.8880594 L 30.1719592,59.8882782 L 30.1704265,59.8883202 L 30.1697732,59.8883226 L 30.1694721,59.8883243 L 30.1691516,59.8883384 L 30.1689842,59.8883123 L 30.1686849,59.8879244 L 30.1683446,59.8874834 L 30.1681678,59.8872541 L 30.1679869,59.8870196 L 30.1678122,59.886844 L 30.1678913,59.8863976 L 30.1689607,59.8858611 L 30.1690728,59.8858063 L 30.1713577,59.8846604 L 30.1714719,59.8846036 L 30.1723156,59.8841801 L 30.1684055,59.8821801 L 30.168264,59.8821077 L 30.1678356,59.8818885 L 30.1679317,59.8818437 L 30.1659194,59.8808039 L 30.1684027,59.8795845 L 30.1667366,59.8792179 L 30.1643533,59.877003 L 30.1614804,59.8742478 L 30.1615833,59.8741215 L 30.1622876,59.8739488 L 30.1642711,59.8735181 L 30.1666471,59.872998 L 30.1682928,59.8726076 L 30.1698854,59.8722706 L 30.171788,59.8717565 L 30.1717485,59.8715578 L 30.1717996,59.8713971 L 30.1719768,59.8712571 L 30.1722503,59.8711601 L 30.1724903,59.8709737 L 30.1727492,59.8708383 L 30.1729838,59.8708188 L 30.1733144,59.8708077 L 30.1735754,59.8708585 L 30.1742274,59.8709084 L 30.1744918,59.8708715 L 30.1746243,59.8708029 L 30.1750605,59.8707301 L 30.1752027,59.8706244 L 30.1753153,59.870547 L 30.1754293,59.8704635 L 30.1755299,59.870438 L 30.1756614,59.8703989 L 30.1756255,59.8703529 L 30.1753895,59.8703115 L 30.1729294,59.8705154 L 30.1726361,59.870098 L 30.1724014,59.8700118 L 30.1721993,59.8699266 L 30.1719091,59.8697417 L 30.1718404,59.869575 L 30.1714111,59.8695894 L 30.1710218,59.8696526 L 30.1706726,59.869756 L 30.1704608,59.8699198 L 30.1706128,59.8699643 L 30.1707387,59.8700333 L 30.1707673,59.8700678 L 30.1707802,59.8701123 L 30.1707516,59.8701561 L 30.170713,59.8701913 L 30.1706156,59.8702193 L 30.1704783,59.8702294 L 30.1703308,59.8702222 L 30.1701605,59.8701971 L 30.1699948,59.8702502 L 30.169781,59.8703774 L 30.1700961,59.8704147 L 30.1706211,59.8704658 L 30.1706955,59.870552 L 30.1704951,59.870644 L 30.17002,59.8706554 L 30.1696708,59.8706066 L 30.1692143,59.8707802 L 30.1685445,59.8709402 L 30.1682567,59.8709632 L 30.1677531,59.8709457 L 30.1673238,59.871006 L 30.1670032,59.8711238 L 30.1666082,59.8712215 L 30.1664307,59.8712589 L 30.1662823,59.8712537 L 30.1661164,59.8712801 L 30.165906,59.8712992 L 30.1657645,59.8712811 L 30.1656007,59.8713048 L 30.1652372,59.8713164 L 30.1650821,59.8713015 L 30.1648393,59.8711724 L 30.1647037,59.871143 L 30.1645559,59.871143 L 30.1644163,59.8711359 L 30.1642139,59.8711775 L 30.163969,59.8712009 L 30.1638088,59.8711872 L 30.1636593,59.8711511 L 30.1635986,59.8711135 L 30.1636006,59.8710678 L 30.16368,59.8709719 L 30.1637172,59.8709188 L 30.1637143,59.8708426 L 30.1636742,59.8707766 L 30.1635039,59.8706862 L 30.1625684,59.8703709 L 30.1561771,59.8717565 L 30.1558992,59.8718512 L 30.1557334,59.8719034 L 30.1555746,59.8718912 L 30.1552444,59.8716548 L 30.1550976,59.8715279 L 30.1550073,59.8713822 L 30.1549628,59.8712322 L 30.155142,59.8709404 L 30.1552208,59.8708447 L 30.1553165,59.8707421 L 30.1551626,59.8705736 L 30.1548978,59.8704224 L 30.1546745,59.8703225 L 30.1544895,59.870219 L 30.1542841,59.8699881 L 30.1540778,59.8698913 L 30.1538424,59.8697547 L 30.1536795,59.869623 L 30.1535662,59.8695151 L 30.1533799,59.8694721 L 30.1531683,59.8694818 L 30.1529377,59.8694522 L 30.1526532,59.8694111 L 30.15226,59.86904 L 30.1517949,59.8684921 L 30.15112,59.86779 L 30.1504393,59.8671568 L 30.1493992,59.8663939 L 30.148089,59.8656329 L 30.1461505,59.8650227 L 30.1439402,59.8644106 L 30.1434701,59.8642677 L 30.1421189,59.8638928 L 30.14225,59.8636491 L 30.141822,59.8634642 L 30.1408286,59.8632634 L 30.1406948,59.86305 L 30.1399187,59.8630486 L 30.1397908,59.8630255 L 30.1397877,59.86251 L 30.1385078,59.8621941 L 30.1370954,59.8621251 L 30.136247,59.8619694 L 30.1352164,59.8618116 L 30.1348595,59.8617846 L 30.1344655,59.8617412 L 30.1338017,59.8617294 L 30.1337977,59.8617688 L 30.1336979,59.8617656 L 30.1337041,59.861726 L 30.1332388,59.8616977 L 30.1327347,59.8617445 L 30.132286,59.8620829 L 30.1322427,59.8620876 L 30.1321757,59.8620712 L 30.1320038,59.8622975 L 30.1319709,59.8623628 L 30.1319058,59.8624459 L 30.1322118,59.8626203 L 30.1324961,59.8628033 L 30.1329028,59.8630095 L 30.1330427,59.8630863 L 30.1330601,59.8631609 L 30.1330121,59.8632004 L 30.1329184,59.8632026 L 30.1328338,59.863189 L 30.1319066,59.8626344 L 30.1317847,59.8626072 L 30.1266889,59.8625912 L 30.1215944,59.8626592 L 30.1213672,59.8626921 L 30.1205064,59.8627031 L 30.1204496,59.8626745 L 30.1183845,59.8627595 L 30.118142,59.8627367 L 30.1178099,59.8626417 L 30.1176528,59.8625262 L 30.1176117,59.8624727 L 30.1175612,59.862408 L 30.1175482,59.8623554 L 30.1175706,59.8623339 L 30.1175612,59.8622926 L 30.1175687,59.8622175 L 30.1175427,59.8621304 L 30.1174659,59.8620824 L 30.1174679,59.8619756 L 30.1173688,59.8618751 L 30.1173202,59.8617766 L 30.1172418,59.8616922 L 30.1171427,59.8615598 L 30.1171557,59.8614575 L 30.11718,59.8613393 L 30.1172342,59.8612324 L 30.117223,59.8611451 L 30.1172025,59.860995 L 30.1171856,59.8609219 L 30.1171632,59.8608205 L 30.117109,59.8607229 L 30.1171277,59.8606601 L 30.1172249,59.8605615 L 30.1172071,59.8605281 L 30.1172249,59.8604602 L 30.1171987,59.8603992 L 30.1171987,59.8603307 L 30.1171669,59.8602894 L 30.1171856,59.8602303 L 30.1172118,59.8601608 L 30.1172249,59.8600924 L 30.1172118,59.8600417 L 30.1172585,59.8600154 L 30.1171894,59.8599779 L 30.1172025,59.8599197 L 30.1171707,59.8598493 L 30.1171726,59.859793 L 30.1172071,59.8597481 L 30.1172454,59.8596936 L 30.117251,59.8596157 L 30.1172753,59.8595669 L 30.1173108,59.8594834 L 30.1173669,59.8594262 L 30.1173351,59.8593822 L 30.1173127,59.8593137 L 30.1173557,59.8592358 L 30.1173893,59.8591851 L 30.1173837,59.8591354 L 30.1173669,59.8590819 L 30.1173632,59.8589899 L 30.1173912,59.858882 L 30.1174328,59.8588301 L 30.1174732,59.8587715 L 30.117476,59.8587133 L 30.1174203,59.8586771 L 30.117327,59.8586508 L 30.117212,59.8586405 L 30.1170918,59.8586518 L 30.1170035,59.8586904 L 30.1169901,59.8587577 L 30.1170145,59.8588394 L 30.1169915,59.8592129 L 30.1168156,59.8592501 L 30.1167766,59.8593214 L 30.1167858,59.8593983 L 30.1168104,59.8594523 L 30.1167694,59.8595326 L 30.1168722,59.8597402 L 30.116838,59.8604592 L 30.1167073,59.8612655 L 30.1165937,59.8613968 L 30.1165665,59.8616598 L 30.1166873,59.8619268 L 30.1163083,59.8626238 L 30.1162796,59.8627945 L 30.1162325,59.8628971 L 30.1161446,59.8629408 L 30.1160237,59.8629521 L 30.115899,59.86292 L 30.1157849,59.8628561 L 30.1156274,59.8628038 L 30.1154191,59.8627678 L 30.1143363,59.8628383 L 30.1139041,59.862837 L 30.1136813,59.8627684 L 30.1134889,59.862663 L 30.1134835,59.8625017 L 30.1135767,59.8624277 L 30.11377,59.8623746 L 30.1141939,59.8624277 L 30.1144035,59.8623514 L 30.1144347,59.8621773 L 30.1143818,59.8620304 L 30.1142331,59.8619414 L 30.1139423,59.8619186 L 30.1109446,59.862241 L 30.1088044,59.8632172 L 30.1085059,59.8632296 L 30.1076169,59.8632893 L 30.1076862,59.8635194 L 30.1070578,59.8635652 L 30.1062787,59.8627721 L 30.10511,59.86312 L 30.1041953,59.8631785 L 30.10312,59.86354 L 30.1023757,59.8637214 L 30.10186,59.86383 L 30.10114,59.86424 L 30.10063,59.86425 L 30.09959,59.86402 L 30.09852,59.86353 L 30.0985512,59.858919 L 30.0986692,59.8581001 L 30.098401,59.8553309 L 30.1005952,59.8539785 L 30.1005728,59.8534058 L 30.0963986,59.8538518 L 30.0961529,59.8538677 L 30.0958908,59.8538699 L 30.0956231,59.8538672 L 30.0954144,59.8538503 L 30.0952288,59.8538304 L 30.0947459,59.8537442 L 30.0941476,59.8536274 L 30.0905872,59.8529002 L 30.0903905,59.8528541 L 30.0904289,59.8528152 L 30.090445,59.8527861 L 30.0904699,59.8527404 L 30.0905175,59.8526487 L 30.0905416,59.8521853 L 30.0905434,59.8521516 L 30.0905527,59.8520019 L 30.0905615,59.8518586 L 30.0905641,59.8518175 L 30.0905702,59.8517186 L 30.0905784,59.8515857 L 30.090592,59.8513657 L 30.0906025,59.8511961 L 30.0906121,59.8510417 L 30.0906331,59.8507019 L 30.0906746,59.8500319 L 30.0907804,59.8483213 L 30.0909867,59.8449874 L 30.091179,59.8418782 L 30.0912134,59.8413226 L 30.0912173,59.8412747 L 30.0912469,59.8409069 L 30.0912495,59.8407601 L 30.091258,59.8406011 L 30.091261,59.8404168 L 30.0912615,59.8403866 L 30.0912742,59.840193 L 30.0912808,59.8400911 L 30.0912952,59.8398711 L 30.0913084,59.8396686 L 30.0913252,59.8394117 L 30.0914666,59.8372481 L 30.0915256,59.8363183 L 30.0915503,59.8359281 L 30.0867103,59.8353226 L 30.0861595,59.8346936 L 30.0860707,59.8346082 L 30.0835866,59.8351541 L 30.0755159,59.8370547 L 30.0697365,59.8384232 L 30.0702286,59.8363312 L 30.0702575,59.8362186 L 30.0706904,59.8342318 L 30.0713064,59.8318133 L 30.0719006,59.8293176 L 30.0719189,59.8292366 L 30.0719367,59.8291614 L 30.0719888,59.8289417 L 30.0720036,59.828879 L 30.0720624,59.8285787 L 30.0724248,59.8271892 L 30.0726871,59.8261279 L 30.0728509,59.8254056 L 30.0730096,59.8247047 L 30.0732069,59.8238645 L 30.0732735,59.8235808 L 30.073429,59.8229854 L 30.0735415,59.8225546 L 30.0735529,59.8225096 L 30.0735657,59.8224553 L 30.0736101,59.8222713 L 30.0737935,59.8215107 L 30.073931,59.8208984 L 30.0739547,59.8207928 L 30.0739995,59.8205932 L 30.0740246,59.8204732 L 30.0740501,59.82036 L 30.0742216,59.8196697 L 30.0742355,59.8196137 L 30.0742649,59.8194946 L 30.0743407,59.8191959 L 30.0743672,59.8190573 L 30.0744703,59.818664 L 30.0745779,59.8182862 L 30.074666,59.8179071 L 30.07493,59.8166825 L 30.0752887,59.8152343 L 30.0858923,59.8161376 L 30.0909658,59.8148603 L 30.1046843,59.817297 L 30.1276856,59.8090653 L 30.1253276,59.8065194 L 30.1234163,59.8044557 L 30.1122214,59.8034566 L 30.110023,59.8032604 L 30.1097807,59.80333 L 30.1095154,59.8031705 L 30.1048977,59.8028605 L 30.1056051,59.7973586 L 30.1052008,59.7969391 L 30.0992919,59.7963057 L 30.0992126,59.796154 L 30.0987841,59.7954993 L 30.0986889,59.7951906 L 30.0986995,59.794866 L 30.0986743,59.7946264 L 30.0982638,59.7906 L 30.0982065,59.7900389 L 30.0982613,59.789396 L 30.09866,59.7870778 L 30.098834,59.7862369 L 30.0988054,59.7858785 L 30.0985114,59.7852595 L 30.0978411,59.7843515 L 30.0979511,59.7839266 L 30.0969224,59.7835855 L 30.0962698,59.7833691 L 30.0966669,59.7829892 L 30.0970493,59.7827297 L 30.0961433,59.7824513 L 30.0960503,59.7824227 L 30.0958151,59.7826162 L 30.0948213,59.7824764 L 30.0944855,59.7824271 L 30.0914177,59.7820667 L 30.0907193,59.7815239 L 30.090737,59.7814215 L 30.0839773,59.7786159 L 30.0839294,59.778596 L 30.0846326,59.7757298 L 30.0782718,59.7731913 L 30.0771796,59.7728388 L 30.0718376,59.7711143 L 30.0629226,59.7681974 L 30.0614718,59.7677227 L 30.0563798,59.7660567 L 30.0522611,59.7658585 L 30.0456019,59.7655379 z\" /></g></g></svg>"
     },
     "execution_count": 58,
     "metadata": {},
     "output_type": "execute_result"
    }
   ],
   "source": [
    "spb_polygon = wkt.load(open(\"./data/spb_polygon.txt\"))\n",
    "spb_polygon"
   ],
   "metadata": {
    "collapsed": false
   }
  },
  {
   "cell_type": "code",
   "execution_count": 59,
   "outputs": [],
   "source": [
    "all_locations[\"in_spb\"] = all_locations[\"poly_center\"].apply(lambda x: spb_polygon.contains(wkt.loads(x))).astype(int)"
   ],
   "metadata": {
    "collapsed": false
   }
  },
  {
   "cell_type": "code",
   "execution_count": 60,
   "outputs": [
    {
     "data": {
      "text/plain": "   point                          poly_center  in_spb\n0      0    POINT (0.0000000000 0.0000000000)       0\n1      1  POINT (30.1160199001 59.8357054295)       1\n2      2  POINT (30.2485214045 59.9292365030)       1\n3      3  POINT (30.2485214045 59.9708463091)       1\n4      4  POINT (30.2485214045 60.0236267278)       1",
      "text/html": "<div>\n<style scoped>\n    .dataframe tbody tr th:only-of-type {\n        vertical-align: middle;\n    }\n\n    .dataframe tbody tr th {\n        vertical-align: top;\n    }\n\n    .dataframe thead th {\n        text-align: right;\n    }\n</style>\n<table border=\"1\" class=\"dataframe\">\n  <thead>\n    <tr style=\"text-align: right;\">\n      <th></th>\n      <th>point</th>\n      <th>poly_center</th>\n      <th>in_spb</th>\n    </tr>\n  </thead>\n  <tbody>\n    <tr>\n      <th>0</th>\n      <td>0</td>\n      <td>POINT (0.0000000000 0.0000000000)</td>\n      <td>0</td>\n    </tr>\n    <tr>\n      <th>1</th>\n      <td>1</td>\n      <td>POINT (30.1160199001 59.8357054295)</td>\n      <td>1</td>\n    </tr>\n    <tr>\n      <th>2</th>\n      <td>2</td>\n      <td>POINT (30.2485214045 59.9292365030)</td>\n      <td>1</td>\n    </tr>\n    <tr>\n      <th>3</th>\n      <td>3</td>\n      <td>POINT (30.2485214045 59.9708463091)</td>\n      <td>1</td>\n    </tr>\n    <tr>\n      <th>4</th>\n      <td>4</td>\n      <td>POINT (30.2485214045 60.0236267278)</td>\n      <td>1</td>\n    </tr>\n  </tbody>\n</table>\n</div>"
     },
     "execution_count": 60,
     "metadata": {},
     "output_type": "execute_result"
    }
   ],
   "source": [
    "all_locations.head()"
   ],
   "metadata": {
    "collapsed": false
   }
  },
  {
   "cell_type": "code",
   "execution_count": 77,
   "outputs": [],
   "source": [
    "all_locations.to_csv(\"./data/all_locations.csv\", index=None)"
   ],
   "metadata": {
    "collapsed": false
   }
  },
  {
   "cell_type": "code",
   "execution_count": 67,
   "outputs": [],
   "source": [
    "all_locations[\"point\"] = all_locations[\"point\"].astype(int)"
   ],
   "metadata": {
    "collapsed": false
   }
  },
  {
   "cell_type": "code",
   "execution_count": 68,
   "outputs": [
    {
     "name": "stdout",
     "output_type": "stream",
     "text": [
      "Number of locations 7041 - Number of spb locations 6796\n"
     ]
    }
   ],
   "source": [
    "print(f\"Number of locations {len(all_locations)} - Number of spb locations {all_locations.in_spb.sum()}\")"
   ],
   "metadata": {
    "collapsed": false
   }
  },
  {
   "cell_type": "code",
   "execution_count": 69,
   "outputs": [
    {
     "name": "stdout",
     "output_type": "stream",
     "text": [
      "Memory usage 520.42 MB -> 415.01 MB (-20.3%)\n"
     ]
    }
   ],
   "source": [
    "train_df = optimize_memory(train_df.merge(\n",
    "    all_locations[[\"point\", \"in_spb\"]], how=\"left\", left_on=\"point\", right_on=\"point\"\n",
    "))"
   ],
   "metadata": {
    "collapsed": false
   }
  },
  {
   "cell_type": "code",
   "execution_count": 70,
   "outputs": [
    {
     "data": {
      "text/plain": "timestamp        0\nlon              0\nlat              0\nlikescount       0\ncommentscount    0\nsymbols_cnt      0\nwords_cnt        0\nhashtags_cnt     0\nmentions_cnt     0\nlinks_cnt        0\nemoji_cnt        0\npoint            0\npoly_center      0\nin_spb           0\ndtype: int64"
     },
     "execution_count": 70,
     "metadata": {},
     "output_type": "execute_result"
    }
   ],
   "source": [
    "train_df.isnull().sum()"
   ],
   "metadata": {
    "collapsed": false
   }
  },
  {
   "cell_type": "code",
   "execution_count": 71,
   "outputs": [
    {
     "data": {
      "text/plain": "(8526526, 14)"
     },
     "execution_count": 71,
     "metadata": {},
     "output_type": "execute_result"
    }
   ],
   "source": [
    "train_df.shape"
   ],
   "metadata": {
    "collapsed": false
   }
  },
  {
   "cell_type": "code",
   "execution_count": 72,
   "outputs": [],
   "source": [
    "train_df = train_df[train_df[\"in_spb\"] == 1]"
   ],
   "metadata": {
    "collapsed": false
   }
  },
  {
   "cell_type": "code",
   "execution_count": 73,
   "outputs": [
    {
     "data": {
      "text/plain": "(8289018, 14)"
     },
     "execution_count": 73,
     "metadata": {},
     "output_type": "execute_result"
    }
   ],
   "source": [
    "train_df.shape"
   ],
   "metadata": {
    "collapsed": false
   }
  },
  {
   "cell_type": "code",
   "execution_count": 74,
   "outputs": [
    {
     "data": {
      "text/plain": "    timestamp        lon        lat  likescount  commentscount  symbols_cnt  \\\n0  1565607600  30.329370  59.940488          63              4           52   \n1  1565568000  30.342845  59.869542          44              0           40   \n2  1565568000  30.322632  60.039332          30              0           77   \n3  1565568000  30.322632  59.938238          13              0          634   \n4  1565568000  30.309158  59.932612           8              0            0   \n\n   words_cnt  hashtags_cnt  mentions_cnt  links_cnt  emoji_cnt  point  \\\n0          6             0             0          0          0   6037   \n1          0             4             0          0          0   2362   \n2          7             0             0          0          1   4343   \n3         17            32             0          0          7   4354   \n4          0             0             0          0          0   1027   \n\n                           poly_center  in_spb  \n0  POINT (30.3293697801 59.9404875478)       1  \n1  POINT (30.3428445093 59.8695422185)       1  \n2  POINT (30.3226324155 60.0393322825)       1  \n3  POINT (30.3226324155 59.9382376441)       1  \n4  POINT (30.3091576862 59.9326122172)       1  ",
      "text/html": "<div>\n<style scoped>\n    .dataframe tbody tr th:only-of-type {\n        vertical-align: middle;\n    }\n\n    .dataframe tbody tr th {\n        vertical-align: top;\n    }\n\n    .dataframe thead th {\n        text-align: right;\n    }\n</style>\n<table border=\"1\" class=\"dataframe\">\n  <thead>\n    <tr style=\"text-align: right;\">\n      <th></th>\n      <th>timestamp</th>\n      <th>lon</th>\n      <th>lat</th>\n      <th>likescount</th>\n      <th>commentscount</th>\n      <th>symbols_cnt</th>\n      <th>words_cnt</th>\n      <th>hashtags_cnt</th>\n      <th>mentions_cnt</th>\n      <th>links_cnt</th>\n      <th>emoji_cnt</th>\n      <th>point</th>\n      <th>poly_center</th>\n      <th>in_spb</th>\n    </tr>\n  </thead>\n  <tbody>\n    <tr>\n      <th>0</th>\n      <td>1565607600</td>\n      <td>30.329370</td>\n      <td>59.940488</td>\n      <td>63</td>\n      <td>4</td>\n      <td>52</td>\n      <td>6</td>\n      <td>0</td>\n      <td>0</td>\n      <td>0</td>\n      <td>0</td>\n      <td>6037</td>\n      <td>POINT (30.3293697801 59.9404875478)</td>\n      <td>1</td>\n    </tr>\n    <tr>\n      <th>1</th>\n      <td>1565568000</td>\n      <td>30.342845</td>\n      <td>59.869542</td>\n      <td>44</td>\n      <td>0</td>\n      <td>40</td>\n      <td>0</td>\n      <td>4</td>\n      <td>0</td>\n      <td>0</td>\n      <td>0</td>\n      <td>2362</td>\n      <td>POINT (30.3428445093 59.8695422185)</td>\n      <td>1</td>\n    </tr>\n    <tr>\n      <th>2</th>\n      <td>1565568000</td>\n      <td>30.322632</td>\n      <td>60.039332</td>\n      <td>30</td>\n      <td>0</td>\n      <td>77</td>\n      <td>7</td>\n      <td>0</td>\n      <td>0</td>\n      <td>0</td>\n      <td>1</td>\n      <td>4343</td>\n      <td>POINT (30.3226324155 60.0393322825)</td>\n      <td>1</td>\n    </tr>\n    <tr>\n      <th>3</th>\n      <td>1565568000</td>\n      <td>30.322632</td>\n      <td>59.938238</td>\n      <td>13</td>\n      <td>0</td>\n      <td>634</td>\n      <td>17</td>\n      <td>32</td>\n      <td>0</td>\n      <td>0</td>\n      <td>7</td>\n      <td>4354</td>\n      <td>POINT (30.3226324155 59.9382376441)</td>\n      <td>1</td>\n    </tr>\n    <tr>\n      <th>4</th>\n      <td>1565568000</td>\n      <td>30.309158</td>\n      <td>59.932612</td>\n      <td>8</td>\n      <td>0</td>\n      <td>0</td>\n      <td>0</td>\n      <td>0</td>\n      <td>0</td>\n      <td>0</td>\n      <td>0</td>\n      <td>1027</td>\n      <td>POINT (30.3091576862 59.9326122172)</td>\n      <td>1</td>\n    </tr>\n  </tbody>\n</table>\n</div>"
     },
     "execution_count": 74,
     "metadata": {},
     "output_type": "execute_result"
    }
   ],
   "source": [
    "train_df.head()"
   ],
   "metadata": {
    "collapsed": false
   }
  },
  {
   "cell_type": "code",
   "execution_count": 78,
   "outputs": [],
   "source": [
    "train_df.drop(columns=[\"poly_center\"], inplace=True)"
   ],
   "metadata": {
    "collapsed": false
   }
  },
  {
   "cell_type": "code",
   "execution_count": 79,
   "outputs": [],
   "source": [
    "train_df.to_csv(\"./data/wip_train.csv\", index=None)"
   ],
   "metadata": {
    "collapsed": false
   }
  },
  {
   "cell_type": "markdown",
   "source": [
    "# Group by main-features and decrease size of dataset"
   ],
   "metadata": {
    "collapsed": false
   }
  },
  {
   "cell_type": "code",
   "execution_count": 80,
   "outputs": [
    {
     "name": "stdout",
     "output_type": "stream",
     "text": [
      "Memory usage 822.12 MB -> 324.11 MB (-60.6%)\n"
     ]
    }
   ],
   "source": [
    "train_df = optimize_memory(pd.read_csv(\"./data/wip_train.csv\"))"
   ],
   "metadata": {
    "collapsed": false
   }
  },
  {
   "cell_type": "code",
   "execution_count": 81,
   "outputs": [],
   "source": [
    "feature_columns = [\n",
    "    \"likescount\",\n",
    "    \"commentscount\",\n",
    "    \"symbols_cnt\",\n",
    "    \"words_cnt\",\n",
    "    \"hashtags_cnt\",\n",
    "    \"mentions_cnt\",\n",
    "    \"links_cnt\",\n",
    "    \"emoji_cnt\",\n",
    "]\n",
    "feature_aggregate_methods = [np.mean, np.std]"
   ],
   "metadata": {
    "collapsed": false
   }
  },
  {
   "cell_type": "code",
   "execution_count": 82,
   "outputs": [
    {
     "name": "stdout",
     "output_type": "stream",
     "text": [
      "Memory usage 453.68 MB -> 453.68 MB (-0.0%)\n"
     ]
    },
    {
     "data": {
      "text/plain": "   point   timestamp likescount      commentscount      symbols_cnt       \\\n                           mean  std          mean  std        mean  std   \n0      1  1574420400       31.0  0.0           3.0  0.0       270.0  0.0   \n1      1  1574424000       37.0  0.0           4.0  0.0       358.0  0.0   \n2      1  1574514000       34.0  0.0           0.0  0.0       119.0  0.0   \n3      1  1574697600       45.0  0.0           2.0  0.0       244.0  0.0   \n4      1  1574848800       42.0  0.0           2.0  0.0       242.0  0.0   \n..   ...         ...        ...  ...           ...  ...         ...  ...   \n95     3  1567846800        6.0  0.0           0.0  0.0       304.0  0.0   \n96     3  1567868400       43.0  0.0           4.0  0.0        21.0  0.0   \n97     3  1567875600       60.0  0.0           9.0  0.0       188.0  0.0   \n98     3  1567922400       56.0  0.0           8.0  0.0      1904.0  0.0   \n99     3  1567944000        7.0  0.0           0.0  0.0        43.0  0.0   \n\n   words_cnt      hashtags_cnt      mentions_cnt      links_cnt       \\\n        mean  std         mean  std         mean  std      mean  std   \n0       24.0  0.0          5.0  0.0          1.0  0.0       0.0  0.0   \n1       31.0  0.0          4.0  0.0          0.0  0.0       0.0  0.0   \n2        7.0  0.0          4.0  0.0          0.0  0.0       0.0  0.0   \n3       16.0  0.0          4.0  0.0          1.0  0.0       0.0  0.0   \n4       18.0  0.0          4.0  0.0          0.0  0.0       0.0  0.0   \n..       ...  ...          ...  ...          ...  ...       ...  ...   \n95       0.0  0.0         28.0  0.0          0.0  0.0       0.0  0.0   \n96       0.0  0.0          2.0  0.0          0.0  0.0       0.0  0.0   \n97      12.0  0.0          5.0  0.0          0.0  0.0       0.0  0.0   \n98     188.0  0.0          0.0  0.0          0.0  0.0       0.0  0.0   \n99       3.0  0.0          0.0  0.0          0.0  0.0       0.0  0.0   \n\n   emoji_cnt       \n        mean  std  \n0        0.0  0.0  \n1        1.0  0.0  \n2        0.0  0.0  \n3        0.0  0.0  \n4        1.0  0.0  \n..       ...  ...  \n95       0.0  0.0  \n96       0.0  0.0  \n97       6.0  0.0  \n98      10.0  0.0  \n99       0.0  0.0  \n\n[100 rows x 18 columns]",
      "text/html": "<div>\n<style scoped>\n    .dataframe tbody tr th:only-of-type {\n        vertical-align: middle;\n    }\n\n    .dataframe tbody tr th {\n        vertical-align: top;\n    }\n\n    .dataframe thead tr th {\n        text-align: left;\n    }\n</style>\n<table border=\"1\" class=\"dataframe\">\n  <thead>\n    <tr>\n      <th></th>\n      <th>point</th>\n      <th>timestamp</th>\n      <th colspan=\"2\" halign=\"left\">likescount</th>\n      <th colspan=\"2\" halign=\"left\">commentscount</th>\n      <th colspan=\"2\" halign=\"left\">symbols_cnt</th>\n      <th colspan=\"2\" halign=\"left\">words_cnt</th>\n      <th colspan=\"2\" halign=\"left\">hashtags_cnt</th>\n      <th colspan=\"2\" halign=\"left\">mentions_cnt</th>\n      <th colspan=\"2\" halign=\"left\">links_cnt</th>\n      <th colspan=\"2\" halign=\"left\">emoji_cnt</th>\n    </tr>\n    <tr>\n      <th></th>\n      <th></th>\n      <th></th>\n      <th>mean</th>\n      <th>std</th>\n      <th>mean</th>\n      <th>std</th>\n      <th>mean</th>\n      <th>std</th>\n      <th>mean</th>\n      <th>std</th>\n      <th>mean</th>\n      <th>std</th>\n      <th>mean</th>\n      <th>std</th>\n      <th>mean</th>\n      <th>std</th>\n      <th>mean</th>\n      <th>std</th>\n    </tr>\n  </thead>\n  <tbody>\n    <tr>\n      <th>0</th>\n      <td>1</td>\n      <td>1574420400</td>\n      <td>31.0</td>\n      <td>0.0</td>\n      <td>3.0</td>\n      <td>0.0</td>\n      <td>270.0</td>\n      <td>0.0</td>\n      <td>24.0</td>\n      <td>0.0</td>\n      <td>5.0</td>\n      <td>0.0</td>\n      <td>1.0</td>\n      <td>0.0</td>\n      <td>0.0</td>\n      <td>0.0</td>\n      <td>0.0</td>\n      <td>0.0</td>\n    </tr>\n    <tr>\n      <th>1</th>\n      <td>1</td>\n      <td>1574424000</td>\n      <td>37.0</td>\n      <td>0.0</td>\n      <td>4.0</td>\n      <td>0.0</td>\n      <td>358.0</td>\n      <td>0.0</td>\n      <td>31.0</td>\n      <td>0.0</td>\n      <td>4.0</td>\n      <td>0.0</td>\n      <td>0.0</td>\n      <td>0.0</td>\n      <td>0.0</td>\n      <td>0.0</td>\n      <td>1.0</td>\n      <td>0.0</td>\n    </tr>\n    <tr>\n      <th>2</th>\n      <td>1</td>\n      <td>1574514000</td>\n      <td>34.0</td>\n      <td>0.0</td>\n      <td>0.0</td>\n      <td>0.0</td>\n      <td>119.0</td>\n      <td>0.0</td>\n      <td>7.0</td>\n      <td>0.0</td>\n      <td>4.0</td>\n      <td>0.0</td>\n      <td>0.0</td>\n      <td>0.0</td>\n      <td>0.0</td>\n      <td>0.0</td>\n      <td>0.0</td>\n      <td>0.0</td>\n    </tr>\n    <tr>\n      <th>3</th>\n      <td>1</td>\n      <td>1574697600</td>\n      <td>45.0</td>\n      <td>0.0</td>\n      <td>2.0</td>\n      <td>0.0</td>\n      <td>244.0</td>\n      <td>0.0</td>\n      <td>16.0</td>\n      <td>0.0</td>\n      <td>4.0</td>\n      <td>0.0</td>\n      <td>1.0</td>\n      <td>0.0</td>\n      <td>0.0</td>\n      <td>0.0</td>\n      <td>0.0</td>\n      <td>0.0</td>\n    </tr>\n    <tr>\n      <th>4</th>\n      <td>1</td>\n      <td>1574848800</td>\n      <td>42.0</td>\n      <td>0.0</td>\n      <td>2.0</td>\n      <td>0.0</td>\n      <td>242.0</td>\n      <td>0.0</td>\n      <td>18.0</td>\n      <td>0.0</td>\n      <td>4.0</td>\n      <td>0.0</td>\n      <td>0.0</td>\n      <td>0.0</td>\n      <td>0.0</td>\n      <td>0.0</td>\n      <td>1.0</td>\n      <td>0.0</td>\n    </tr>\n    <tr>\n      <th>...</th>\n      <td>...</td>\n      <td>...</td>\n      <td>...</td>\n      <td>...</td>\n      <td>...</td>\n      <td>...</td>\n      <td>...</td>\n      <td>...</td>\n      <td>...</td>\n      <td>...</td>\n      <td>...</td>\n      <td>...</td>\n      <td>...</td>\n      <td>...</td>\n      <td>...</td>\n      <td>...</td>\n      <td>...</td>\n      <td>...</td>\n    </tr>\n    <tr>\n      <th>95</th>\n      <td>3</td>\n      <td>1567846800</td>\n      <td>6.0</td>\n      <td>0.0</td>\n      <td>0.0</td>\n      <td>0.0</td>\n      <td>304.0</td>\n      <td>0.0</td>\n      <td>0.0</td>\n      <td>0.0</td>\n      <td>28.0</td>\n      <td>0.0</td>\n      <td>0.0</td>\n      <td>0.0</td>\n      <td>0.0</td>\n      <td>0.0</td>\n      <td>0.0</td>\n      <td>0.0</td>\n    </tr>\n    <tr>\n      <th>96</th>\n      <td>3</td>\n      <td>1567868400</td>\n      <td>43.0</td>\n      <td>0.0</td>\n      <td>4.0</td>\n      <td>0.0</td>\n      <td>21.0</td>\n      <td>0.0</td>\n      <td>0.0</td>\n      <td>0.0</td>\n      <td>2.0</td>\n      <td>0.0</td>\n      <td>0.0</td>\n      <td>0.0</td>\n      <td>0.0</td>\n      <td>0.0</td>\n      <td>0.0</td>\n      <td>0.0</td>\n    </tr>\n    <tr>\n      <th>97</th>\n      <td>3</td>\n      <td>1567875600</td>\n      <td>60.0</td>\n      <td>0.0</td>\n      <td>9.0</td>\n      <td>0.0</td>\n      <td>188.0</td>\n      <td>0.0</td>\n      <td>12.0</td>\n      <td>0.0</td>\n      <td>5.0</td>\n      <td>0.0</td>\n      <td>0.0</td>\n      <td>0.0</td>\n      <td>0.0</td>\n      <td>0.0</td>\n      <td>6.0</td>\n      <td>0.0</td>\n    </tr>\n    <tr>\n      <th>98</th>\n      <td>3</td>\n      <td>1567922400</td>\n      <td>56.0</td>\n      <td>0.0</td>\n      <td>8.0</td>\n      <td>0.0</td>\n      <td>1904.0</td>\n      <td>0.0</td>\n      <td>188.0</td>\n      <td>0.0</td>\n      <td>0.0</td>\n      <td>0.0</td>\n      <td>0.0</td>\n      <td>0.0</td>\n      <td>0.0</td>\n      <td>0.0</td>\n      <td>10.0</td>\n      <td>0.0</td>\n    </tr>\n    <tr>\n      <th>99</th>\n      <td>3</td>\n      <td>1567944000</td>\n      <td>7.0</td>\n      <td>0.0</td>\n      <td>0.0</td>\n      <td>0.0</td>\n      <td>43.0</td>\n      <td>0.0</td>\n      <td>3.0</td>\n      <td>0.0</td>\n      <td>0.0</td>\n      <td>0.0</td>\n      <td>0.0</td>\n      <td>0.0</td>\n      <td>0.0</td>\n      <td>0.0</td>\n      <td>0.0</td>\n      <td>0.0</td>\n    </tr>\n  </tbody>\n</table>\n<p>100 rows × 18 columns</p>\n</div>"
     },
     "execution_count": 82,
     "metadata": {},
     "output_type": "execute_result"
    }
   ],
   "source": [
    "simple_posts_features_df = optimize_memory(\n",
    "    train_df.groupby([\"point\", \"timestamp\"], as_index=False).aggregate(\n",
    "        { feature: feature_aggregate_methods for feature in feature_columns }\n",
    "    )\n",
    ")\n",
    "simple_posts_features_df.fillna(0, inplace=True)\n",
    "simple_posts_features_df.head(100)"
   ],
   "metadata": {
    "collapsed": false
   }
  },
  {
   "cell_type": "code",
   "execution_count": 86,
   "outputs": [],
   "source": [
    "simple_posts_features_df.to_csv(\"./data/simple_features.csv\", index=None)"
   ],
   "metadata": {
    "collapsed": false
   }
  },
  {
   "cell_type": "markdown",
   "source": [
    "# Add target values"
   ],
   "metadata": {
    "collapsed": false
   }
  },
  {
   "cell_type": "code",
   "execution_count": 83,
   "outputs": [
    {
     "data": {
      "text/plain": "    timestamp        lon        lat  likescount  commentscount  symbols_cnt  \\\n0  1565607600  30.329370  59.940488          63              4           52   \n1  1565568000  30.342845  59.869542          44              0           40   \n2  1565568000  30.322632  60.039332          30              0           77   \n3  1565568000  30.322632  59.938238          13              0          634   \n4  1565568000  30.309158  59.932612           8              0            0   \n\n   words_cnt  hashtags_cnt  mentions_cnt  links_cnt  emoji_cnt  point  in_spb  \n0          6             0             0          0          0   6037       1  \n1          0             4             0          0          0   2362       1  \n2          7             0             0          0          1   4343       1  \n3         17            32             0          0          7   4354       1  \n4          0             0             0          0          0   1027       1  ",
      "text/html": "<div>\n<style scoped>\n    .dataframe tbody tr th:only-of-type {\n        vertical-align: middle;\n    }\n\n    .dataframe tbody tr th {\n        vertical-align: top;\n    }\n\n    .dataframe thead th {\n        text-align: right;\n    }\n</style>\n<table border=\"1\" class=\"dataframe\">\n  <thead>\n    <tr style=\"text-align: right;\">\n      <th></th>\n      <th>timestamp</th>\n      <th>lon</th>\n      <th>lat</th>\n      <th>likescount</th>\n      <th>commentscount</th>\n      <th>symbols_cnt</th>\n      <th>words_cnt</th>\n      <th>hashtags_cnt</th>\n      <th>mentions_cnt</th>\n      <th>links_cnt</th>\n      <th>emoji_cnt</th>\n      <th>point</th>\n      <th>in_spb</th>\n    </tr>\n  </thead>\n  <tbody>\n    <tr>\n      <th>0</th>\n      <td>1565607600</td>\n      <td>30.329370</td>\n      <td>59.940488</td>\n      <td>63</td>\n      <td>4</td>\n      <td>52</td>\n      <td>6</td>\n      <td>0</td>\n      <td>0</td>\n      <td>0</td>\n      <td>0</td>\n      <td>6037</td>\n      <td>1</td>\n    </tr>\n    <tr>\n      <th>1</th>\n      <td>1565568000</td>\n      <td>30.342845</td>\n      <td>59.869542</td>\n      <td>44</td>\n      <td>0</td>\n      <td>40</td>\n      <td>0</td>\n      <td>4</td>\n      <td>0</td>\n      <td>0</td>\n      <td>0</td>\n      <td>2362</td>\n      <td>1</td>\n    </tr>\n    <tr>\n      <th>2</th>\n      <td>1565568000</td>\n      <td>30.322632</td>\n      <td>60.039332</td>\n      <td>30</td>\n      <td>0</td>\n      <td>77</td>\n      <td>7</td>\n      <td>0</td>\n      <td>0</td>\n      <td>0</td>\n      <td>1</td>\n      <td>4343</td>\n      <td>1</td>\n    </tr>\n    <tr>\n      <th>3</th>\n      <td>1565568000</td>\n      <td>30.322632</td>\n      <td>59.938238</td>\n      <td>13</td>\n      <td>0</td>\n      <td>634</td>\n      <td>17</td>\n      <td>32</td>\n      <td>0</td>\n      <td>0</td>\n      <td>7</td>\n      <td>4354</td>\n      <td>1</td>\n    </tr>\n    <tr>\n      <th>4</th>\n      <td>1565568000</td>\n      <td>30.309158</td>\n      <td>59.932612</td>\n      <td>8</td>\n      <td>0</td>\n      <td>0</td>\n      <td>0</td>\n      <td>0</td>\n      <td>0</td>\n      <td>0</td>\n      <td>0</td>\n      <td>1027</td>\n      <td>1</td>\n    </tr>\n  </tbody>\n</table>\n</div>"
     },
     "execution_count": 83,
     "metadata": {},
     "output_type": "execute_result"
    }
   ],
   "source": [
    "train_df.head()"
   ],
   "metadata": {
    "collapsed": false
   }
  },
  {
   "cell_type": "code",
   "execution_count": 84,
   "outputs": [
    {
     "name": "stdout",
     "output_type": "stream",
     "text": [
      "Memory usage 47.40 MB -> 27.09 MB (-42.9%)\n"
     ]
    }
   ],
   "source": [
    "train_df[\"count\"] = 1\n",
    "posts_count_df = optimize_memory(\n",
    "    train_df[[\"point\", \"timestamp\", \"count\"]].groupby([\"point\", \"timestamp\"], as_index=False).count()\n",
    ")"
   ],
   "metadata": {
    "collapsed": false
   }
  },
  {
   "cell_type": "code",
   "execution_count": 85,
   "outputs": [
    {
     "data": {
      "text/plain": "    point   timestamp  count\n0       1  1574420400      1\n1       1  1574424000      1\n2       1  1574514000      1\n3       1  1574697600      1\n4       1  1574848800      1\n..    ...         ...    ...\n95      3  1567846800      1\n96      3  1567868400      1\n97      3  1567875600      1\n98      3  1567922400      1\n99      3  1567944000      1\n\n[100 rows x 3 columns]",
      "text/html": "<div>\n<style scoped>\n    .dataframe tbody tr th:only-of-type {\n        vertical-align: middle;\n    }\n\n    .dataframe tbody tr th {\n        vertical-align: top;\n    }\n\n    .dataframe thead th {\n        text-align: right;\n    }\n</style>\n<table border=\"1\" class=\"dataframe\">\n  <thead>\n    <tr style=\"text-align: right;\">\n      <th></th>\n      <th>point</th>\n      <th>timestamp</th>\n      <th>count</th>\n    </tr>\n  </thead>\n  <tbody>\n    <tr>\n      <th>0</th>\n      <td>1</td>\n      <td>1574420400</td>\n      <td>1</td>\n    </tr>\n    <tr>\n      <th>1</th>\n      <td>1</td>\n      <td>1574424000</td>\n      <td>1</td>\n    </tr>\n    <tr>\n      <th>2</th>\n      <td>1</td>\n      <td>1574514000</td>\n      <td>1</td>\n    </tr>\n    <tr>\n      <th>3</th>\n      <td>1</td>\n      <td>1574697600</td>\n      <td>1</td>\n    </tr>\n    <tr>\n      <th>4</th>\n      <td>1</td>\n      <td>1574848800</td>\n      <td>1</td>\n    </tr>\n    <tr>\n      <th>...</th>\n      <td>...</td>\n      <td>...</td>\n      <td>...</td>\n    </tr>\n    <tr>\n      <th>95</th>\n      <td>3</td>\n      <td>1567846800</td>\n      <td>1</td>\n    </tr>\n    <tr>\n      <th>96</th>\n      <td>3</td>\n      <td>1567868400</td>\n      <td>1</td>\n    </tr>\n    <tr>\n      <th>97</th>\n      <td>3</td>\n      <td>1567875600</td>\n      <td>1</td>\n    </tr>\n    <tr>\n      <th>98</th>\n      <td>3</td>\n      <td>1567922400</td>\n      <td>1</td>\n    </tr>\n    <tr>\n      <th>99</th>\n      <td>3</td>\n      <td>1567944000</td>\n      <td>1</td>\n    </tr>\n  </tbody>\n</table>\n<p>100 rows × 3 columns</p>\n</div>"
     },
     "execution_count": 85,
     "metadata": {},
     "output_type": "execute_result"
    }
   ],
   "source": [
    "posts_count_df.head(100)"
   ],
   "metadata": {
    "collapsed": false
   }
  },
  {
   "cell_type": "code",
   "execution_count": 87,
   "outputs": [],
   "source": [
    "posts_count_df.to_csv(\"./data/target.csv\", index=None)"
   ],
   "metadata": {
    "collapsed": false
   }
  },
  {
   "cell_type": "markdown",
   "source": [
    "# Create composed features dataset"
   ],
   "metadata": {
    "collapsed": false
   }
  },
  {
   "cell_type": "code",
   "execution_count": null,
   "outputs": [],
   "source": [],
   "metadata": {
    "collapsed": false
   }
  },
  {
   "cell_type": "code",
   "execution_count": null,
   "outputs": [],
   "source": [],
   "metadata": {
    "collapsed": false
   }
  },
  {
   "cell_type": "code",
   "execution_count": null,
   "outputs": [],
   "source": [],
   "metadata": {
    "collapsed": false
   }
  },
  {
   "cell_type": "code",
   "execution_count": null,
   "outputs": [],
   "source": [],
   "metadata": {
    "collapsed": false
   }
  },
  {
   "cell_type": "code",
   "execution_count": null,
   "outputs": [],
   "source": [],
   "metadata": {
    "collapsed": false
   }
  },
  {
   "cell_type": "code",
   "execution_count": null,
   "outputs": [],
   "source": [],
   "metadata": {
    "collapsed": false
   }
  },
  {
   "cell_type": "code",
   "execution_count": null,
   "outputs": [],
   "source": [],
   "metadata": {
    "collapsed": false
   }
  },
  {
   "cell_type": "code",
   "execution_count": null,
   "outputs": [],
   "source": [],
   "metadata": {
    "collapsed": false
   }
  },
  {
   "cell_type": "code",
   "execution_count": null,
   "outputs": [],
   "source": [],
   "metadata": {
    "collapsed": false
   }
  },
  {
   "cell_type": "code",
   "execution_count": null,
   "outputs": [],
   "source": [
    "# Cell's below don't work!"
   ],
   "metadata": {
    "collapsed": false
   }
  },
  {
   "cell_type": "code",
   "execution_count": 8,
   "outputs": [],
   "source": [
    "size = 0.25 # wild guess\n",
    "spb_lon, spb_lat = 30.3141, 59.9386 # Spb coords\n",
    "df = df_initial[(df_initial[\"lon\"] <= spb_lon + size / 2.0) & (df_initial[\"lon\"] >= spb_lon - size / 2.0) &\n",
    "                (df_initial[\"lat\"] <= spb_lat + size / 2.0) & (df_initial[\"lat\"] >= spb_lat - size / 2.0)]"
   ],
   "metadata": {
    "collapsed": false
   }
  },
  {
   "cell_type": "code",
   "execution_count": 9,
   "outputs": [
    {
     "name": "stderr",
     "output_type": "stream",
     "text": [
      "/tmp/ipykernel_5521/1201879296.py:1: SettingWithCopyWarning: \n",
      "A value is trying to be set on a copy of a slice from a DataFrame.\n",
      "Try using .loc[row_indexer,col_indexer] = value instead\n",
      "\n",
      "See the caveats in the documentation: https://pandas.pydata.org/pandas-docs/stable/user_guide/indexing.html#returning-a-view-versus-a-copy\n",
      "  df[\"count\"] = 1\n"
     ]
    }
   ],
   "source": [
    "df[\"count\"] = 1\n",
    "df = df.groupby([\"lon\", \"lat\", \"timestamp\"]).agg({\n",
    "    \"count\": np.sum,\n",
    "    \"likescount\": np.mean,\n",
    "    \"commentscount\": np.mean,\n",
    "    \"symbols_cnt\": np.mean,\n",
    "    \"words_cnt\": np.mean,\n",
    "    \"hashtags_cnt\": np.mean,\n",
    "    \"mentions_cnt\": np.mean,\n",
    "    \"links_cnt\": np.mean,\n",
    "    \"emoji_cnt\": np.mean,\n",
    "}).reset_index()"
   ],
   "metadata": {
    "collapsed": false
   }
  },
  {
   "cell_type": "code",
   "execution_count": 10,
   "outputs": [
    {
     "data": {
      "text/plain": "         lon        lat  timestamp  count  likescount  commentscount  \\\n0  30.190131  59.848116     431127      1        30.0            2.0   \n1  30.190131  59.848116     431422      1         7.0            0.0   \n2  30.190131  59.848116     431491      1        22.0            0.0   \n3  30.190131  59.848116     431955      1        16.0            3.0   \n4  30.190131  59.848116     432821      1        30.0            1.0   \n\n   symbols_cnt  words_cnt  hashtags_cnt  mentions_cnt  links_cnt  emoji_cnt  \n0         36.0        3.0           0.0           0.0        0.0        3.0  \n1        256.0        0.0          12.0           0.0        0.0        0.0  \n2        522.0        0.0          28.0           0.0        0.0        0.0  \n3         60.0        0.0           4.0           0.0        0.0        0.0  \n4        618.0       36.0          30.0           0.0        0.0        0.0  ",
      "text/html": "<div>\n<style scoped>\n    .dataframe tbody tr th:only-of-type {\n        vertical-align: middle;\n    }\n\n    .dataframe tbody tr th {\n        vertical-align: top;\n    }\n\n    .dataframe thead th {\n        text-align: right;\n    }\n</style>\n<table border=\"1\" class=\"dataframe\">\n  <thead>\n    <tr style=\"text-align: right;\">\n      <th></th>\n      <th>lon</th>\n      <th>lat</th>\n      <th>timestamp</th>\n      <th>count</th>\n      <th>likescount</th>\n      <th>commentscount</th>\n      <th>symbols_cnt</th>\n      <th>words_cnt</th>\n      <th>hashtags_cnt</th>\n      <th>mentions_cnt</th>\n      <th>links_cnt</th>\n      <th>emoji_cnt</th>\n    </tr>\n  </thead>\n  <tbody>\n    <tr>\n      <th>0</th>\n      <td>30.190131</td>\n      <td>59.848116</td>\n      <td>431127</td>\n      <td>1</td>\n      <td>30.0</td>\n      <td>2.0</td>\n      <td>36.0</td>\n      <td>3.0</td>\n      <td>0.0</td>\n      <td>0.0</td>\n      <td>0.0</td>\n      <td>3.0</td>\n    </tr>\n    <tr>\n      <th>1</th>\n      <td>30.190131</td>\n      <td>59.848116</td>\n      <td>431422</td>\n      <td>1</td>\n      <td>7.0</td>\n      <td>0.0</td>\n      <td>256.0</td>\n      <td>0.0</td>\n      <td>12.0</td>\n      <td>0.0</td>\n      <td>0.0</td>\n      <td>0.0</td>\n    </tr>\n    <tr>\n      <th>2</th>\n      <td>30.190131</td>\n      <td>59.848116</td>\n      <td>431491</td>\n      <td>1</td>\n      <td>22.0</td>\n      <td>0.0</td>\n      <td>522.0</td>\n      <td>0.0</td>\n      <td>28.0</td>\n      <td>0.0</td>\n      <td>0.0</td>\n      <td>0.0</td>\n    </tr>\n    <tr>\n      <th>3</th>\n      <td>30.190131</td>\n      <td>59.848116</td>\n      <td>431955</td>\n      <td>1</td>\n      <td>16.0</td>\n      <td>3.0</td>\n      <td>60.0</td>\n      <td>0.0</td>\n      <td>4.0</td>\n      <td>0.0</td>\n      <td>0.0</td>\n      <td>0.0</td>\n    </tr>\n    <tr>\n      <th>4</th>\n      <td>30.190131</td>\n      <td>59.848116</td>\n      <td>432821</td>\n      <td>1</td>\n      <td>30.0</td>\n      <td>1.0</td>\n      <td>618.0</td>\n      <td>36.0</td>\n      <td>30.0</td>\n      <td>0.0</td>\n      <td>0.0</td>\n      <td>0.0</td>\n    </tr>\n  </tbody>\n</table>\n</div>"
     },
     "execution_count": 10,
     "metadata": {},
     "output_type": "execute_result"
    }
   ],
   "source": [
    "df.head()"
   ],
   "metadata": {
    "collapsed": false
   }
  },
  {
   "cell_type": "code",
   "execution_count": 11,
   "outputs": [
    {
     "data": {
      "text/plain": "         lon        lat  timestamp  count  likescount  commentscount  \\\n0  30.190131  59.848116     431127      1        30.0            2.0   \n1  30.190131  59.848116     431422      1         7.0            0.0   \n2  30.190131  59.848116     431491      1        22.0            0.0   \n3  30.190131  59.848116     431955      1        16.0            3.0   \n4  30.190131  59.848116     432821      1        30.0            1.0   \n\n   symbols_cnt  words_cnt  hashtags_cnt  mentions_cnt  links_cnt  emoji_cnt  \n0         36.0        3.0           0.0           0.0        0.0        3.0  \n1        256.0        0.0          12.0           0.0        0.0        0.0  \n2        522.0        0.0          28.0           0.0        0.0        0.0  \n3         60.0        0.0           4.0           0.0        0.0        0.0  \n4        618.0       36.0          30.0           0.0        0.0        0.0  ",
      "text/html": "<div>\n<style scoped>\n    .dataframe tbody tr th:only-of-type {\n        vertical-align: middle;\n    }\n\n    .dataframe tbody tr th {\n        vertical-align: top;\n    }\n\n    .dataframe thead th {\n        text-align: right;\n    }\n</style>\n<table border=\"1\" class=\"dataframe\">\n  <thead>\n    <tr style=\"text-align: right;\">\n      <th></th>\n      <th>lon</th>\n      <th>lat</th>\n      <th>timestamp</th>\n      <th>count</th>\n      <th>likescount</th>\n      <th>commentscount</th>\n      <th>symbols_cnt</th>\n      <th>words_cnt</th>\n      <th>hashtags_cnt</th>\n      <th>mentions_cnt</th>\n      <th>links_cnt</th>\n      <th>emoji_cnt</th>\n    </tr>\n  </thead>\n  <tbody>\n    <tr>\n      <th>0</th>\n      <td>30.190131</td>\n      <td>59.848116</td>\n      <td>431127</td>\n      <td>1</td>\n      <td>30.0</td>\n      <td>2.0</td>\n      <td>36.0</td>\n      <td>3.0</td>\n      <td>0.0</td>\n      <td>0.0</td>\n      <td>0.0</td>\n      <td>3.0</td>\n    </tr>\n    <tr>\n      <th>1</th>\n      <td>30.190131</td>\n      <td>59.848116</td>\n      <td>431422</td>\n      <td>1</td>\n      <td>7.0</td>\n      <td>0.0</td>\n      <td>256.0</td>\n      <td>0.0</td>\n      <td>12.0</td>\n      <td>0.0</td>\n      <td>0.0</td>\n      <td>0.0</td>\n    </tr>\n    <tr>\n      <th>2</th>\n      <td>30.190131</td>\n      <td>59.848116</td>\n      <td>431491</td>\n      <td>1</td>\n      <td>22.0</td>\n      <td>0.0</td>\n      <td>522.0</td>\n      <td>0.0</td>\n      <td>28.0</td>\n      <td>0.0</td>\n      <td>0.0</td>\n      <td>0.0</td>\n    </tr>\n    <tr>\n      <th>3</th>\n      <td>30.190131</td>\n      <td>59.848116</td>\n      <td>431955</td>\n      <td>1</td>\n      <td>16.0</td>\n      <td>3.0</td>\n      <td>60.0</td>\n      <td>0.0</td>\n      <td>4.0</td>\n      <td>0.0</td>\n      <td>0.0</td>\n      <td>0.0</td>\n    </tr>\n    <tr>\n      <th>4</th>\n      <td>30.190131</td>\n      <td>59.848116</td>\n      <td>432821</td>\n      <td>1</td>\n      <td>30.0</td>\n      <td>1.0</td>\n      <td>618.0</td>\n      <td>36.0</td>\n      <td>30.0</td>\n      <td>0.0</td>\n      <td>0.0</td>\n      <td>0.0</td>\n    </tr>\n  </tbody>\n</table>\n</div>"
     },
     "execution_count": 11,
     "metadata": {},
     "output_type": "execute_result"
    }
   ],
   "source": [
    "df.head()"
   ],
   "metadata": {
    "collapsed": false
   }
  },
  {
   "cell_type": "code",
   "execution_count": 12,
   "outputs": [],
   "source": [
    "unique_lon = df.lon.unique()\n",
    "unique_lat = df.lat.unique()\n",
    "unique_timestamp = df.timestamp.unique()"
   ],
   "metadata": {
    "collapsed": false
   }
  },
  {
   "cell_type": "code",
   "execution_count": 13,
   "outputs": [
    {
     "data": {
      "text/plain": "(111, 196, 9504)"
     },
     "execution_count": 13,
     "metadata": {},
     "output_type": "execute_result"
    }
   ],
   "source": [
    "len(unique_lon), len(unique_lat), len(unique_timestamp) # from 1 Feb 2019 to 1 Jan 2020 - 356 days * 24 = 9504"
   ],
   "metadata": {
    "collapsed": false
   }
  },
  {
   "cell_type": "code",
   "execution_count": 1,
   "outputs": [
    {
     "ename": "NameError",
     "evalue": "name 'itertools' is not defined",
     "output_type": "error",
     "traceback": [
      "\u001B[0;31m---------------------------------------------------------------------------\u001B[0m",
      "\u001B[0;31mNameError\u001B[0m                                 Traceback (most recent call last)",
      "Cell \u001B[0;32mIn [1], line 1\u001B[0m\n\u001B[0;32m----> 1\u001B[0m cartesian_prod_lon_lat \u001B[38;5;241m=\u001B[39m \u001B[38;5;28mlist\u001B[39m(\u001B[38;5;28mmap\u001B[39m(\u001B[38;5;28mlist\u001B[39m, \u001B[38;5;28mzip\u001B[39m(\u001B[38;5;241m*\u001B[39m\u001B[43mitertools\u001B[49m\u001B[38;5;241m.\u001B[39mproduct(unique_lon, unique_lat, unique_timestamp))))\n",
      "\u001B[0;31mNameError\u001B[0m: name 'itertools' is not defined"
     ]
    }
   ],
   "source": [
    "cartesian_prod_lon_lat = list(map(list, zip(*itertools.product(unique_lon, unique_lat, unique_timestamp))))"
   ],
   "metadata": {
    "collapsed": false
   }
  },
  {
   "cell_type": "code",
   "execution_count": null,
   "outputs": [],
   "source": [
    "df_full = pd.DataFrame({\"lon\": cartesian_prod_lon_lat[0], \"lat\":cartesian_prod_lon_lat[1], \"timestamp\":cartesian_prod_lon_lat[2]})\n",
    "df_full.head()"
   ],
   "metadata": {
    "collapsed": false
   }
  },
  {
   "cell_type": "code",
   "execution_count": null,
   "outputs": [],
   "source": [
    "df_full = pd.merge(df_full, df, on=[\"lon\", \"lat\", \"timestamp\"], how=\"outer\")\n",
    "df_full.head()"
   ],
   "metadata": {
    "collapsed": false
   }
  },
  {
   "cell_type": "code",
   "execution_count": null,
   "outputs": [],
   "source": [
    "df_full.fillna(0, inplace=True)"
   ],
   "metadata": {
    "collapsed": false
   }
  },
  {
   "cell_type": "code",
   "execution_count": null,
   "outputs": [],
   "source": [
    "df_full[df_full.columns[~df_full.columns.isin([\"lon\",\"lat\"])]] = df_full[df_full.columns[~df_full.columns.isin([\"lon\",\"lat\"])]].astype(\"int64\")"
   ],
   "metadata": {
    "collapsed": false
   }
  },
  {
   "cell_type": "code",
   "execution_count": null,
   "outputs": [],
   "source": [
    "df_full[\"hour\"] = df_full.timestamp % 24"
   ],
   "metadata": {
    "collapsed": false
   }
  },
  {
   "cell_type": "code",
   "execution_count": null,
   "outputs": [],
   "source": [
    "df_with_features = pd.get_dummies(df_full, prefix=\"hour\", columns=[\"hour\"])\n",
    "df_with_features.head()"
   ],
   "metadata": {
    "collapsed": false
   }
  },
  {
   "cell_type": "code",
   "execution_count": null,
   "outputs": [],
   "source": [
    "df_with_features.to_csv(\"./data/processed_data.csv\", index=False)"
   ],
   "metadata": {
    "collapsed": false
   }
  },
  {
   "cell_type": "code",
   "execution_count": null,
   "outputs": [],
   "source": [],
   "metadata": {
    "collapsed": false
   }
  }
 ],
 "metadata": {
  "kernelspec": {
   "display_name": "Python 3",
   "language": "python",
   "name": "python3"
  },
  "language_info": {
   "codemirror_mode": {
    "name": "ipython",
    "version": 2
   },
   "file_extension": ".py",
   "mimetype": "text/x-python",
   "name": "python",
   "nbconvert_exporter": "python",
   "pygments_lexer": "ipython2",
   "version": "2.7.6"
  }
 },
 "nbformat": 4,
 "nbformat_minor": 0
}

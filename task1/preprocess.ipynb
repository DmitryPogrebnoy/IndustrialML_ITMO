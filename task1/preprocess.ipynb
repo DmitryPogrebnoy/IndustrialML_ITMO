{
 "cells": [
  {
   "cell_type": "code",
   "execution_count": 39,
   "metadata": {
    "collapsed": true
   },
   "outputs": [],
   "source": [
    "import random\n",
    "\n",
    "import numpy as np\n",
    "import pandas as pd\n",
    "import itertools"
   ]
  },
  {
   "cell_type": "code",
   "execution_count": 40,
   "outputs": [],
   "source": [
    "df_initial = pd.read_csv(\"data/source/train_data.csv\")"
   ],
   "metadata": {
    "collapsed": false
   }
  },
  {
   "cell_type": "code",
   "execution_count": 41,
   "outputs": [
    {
     "data": {
      "text/plain": "    timestamp        lon        lat  likescount  commentscount  symbols_cnt  \\\n0  1565607600  30.329370  59.940488          63              4           52   \n1  1565568000  30.342845  59.869542          44              0           40   \n2  1565568000  30.322632  60.039332          30              0           77   \n3  1565568000  30.322632  59.938238          13              0          634   \n4  1565568000  30.309158  59.932612           8              0            0   \n\n   words_cnt  hashtags_cnt  mentions_cnt  links_cnt  emoji_cnt  \n0          6             0             0          0          0  \n1          0             4             0          0          0  \n2          7             0             0          0          1  \n3         17            32             0          0          7  \n4          0             0             0          0          0  ",
      "text/html": "<div>\n<style scoped>\n    .dataframe tbody tr th:only-of-type {\n        vertical-align: middle;\n    }\n\n    .dataframe tbody tr th {\n        vertical-align: top;\n    }\n\n    .dataframe thead th {\n        text-align: right;\n    }\n</style>\n<table border=\"1\" class=\"dataframe\">\n  <thead>\n    <tr style=\"text-align: right;\">\n      <th></th>\n      <th>timestamp</th>\n      <th>lon</th>\n      <th>lat</th>\n      <th>likescount</th>\n      <th>commentscount</th>\n      <th>symbols_cnt</th>\n      <th>words_cnt</th>\n      <th>hashtags_cnt</th>\n      <th>mentions_cnt</th>\n      <th>links_cnt</th>\n      <th>emoji_cnt</th>\n    </tr>\n  </thead>\n  <tbody>\n    <tr>\n      <th>0</th>\n      <td>1565607600</td>\n      <td>30.329370</td>\n      <td>59.940488</td>\n      <td>63</td>\n      <td>4</td>\n      <td>52</td>\n      <td>6</td>\n      <td>0</td>\n      <td>0</td>\n      <td>0</td>\n      <td>0</td>\n    </tr>\n    <tr>\n      <th>1</th>\n      <td>1565568000</td>\n      <td>30.342845</td>\n      <td>59.869542</td>\n      <td>44</td>\n      <td>0</td>\n      <td>40</td>\n      <td>0</td>\n      <td>4</td>\n      <td>0</td>\n      <td>0</td>\n      <td>0</td>\n    </tr>\n    <tr>\n      <th>2</th>\n      <td>1565568000</td>\n      <td>30.322632</td>\n      <td>60.039332</td>\n      <td>30</td>\n      <td>0</td>\n      <td>77</td>\n      <td>7</td>\n      <td>0</td>\n      <td>0</td>\n      <td>0</td>\n      <td>1</td>\n    </tr>\n    <tr>\n      <th>3</th>\n      <td>1565568000</td>\n      <td>30.322632</td>\n      <td>59.938238</td>\n      <td>13</td>\n      <td>0</td>\n      <td>634</td>\n      <td>17</td>\n      <td>32</td>\n      <td>0</td>\n      <td>0</td>\n      <td>7</td>\n    </tr>\n    <tr>\n      <th>4</th>\n      <td>1565568000</td>\n      <td>30.309158</td>\n      <td>59.932612</td>\n      <td>8</td>\n      <td>0</td>\n      <td>0</td>\n      <td>0</td>\n      <td>0</td>\n      <td>0</td>\n      <td>0</td>\n      <td>0</td>\n    </tr>\n  </tbody>\n</table>\n</div>"
     },
     "execution_count": 41,
     "metadata": {},
     "output_type": "execute_result"
    }
   ],
   "source": [
    "df_initial.head()"
   ],
   "metadata": {
    "collapsed": false
   }
  },
  {
   "cell_type": "code",
   "execution_count": 42,
   "outputs": [],
   "source": [
    "# translate time to hours\n",
    "df_initial[\"timestamp\"] /= 60 * 60\n",
    "df_initial[\"timestamp\"] = df_initial[\"timestamp\"].apply(int)"
   ],
   "metadata": {
    "collapsed": false
   }
  },
  {
   "cell_type": "code",
   "execution_count": 43,
   "outputs": [
    {
     "data": {
      "text/plain": "   timestamp        lon        lat  likescount  commentscount  symbols_cnt  \\\n0     434891  30.329370  59.940488          63              4           52   \n1     434880  30.342845  59.869542          44              0           40   \n2     434880  30.322632  60.039332          30              0           77   \n3     434880  30.322632  59.938238          13              0          634   \n4     434880  30.309158  59.932612           8              0            0   \n\n   words_cnt  hashtags_cnt  mentions_cnt  links_cnt  emoji_cnt  \n0          6             0             0          0          0  \n1          0             4             0          0          0  \n2          7             0             0          0          1  \n3         17            32             0          0          7  \n4          0             0             0          0          0  ",
      "text/html": "<div>\n<style scoped>\n    .dataframe tbody tr th:only-of-type {\n        vertical-align: middle;\n    }\n\n    .dataframe tbody tr th {\n        vertical-align: top;\n    }\n\n    .dataframe thead th {\n        text-align: right;\n    }\n</style>\n<table border=\"1\" class=\"dataframe\">\n  <thead>\n    <tr style=\"text-align: right;\">\n      <th></th>\n      <th>timestamp</th>\n      <th>lon</th>\n      <th>lat</th>\n      <th>likescount</th>\n      <th>commentscount</th>\n      <th>symbols_cnt</th>\n      <th>words_cnt</th>\n      <th>hashtags_cnt</th>\n      <th>mentions_cnt</th>\n      <th>links_cnt</th>\n      <th>emoji_cnt</th>\n    </tr>\n  </thead>\n  <tbody>\n    <tr>\n      <th>0</th>\n      <td>434891</td>\n      <td>30.329370</td>\n      <td>59.940488</td>\n      <td>63</td>\n      <td>4</td>\n      <td>52</td>\n      <td>6</td>\n      <td>0</td>\n      <td>0</td>\n      <td>0</td>\n      <td>0</td>\n    </tr>\n    <tr>\n      <th>1</th>\n      <td>434880</td>\n      <td>30.342845</td>\n      <td>59.869542</td>\n      <td>44</td>\n      <td>0</td>\n      <td>40</td>\n      <td>0</td>\n      <td>4</td>\n      <td>0</td>\n      <td>0</td>\n      <td>0</td>\n    </tr>\n    <tr>\n      <th>2</th>\n      <td>434880</td>\n      <td>30.322632</td>\n      <td>60.039332</td>\n      <td>30</td>\n      <td>0</td>\n      <td>77</td>\n      <td>7</td>\n      <td>0</td>\n      <td>0</td>\n      <td>0</td>\n      <td>1</td>\n    </tr>\n    <tr>\n      <th>3</th>\n      <td>434880</td>\n      <td>30.322632</td>\n      <td>59.938238</td>\n      <td>13</td>\n      <td>0</td>\n      <td>634</td>\n      <td>17</td>\n      <td>32</td>\n      <td>0</td>\n      <td>0</td>\n      <td>7</td>\n    </tr>\n    <tr>\n      <th>4</th>\n      <td>434880</td>\n      <td>30.309158</td>\n      <td>59.932612</td>\n      <td>8</td>\n      <td>0</td>\n      <td>0</td>\n      <td>0</td>\n      <td>0</td>\n      <td>0</td>\n      <td>0</td>\n      <td>0</td>\n    </tr>\n  </tbody>\n</table>\n</div>"
     },
     "execution_count": 43,
     "metadata": {},
     "output_type": "execute_result"
    }
   ],
   "source": [
    "df_initial.head()"
   ],
   "metadata": {
    "collapsed": false
   }
  },
  {
   "cell_type": "code",
   "execution_count": 44,
   "outputs": [
    {
     "data": {
      "text/plain": "(8526526, 11)"
     },
     "execution_count": 44,
     "metadata": {},
     "output_type": "execute_result"
    }
   ],
   "source": [
    "df_initial.shape"
   ],
   "metadata": {
    "collapsed": false
   }
  },
  {
   "cell_type": "code",
   "execution_count": 45,
   "outputs": [],
   "source": [
    "size = 0.25 # wild guess\n",
    "spb_lon, spb_lat = 30.3141, 59.9386 # Spb coords\n",
    "df = df_initial[(df_initial[\"lon\"] <= spb_lon + size / 2.0) & (df_initial[\"lon\"] >= spb_lon - size / 2.0) &\n",
    "                (df_initial[\"lat\"] <= spb_lat + size / 2.0) & (df_initial[\"lat\"] >= spb_lat - size / 2.0)]"
   ],
   "metadata": {
    "collapsed": false
   }
  },
  {
   "cell_type": "code",
   "execution_count": 46,
   "outputs": [
    {
     "name": "stderr",
     "output_type": "stream",
     "text": [
      "/tmp/ipykernel_175794/1201879296.py:1: SettingWithCopyWarning: \n",
      "A value is trying to be set on a copy of a slice from a DataFrame.\n",
      "Try using .loc[row_indexer,col_indexer] = value instead\n",
      "\n",
      "See the caveats in the documentation: https://pandas.pydata.org/pandas-docs/stable/user_guide/indexing.html#returning-a-view-versus-a-copy\n",
      "  df[\"count\"] = 1\n"
     ]
    }
   ],
   "source": [
    "df[\"count\"] = 1\n",
    "df = df.groupby([\"lon\", \"lat\", \"timestamp\"]).agg({\n",
    "    \"count\": np.sum,\n",
    "    \"likescount\": np.mean,\n",
    "    \"commentscount\": np.mean,\n",
    "    \"symbols_cnt\": np.mean,\n",
    "    \"words_cnt\": np.mean,\n",
    "    \"hashtags_cnt\": np.mean,\n",
    "    \"mentions_cnt\": np.mean,\n",
    "    \"links_cnt\": np.mean,\n",
    "    \"emoji_cnt\": np.mean,\n",
    "}).reset_index()"
   ],
   "metadata": {
    "collapsed": false
   }
  },
  {
   "cell_type": "code",
   "execution_count": 47,
   "outputs": [
    {
     "data": {
      "text/plain": "         lon        lat  timestamp  count  likescount  commentscount  \\\n0  30.190131  59.848116     431127      1        30.0            2.0   \n1  30.190131  59.848116     431422      1         7.0            0.0   \n2  30.190131  59.848116     431491      1        22.0            0.0   \n3  30.190131  59.848116     431955      1        16.0            3.0   \n4  30.190131  59.848116     432821      1        30.0            1.0   \n\n   symbols_cnt  words_cnt  hashtags_cnt  mentions_cnt  links_cnt  emoji_cnt  \n0         36.0        3.0           0.0           0.0        0.0        3.0  \n1        256.0        0.0          12.0           0.0        0.0        0.0  \n2        522.0        0.0          28.0           0.0        0.0        0.0  \n3         60.0        0.0           4.0           0.0        0.0        0.0  \n4        618.0       36.0          30.0           0.0        0.0        0.0  ",
      "text/html": "<div>\n<style scoped>\n    .dataframe tbody tr th:only-of-type {\n        vertical-align: middle;\n    }\n\n    .dataframe tbody tr th {\n        vertical-align: top;\n    }\n\n    .dataframe thead th {\n        text-align: right;\n    }\n</style>\n<table border=\"1\" class=\"dataframe\">\n  <thead>\n    <tr style=\"text-align: right;\">\n      <th></th>\n      <th>lon</th>\n      <th>lat</th>\n      <th>timestamp</th>\n      <th>count</th>\n      <th>likescount</th>\n      <th>commentscount</th>\n      <th>symbols_cnt</th>\n      <th>words_cnt</th>\n      <th>hashtags_cnt</th>\n      <th>mentions_cnt</th>\n      <th>links_cnt</th>\n      <th>emoji_cnt</th>\n    </tr>\n  </thead>\n  <tbody>\n    <tr>\n      <th>0</th>\n      <td>30.190131</td>\n      <td>59.848116</td>\n      <td>431127</td>\n      <td>1</td>\n      <td>30.0</td>\n      <td>2.0</td>\n      <td>36.0</td>\n      <td>3.0</td>\n      <td>0.0</td>\n      <td>0.0</td>\n      <td>0.0</td>\n      <td>3.0</td>\n    </tr>\n    <tr>\n      <th>1</th>\n      <td>30.190131</td>\n      <td>59.848116</td>\n      <td>431422</td>\n      <td>1</td>\n      <td>7.0</td>\n      <td>0.0</td>\n      <td>256.0</td>\n      <td>0.0</td>\n      <td>12.0</td>\n      <td>0.0</td>\n      <td>0.0</td>\n      <td>0.0</td>\n    </tr>\n    <tr>\n      <th>2</th>\n      <td>30.190131</td>\n      <td>59.848116</td>\n      <td>431491</td>\n      <td>1</td>\n      <td>22.0</td>\n      <td>0.0</td>\n      <td>522.0</td>\n      <td>0.0</td>\n      <td>28.0</td>\n      <td>0.0</td>\n      <td>0.0</td>\n      <td>0.0</td>\n    </tr>\n    <tr>\n      <th>3</th>\n      <td>30.190131</td>\n      <td>59.848116</td>\n      <td>431955</td>\n      <td>1</td>\n      <td>16.0</td>\n      <td>3.0</td>\n      <td>60.0</td>\n      <td>0.0</td>\n      <td>4.0</td>\n      <td>0.0</td>\n      <td>0.0</td>\n      <td>0.0</td>\n    </tr>\n    <tr>\n      <th>4</th>\n      <td>30.190131</td>\n      <td>59.848116</td>\n      <td>432821</td>\n      <td>1</td>\n      <td>30.0</td>\n      <td>1.0</td>\n      <td>618.0</td>\n      <td>36.0</td>\n      <td>30.0</td>\n      <td>0.0</td>\n      <td>0.0</td>\n      <td>0.0</td>\n    </tr>\n  </tbody>\n</table>\n</div>"
     },
     "execution_count": 47,
     "metadata": {},
     "output_type": "execute_result"
    }
   ],
   "source": [
    "df.head()"
   ],
   "metadata": {
    "collapsed": false
   }
  },
  {
   "cell_type": "code",
   "execution_count": 48,
   "outputs": [
    {
     "data": {
      "text/plain": "         lon        lat  timestamp  count  likescount  commentscount  \\\n0  30.190131  59.848116     431127      1        30.0            2.0   \n1  30.190131  59.848116     431422      1         7.0            0.0   \n2  30.190131  59.848116     431491      1        22.0            0.0   \n3  30.190131  59.848116     431955      1        16.0            3.0   \n4  30.190131  59.848116     432821      1        30.0            1.0   \n\n   symbols_cnt  words_cnt  hashtags_cnt  mentions_cnt  links_cnt  emoji_cnt  \n0         36.0        3.0           0.0           0.0        0.0        3.0  \n1        256.0        0.0          12.0           0.0        0.0        0.0  \n2        522.0        0.0          28.0           0.0        0.0        0.0  \n3         60.0        0.0           4.0           0.0        0.0        0.0  \n4        618.0       36.0          30.0           0.0        0.0        0.0  ",
      "text/html": "<div>\n<style scoped>\n    .dataframe tbody tr th:only-of-type {\n        vertical-align: middle;\n    }\n\n    .dataframe tbody tr th {\n        vertical-align: top;\n    }\n\n    .dataframe thead th {\n        text-align: right;\n    }\n</style>\n<table border=\"1\" class=\"dataframe\">\n  <thead>\n    <tr style=\"text-align: right;\">\n      <th></th>\n      <th>lon</th>\n      <th>lat</th>\n      <th>timestamp</th>\n      <th>count</th>\n      <th>likescount</th>\n      <th>commentscount</th>\n      <th>symbols_cnt</th>\n      <th>words_cnt</th>\n      <th>hashtags_cnt</th>\n      <th>mentions_cnt</th>\n      <th>links_cnt</th>\n      <th>emoji_cnt</th>\n    </tr>\n  </thead>\n  <tbody>\n    <tr>\n      <th>0</th>\n      <td>30.190131</td>\n      <td>59.848116</td>\n      <td>431127</td>\n      <td>1</td>\n      <td>30.0</td>\n      <td>2.0</td>\n      <td>36.0</td>\n      <td>3.0</td>\n      <td>0.0</td>\n      <td>0.0</td>\n      <td>0.0</td>\n      <td>3.0</td>\n    </tr>\n    <tr>\n      <th>1</th>\n      <td>30.190131</td>\n      <td>59.848116</td>\n      <td>431422</td>\n      <td>1</td>\n      <td>7.0</td>\n      <td>0.0</td>\n      <td>256.0</td>\n      <td>0.0</td>\n      <td>12.0</td>\n      <td>0.0</td>\n      <td>0.0</td>\n      <td>0.0</td>\n    </tr>\n    <tr>\n      <th>2</th>\n      <td>30.190131</td>\n      <td>59.848116</td>\n      <td>431491</td>\n      <td>1</td>\n      <td>22.0</td>\n      <td>0.0</td>\n      <td>522.0</td>\n      <td>0.0</td>\n      <td>28.0</td>\n      <td>0.0</td>\n      <td>0.0</td>\n      <td>0.0</td>\n    </tr>\n    <tr>\n      <th>3</th>\n      <td>30.190131</td>\n      <td>59.848116</td>\n      <td>431955</td>\n      <td>1</td>\n      <td>16.0</td>\n      <td>3.0</td>\n      <td>60.0</td>\n      <td>0.0</td>\n      <td>4.0</td>\n      <td>0.0</td>\n      <td>0.0</td>\n      <td>0.0</td>\n    </tr>\n    <tr>\n      <th>4</th>\n      <td>30.190131</td>\n      <td>59.848116</td>\n      <td>432821</td>\n      <td>1</td>\n      <td>30.0</td>\n      <td>1.0</td>\n      <td>618.0</td>\n      <td>36.0</td>\n      <td>30.0</td>\n      <td>0.0</td>\n      <td>0.0</td>\n      <td>0.0</td>\n    </tr>\n  </tbody>\n</table>\n</div>"
     },
     "execution_count": 48,
     "metadata": {},
     "output_type": "execute_result"
    }
   ],
   "source": [
    "df.head()"
   ],
   "metadata": {
    "collapsed": false
   }
  },
  {
   "cell_type": "code",
   "execution_count": 49,
   "outputs": [],
   "source": [
    "unique_lon = df.lon.unique()\n",
    "unique_lat = df.lat.unique()"
   ],
   "metadata": {
    "collapsed": false
   }
  },
  {
   "cell_type": "code",
   "execution_count": 50,
   "outputs": [
    {
     "data": {
      "text/plain": "(111, 196)"
     },
     "execution_count": 50,
     "metadata": {},
     "output_type": "execute_result"
    }
   ],
   "source": [
    "len(unique_lon), len(unique_lat)"
   ],
   "metadata": {
    "collapsed": false
   }
  },
  {
   "cell_type": "code",
   "execution_count": 51,
   "outputs": [],
   "source": [
    "cartesian_prod_lon_lat = list(map(list, zip(*itertools.product(unique_lon, unique_lat))))"
   ],
   "metadata": {
    "collapsed": false
   }
  },
  {
   "cell_type": "code",
   "execution_count": 52,
   "outputs": [
    {
     "data": {
      "text/plain": "         lon        lat\n0  30.190131  59.848116\n1  30.190131  59.850372\n2  30.190131  59.851500\n3  30.190131  59.852628\n4  30.190131  59.853756",
      "text/html": "<div>\n<style scoped>\n    .dataframe tbody tr th:only-of-type {\n        vertical-align: middle;\n    }\n\n    .dataframe tbody tr th {\n        vertical-align: top;\n    }\n\n    .dataframe thead th {\n        text-align: right;\n    }\n</style>\n<table border=\"1\" class=\"dataframe\">\n  <thead>\n    <tr style=\"text-align: right;\">\n      <th></th>\n      <th>lon</th>\n      <th>lat</th>\n    </tr>\n  </thead>\n  <tbody>\n    <tr>\n      <th>0</th>\n      <td>30.190131</td>\n      <td>59.848116</td>\n    </tr>\n    <tr>\n      <th>1</th>\n      <td>30.190131</td>\n      <td>59.850372</td>\n    </tr>\n    <tr>\n      <th>2</th>\n      <td>30.190131</td>\n      <td>59.851500</td>\n    </tr>\n    <tr>\n      <th>3</th>\n      <td>30.190131</td>\n      <td>59.852628</td>\n    </tr>\n    <tr>\n      <th>4</th>\n      <td>30.190131</td>\n      <td>59.853756</td>\n    </tr>\n  </tbody>\n</table>\n</div>"
     },
     "execution_count": 52,
     "metadata": {},
     "output_type": "execute_result"
    }
   ],
   "source": [
    "df_full = pd.DataFrame({\"lon\": cartesian_prod_lon_lat[0], \"lat\":cartesian_prod_lon_lat[1]})\n",
    "df_full.head()"
   ],
   "metadata": {
    "collapsed": false
   }
  },
  {
   "cell_type": "code",
   "execution_count": 53,
   "outputs": [
    {
     "data": {
      "text/plain": "         lon        lat  timestamp  count  likescount  commentscount  \\\n0  30.190131  59.848116   431127.0    1.0        30.0            2.0   \n1  30.190131  59.848116   431422.0    1.0         7.0            0.0   \n2  30.190131  59.848116   431491.0    1.0        22.0            0.0   \n3  30.190131  59.848116   431955.0    1.0        16.0            3.0   \n4  30.190131  59.848116   432821.0    1.0        30.0            1.0   \n\n   symbols_cnt  words_cnt  hashtags_cnt  mentions_cnt  links_cnt  emoji_cnt  \n0         36.0        3.0           0.0           0.0        0.0        3.0  \n1        256.0        0.0          12.0           0.0        0.0        0.0  \n2        522.0        0.0          28.0           0.0        0.0        0.0  \n3         60.0        0.0           4.0           0.0        0.0        0.0  \n4        618.0       36.0          30.0           0.0        0.0        0.0  ",
      "text/html": "<div>\n<style scoped>\n    .dataframe tbody tr th:only-of-type {\n        vertical-align: middle;\n    }\n\n    .dataframe tbody tr th {\n        vertical-align: top;\n    }\n\n    .dataframe thead th {\n        text-align: right;\n    }\n</style>\n<table border=\"1\" class=\"dataframe\">\n  <thead>\n    <tr style=\"text-align: right;\">\n      <th></th>\n      <th>lon</th>\n      <th>lat</th>\n      <th>timestamp</th>\n      <th>count</th>\n      <th>likescount</th>\n      <th>commentscount</th>\n      <th>symbols_cnt</th>\n      <th>words_cnt</th>\n      <th>hashtags_cnt</th>\n      <th>mentions_cnt</th>\n      <th>links_cnt</th>\n      <th>emoji_cnt</th>\n    </tr>\n  </thead>\n  <tbody>\n    <tr>\n      <th>0</th>\n      <td>30.190131</td>\n      <td>59.848116</td>\n      <td>431127.0</td>\n      <td>1.0</td>\n      <td>30.0</td>\n      <td>2.0</td>\n      <td>36.0</td>\n      <td>3.0</td>\n      <td>0.0</td>\n      <td>0.0</td>\n      <td>0.0</td>\n      <td>3.0</td>\n    </tr>\n    <tr>\n      <th>1</th>\n      <td>30.190131</td>\n      <td>59.848116</td>\n      <td>431422.0</td>\n      <td>1.0</td>\n      <td>7.0</td>\n      <td>0.0</td>\n      <td>256.0</td>\n      <td>0.0</td>\n      <td>12.0</td>\n      <td>0.0</td>\n      <td>0.0</td>\n      <td>0.0</td>\n    </tr>\n    <tr>\n      <th>2</th>\n      <td>30.190131</td>\n      <td>59.848116</td>\n      <td>431491.0</td>\n      <td>1.0</td>\n      <td>22.0</td>\n      <td>0.0</td>\n      <td>522.0</td>\n      <td>0.0</td>\n      <td>28.0</td>\n      <td>0.0</td>\n      <td>0.0</td>\n      <td>0.0</td>\n    </tr>\n    <tr>\n      <th>3</th>\n      <td>30.190131</td>\n      <td>59.848116</td>\n      <td>431955.0</td>\n      <td>1.0</td>\n      <td>16.0</td>\n      <td>3.0</td>\n      <td>60.0</td>\n      <td>0.0</td>\n      <td>4.0</td>\n      <td>0.0</td>\n      <td>0.0</td>\n      <td>0.0</td>\n    </tr>\n    <tr>\n      <th>4</th>\n      <td>30.190131</td>\n      <td>59.848116</td>\n      <td>432821.0</td>\n      <td>1.0</td>\n      <td>30.0</td>\n      <td>1.0</td>\n      <td>618.0</td>\n      <td>36.0</td>\n      <td>30.0</td>\n      <td>0.0</td>\n      <td>0.0</td>\n      <td>0.0</td>\n    </tr>\n  </tbody>\n</table>\n</div>"
     },
     "execution_count": 53,
     "metadata": {},
     "output_type": "execute_result"
    }
   ],
   "source": [
    "df_full = pd.merge(df_full, df, on=[\"lon\", \"lat\"], how=\"outer\")\n",
    "df_full.head()"
   ],
   "metadata": {
    "collapsed": false
   }
  },
  {
   "cell_type": "code",
   "execution_count": 54,
   "outputs": [],
   "source": [
    "df_full.fillna(0, inplace=True)"
   ],
   "metadata": {
    "collapsed": false
   }
  },
  {
   "cell_type": "code",
   "execution_count": 55,
   "outputs": [],
   "source": [
    "df_full[df_full.columns[~df_full.columns.isin([\"lon\",\"lat\"])]] = df_full[df_full.columns[~df_full.columns.isin([\"lon\",\"lat\"])]].astype(\"int64\")"
   ],
   "metadata": {
    "collapsed": false
   }
  },
  {
   "cell_type": "code",
   "execution_count": 56,
   "outputs": [],
   "source": [
    "df_full[\"hour\"] = df_full.timestamp % 24"
   ],
   "metadata": {
    "collapsed": false
   }
  },
  {
   "cell_type": "code",
   "execution_count": 57,
   "outputs": [
    {
     "data": {
      "text/plain": "         lon        lat  timestamp  count  likescount  commentscount  \\\n0  30.190131  59.848116     431127      1          30              2   \n1  30.190131  59.848116     431422      1           7              0   \n2  30.190131  59.848116     431491      1          22              0   \n3  30.190131  59.848116     431955      1          16              3   \n4  30.190131  59.848116     432821      1          30              1   \n\n   symbols_cnt  words_cnt  hashtags_cnt  mentions_cnt  ...  hour_14  hour_15  \\\n0           36          3             0             0  ...        0        1   \n1          256          0            12             0  ...        0        0   \n2          522          0            28             0  ...        0        0   \n3           60          0             4             0  ...        0        0   \n4          618         36            30             0  ...        0        0   \n\n   hour_16  hour_17  hour_18  hour_19  hour_20  hour_21  hour_22  hour_23  \n0        0        0        0        0        0        0        0        0  \n1        0        0        0        0        0        0        1        0  \n2        0        0        0        1        0        0        0        0  \n3        0        0        0        0        0        0        0        0  \n4        0        0        0        0        0        0        0        0  \n\n[5 rows x 36 columns]",
      "text/html": "<div>\n<style scoped>\n    .dataframe tbody tr th:only-of-type {\n        vertical-align: middle;\n    }\n\n    .dataframe tbody tr th {\n        vertical-align: top;\n    }\n\n    .dataframe thead th {\n        text-align: right;\n    }\n</style>\n<table border=\"1\" class=\"dataframe\">\n  <thead>\n    <tr style=\"text-align: right;\">\n      <th></th>\n      <th>lon</th>\n      <th>lat</th>\n      <th>timestamp</th>\n      <th>count</th>\n      <th>likescount</th>\n      <th>commentscount</th>\n      <th>symbols_cnt</th>\n      <th>words_cnt</th>\n      <th>hashtags_cnt</th>\n      <th>mentions_cnt</th>\n      <th>...</th>\n      <th>hour_14</th>\n      <th>hour_15</th>\n      <th>hour_16</th>\n      <th>hour_17</th>\n      <th>hour_18</th>\n      <th>hour_19</th>\n      <th>hour_20</th>\n      <th>hour_21</th>\n      <th>hour_22</th>\n      <th>hour_23</th>\n    </tr>\n  </thead>\n  <tbody>\n    <tr>\n      <th>0</th>\n      <td>30.190131</td>\n      <td>59.848116</td>\n      <td>431127</td>\n      <td>1</td>\n      <td>30</td>\n      <td>2</td>\n      <td>36</td>\n      <td>3</td>\n      <td>0</td>\n      <td>0</td>\n      <td>...</td>\n      <td>0</td>\n      <td>1</td>\n      <td>0</td>\n      <td>0</td>\n      <td>0</td>\n      <td>0</td>\n      <td>0</td>\n      <td>0</td>\n      <td>0</td>\n      <td>0</td>\n    </tr>\n    <tr>\n      <th>1</th>\n      <td>30.190131</td>\n      <td>59.848116</td>\n      <td>431422</td>\n      <td>1</td>\n      <td>7</td>\n      <td>0</td>\n      <td>256</td>\n      <td>0</td>\n      <td>12</td>\n      <td>0</td>\n      <td>...</td>\n      <td>0</td>\n      <td>0</td>\n      <td>0</td>\n      <td>0</td>\n      <td>0</td>\n      <td>0</td>\n      <td>0</td>\n      <td>0</td>\n      <td>1</td>\n      <td>0</td>\n    </tr>\n    <tr>\n      <th>2</th>\n      <td>30.190131</td>\n      <td>59.848116</td>\n      <td>431491</td>\n      <td>1</td>\n      <td>22</td>\n      <td>0</td>\n      <td>522</td>\n      <td>0</td>\n      <td>28</td>\n      <td>0</td>\n      <td>...</td>\n      <td>0</td>\n      <td>0</td>\n      <td>0</td>\n      <td>0</td>\n      <td>0</td>\n      <td>1</td>\n      <td>0</td>\n      <td>0</td>\n      <td>0</td>\n      <td>0</td>\n    </tr>\n    <tr>\n      <th>3</th>\n      <td>30.190131</td>\n      <td>59.848116</td>\n      <td>431955</td>\n      <td>1</td>\n      <td>16</td>\n      <td>3</td>\n      <td>60</td>\n      <td>0</td>\n      <td>4</td>\n      <td>0</td>\n      <td>...</td>\n      <td>0</td>\n      <td>0</td>\n      <td>0</td>\n      <td>0</td>\n      <td>0</td>\n      <td>0</td>\n      <td>0</td>\n      <td>0</td>\n      <td>0</td>\n      <td>0</td>\n    </tr>\n    <tr>\n      <th>4</th>\n      <td>30.190131</td>\n      <td>59.848116</td>\n      <td>432821</td>\n      <td>1</td>\n      <td>30</td>\n      <td>1</td>\n      <td>618</td>\n      <td>36</td>\n      <td>30</td>\n      <td>0</td>\n      <td>...</td>\n      <td>0</td>\n      <td>0</td>\n      <td>0</td>\n      <td>0</td>\n      <td>0</td>\n      <td>0</td>\n      <td>0</td>\n      <td>0</td>\n      <td>0</td>\n      <td>0</td>\n    </tr>\n  </tbody>\n</table>\n<p>5 rows × 36 columns</p>\n</div>"
     },
     "execution_count": 57,
     "metadata": {},
     "output_type": "execute_result"
    }
   ],
   "source": [
    "df_with_features = pd.get_dummies(df_full, prefix=\"hour\", columns=[\"hour\"])\n",
    "df_with_features.head()"
   ],
   "metadata": {
    "collapsed": false
   }
  },
  {
   "cell_type": "code",
   "execution_count": 58,
   "outputs": [],
   "source": [
    "df_with_features.to_csv(\"./data/processed_data.csv\", index=False)"
   ],
   "metadata": {
    "collapsed": false
   }
  },
  {
   "cell_type": "code",
   "execution_count": 58,
   "outputs": [],
   "source": [],
   "metadata": {
    "collapsed": false
   }
  }
 ],
 "metadata": {
  "kernelspec": {
   "display_name": "Python 3",
   "language": "python",
   "name": "python3"
  },
  "language_info": {
   "codemirror_mode": {
    "name": "ipython",
    "version": 2
   },
   "file_extension": ".py",
   "mimetype": "text/x-python",
   "name": "python",
   "nbconvert_exporter": "python",
   "pygments_lexer": "ipython2",
   "version": "2.7.6"
  }
 },
 "nbformat": 4,
 "nbformat_minor": 0
}
